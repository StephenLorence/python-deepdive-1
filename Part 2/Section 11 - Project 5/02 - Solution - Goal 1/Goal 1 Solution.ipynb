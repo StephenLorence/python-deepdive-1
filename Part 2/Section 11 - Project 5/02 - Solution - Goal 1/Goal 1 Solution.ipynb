{
 "cells": [
  {
   "cell_type": "markdown",
   "metadata": {},
   "source": [
    "Goal 1\n",
    "\n",
    "For this goal, you are given a number of CSV files, each of which have their first row with the field name.\n",
    "\n",
    "You goal is to create a context manager that you can use to produce the data from each file in a named tuple with field names corresponding to the header row field names.\n",
    "\n",
    "You should use the csv module's reader function to help with parsing the data.\n",
    "\n",
    "Your context manager should be generic in the sense that it should just need the file name, no other configuration or hardcoded functionality is required. You do not need to worry about data types for this goal - just return every field as a string.\n",
    "\n",
    "In addition, your context manager should produce lazy iterators.\n",
    "\n",
    "Implement this using a class that implements the context manager protocol\n",
    "\n",
    "Goal 2\n",
    "\n",
    "The goal is to reproduce the work you did in Goal 1, but using a generator function and the contextlib contextmanager decorator."
   ]
  },
  {
   "cell_type": "code",
   "execution_count": 1,
   "metadata": {},
   "outputs": [],
   "source": [
    "# create a ParseCSV class that takes a file name.\n",
    "\n",
    "# the __enter__ method should return a lazy iterator that\n",
    "# yields named tuples based on the header row of the .csv file."
   ]
  },
  {
   "cell_type": "code",
   "execution_count": 23,
   "metadata": {},
   "outputs": [
    {
     "name": "stdout",
     "output_type": "stream",
     "text": [
      "['Vega 2300', '28.0', '4', '140.0', '90.00', '2264.', '15.5', '71', 'US']\n",
      "['Toyota Corolla', '25.0', '4', '113.0', '95.00', '2228.', '14.0', '71', 'Japan']\n",
      "['Ford Pinto', '25.0', '4', '98.00', '0', '2046.', '19.0', '71', 'US']\n",
      "['Volkswagen Super Beetle 117', '0', '4', '97.00', '48.00', '1978.', '20.0', '71', 'Europe']\n",
      "['AMC Gremlin', '19.0', '6', '232.0', '100.0', '2634.', '13.0', '71', 'US']\n",
      "['Plymouth Satellite Custom', '16.0', '6', '225.0', '105.0', '3439.', '15.5', '71', 'US']\n",
      "['Chevrolet Chevelle Malibu', '17.0', '6', '250.0', '100.0', '3329.', '15.5', '71', 'US']\n",
      "['Ford Torino 500', '19.0', '6', '250.0', '88.00', '3302.', '15.5', '71', 'US']\n",
      "['AMC Matador', '18.0', '6', '232.0', '100.0', '3288.', '15.5', '71', 'US']\n",
      "['Chevrolet Impala', '14.0', '8', '350.0', '165.0', '4209.', '12.0', '71', 'US']\n"
     ]
    }
   ],
   "source": [
    "import csv\n",
    "import itertools\n",
    "from collections import namedtuple\n",
    "with open('cars.csv') as f:\n",
    "    sample = f.read(2000)\n",
    "    dialect = csv.Sniffer().sniff(sample)\n",
    "    reader = csv.reader(f, dialect)\n",
    "    for row in itertools.islice(reader, 0, 10):\n",
    "        print(row)"
   ]
  },
  {
   "cell_type": "code",
   "execution_count": 11,
   "metadata": {},
   "outputs": [
    {
     "name": "stdout",
     "output_type": "stream",
     "text": [
      "Car;MPG;Cylinders;Displacement;Horsepower;Weight;Acceleration;Model;Origin\n",
      "Chevrolet Chevelle Malibu;18.0;8;307.0;130.0;3504.;12.0;70;US\n",
      "Buick Skylark 320;15.0;8;350.0;165.0;3693.;11.5;70;US\n",
      "Plymouth \n"
     ]
    }
   ],
   "source": [
    "print(sample)"
   ]
  },
  {
   "cell_type": "code",
   "execution_count": 4,
   "metadata": {},
   "outputs": [],
   "source": [
    "import csv"
   ]
  },
  {
   "cell_type": "code",
   "execution_count": 15,
   "metadata": {},
   "outputs": [],
   "source": [
    "dialect = csv.Sniffer().sniff(sample)"
   ]
  },
  {
   "cell_type": "code",
   "execution_count": 21,
   "metadata": {},
   "outputs": [
    {
     "data": {
      "text/plain": [
       "'\\r\\n'"
      ]
     },
     "execution_count": 21,
     "metadata": {},
     "output_type": "execute_result"
    }
   ],
   "source": [
    "dialect.lineterminator"
   ]
  },
  {
   "cell_type": "code",
   "execution_count": null,
   "metadata": {},
   "outputs": [],
   "source": []
  }
 ],
 "metadata": {
  "kernelspec": {
   "display_name": "Python 3",
   "language": "python",
   "name": "python3"
  },
  "language_info": {
   "codemirror_mode": {
    "name": "ipython",
    "version": 3
   },
   "file_extension": ".py",
   "mimetype": "text/x-python",
   "name": "python",
   "nbconvert_exporter": "python",
   "pygments_lexer": "ipython3",
   "version": "3.7.6"
  }
 },
 "nbformat": 4,
 "nbformat_minor": 4
}
