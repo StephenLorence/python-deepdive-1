{
 "cells": [
  {
   "cell_type": "code",
   "execution_count": 144,
   "metadata": {},
   "outputs": [],
   "source": [
    "import math\n",
    "\n",
    "class Polygon:\n",
    "    \n",
    "    def __init__(self, n, R):\n",
    "        if n < 3:\n",
    "            raise ValueError('Polygon must have at least three sides.')\n",
    "        self._n = n\n",
    "        self._R = R\n",
    "        \n",
    "        self._interior_angle = None\n",
    "        self._side_length = None\n",
    "        self._apothem = None\n",
    "        self._area = None\n",
    "        self._perimeter = None\n",
    "\n",
    "    @property\n",
    "    def count_edges(self):\n",
    "        return self._n\n",
    "\n",
    "    @property\n",
    "    def count_vertices(self):\n",
    "        return self._n\n",
    "\n",
    "    @property\n",
    "    def circumradius(self):\n",
    "        return self._R\n",
    "\n",
    "    @property\n",
    "    def interior_angle(self):\n",
    "        if self._interior_angle is None:\n",
    "            self._interior_angle = (self._n-2) * (180/self._n)\n",
    "        return self._interior_angle\n",
    "        \n",
    "\n",
    "    @property\n",
    "    def side_length(self):\n",
    "        if self._side_length is None:\n",
    "            self._side_length = 2*self._R*math.sin(math.pi/self._n)\n",
    "        return self._side_length\n",
    "\n",
    "    @property\n",
    "    def apothem(self):\n",
    "        if self._apothem is None:\n",
    "            self._apothem = self._R*math.cos(math.pi/self._n)\n",
    "        return self._apothem\n",
    "\n",
    "    @property\n",
    "    def area(self):\n",
    "        if self._area is None:\n",
    "            self._area = 0.5*self._n*self.side_length*self.apothem\n",
    "        return self._area\n",
    "\n",
    "    @property\n",
    "    def perimeter(self):\n",
    "        if self._perimeter is None:\n",
    "            self._perimeter = self._n * self.side_length\n",
    "        return self._perimeter\n",
    "\n",
    "    def __repr__(self):\n",
    "        return f'Polygon(edges(n) = {self.count_edges}, circumradius(R) = {self.circumradius})'\n",
    "    \n",
    "    def __eq__(self, other):\n",
    "        if isinstance(other, self.__class__):\n",
    "            return self.count_edges == other.count_edges and self.circumradius == other.circumradius\n",
    "        else:\n",
    "            return NotImplemented\n",
    "            \n",
    "    def __gt__(self, other):\n",
    "        if isinstance(other, Polygon):\n",
    "            return self.count_edges > other.count_edges\n",
    "        else:\n",
    "            return NotImplemented   "
   ]
  },
  {
   "cell_type": "code",
   "execution_count": 145,
   "metadata": {},
   "outputs": [],
   "source": [
    "def test_polygon():\n",
    "    rel_tol = 0.001\n",
    "    abs_tol = 0.001\n",
    "    \n",
    "    try:\n",
    "        p = Polygon(2, 10)\n",
    "        assert False, ('Creating a Polygon with 2 sides: '\n",
    "                        'Exception expected but not received.')\n",
    "    except ValueError:\n",
    "        pass\n",
    "\n",
    "    n = 3\n",
    "    R = 1\n",
    "    p = Polygon(n, R)\n",
    "    assert str(p) == f'Polygon(edges(n) = 3, circumradius(R) = 1)', f'actual: {str(p)}'\n",
    "    assert p.count_vertices == n, (f'actual: {p.count_vertices}, '\n",
    "                                   f' expected: {n}')\n",
    "    assert p.count_edges == n\n",
    "    assert p.circumradius == R\n",
    "    assert p.interior_angle == 60\n",
    "\n",
    "    n = 4\n",
    "    R = 1\n",
    "    p = Polygon(n, R)\n",
    "    assert math.isclose(p.interior_angle, 90)\n",
    "    assert math.isclose(p.area, 2.0,\n",
    "                        rel_tol = rel_tol, \n",
    "                        abs_tol = abs_tol), f'actual: {p.area}, expected: 2.0'\n",
    "    assert math.isclose(p.side_length, math.sqrt(2),\n",
    "                        rel_tol = rel_tol,\n",
    "                        abs_tol = abs_tol)\n",
    "    assert math.isclose(p.perimeter, 4 * math.sqrt(2),\n",
    "                        rel_tol = rel_tol,\n",
    "                        abs_tol = abs_tol)\n",
    "    assert math.isclose(p.apothem, 0.707,\n",
    "                        rel_tol = rel_tol,\n",
    "                        abs_tol = abs_tol)\n",
    "    \n",
    "    n = 6\n",
    "    R = 2\n",
    "    p = Polygon(n, R)\n",
    "    assert math.isclose(p.interior_angle, 120)\n",
    "    assert math.isclose(p.area, 10.3923,\n",
    "                        rel_tol = rel_tol, \n",
    "                        abs_tol = abs_tol), f'actual: {p.area}, expected: 2.0'\n",
    "    assert math.isclose(p.side_length, 2,\n",
    "                        rel_tol = rel_tol,\n",
    "                        abs_tol = abs_tol)\n",
    "    assert math.isclose(p.perimeter, 12,\n",
    "                        rel_tol = rel_tol,\n",
    "                        abs_tol = abs_tol)\n",
    "    assert math.isclose(p.apothem, 1.73205,\n",
    "                        rel_tol = rel_tol,\n",
    "                        abs_tol = abs_tol)\n",
    "    \n",
    "    n = 12\n",
    "    R = 3\n",
    "    p = Polygon(n, R)\n",
    "    assert math.isclose(p.interior_angle, 150)\n",
    "    assert math.isclose(p.area, 27,\n",
    "                        rel_tol = rel_tol, \n",
    "                        abs_tol = abs_tol), f'actual: {p.area}, expected: 2.0'\n",
    "    assert math.isclose(p.side_length, 1.55291,\n",
    "                        rel_tol = rel_tol,\n",
    "                        abs_tol = abs_tol)\n",
    "    assert math.isclose(p.perimeter, 18.635,\n",
    "                        rel_tol = rel_tol,\n",
    "                        abs_tol = abs_tol)\n",
    "    assert math.isclose(p.apothem, 2.89778,\n",
    "                        rel_tol = rel_tol,\n",
    "                        abs_tol = abs_tol)\n",
    "\n",
    "    p1 = Polygon(3, 100)\n",
    "    p2 = Polygon(10, 10)\n",
    "    p3 = Polygon(15, 10)\n",
    "    p4 = Polygon(15, 100)\n",
    "    p5 = Polygon(15, 100)\n",
    "\n",
    "    assert p2 > p1\n",
    "    assert p2 < p3\n",
    "    assert p3 != p4\n",
    "    assert p1 != p4\n",
    "    assert p4 == p5"
   ]
  },
  {
   "cell_type": "code",
   "execution_count": 146,
   "metadata": {},
   "outputs": [],
   "source": [
    "test_polygon()"
   ]
  },
  {
   "cell_type": "code",
   "execution_count": 128,
   "metadata": {},
   "outputs": [
    {
     "ename": "ValueError",
     "evalue": "Polygon must have at least three sides.",
     "output_type": "error",
     "traceback": [
      "\u001b[1;31m---------------------------------------------------------------------------\u001b[0m",
      "\u001b[1;31mValueError\u001b[0m                                Traceback (most recent call last)",
      "\u001b[1;32m<ipython-input-128-f217504b512f>\u001b[0m in \u001b[0;36m<module>\u001b[1;34m\u001b[0m\n\u001b[1;32m----> 1\u001b[1;33m \u001b[0mp\u001b[0m \u001b[1;33m=\u001b[0m \u001b[0mPolygon\u001b[0m\u001b[1;33m(\u001b[0m\u001b[1;36m1\u001b[0m\u001b[1;33m,\u001b[0m \u001b[1;36m10\u001b[0m\u001b[1;33m)\u001b[0m\u001b[1;33m\u001b[0m\u001b[1;33m\u001b[0m\u001b[0m\n\u001b[0m",
      "\u001b[1;32m<ipython-input-125-b631c185d61b>\u001b[0m in \u001b[0;36m__init__\u001b[1;34m(self, n, R)\u001b[0m\n\u001b[0;32m      5\u001b[0m     \u001b[1;32mdef\u001b[0m \u001b[0m__init__\u001b[0m\u001b[1;33m(\u001b[0m\u001b[0mself\u001b[0m\u001b[1;33m,\u001b[0m \u001b[0mn\u001b[0m\u001b[1;33m,\u001b[0m \u001b[0mR\u001b[0m\u001b[1;33m)\u001b[0m\u001b[1;33m:\u001b[0m\u001b[1;33m\u001b[0m\u001b[1;33m\u001b[0m\u001b[0m\n\u001b[0;32m      6\u001b[0m         \u001b[1;32mif\u001b[0m \u001b[0mn\u001b[0m \u001b[1;33m<\u001b[0m \u001b[1;36m3\u001b[0m\u001b[1;33m:\u001b[0m\u001b[1;33m\u001b[0m\u001b[1;33m\u001b[0m\u001b[0m\n\u001b[1;32m----> 7\u001b[1;33m             \u001b[1;32mraise\u001b[0m \u001b[0mValueError\u001b[0m\u001b[1;33m(\u001b[0m\u001b[1;34m'Polygon must have at least three sides.'\u001b[0m\u001b[1;33m)\u001b[0m\u001b[1;33m\u001b[0m\u001b[1;33m\u001b[0m\u001b[0m\n\u001b[0m\u001b[0;32m      8\u001b[0m         \u001b[0mself\u001b[0m\u001b[1;33m.\u001b[0m\u001b[0m_n\u001b[0m \u001b[1;33m=\u001b[0m \u001b[0mn\u001b[0m\u001b[1;33m\u001b[0m\u001b[1;33m\u001b[0m\u001b[0m\n\u001b[0;32m      9\u001b[0m         \u001b[0mself\u001b[0m\u001b[1;33m.\u001b[0m\u001b[0m_R\u001b[0m \u001b[1;33m=\u001b[0m \u001b[0mR\u001b[0m\u001b[1;33m\u001b[0m\u001b[1;33m\u001b[0m\u001b[0m\n",
      "\u001b[1;31mValueError\u001b[0m: Polygon must have at least three sides."
     ]
    }
   ],
   "source": [
    "p = Polygon(1, 10)"
   ]
  },
  {
   "cell_type": "code",
   "execution_count": 129,
   "metadata": {},
   "outputs": [],
   "source": [
    "class Polygons:\n",
    "\n",
    "    def __init__(self, m, R):\n",
    "        if m < 3:\n",
    "            raise ValueError('m must be greater than 3.')\n",
    "        self._m = m\n",
    "        self._R = R\n",
    "        self._length = None\n",
    "#        self._polygons = [Polygon(i, R) for i in range(3, m+1)]\n",
    "        self._max_efficiency_polygons = None\n",
    "\n",
    "    def __len__(self):\n",
    "        if self._length is None:\n",
    "            self._length = self._m - 2\n",
    "        return self._length\n",
    "    \n",
    "    def __iter__(self):\n",
    "        return self.PolygonIterator(self._R, len(self))\n",
    "        \n",
    "    def __repr__(self):\n",
    "        return f'Polygons(m={self._m}, R={self._R})'\n",
    "\n",
    "    def __getitem__(self, i):\n",
    "        if isinstance(i, slice):\n",
    "            return self.PolygonIterator(self._R, len(range(i.start or 0, i.stop or len(self))), index=i.start or 0)\n",
    "        else:\n",
    "            return next(self.PolygonIterator(self._R, len(self), index=i))\n",
    "\n",
    "    @property\n",
    "    def max_efficiency_polygon(self):\n",
    "        if self._max_efficiency_polygons is None:\n",
    "            self._max_efficiency_polygons = sorted(iter(self),\n",
    "                                                   key=lambda x: x.area / x.perimeter)[-1]\n",
    "        return self._max_efficiency_polygons\n",
    "    \n",
    "    class PolygonIterator:\n",
    "        \n",
    "        def __init__(self, R, length, *, index=0):\n",
    "            self._R = R\n",
    "            self.length = index + length\n",
    "            self.index = index\n",
    "            \n",
    "        def __iter__(self):\n",
    "            return self\n",
    "        \n",
    "        def __next__(self):\n",
    "            if self.index >= self.length:\n",
    "                raise StopIteration\n",
    "            else:\n",
    "                result = Polygon(self.index+3, self._R)\n",
    "                self.index += 1\n",
    "                return result\n",
    "                "
   ]
  },
  {
   "cell_type": "code",
   "execution_count": 130,
   "metadata": {},
   "outputs": [],
   "source": [
    "polygons = Polygons(8, 1)"
   ]
  },
  {
   "cell_type": "code",
   "execution_count": 131,
   "metadata": {},
   "outputs": [
    {
     "name": "stdout",
     "output_type": "stream",
     "text": [
      "Polygon(edges(n) = 3, circumradius(R) = 1)\n",
      "Polygon(edges(n) = 4, circumradius(R) = 1)\n",
      "Polygon(edges(n) = 5, circumradius(R) = 1)\n",
      "Polygon(edges(n) = 6, circumradius(R) = 1)\n",
      "Polygon(edges(n) = 7, circumradius(R) = 1)\n",
      "Polygon(edges(n) = 8, circumradius(R) = 1)\n"
     ]
    }
   ],
   "source": [
    "for p in polygons:\n",
    "    print(p)"
   ]
  },
  {
   "cell_type": "code",
   "execution_count": 132,
   "metadata": {},
   "outputs": [
    {
     "name": "stdout",
     "output_type": "stream",
     "text": [
      "Polygon(edges(n) = 5, circumradius(R) = 1)\n",
      "Polygon(edges(n) = 6, circumradius(R) = 1)\n",
      "Polygon(edges(n) = 7, circumradius(R) = 1)\n"
     ]
    }
   ],
   "source": [
    "for p in polygons[2:5]:\n",
    "    print(p)"
   ]
  },
  {
   "cell_type": "code",
   "execution_count": 133,
   "metadata": {},
   "outputs": [
    {
     "name": "stdout",
     "output_type": "stream",
     "text": [
      "Polygon(edges(n) = 3, circumradius(R) = 1)\n",
      "Polygon(edges(n) = 4, circumradius(R) = 1)\n",
      "Polygon(edges(n) = 5, circumradius(R) = 1)\n"
     ]
    }
   ],
   "source": [
    "for p in polygons[:3]:\n",
    "    print(p)"
   ]
  },
  {
   "cell_type": "code",
   "execution_count": 134,
   "metadata": {},
   "outputs": [
    {
     "name": "stdout",
     "output_type": "stream",
     "text": [
      "Polygon(edges(n) = 3, circumradius(R) = 1)\n",
      "Polygon(edges(n) = 4, circumradius(R) = 1)\n",
      "Polygon(edges(n) = 5, circumradius(R) = 1)\n",
      "Polygon(edges(n) = 6, circumradius(R) = 1)\n",
      "Polygon(edges(n) = 7, circumradius(R) = 1)\n",
      "Polygon(edges(n) = 8, circumradius(R) = 1)\n"
     ]
    }
   ],
   "source": [
    "for p in polygons[::-1]:\n",
    "    print(p)"
   ]
  },
  {
   "cell_type": "code",
   "execution_count": 135,
   "metadata": {},
   "outputs": [
    {
     "data": {
      "text/plain": [
       "Polygon(edges(n) = 8, circumradius(R) = 1)"
      ]
     },
     "execution_count": 135,
     "metadata": {},
     "output_type": "execute_result"
    }
   ],
   "source": [
    "polygons[5]"
   ]
  },
  {
   "cell_type": "code",
   "execution_count": 136,
   "metadata": {},
   "outputs": [
    {
     "data": {
      "text/plain": [
       "6"
      ]
     },
     "execution_count": 136,
     "metadata": {},
     "output_type": "execute_result"
    }
   ],
   "source": [
    "len(polygons)"
   ]
  },
  {
   "cell_type": "code",
   "execution_count": 137,
   "metadata": {},
   "outputs": [
    {
     "data": {
      "text/plain": [
       "Polygons(m=8, R=1)"
      ]
     },
     "execution_count": 137,
     "metadata": {},
     "output_type": "execute_result"
    }
   ],
   "source": [
    "polygons"
   ]
  },
  {
   "cell_type": "code",
   "execution_count": 138,
   "metadata": {},
   "outputs": [
    {
     "data": {
      "text/plain": [
       "Polygon(edges(n) = 8, circumradius(R) = 1)"
      ]
     },
     "execution_count": 138,
     "metadata": {},
     "output_type": "execute_result"
    }
   ],
   "source": [
    "polygons.max_efficiency_polygon"
   ]
  },
  {
   "cell_type": "code",
   "execution_count": 139,
   "metadata": {},
   "outputs": [],
   "source": [
    "polygons = Polygons(500, 1)"
   ]
  },
  {
   "cell_type": "code",
   "execution_count": 140,
   "metadata": {},
   "outputs": [
    {
     "data": {
      "text/plain": [
       "Polygon(edges(n) = 500, circumradius(R) = 1)"
      ]
     },
     "execution_count": 140,
     "metadata": {},
     "output_type": "execute_result"
    }
   ],
   "source": [
    "polygons.max_efficiency_polygon"
   ]
  },
  {
   "cell_type": "code",
   "execution_count": 141,
   "metadata": {},
   "outputs": [],
   "source": [
    "p = polygons.max_efficiency_polygon"
   ]
  },
  {
   "cell_type": "code",
   "execution_count": 142,
   "metadata": {},
   "outputs": [
    {
     "data": {
      "text/plain": [
       "3.1415099708381518"
      ]
     },
     "execution_count": 142,
     "metadata": {},
     "output_type": "execute_result"
    }
   ],
   "source": [
    "p.area"
   ]
  },
  {
   "cell_type": "code",
   "execution_count": 143,
   "metadata": {},
   "outputs": [],
   "source": [
    "assert math.isclose(p.area, math.pi, rel_tol=0.001, abs_tol=0.001)"
   ]
  },
  {
   "cell_type": "code",
   "execution_count": null,
   "metadata": {},
   "outputs": [],
   "source": []
  }
 ],
 "metadata": {
  "kernelspec": {
   "display_name": "Python 3",
   "language": "python",
   "name": "python3"
  },
  "language_info": {
   "codemirror_mode": {
    "name": "ipython",
    "version": 3
   },
   "file_extension": ".py",
   "mimetype": "text/x-python",
   "name": "python",
   "nbconvert_exporter": "python",
   "pygments_lexer": "ipython3",
   "version": "3.7.6"
  }
 },
 "nbformat": 4,
 "nbformat_minor": 2
}
