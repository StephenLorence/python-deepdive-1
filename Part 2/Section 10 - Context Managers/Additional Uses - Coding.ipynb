{
 "cells": [
  {
   "cell_type": "code",
   "execution_count": 1,
   "metadata": {},
   "outputs": [],
   "source": [
    "import decimal"
   ]
  },
  {
   "cell_type": "code",
   "execution_count": 2,
   "metadata": {},
   "outputs": [
    {
     "data": {
      "text/plain": [
       "Context(prec=28, rounding=ROUND_HALF_EVEN, Emin=-999999, Emax=999999, capitals=1, clamp=0, flags=[], traps=[InvalidOperation, DivisionByZero, Overflow])"
      ]
     },
     "execution_count": 2,
     "metadata": {},
     "output_type": "execute_result"
    }
   ],
   "source": [
    "decimal.getcontext()"
   ]
  },
  {
   "cell_type": "code",
   "execution_count": 5,
   "metadata": {},
   "outputs": [
    {
     "data": {
      "text/plain": [
       "Context(prec=14, rounding=ROUND_HALF_EVEN, Emin=-999999, Emax=999999, capitals=1, clamp=0, flags=[], traps=[InvalidOperation, DivisionByZero, Overflow])"
      ]
     },
     "execution_count": 5,
     "metadata": {},
     "output_type": "execute_result"
    }
   ],
   "source": [
    "decimal.getcontext().prec = 14\n",
    "decimal.getcontext()"
   ]
  },
  {
   "cell_type": "code",
   "execution_count": 6,
   "metadata": {},
   "outputs": [
    {
     "data": {
      "text/plain": [
       "Context(prec=28, rounding=ROUND_HALF_EVEN, Emin=-999999, Emax=999999, capitals=1, clamp=0, flags=[], traps=[InvalidOperation, DivisionByZero, Overflow])"
      ]
     },
     "execution_count": 6,
     "metadata": {},
     "output_type": "execute_result"
    }
   ],
   "source": [
    "decimal.getcontext()"
   ]
  },
  {
   "cell_type": "code",
   "execution_count": 7,
   "metadata": {},
   "outputs": [
    {
     "name": "stdout",
     "output_type": "stream",
     "text": [
      "0.3333\n",
      "0.3333333333333333333333333333\n"
     ]
    }
   ],
   "source": [
    "old_prec = decimal.getcontext().prec\n",
    "decimal.getcontext().prec = 4\n",
    "print(decimal.Decimal(1) / decimal.Decimal(3))\n",
    "decimal.getcontext().prec = old_prec\n",
    "print(decimal.Decimal(1) / decimal.Decimal(3))"
   ]
  },
  {
   "cell_type": "code",
   "execution_count": 8,
   "metadata": {},
   "outputs": [],
   "source": [
    "class precision:\n",
    "    def __init__(self, prec):\n",
    "        self.prec = prec\n",
    "        self.current_prec = decimal.getcontext().prec\n",
    "        \n",
    "    def __enter__(self):\n",
    "        decimal.getcontext().prec = self.prec\n",
    "        \n",
    "    def __exit__(self, exc_type, exc_value, exc_tb):\n",
    "        decimal.getcontext().prec = self.current_prec\n",
    "        return False"
   ]
  },
  {
   "cell_type": "code",
   "execution_count": 9,
   "metadata": {},
   "outputs": [
    {
     "name": "stdout",
     "output_type": "stream",
     "text": [
      "0.333\n",
      "0.3333333333333333333333333333\n"
     ]
    }
   ],
   "source": [
    "with precision(3):\n",
    "    print(decimal.Decimal(1) / decimal.Decimal(3))\n",
    "print(decimal.Decimal(1) / decimal.Decimal(3))"
   ]
  },
  {
   "cell_type": "code",
   "execution_count": 11,
   "metadata": {},
   "outputs": [
    {
     "name": "stdout",
     "output_type": "stream",
     "text": [
      "0.333\n",
      "0.3333333333333333333333333333\n"
     ]
    }
   ],
   "source": [
    "with decimal.localcontext() as ctx:\n",
    "    ctx.prec = 3\n",
    "    print(decimal.Decimal(1) / decimal.Decimal(3))\n",
    "print(decimal.Decimal(1) / decimal.Decimal(3))"
   ]
  },
  {
   "cell_type": "code",
   "execution_count": 12,
   "metadata": {},
   "outputs": [],
   "source": [
    "from time import perf_counter, sleep\n",
    "class Timer:\n",
    "    def __init__(self):\n",
    "        self.elapsed = 0\n",
    "        \n",
    "    def __enter__(self):\n",
    "        self.start = perf_counter()\n",
    "        return self\n",
    "    \n",
    "    def __exit__(self, a, b, c):\n",
    "        self.stop = perf_counter()\n",
    "        self.elapsed = self.stop - self.start\n",
    "        return False"
   ]
  },
  {
   "cell_type": "code",
   "execution_count": 15,
   "metadata": {},
   "outputs": [
    {
     "name": "stdout",
     "output_type": "stream",
     "text": [
      "0.9999265999999807\n"
     ]
    }
   ],
   "source": [
    "with Timer() as timer:\n",
    "    sleep(1)\n",
    "    \n",
    "print(timer.elapsed)"
   ]
  },
  {
   "cell_type": "code",
   "execution_count": 16,
   "metadata": {},
   "outputs": [
    {
     "name": "stdout",
     "output_type": "stream",
     "text": [
      "hello\n"
     ]
    }
   ],
   "source": [
    "print('hello')"
   ]
  },
  {
   "cell_type": "code",
   "execution_count": 17,
   "metadata": {},
   "outputs": [],
   "source": [
    "import sys\n",
    "\n",
    "class OutToFile:\n",
    "    def __init__(self, fname):\n",
    "        self._fname = fname\n",
    "        self._current_stdout = sys.stdout\n",
    "        \n",
    "    def __enter__(self):\n",
    "        self._file = open(self._fname, 'w')\n",
    "        sys.stdout = self._file\n",
    "        \n",
    "    def __exit__(self, a, b, c):\n",
    "        sys.stdout = self._current_stdout\n",
    "        self._file.close()\n",
    "        return False\n",
    "    "
   ]
  },
  {
   "cell_type": "code",
   "execution_count": 21,
   "metadata": {},
   "outputs": [],
   "source": [
    "with OutToFile('test.txt'):\n",
    "    print(sys.stdout)\n",
    "    print('Line 1')\n",
    "    print('Line 2')"
   ]
  },
  {
   "cell_type": "code",
   "execution_count": 22,
   "metadata": {},
   "outputs": [
    {
     "name": "stdout",
     "output_type": "stream",
     "text": [
      "Line 1\n"
     ]
    }
   ],
   "source": [
    "print('Line 1')"
   ]
  },
  {
   "cell_type": "code",
   "execution_count": 23,
   "metadata": {},
   "outputs": [
    {
     "data": {
      "text/plain": [
       "<ipykernel.iostream.OutStream at 0x27218c93f08>"
      ]
     },
     "execution_count": 23,
     "metadata": {},
     "output_type": "execute_result"
    }
   ],
   "source": [
    "sys.stdout"
   ]
  },
  {
   "cell_type": "code",
   "execution_count": 24,
   "metadata": {},
   "outputs": [
    {
     "name": "stdout",
     "output_type": "stream",
     "text": [
      "[\"<_io.TextIOWrapper name='test.txt' mode='w' encoding='cp1252'>\\n\", 'Line 1\\n', 'Line 2\\n']\n"
     ]
    }
   ],
   "source": [
    "with open('test.txt') as f:\n",
    "    print(f.readlines())"
   ]
  },
  {
   "cell_type": "code",
   "execution_count": 25,
   "metadata": {},
   "outputs": [
    {
     "name": "stdout",
     "output_type": "stream",
     "text": [
      "Line 1\n"
     ]
    }
   ],
   "source": [
    "print('Line 1')"
   ]
  },
  {
   "cell_type": "code",
   "execution_count": 26,
   "metadata": {},
   "outputs": [],
   "source": [
    "class Tag:\n",
    "    def __init__(self, tag):\n",
    "        self._tag = tag\n",
    "        \n",
    "    def __enter__(self):\n",
    "        print(f'<{self._tag}>', end='')\n",
    "        \n",
    "    def __exit__(self, a, b, c):\n",
    "        print(f'/<{self._tag}>', end='')\n",
    "        return False"
   ]
  },
  {
   "cell_type": "code",
   "execution_count": 27,
   "metadata": {},
   "outputs": [
    {
     "name": "stdout",
     "output_type": "stream",
     "text": [
      "<p>some <b>bold/<b> text/<p>"
     ]
    }
   ],
   "source": [
    "with Tag('p'):\n",
    "    print('some ', end='')\n",
    "    with Tag('b'):\n",
    "        print('bold', end='')\n",
    "    print(' text', end='')"
   ]
  },
  {
   "cell_type": "code",
   "execution_count": 30,
   "metadata": {},
   "outputs": [],
   "source": [
    "class ListMaker:\n",
    "    def __init__(self, title, prefix='- ', indent=3):\n",
    "        self._title = title\n",
    "        self._prefix = prefix\n",
    "        self._indent = indent\n",
    "        self._current_indent = 0\n",
    "        print(title)\n",
    "        \n",
    "    def __enter__(self):\n",
    "        self._current_indent += self._indent\n",
    "        return self\n",
    "    \n",
    "    def __exit__(self, a, b, c):\n",
    "        self._current_indent -= self._indent\n",
    "        return False\n",
    "    \n",
    "    def print_item(self, arg):\n",
    "        s = ' ' * self._current_indent + self._prefix + str(arg)\n",
    "        print(s)"
   ]
  },
  {
   "cell_type": "code",
   "execution_count": 33,
   "metadata": {},
   "outputs": [
    {
     "name": "stdout",
     "output_type": "stream",
     "text": [
      "Items\n",
      "   - Item 1\n",
      "      - sub item 1a\n",
      "      - sub item 1b\n",
      "         - ******\n",
      "   - Item 2\n",
      "      - sub item 2a\n",
      "      - sub item 2b\n"
     ]
    }
   ],
   "source": [
    "with ListMaker('Items') as lm:\n",
    "    lm.print_item('Item 1')\n",
    "    with lm:\n",
    "        lm.print_item('sub item 1a')\n",
    "        lm.print_item('sub item 1b')\n",
    "        with lm:\n",
    "            lm.print_item('******')\n",
    "    lm.print_item('Item 2')\n",
    "    with lm:\n",
    "        lm.print_item('sub item 2a')\n",
    "        lm.print_item('sub item 2b')\n",
    "    "
   ]
  },
  {
   "cell_type": "code",
   "execution_count": 35,
   "metadata": {},
   "outputs": [],
   "source": [
    "with OutToFile('my_list.txt'):\n",
    "    with ListMaker('Items') as lm:\n",
    "        lm.print_item('Item 1')\n",
    "        with lm:\n",
    "            lm.print_item('sub item 1a')\n",
    "            lm.print_item('sub item 1b')\n",
    "            with lm:\n",
    "                lm.print_item('******')\n",
    "        lm.print_item('Item 2')\n",
    "        with lm:\n",
    "            lm.print_item('sub item 2a')\n",
    "            lm.print_item('sub item 2b')\n"
   ]
  },
  {
   "cell_type": "code",
   "execution_count": 38,
   "metadata": {},
   "outputs": [
    {
     "name": "stdout",
     "output_type": "stream",
     "text": [
      "Items\n",
      "   - Item 1\n",
      "      - sub item 1a\n",
      "      - sub item 1b\n",
      "         - ******\n",
      "   - Item 2\n",
      "      - sub item 2a\n",
      "      - sub item 2b\n"
     ]
    }
   ],
   "source": [
    "with open('my_list.txt') as f:\n",
    "    for row in f:\n",
    "        print(row, end='')"
   ]
  },
  {
   "cell_type": "code",
   "execution_count": 37,
   "metadata": {},
   "outputs": [],
   "source": []
  },
  {
   "cell_type": "code",
   "execution_count": null,
   "metadata": {},
   "outputs": [],
   "source": []
  }
 ],
 "metadata": {
  "kernelspec": {
   "display_name": "Python 3",
   "language": "python",
   "name": "python3"
  },
  "language_info": {
   "codemirror_mode": {
    "name": "ipython",
    "version": 3
   },
   "file_extension": ".py",
   "mimetype": "text/x-python",
   "name": "python",
   "nbconvert_exporter": "python",
   "pygments_lexer": "ipython3",
   "version": "3.7.6"
  }
 },
 "nbformat": 4,
 "nbformat_minor": 4
}
