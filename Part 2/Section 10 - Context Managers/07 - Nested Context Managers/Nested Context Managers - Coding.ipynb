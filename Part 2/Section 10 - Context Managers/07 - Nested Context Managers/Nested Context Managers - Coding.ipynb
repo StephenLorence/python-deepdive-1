{
 "cells": [
  {
   "cell_type": "code",
   "execution_count": 2,
   "metadata": {},
   "outputs": [
    {
     "name": "stdout",
     "output_type": "stream",
     "text": [
      "file1_line1\n",
      "file1_line2\n",
      "file1_line3\n",
      "-------------------\n",
      "file2_line1\n",
      "file2_line2\n",
      "file2_line3\n",
      "-------------------\n",
      "file3_line1\n",
      "file3_line2\n",
      "file3_line3\n",
      "-------------------\n"
     ]
    }
   ],
   "source": [
    "with open('file1.txt') as f:\n",
    "    for row in f:\n",
    "        print(row, end='')\n",
    "print('\\n-------------------')\n",
    "with open('file2.txt') as f:\n",
    "    for row in f:\n",
    "        print(row, end='')\n",
    "print('\\n-------------------')\n",
    "with open('file3.txt') as f:\n",
    "    for row in f:\n",
    "        print(row, end='')\n",
    "print('\\n-------------------')"
   ]
  },
  {
   "cell_type": "code",
   "execution_count": 3,
   "metadata": {},
   "outputs": [
    {
     "name": "stdout",
     "output_type": "stream",
     "text": [
      "['file1_line1\\n', 'file1_line2\\n', 'file1_line3']\n",
      "['file2_line1\\n', 'file2_line2\\n', 'file2_line3']\n"
     ]
    }
   ],
   "source": [
    "with open('file1.txt') as f1, open('file2.txt') as f2:\n",
    "    print(f1.readlines())\n",
    "    print(f2.readlines())"
   ]
  },
  {
   "cell_type": "code",
   "execution_count": 4,
   "metadata": {},
   "outputs": [
    {
     "name": "stdout",
     "output_type": "stream",
     "text": [
      "['file1_line1\\n', 'file1_line2\\n', 'file1_line3']\n",
      "['file2_line1\\n', 'file2_line2\\n', 'file2_line3']\n",
      "['file3_line1\\n', 'file3_line2\\n', 'file3_line3']\n"
     ]
    }
   ],
   "source": [
    "with open('file1.txt') as f1:\n",
    "    with open('file2.txt') as f2:\n",
    "        with open('file3.txt') as f3:\n",
    "            print(f1.readlines())\n",
    "            print(f2.readlines())\n",
    "            print(f3.readlines())"
   ]
  },
  {
   "cell_type": "code",
   "execution_count": 5,
   "metadata": {},
   "outputs": [],
   "source": [
    "from contextlib import contextmanager"
   ]
  },
  {
   "cell_type": "code",
   "execution_count": 22,
   "metadata": {},
   "outputs": [],
   "source": [
    "@contextmanager\n",
    "def open_file(f_name):\n",
    "    print(f'opening {f_name}')\n",
    "    f = open(f_name)\n",
    "    try:\n",
    "        yield f\n",
    "    finally:\n",
    "        print(f'closing {f_name}')\n",
    "        f.close()"
   ]
  },
  {
   "cell_type": "code",
   "execution_count": 27,
   "metadata": {},
   "outputs": [],
   "source": [
    "f_names = 'file1.txt', 'file2.txt', 'file3.txt'\n",
    "\n",
    "exits = []\n",
    "enters = []\n",
    "\n",
    "for f_name in f_names:\n",
    "    ctx = open_file(f_name)\n",
    "    enters.append(ctx.__enter__)\n",
    "    exits.append(ctx.__exit__)"
   ]
  },
  {
   "cell_type": "code",
   "execution_count": 28,
   "metadata": {},
   "outputs": [
    {
     "name": "stdout",
     "output_type": "stream",
     "text": [
      "opening file1.txt\n",
      "opening file2.txt\n",
      "opening file3.txt\n"
     ]
    }
   ],
   "source": [
    "files = [enter() for enter in enters]"
   ]
  },
  {
   "cell_type": "code",
   "execution_count": 29,
   "metadata": {},
   "outputs": [
    {
     "name": "stdout",
     "output_type": "stream",
     "text": [
      "file1_line1,file2_line1,file3_line1\n",
      "file1_line2,file2_line2,file3_line2\n",
      "file1_line3,file2_line3,file3_line3\n"
     ]
    }
   ],
   "source": [
    "while True:\n",
    "    try:\n",
    "        rows = [next(f).strip('\\n') for f in files]\n",
    "    except StopIteration:\n",
    "        break\n",
    "    else:\n",
    "        row = ','.join(rows)\n",
    "        print(row)"
   ]
  },
  {
   "cell_type": "code",
   "execution_count": 30,
   "metadata": {},
   "outputs": [
    {
     "name": "stdout",
     "output_type": "stream",
     "text": [
      "closing file3.txt\n",
      "closing file2.txt\n",
      "closing file1.txt\n"
     ]
    },
    {
     "data": {
      "text/plain": [
       "[False, False, False]"
      ]
     },
     "execution_count": 30,
     "metadata": {},
     "output_type": "execute_result"
    }
   ],
   "source": [
    "[exit(None, None, None) for exit in exits[::-1]]"
   ]
  },
  {
   "cell_type": "code",
   "execution_count": 32,
   "metadata": {},
   "outputs": [
    {
     "name": "stdout",
     "output_type": "stream",
     "text": [
      "opening file1.txt\n",
      "opening file2.txt\n",
      "opening file3.txt\n",
      "file1_line1,file2_line1,file3_line1\n",
      "file1_line2,file2_line2,file3_line2\n",
      "file1_line3,file2_line3,file3_line3\n",
      "closing file3.txt\n",
      "closing file2.txt\n",
      "closing file1.txt\n"
     ]
    }
   ],
   "source": [
    "f_names = 'file1.txt', 'file2.txt', 'file3.txt'\n",
    "\n",
    "# creating and 'entering' context managers\n",
    "exits = []\n",
    "enters = []\n",
    "\n",
    "for f_name in f_names:\n",
    "    ctx = open_file(f_name)\n",
    "    enters.append(ctx.__enter__)\n",
    "    exits.append(ctx.__exit__)\n",
    "    \n",
    "# entering context managers    \n",
    "files = [enter() for enter in enters]\n",
    "\n",
    "# do work\n",
    "while True:\n",
    "    try:\n",
    "        rows = [next(f).strip('\\n') for f in files]\n",
    "    except StopIteration:\n",
    "        break\n",
    "    else:\n",
    "        row = ','.join(rows)\n",
    "        print(row)\n",
    "        \n",
    "# exit context managers\n",
    "for exit in exits[::-1]:\n",
    "    exit(None, None, None)"
   ]
  },
  {
   "cell_type": "code",
   "execution_count": 33,
   "metadata": {},
   "outputs": [],
   "source": [
    "class NestedContexts:\n",
    "    def __init__(self, *contexts):\n",
    "        self._enters = []\n",
    "        self._exits = []\n",
    "        self._values = []\n",
    "        \n",
    "        for ctx in contexts:\n",
    "            self._enters.append(ctx.__enter__)\n",
    "            self._exits.append(ctx.__exit__)\n",
    "        \n",
    "    def __enter__(self):\n",
    "        for enter in self._enters:\n",
    "            self._values.append(enter())\n",
    "        return self._values\n",
    "    \n",
    "    def __exit__(self, exc_type, exc_value, exc_tb):\n",
    "        for exit in self._exits[::-1]:\n",
    "            exit(exc_type, exc_value, exc_tb)\n",
    "        return False"
   ]
  },
  {
   "cell_type": "code",
   "execution_count": 35,
   "metadata": {},
   "outputs": [
    {
     "name": "stdout",
     "output_type": "stream",
     "text": [
      "opening file1.txt\n",
      "opening file2.txt\n",
      "opening file3.txt\n",
      "file1_line1,file2_line1,file3_line1\n",
      "file1_line2,file2_line2,file3_line2\n",
      "file1_line3,file2_line3,file3_line3\n",
      "closing file3.txt\n",
      "closing file2.txt\n",
      "closing file1.txt\n"
     ]
    }
   ],
   "source": [
    "with NestedContexts(open_file('file1.txt'),\n",
    "                   open_file('file2.txt'),\n",
    "                   open_file('file3.txt')) as files:\n",
    "    while True:\n",
    "        try:\n",
    "            rows = [next(f).strip('\\n') for f in files]\n",
    "        except StopIteration:\n",
    "            break\n",
    "        else:\n",
    "            row = ','.join(rows)\n",
    "            print(row)"
   ]
  },
  {
   "cell_type": "code",
   "execution_count": 36,
   "metadata": {},
   "outputs": [
    {
     "name": "stdout",
     "output_type": "stream",
     "text": [
      "opening file1.txt\n",
      "opening file2.txt\n",
      "opening file3.txt\n",
      "do work\n",
      "closing file3.txt\n",
      "closing file2.txt\n",
      "closing file1.txt\n"
     ]
    }
   ],
   "source": [
    "f_names = 'file1.txt', 'file2.txt', 'file3.txt'\n",
    "\n",
    "contexts = [open_file(f_name) for f_name in f_names]\n",
    "with NestedContexts(*contexts) as files:\n",
    "    print('do work')"
   ]
  },
  {
   "cell_type": "code",
   "execution_count": 37,
   "metadata": {},
   "outputs": [],
   "source": [
    "class NestedContexts:\n",
    "    def __init__(self):\n",
    "        self._exits = []\n",
    "        \n",
    "    def __enter__(self):\n",
    "        return self\n",
    "    \n",
    "    def enter_context(self, ctx):\n",
    "        self._exits.append(ctx.__exit__)\n",
    "        value = ctx.__enter__()\n",
    "        return value\n",
    "    \n",
    "    def __exit__(self, exc_type, exc_value, exc_tb):\n",
    "        for exit in self._exits[::-1]:\n",
    "            exit(exc_type, exc_value, exc_tb)\n",
    "        return False"
   ]
  },
  {
   "cell_type": "code",
   "execution_count": 38,
   "metadata": {},
   "outputs": [
    {
     "name": "stdout",
     "output_type": "stream",
     "text": [
      "opening file1.txt\n",
      "opening file2.txt\n",
      "opening file3.txt\n",
      "do work\n",
      "closing file3.txt\n",
      "closing file2.txt\n",
      "closing file1.txt\n"
     ]
    }
   ],
   "source": [
    "f_names = 'file1.txt', 'file2.txt', 'file3.txt'\n",
    "\n",
    "with NestedContexts() as stack:\n",
    "    files = [stack.enter_context(open_file(f_name)) for f_name in f_names]\n",
    "    \n",
    "    # do work\n",
    "    print('do work')"
   ]
  },
  {
   "cell_type": "code",
   "execution_count": 39,
   "metadata": {},
   "outputs": [],
   "source": [
    "from contextlib import ExitStack"
   ]
  },
  {
   "cell_type": "code",
   "execution_count": 42,
   "metadata": {},
   "outputs": [
    {
     "name": "stdout",
     "output_type": "stream",
     "text": [
      "file1_line1,file2_line1,file3_line1\n",
      "file1_line2,file2_line2,file3_line2\n",
      "file1_line3,file2_line3,file3_line3\n"
     ]
    }
   ],
   "source": [
    "f_names = 'file1.txt', 'file2.txt', 'file3.txt'\n",
    "with ExitStack() as stack:\n",
    "    files = [stack.enter_context(open(f_name)) for f_name in f_names]    \n",
    "    \n",
    "    while True:\n",
    "        try:\n",
    "            rows = [next(f).strip('\\n') for f in files]\n",
    "        except StopIteration:\n",
    "            break\n",
    "        else:\n",
    "            row = ','.join(rows)\n",
    "            print(row)"
   ]
  },
  {
   "cell_type": "code",
   "execution_count": null,
   "metadata": {},
   "outputs": [],
   "source": []
  }
 ],
 "metadata": {
  "kernelspec": {
   "display_name": "Python 3",
   "language": "python",
   "name": "python3"
  },
  "language_info": {
   "codemirror_mode": {
    "name": "ipython",
    "version": 3
   },
   "file_extension": ".py",
   "mimetype": "text/x-python",
   "name": "python",
   "nbconvert_exporter": "python",
   "pygments_lexer": "ipython3",
   "version": "3.7.6"
  }
 },
 "nbformat": 4,
 "nbformat_minor": 4
}
