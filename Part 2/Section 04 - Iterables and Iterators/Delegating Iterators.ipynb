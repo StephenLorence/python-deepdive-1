{
 "cells": [
  {
   "cell_type": "code",
   "execution_count": 1,
   "metadata": {},
   "outputs": [],
   "source": [
    "from collections import namedtuple\n",
    "\n",
    "Person = namedtuple('Person', 'first last')"
   ]
  },
  {
   "cell_type": "code",
   "execution_count": 2,
   "metadata": {},
   "outputs": [],
   "source": [
    "class PersonNames:\n",
    "    def __init__(self, persons):\n",
    "        try:\n",
    "            self._persons = [person.first.capitalize()\n",
    "                             + ' ' + person.last.capitalize()\n",
    "                             for person in persons]\n",
    "        except (TypeError, AttributeError):\n",
    "            self._persons = []"
   ]
  },
  {
   "cell_type": "code",
   "execution_count": 10,
   "metadata": {},
   "outputs": [],
   "source": [
    "persons = [Person('michaeL', 'paLin'), Person('eric', 'idLe'), Person('john', 'cLeese')]"
   ]
  },
  {
   "cell_type": "code",
   "execution_count": 11,
   "metadata": {},
   "outputs": [],
   "source": [
    "person_names = PersonNames(persons)"
   ]
  },
  {
   "cell_type": "code",
   "execution_count": 5,
   "metadata": {},
   "outputs": [
    {
     "data": {
      "text/plain": [
       "['Michael Palin', 'Eric Idle', 'John Cleese']"
      ]
     },
     "execution_count": 5,
     "metadata": {},
     "output_type": "execute_result"
    }
   ],
   "source": [
    "person_names._persons"
   ]
  },
  {
   "cell_type": "code",
   "execution_count": 8,
   "metadata": {},
   "outputs": [
    {
     "name": "stdout",
     "output_type": "stream",
     "text": [
      "Michael Palin\n",
      "Eric Idle\n",
      "John Cleese\n"
     ]
    }
   ],
   "source": [
    "for name in person_names._persons:\n",
    "    print(name)"
   ]
  },
  {
   "cell_type": "code",
   "execution_count": 9,
   "metadata": {},
   "outputs": [],
   "source": [
    "class PersonNames:\n",
    "    def __init__(self, persons):\n",
    "        try:\n",
    "            self._persons = [person.first.capitalize()\n",
    "                             + ' ' + person.last.capitalize()\n",
    "                             for person in persons]\n",
    "        except (TypeError, AttributeError):\n",
    "            self._persons = []\n",
    "    \n",
    "    def __iter__(self):\n",
    "        return iter(self._persons)"
   ]
  },
  {
   "cell_type": "code",
   "execution_count": 13,
   "metadata": {},
   "outputs": [
    {
     "name": "stdout",
     "output_type": "stream",
     "text": [
      "Michael Palin\n",
      "Eric Idle\n",
      "John Cleese\n"
     ]
    }
   ],
   "source": [
    "for name in person_names:\n",
    "    print(name)"
   ]
  },
  {
   "cell_type": "code",
   "execution_count": null,
   "metadata": {},
   "outputs": [],
   "source": []
  }
 ],
 "metadata": {
  "kernelspec": {
   "display_name": "Python 3",
   "language": "python",
   "name": "python3"
  },
  "language_info": {
   "codemirror_mode": {
    "name": "ipython",
    "version": 3
   },
   "file_extension": ".py",
   "mimetype": "text/x-python",
   "name": "python",
   "nbconvert_exporter": "python",
   "pygments_lexer": "ipython3",
   "version": "3.7.6"
  }
 },
 "nbformat": 4,
 "nbformat_minor": 4
}
