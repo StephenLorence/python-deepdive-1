{
 "cells": [
  {
   "cell_type": "code",
   "execution_count": 10,
   "metadata": {},
   "outputs": [],
   "source": [
    "# Create a utility to parse the data from a given .csv file.\n",
    "import csv\n",
    "\n",
    "def data_reader(f_name):\n",
    "    f = open(f_name)\n",
    "    try:\n",
    "        dialect = csv.Sniffer().sniff(f.read(2000))\n",
    "        f.seek(0)\n",
    "        next(f)\n",
    "        yield from csv.reader(f, dialect=dialect)\n",
    "    finally:\n",
    "        f.close()"
   ]
  },
  {
   "cell_type": "code",
   "execution_count": 11,
   "metadata": {},
   "outputs": [],
   "source": [
    "# Create our coroutine decorator to prime coroutines.\n",
    "def coroutine(fn):\n",
    "    def inner(*args, **kwargs):\n",
    "        g = fn(*args, **kwargs)\n",
    "        next(g)\n",
    "        return g\n",
    "    return inner"
   ]
  },
  {
   "cell_type": "code",
   "execution_count": 12,
   "metadata": {},
   "outputs": [],
   "source": [
    "# Create a coroutine to write received rows to a new file.\n",
    "@coroutine\n",
    "def save_data(f_name):\n",
    "    with open(f_name, 'w', newline='') as f:\n",
    "        writer = csv.writer(f)\n",
    "        #writer.writerow(headers)\n",
    "        while True:\n",
    "            data_row = yield\n",
    "            writer.writerow(data_row)"
   ]
  },
  {
   "cell_type": "code",
   "execution_count": 13,
   "metadata": {},
   "outputs": [],
   "source": [
    "@coroutine\n",
    "def filter_data(filter_pred, target):\n",
    "    while True:\n",
    "        row = yield\n",
    "        if filter_pred(row):\n",
    "            target.send(row)"
   ]
  },
  {
   "cell_type": "code",
   "execution_count": 14,
   "metadata": {},
   "outputs": [],
   "source": [
    "@coroutine\n",
    "def pipeline_coro(out_file, name_filters):\n",
    "    save = save_data(out_file)\n",
    "    \n",
    "    target = save\n",
    "    for name_filter in name_filters:\n",
    "        target = filter_data(lambda d, v=name_filter: v in d[0], target)\n",
    "        \n",
    "    while True:\n",
    "        received = yield\n",
    "        target.send(received)"
   ]
  },
  {
   "cell_type": "code",
   "execution_count": 15,
   "metadata": {},
   "outputs": [],
   "source": [
    "from contextlib import contextmanager\n",
    "\n",
    "@contextmanager\n",
    "def pipeline(out_file, name_filters):\n",
    "    p = pipeline_coro(out_file, name_filters)\n",
    "    try:\n",
    "        yield p\n",
    "    finally:\n",
    "        p.close()"
   ]
  },
  {
   "cell_type": "code",
   "execution_count": 16,
   "metadata": {},
   "outputs": [],
   "source": [
    "with pipeline('out.csv', ('Chevrolet', 'Carlo', 'Landau')) as p:\n",
    "    for row in data_reader('cars.csv'):\n",
    "        p.send(row)"
   ]
  },
  {
   "cell_type": "code",
   "execution_count": 18,
   "metadata": {},
   "outputs": [
    {
     "name": "stdout",
     "output_type": "stream",
     "text": [
      "['Chevrolet Monte Carlo Landau', '15.5', '8', '350.0', '170.0', '4165.', '11.4', '77', 'US']\n",
      "['Chevrolet Monte Carlo Landau', '19.2', '8', '305.0', '145.0', '3425.', '13.2', '78', 'US']\n"
     ]
    }
   ],
   "source": [
    "with open('out.csv') as f:\n",
    "    reader = csv.reader(f)\n",
    "    for row in reader:\n",
    "        print(row)"
   ]
  },
  {
   "cell_type": "code",
   "execution_count": null,
   "metadata": {},
   "outputs": [],
   "source": []
  }
 ],
 "metadata": {
  "kernelspec": {
   "display_name": "Python 3",
   "language": "python",
   "name": "python3"
  },
  "language_info": {
   "codemirror_mode": {
    "name": "ipython",
    "version": 3
   },
   "file_extension": ".py",
   "mimetype": "text/x-python",
   "name": "python",
   "nbconvert_exporter": "python",
   "pygments_lexer": "ipython3",
   "version": "3.7.6"
  }
 },
 "nbformat": 4,
 "nbformat_minor": 4
}
