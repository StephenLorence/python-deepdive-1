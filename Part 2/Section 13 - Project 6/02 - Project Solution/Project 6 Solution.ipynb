{
 "cells": [
  {
   "cell_type": "markdown",
   "metadata": {},
   "source": [
    "The goal of this project is to rewrite the pull pipeline we created in the **Application - Pipelines - Pulling** video in the **Generators as Coroutines** section.\n",
    "\n",
    "You should look at the techniques we used in the **Application - Pipelines - Broadcasting** video and apply them here.\n",
    "\n",
    "The goal is to write a pipeline that will push data from the source file, `cars.csv`, and push it through some filters and a save coroutine to ultimately save the results as a csv file.\n",
    "\n",
    "Try to make your code as generic as possible, and don't worry about column headers in the output file (unless you really want to!)."
   ]
  },
  {
   "cell_type": "markdown",
   "metadata": {},
   "source": [
    "When you are done with your solution you should be able to specify an arbitrary number of filters on the name field.\n",
    "\n",
    "If you specify `Chevrolet`, `Carlo` and `Landau` for three filters, your output file should contain two lines of data only:"
   ]
  },
  {
   "cell_type": "markdown",
   "metadata": {},
   "source": [
    "```\n",
    "Chevrolet Monte Carlo Landau,15.5,8,350.0,170.0,4165.,11.4,77,US\n",
    "Chevrolet Monte Carlo Landau,19.2,8,305.0,145.0,3425.,13.2,78,US\n",
    "```"
   ]
  },
  {
   "cell_type": "code",
   "execution_count": 93,
   "metadata": {},
   "outputs": [],
   "source": [
    "# Create a utility to parse the data from a given .csv file.\n",
    "import csv\n",
    "\n",
    "def data_reader(f_name):\n",
    "    f = open(f_name)\n",
    "    try:\n",
    "        dialect = csv.Sniffer().sniff(f.read(2000))\n",
    "        f.seek(0)\n",
    "        yield from csv.reader(f, dialect=dialect)\n",
    "    finally:\n",
    "        f.close()"
   ]
  },
  {
   "cell_type": "code",
   "execution_count": 94,
   "metadata": {},
   "outputs": [],
   "source": [
    "# Create our coroutine decorator to prime coroutines.\n",
    "def coroutine(fn):\n",
    "    def inner(*args, **kwargs):\n",
    "        g = fn(*args, **kwargs)\n",
    "        next(g)\n",
    "        return g\n",
    "    return inner"
   ]
  },
  {
   "cell_type": "code",
   "execution_count": 95,
   "metadata": {},
   "outputs": [],
   "source": [
    "# Create a data parser to format the rows read from the .csv file\n",
    "# by the reader utility.\n",
    "from decimal import Decimal\n",
    "\n",
    "def data_parser(input_file):\n",
    "    data = data_reader(input_file)\n",
    "    headers = [i.lower() for i in next(data)]\n",
    "    yield headers\n",
    "    converters = [str, Decimal, int, Decimal, Decimal, lambda x: int(x.strip('.')), Decimal, int, str]\n",
    "    for row in data:\n",
    "        parsed_row = [converter(item)\n",
    "                      for converter, item in zip(converters, row)]\n",
    "        yield parsed_row"
   ]
  },
  {
   "cell_type": "code",
   "execution_count": 96,
   "metadata": {},
   "outputs": [],
   "source": [
    "# Create a coroutine to write received rows to a new file.\n",
    "@coroutine\n",
    "def save_data(f_name, headers):\n",
    "    with open(f_name, 'w', newline='') as f:\n",
    "        writer = csv.writer(f)\n",
    "        writer.writerow(headers)\n",
    "        while True:\n",
    "            data_row = yield\n",
    "            writer.writerow(data_row)"
   ]
  },
  {
   "cell_type": "code",
   "execution_count": 97,
   "metadata": {},
   "outputs": [],
   "source": [
    "def filter_out(rows, keyword):\n",
    "    for row in rows:\n",
    "        if keyword in row[0]:\n",
    "            yield row"
   ]
  },
  {
   "cell_type": "code",
   "execution_count": 98,
   "metadata": {},
   "outputs": [],
   "source": [
    "def push_data(*keywords):\n",
    "    # Create data parser.\n",
    "    data_rows = data_parser('cars.csv')\n",
    "    # Grab header row.\n",
    "    headers = next(data_rows)\n",
    "\n",
    "    for keyword in keywords:\n",
    "        data_rows = filter_out(data_rows, keyword)\n",
    "    \n",
    "    # Set up data file to write out to.\n",
    "    data_file = save_data('filtered_cars.csv', headers)\n",
    "\n",
    "    for row in data_rows:\n",
    "        data_file.send(row)"
   ]
  },
  {
   "cell_type": "code",
   "execution_count": 109,
   "metadata": {},
   "outputs": [],
   "source": [
    "# push_data('Chevrolet', 'Carlo', 'Landau')\n",
    "push_data('Chevrolet', 'Chevelle', 'Malibu')"
   ]
  },
  {
   "cell_type": "code",
   "execution_count": 110,
   "metadata": {},
   "outputs": [
    {
     "name": "stdout",
     "output_type": "stream",
     "text": [
      "['car', 'mpg', 'cylinders', 'displacement', 'horsepower', 'weight', 'acceleration', 'model', 'origin']\n",
      "['Chevrolet Chevelle Malibu', '18.0', '8', '307.0', '130.0', '3504', '12.0', '70', 'US']\n",
      "['Chevrolet Chevelle Malibu', '17.0', '6', '250.0', '100.0', '3329', '15.5', '71', 'US']\n",
      "['Chevrolet Chevelle Malibu Classic', '16.0', '6', '250.0', '100.0', '3781', '17.0', '74', 'US']\n",
      "['Chevrolete Chevelle Malibu', '16.0', '6', '250.0', '105.0', '3897', '18.5', '75', 'US']\n",
      "['Chevrolet Chevelle Malibu Classic', '17.5', '8', '305.0', '140.0', '4215', '13.0', '76', 'US']\n"
     ]
    }
   ],
   "source": [
    "with open('filtered_cars.csv') as f:\n",
    "    reader = csv.reader(f)\n",
    "    for row in reader:\n",
    "        print(row)"
   ]
  },
  {
   "cell_type": "code",
   "execution_count": null,
   "metadata": {},
   "outputs": [],
   "source": []
  }
 ],
 "metadata": {
  "kernelspec": {
   "display_name": "Python 3",
   "language": "python",
   "name": "python3"
  },
  "language_info": {
   "codemirror_mode": {
    "name": "ipython",
    "version": 3
   },
   "file_extension": ".py",
   "mimetype": "text/x-python",
   "name": "python",
   "nbconvert_exporter": "python",
   "pygments_lexer": "ipython3",
   "version": "3.7.6"
  }
 },
 "nbformat": 4,
 "nbformat_minor": 4
}
