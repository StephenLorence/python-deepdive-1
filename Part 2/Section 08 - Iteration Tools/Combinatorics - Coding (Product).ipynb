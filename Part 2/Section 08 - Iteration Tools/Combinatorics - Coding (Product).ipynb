{
 "cells": [
  {
   "cell_type": "markdown",
   "metadata": {},
   "source": [
    "### Combinatorics"
   ]
  },
  {
   "cell_type": "code",
   "execution_count": 1,
   "metadata": {},
   "outputs": [],
   "source": [
    "import itertools"
   ]
  },
  {
   "cell_type": "code",
   "execution_count": 2,
   "metadata": {},
   "outputs": [],
   "source": [
    "def matrix(n):\n",
    "    for i in range(1, n+1):\n",
    "        for j in range(1, n+1):\n",
    "            yield f'{i} x {j} = {i * j}'"
   ]
  },
  {
   "cell_type": "code",
   "execution_count": 3,
   "metadata": {},
   "outputs": [
    {
     "data": {
      "text/plain": [
       "['2 x 1 = 2',\n",
       " '2 x 2 = 4',\n",
       " '2 x 3 = 6',\n",
       " '2 x 4 = 8',\n",
       " '2 x 5 = 10',\n",
       " '2 x 6 = 12',\n",
       " '2 x 7 = 14',\n",
       " '2 x 8 = 16',\n",
       " '2 x 9 = 18',\n",
       " '2 x 10 = 20']"
      ]
     },
     "execution_count": 3,
     "metadata": {},
     "output_type": "execute_result"
    }
   ],
   "source": [
    "list(itertools.islice(matrix(10), 10, 20))"
   ]
  },
  {
   "cell_type": "code",
   "execution_count": 4,
   "metadata": {},
   "outputs": [
    {
     "name": "stdout",
     "output_type": "stream",
     "text": [
      "('x1', 'y1') ('x1', 'y2') ('x1', 'y3') \n",
      "('x2', 'y1') ('x2', 'y2') ('x2', 'y3') \n",
      "('x3', 'y1') ('x3', 'y2') ('x3', 'y3') \n",
      "('x4', 'y1') ('x4', 'y2') ('x4', 'y3') \n"
     ]
    }
   ],
   "source": [
    "l1 = ['x1', 'x2', 'x3', 'x4']\n",
    "l2 = ['y1', 'y2', 'y3']\n",
    "for x in l1:\n",
    "    for y in l2:\n",
    "        print((x, y), end=' ')\n",
    "    print('')"
   ]
  },
  {
   "cell_type": "code",
   "execution_count": 5,
   "metadata": {},
   "outputs": [
    {
     "data": {
      "text/plain": [
       "[('x1', 'y1'),\n",
       " ('x1', 'y2'),\n",
       " ('x1', 'y3'),\n",
       " ('x2', 'y1'),\n",
       " ('x2', 'y2'),\n",
       " ('x2', 'y3'),\n",
       " ('x3', 'y1'),\n",
       " ('x3', 'y2'),\n",
       " ('x3', 'y3'),\n",
       " ('x4', 'y1'),\n",
       " ('x4', 'y2'),\n",
       " ('x4', 'y3')]"
      ]
     },
     "execution_count": 5,
     "metadata": {},
     "output_type": "execute_result"
    }
   ],
   "source": [
    "list(itertools.product(l1, l2))"
   ]
  },
  {
   "cell_type": "code",
   "execution_count": 6,
   "metadata": {},
   "outputs": [],
   "source": [
    "def matrix(n):\n",
    "    for i in range(1, n+1):\n",
    "        for j in range(1, n+1):\n",
    "            yield (i, j, i*j)"
   ]
  },
  {
   "cell_type": "code",
   "execution_count": 7,
   "metadata": {},
   "outputs": [
    {
     "data": {
      "text/plain": [
       "[(1, 1, 1),\n",
       " (1, 2, 2),\n",
       " (1, 3, 3),\n",
       " (1, 4, 4),\n",
       " (1, 5, 5),\n",
       " (2, 1, 2),\n",
       " (2, 2, 4),\n",
       " (2, 3, 6),\n",
       " (2, 4, 8),\n",
       " (2, 5, 10),\n",
       " (3, 1, 3),\n",
       " (3, 2, 6),\n",
       " (3, 3, 9),\n",
       " (3, 4, 12),\n",
       " (3, 5, 15),\n",
       " (4, 1, 4),\n",
       " (4, 2, 8),\n",
       " (4, 3, 12),\n",
       " (4, 4, 16),\n",
       " (4, 5, 20),\n",
       " (5, 1, 5),\n",
       " (5, 2, 10),\n",
       " (5, 3, 15),\n",
       " (5, 4, 20),\n",
       " (5, 5, 25)]"
      ]
     },
     "execution_count": 7,
     "metadata": {},
     "output_type": "execute_result"
    }
   ],
   "source": [
    "list(matrix(5))"
   ]
  },
  {
   "cell_type": "code",
   "execution_count": 10,
   "metadata": {},
   "outputs": [],
   "source": [
    "def matrix(n):\n",
    "    for i, j in itertools.product(range(1, n+1), range(1, n+1)):\n",
    "        yield (i, j, i*j)"
   ]
  },
  {
   "cell_type": "code",
   "execution_count": 11,
   "metadata": {},
   "outputs": [
    {
     "data": {
      "text/plain": [
       "[(1, 1, 1),\n",
       " (1, 2, 2),\n",
       " (1, 3, 3),\n",
       " (1, 4, 4),\n",
       " (2, 1, 2),\n",
       " (2, 2, 4),\n",
       " (2, 3, 6),\n",
       " (2, 4, 8),\n",
       " (3, 1, 3),\n",
       " (3, 2, 6),\n",
       " (3, 3, 9),\n",
       " (3, 4, 12),\n",
       " (4, 1, 4),\n",
       " (4, 2, 8),\n",
       " (4, 3, 12),\n",
       " (4, 4, 16)]"
      ]
     },
     "execution_count": 11,
     "metadata": {},
     "output_type": "execute_result"
    }
   ],
   "source": [
    "list(matrix(4))"
   ]
  },
  {
   "cell_type": "code",
   "execution_count": 13,
   "metadata": {},
   "outputs": [],
   "source": [
    "def matrix(n):\n",
    "    return ((i, j, i*j)\n",
    "           for i, j in itertools.product(range(1, n+1), range(1, n+1)))"
   ]
  },
  {
   "cell_type": "code",
   "execution_count": 14,
   "metadata": {},
   "outputs": [
    {
     "data": {
      "text/plain": [
       "[(1, 1, 1),\n",
       " (1, 2, 2),\n",
       " (1, 3, 3),\n",
       " (1, 4, 4),\n",
       " (2, 1, 2),\n",
       " (2, 2, 4),\n",
       " (2, 3, 6),\n",
       " (2, 4, 8),\n",
       " (3, 1, 3),\n",
       " (3, 2, 6),\n",
       " (3, 3, 9),\n",
       " (3, 4, 12),\n",
       " (4, 1, 4),\n",
       " (4, 2, 8),\n",
       " (4, 3, 12),\n",
       " (4, 4, 16)]"
      ]
     },
     "execution_count": 14,
     "metadata": {},
     "output_type": "execute_result"
    }
   ],
   "source": [
    "list(matrix(4))"
   ]
  },
  {
   "cell_type": "code",
   "execution_count": 15,
   "metadata": {},
   "outputs": [],
   "source": [
    "from itertools import tee"
   ]
  },
  {
   "cell_type": "code",
   "execution_count": 19,
   "metadata": {},
   "outputs": [],
   "source": [
    "def matrix(n):\n",
    "    return ((i, j, i*j)\n",
    "           for i, j in itertools.product(*tee(range(1, n+1), 2)))    "
   ]
  },
  {
   "cell_type": "code",
   "execution_count": 20,
   "metadata": {},
   "outputs": [
    {
     "data": {
      "text/plain": [
       "[(1, 1, 1),\n",
       " (1, 2, 2),\n",
       " (1, 3, 3),\n",
       " (1, 4, 4),\n",
       " (2, 1, 2),\n",
       " (2, 2, 4),\n",
       " (2, 3, 6),\n",
       " (2, 4, 8),\n",
       " (3, 1, 3),\n",
       " (3, 2, 6),\n",
       " (3, 3, 9),\n",
       " (3, 4, 12),\n",
       " (4, 1, 4),\n",
       " (4, 2, 8),\n",
       " (4, 3, 12),\n",
       " (4, 4, 16)]"
      ]
     },
     "execution_count": 20,
     "metadata": {},
     "output_type": "execute_result"
    }
   ],
   "source": [
    "list(matrix(4))"
   ]
  },
  {
   "cell_type": "code",
   "execution_count": 21,
   "metadata": {},
   "outputs": [],
   "source": [
    "def grid(min_val, max_val, step, *, num_dimensions=2):\n",
    "    axis = itertools.takewhile(lambda x: x <= max_val,\n",
    "                               itertools.count(min_val, step))\n",
    "    \n",
    "    axes = itertools.tee(axis, num_dimensions)\n",
    "    return itertools.product(*axes)"
   ]
  },
  {
   "cell_type": "code",
   "execution_count": 22,
   "metadata": {},
   "outputs": [
    {
     "data": {
      "text/plain": [
       "[(-1, -1),\n",
       " (-1, -0.5),\n",
       " (-1, 0.0),\n",
       " (-1, 0.5),\n",
       " (-1, 1.0),\n",
       " (-0.5, -1),\n",
       " (-0.5, -0.5),\n",
       " (-0.5, 0.0),\n",
       " (-0.5, 0.5),\n",
       " (-0.5, 1.0),\n",
       " (0.0, -1),\n",
       " (0.0, -0.5),\n",
       " (0.0, 0.0),\n",
       " (0.0, 0.5),\n",
       " (0.0, 1.0),\n",
       " (0.5, -1),\n",
       " (0.5, -0.5),\n",
       " (0.5, 0.0),\n",
       " (0.5, 0.5),\n",
       " (0.5, 1.0),\n",
       " (1.0, -1),\n",
       " (1.0, -0.5),\n",
       " (1.0, 0.0),\n",
       " (1.0, 0.5),\n",
       " (1.0, 1.0)]"
      ]
     },
     "execution_count": 22,
     "metadata": {},
     "output_type": "execute_result"
    }
   ],
   "source": [
    "list(grid(-1, 1, 0.5))"
   ]
  },
  {
   "cell_type": "code",
   "execution_count": 24,
   "metadata": {},
   "outputs": [
    {
     "data": {
      "text/plain": [
       "[(-1, -1, -1),\n",
       " (-1, -1, -0.5),\n",
       " (-1, -1, 0.0),\n",
       " (-1, -1, 0.5),\n",
       " (-1, -1, 1.0),\n",
       " (-1, -0.5, -1),\n",
       " (-1, -0.5, -0.5),\n",
       " (-1, -0.5, 0.0),\n",
       " (-1, -0.5, 0.5),\n",
       " (-1, -0.5, 1.0),\n",
       " (-1, 0.0, -1),\n",
       " (-1, 0.0, -0.5),\n",
       " (-1, 0.0, 0.0),\n",
       " (-1, 0.0, 0.5),\n",
       " (-1, 0.0, 1.0),\n",
       " (-1, 0.5, -1),\n",
       " (-1, 0.5, -0.5),\n",
       " (-1, 0.5, 0.0),\n",
       " (-1, 0.5, 0.5),\n",
       " (-1, 0.5, 1.0),\n",
       " (-1, 1.0, -1),\n",
       " (-1, 1.0, -0.5),\n",
       " (-1, 1.0, 0.0),\n",
       " (-1, 1.0, 0.5),\n",
       " (-1, 1.0, 1.0),\n",
       " (-0.5, -1, -1),\n",
       " (-0.5, -1, -0.5),\n",
       " (-0.5, -1, 0.0),\n",
       " (-0.5, -1, 0.5),\n",
       " (-0.5, -1, 1.0),\n",
       " (-0.5, -0.5, -1),\n",
       " (-0.5, -0.5, -0.5),\n",
       " (-0.5, -0.5, 0.0),\n",
       " (-0.5, -0.5, 0.5),\n",
       " (-0.5, -0.5, 1.0),\n",
       " (-0.5, 0.0, -1),\n",
       " (-0.5, 0.0, -0.5),\n",
       " (-0.5, 0.0, 0.0),\n",
       " (-0.5, 0.0, 0.5),\n",
       " (-0.5, 0.0, 1.0),\n",
       " (-0.5, 0.5, -1),\n",
       " (-0.5, 0.5, -0.5),\n",
       " (-0.5, 0.5, 0.0),\n",
       " (-0.5, 0.5, 0.5),\n",
       " (-0.5, 0.5, 1.0),\n",
       " (-0.5, 1.0, -1),\n",
       " (-0.5, 1.0, -0.5),\n",
       " (-0.5, 1.0, 0.0),\n",
       " (-0.5, 1.0, 0.5),\n",
       " (-0.5, 1.0, 1.0),\n",
       " (0.0, -1, -1),\n",
       " (0.0, -1, -0.5),\n",
       " (0.0, -1, 0.0),\n",
       " (0.0, -1, 0.5),\n",
       " (0.0, -1, 1.0),\n",
       " (0.0, -0.5, -1),\n",
       " (0.0, -0.5, -0.5),\n",
       " (0.0, -0.5, 0.0),\n",
       " (0.0, -0.5, 0.5),\n",
       " (0.0, -0.5, 1.0),\n",
       " (0.0, 0.0, -1),\n",
       " (0.0, 0.0, -0.5),\n",
       " (0.0, 0.0, 0.0),\n",
       " (0.0, 0.0, 0.5),\n",
       " (0.0, 0.0, 1.0),\n",
       " (0.0, 0.5, -1),\n",
       " (0.0, 0.5, -0.5),\n",
       " (0.0, 0.5, 0.0),\n",
       " (0.0, 0.5, 0.5),\n",
       " (0.0, 0.5, 1.0),\n",
       " (0.0, 1.0, -1),\n",
       " (0.0, 1.0, -0.5),\n",
       " (0.0, 1.0, 0.0),\n",
       " (0.0, 1.0, 0.5),\n",
       " (0.0, 1.0, 1.0),\n",
       " (0.5, -1, -1),\n",
       " (0.5, -1, -0.5),\n",
       " (0.5, -1, 0.0),\n",
       " (0.5, -1, 0.5),\n",
       " (0.5, -1, 1.0),\n",
       " (0.5, -0.5, -1),\n",
       " (0.5, -0.5, -0.5),\n",
       " (0.5, -0.5, 0.0),\n",
       " (0.5, -0.5, 0.5),\n",
       " (0.5, -0.5, 1.0),\n",
       " (0.5, 0.0, -1),\n",
       " (0.5, 0.0, -0.5),\n",
       " (0.5, 0.0, 0.0),\n",
       " (0.5, 0.0, 0.5),\n",
       " (0.5, 0.0, 1.0),\n",
       " (0.5, 0.5, -1),\n",
       " (0.5, 0.5, -0.5),\n",
       " (0.5, 0.5, 0.0),\n",
       " (0.5, 0.5, 0.5),\n",
       " (0.5, 0.5, 1.0),\n",
       " (0.5, 1.0, -1),\n",
       " (0.5, 1.0, -0.5),\n",
       " (0.5, 1.0, 0.0),\n",
       " (0.5, 1.0, 0.5),\n",
       " (0.5, 1.0, 1.0),\n",
       " (1.0, -1, -1),\n",
       " (1.0, -1, -0.5),\n",
       " (1.0, -1, 0.0),\n",
       " (1.0, -1, 0.5),\n",
       " (1.0, -1, 1.0),\n",
       " (1.0, -0.5, -1),\n",
       " (1.0, -0.5, -0.5),\n",
       " (1.0, -0.5, 0.0),\n",
       " (1.0, -0.5, 0.5),\n",
       " (1.0, -0.5, 1.0),\n",
       " (1.0, 0.0, -1),\n",
       " (1.0, 0.0, -0.5),\n",
       " (1.0, 0.0, 0.0),\n",
       " (1.0, 0.0, 0.5),\n",
       " (1.0, 0.0, 1.0),\n",
       " (1.0, 0.5, -1),\n",
       " (1.0, 0.5, -0.5),\n",
       " (1.0, 0.5, 0.0),\n",
       " (1.0, 0.5, 0.5),\n",
       " (1.0, 0.5, 1.0),\n",
       " (1.0, 1.0, -1),\n",
       " (1.0, 1.0, -0.5),\n",
       " (1.0, 1.0, 0.0),\n",
       " (1.0, 1.0, 0.5),\n",
       " (1.0, 1.0, 1.0)]"
      ]
     },
     "execution_count": 24,
     "metadata": {},
     "output_type": "execute_result"
    }
   ],
   "source": [
    "list(grid(-1, 1, 0.5, num_dimensions=3))"
   ]
  },
  {
   "cell_type": "code",
   "execution_count": 25,
   "metadata": {},
   "outputs": [
    {
     "name": "stdout",
     "output_type": "stream",
     "text": [
      "[(1, 1), (1, 2), (1, 3), (1, 4), (1, 5), (1, 6), (2, 1), (2, 2), (2, 3), (2, 4), (2, 5), (2, 6), (3, 1), (3, 2), (3, 3), (3, 4), (3, 5), (3, 6), (4, 1), (4, 2), (4, 3), (4, 4), (4, 5), (4, 6), (5, 1), (5, 2), (5, 3), (5, 4), (5, 5), (5, 6), (6, 1), (6, 2), (6, 3), (6, 4), (6, 5), (6, 6)]\n"
     ]
    }
   ],
   "source": [
    "sample_space = list(itertools.product(range(1, 7), range(1, 7)))\n",
    "print(sample_space)"
   ]
  },
  {
   "cell_type": "code",
   "execution_count": 26,
   "metadata": {},
   "outputs": [],
   "source": [
    "outcomes = list(filter(lambda x: x[0] + x[1] == 8, sample_space))"
   ]
  },
  {
   "cell_type": "code",
   "execution_count": 27,
   "metadata": {},
   "outputs": [
    {
     "data": {
      "text/plain": [
       "[(2, 6), (3, 5), (4, 4), (5, 3), (6, 2)]"
      ]
     },
     "execution_count": 27,
     "metadata": {},
     "output_type": "execute_result"
    }
   ],
   "source": [
    "outcomes"
   ]
  },
  {
   "cell_type": "code",
   "execution_count": 28,
   "metadata": {},
   "outputs": [
    {
     "data": {
      "text/plain": [
       "0.1388888888888889"
      ]
     },
     "execution_count": 28,
     "metadata": {},
     "output_type": "execute_result"
    }
   ],
   "source": [
    "len(outcomes) / len(sample_space)"
   ]
  },
  {
   "cell_type": "code",
   "execution_count": 29,
   "metadata": {},
   "outputs": [],
   "source": [
    "from fractions import Fraction"
   ]
  },
  {
   "cell_type": "code",
   "execution_count": 31,
   "metadata": {},
   "outputs": [],
   "source": [
    "odds = Fraction(len(outcomes), len(sample_space))"
   ]
  },
  {
   "cell_type": "code",
   "execution_count": 32,
   "metadata": {},
   "outputs": [
    {
     "data": {
      "text/plain": [
       "Fraction(5, 36)"
      ]
     },
     "execution_count": 32,
     "metadata": {},
     "output_type": "execute_result"
    }
   ],
   "source": [
    "odds"
   ]
  },
  {
   "cell_type": "code",
   "execution_count": null,
   "metadata": {},
   "outputs": [],
   "source": []
  }
 ],
 "metadata": {
  "kernelspec": {
   "display_name": "Python 3",
   "language": "python",
   "name": "python3"
  },
  "language_info": {
   "codemirror_mode": {
    "name": "ipython",
    "version": 3
   },
   "file_extension": ".py",
   "mimetype": "text/x-python",
   "name": "python",
   "nbconvert_exporter": "python",
   "pygments_lexer": "ipython3",
   "version": "3.7.6"
  }
 },
 "nbformat": 4,
 "nbformat_minor": 4
}
