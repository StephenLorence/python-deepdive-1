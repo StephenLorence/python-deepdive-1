{
 "cells": [
  {
   "cell_type": "code",
   "execution_count": 3,
   "metadata": {},
   "outputs": [],
   "source": [
    "import math\n",
    "\n",
    "class Polygon:\n",
    "    \n",
    "    def __init__(self, edges, circumradius):\n",
    "        self.edges = edges\n",
    "        n = self.edges\n",
    "        self.circumradius = circumradius\n",
    "        r = self.circumradius\n",
    "        self.vertices = self.edges\n",
    "        self.edge_length = 2*r*math.sin(math.pi/n)\n",
    "        s = self.edge_length\n",
    "        self.apothem = r*math.cos(math.pi/n)\n",
    "        a = self.apothem\n",
    "        self.area = 0.5*n*s*a\n",
    "        self.perimeter = n*s\n",
    "        self.interior_angle = (n-2) * (180/n)\n",
    "        \n",
    "    def __repr__(self):\n",
    "        return f'Polygon(edges(n) = {self.edges}, circumradius(R) = {self.circumradius})'\n",
    "    \n",
    "    def __eq__(self, other):\n",
    "        if isinstance(other, Polygon):\n",
    "            return self.edges == other.edges and self.circumradius == other.circumradius\n",
    "        else:\n",
    "            raise TypeError('Polygon equality not supported with non-Polygons.')\n",
    "            \n",
    "    def __gt__(self, other):\n",
    "        if isinstance(other, Polygon):\n",
    "            return self.edges > other.edges\n",
    "        else:\n",
    "            raise TypeError('Polygon comparison not supported with non-Polygons.')   "
   ]
  },
  {
   "cell_type": "code",
   "execution_count": 68,
   "metadata": {},
   "outputs": [],
   "source": [
    "class Polygons:\n",
    "    \n",
    "    def __init__(self, max_sides, circumradius):\n",
    "        self.l = [Polygon(i, circumradius) for i in range(3, max_sides+1)]\n",
    "        self.circumradius = circumradius\n",
    "        \n",
    "    def __repr__(self):\n",
    "        return f'R = {self.circumradius}, Polygons(n = {tuple([p.edges for p in self.l])})'"
   ]
  },
  {
   "cell_type": "code",
   "execution_count": 69,
   "metadata": {},
   "outputs": [],
   "source": [
    "poly_list = Polygons(7, 4)"
   ]
  },
  {
   "cell_type": "code",
   "execution_count": 70,
   "metadata": {},
   "outputs": [
    {
     "output_type": "execute_result",
     "data": {
      "text/plain": [
       "[Polygon(edges(n) = 3, circumradius(R) = 4),\n",
       " Polygon(edges(n) = 4, circumradius(R) = 4),\n",
       " Polygon(edges(n) = 5, circumradius(R) = 4),\n",
       " Polygon(edges(n) = 6, circumradius(R) = 4),\n",
       " Polygon(edges(n) = 7, circumradius(R) = 4)]"
      ]
     },
     "metadata": {},
     "execution_count": 70
    }
   ],
   "source": [
    "poly_list.l"
   ]
  },
  {
   "cell_type": "code",
   "execution_count": 71,
   "metadata": {},
   "outputs": [
    {
     "output_type": "execute_result",
     "data": {
      "text/plain": [
       "R = 4, Polygons(n = (3, 4, 5, 6, 7))"
      ]
     },
     "metadata": {},
     "execution_count": 71
    }
   ],
   "source": [
    "poly_list"
   ]
  },
  {
   "cell_type": "code",
   "execution_count": null,
   "metadata": {},
   "outputs": [],
   "source": []
  }
 ],
 "metadata": {
  "kernelspec": {
   "display_name": "Python 3",
   "language": "python",
   "name": "python3"
  },
  "language_info": {
   "codemirror_mode": {
    "name": "ipython",
    "version": 3
   },
   "file_extension": ".py",
   "mimetype": "text/x-python",
   "name": "python",
   "nbconvert_exporter": "python",
   "pygments_lexer": "ipython3",
   "version": "3.7.6-final"
  }
 },
 "nbformat": 4,
 "nbformat_minor": 4
}