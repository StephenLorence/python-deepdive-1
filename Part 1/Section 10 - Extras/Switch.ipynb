{
 "cells": [
  {
   "cell_type": "markdown",
   "metadata": {},
   "source": [
    "## Simulating a simple Switch in Python"
   ]
  },
  {
   "cell_type": "markdown",
   "metadata": {},
   "source": [
    "PEP 3103"
   ]
  },
  {
   "cell_type": "code",
   "execution_count": 1,
   "metadata": {},
   "outputs": [],
   "source": [
    "def dow_switch_fn(dow):\n",
    "    if dow == 1:\n",
    "        fn = lambda: print('Monday')\n",
    "    elif dow == 2:\n",
    "        fn = lambda: print('Tuesday')\n",
    "    elif dow == 3:\n",
    "        fn = lambda: print('Wednesday')\n",
    "    elif dow == 4:\n",
    "        fn = lambda: print('Thursday')\n",
    "    elif dow == 5:\n",
    "        fn = lambda: print('Friday')\n",
    "    elif dow == 6:\n",
    "        fn = lambda: print('Saturday')\n",
    "    elif dow == 7:\n",
    "        fn = lambda: print('Sunday')\n",
    "    else:\n",
    "        fn = lambda: print('Invalid day of week')\n",
    "        \n",
    "    return fn()"
   ]
  },
  {
   "cell_type": "code",
   "execution_count": 2,
   "metadata": {},
   "outputs": [
    {
     "name": "stdout",
     "output_type": "stream",
     "text": [
      "Monday\n"
     ]
    }
   ],
   "source": [
    "dow_switch_fn(1)"
   ]
  },
  {
   "cell_type": "code",
   "execution_count": 3,
   "metadata": {},
   "outputs": [
    {
     "name": "stdout",
     "output_type": "stream",
     "text": [
      "Invalid day of week\n"
     ]
    }
   ],
   "source": [
    "dow_switch_fn(100)"
   ]
  },
  {
   "cell_type": "code",
   "execution_count": 4,
   "metadata": {},
   "outputs": [],
   "source": [
    "def dow_switch_dict(dow):\n",
    "    dow_dict = {\n",
    "        1: lambda: print('Monday'),\n",
    "        2: lambda: print('Tuesday'),\n",
    "        3: lambda: print('Wednesday'),\n",
    "        4: lambda: print('Thursday'),\n",
    "        5: lambda: print('Friday'),\n",
    "        6: lambda: print('Saturday'),\n",
    "        7: lambda: print('Sunday'),\n",
    "        'default': lambda: print('Invalid day of week')\n",
    "    }\n",
    "    \n",
    "    return dow_dict.get(dow, dow_dict['default'])()"
   ]
  },
  {
   "cell_type": "code",
   "execution_count": 5,
   "metadata": {},
   "outputs": [
    {
     "name": "stdout",
     "output_type": "stream",
     "text": [
      "Monday\n"
     ]
    }
   ],
   "source": [
    "dow_switch_dict(1)"
   ]
  },
  {
   "cell_type": "code",
   "execution_count": 6,
   "metadata": {},
   "outputs": [
    {
     "name": "stdout",
     "output_type": "stream",
     "text": [
      "Invalid day of week\n"
     ]
    }
   ],
   "source": [
    "dow_switch_dict(100)"
   ]
  },
  {
   "cell_type": "code",
   "execution_count": 7,
   "metadata": {},
   "outputs": [],
   "source": [
    "def switcher(fn):\n",
    "    registry = dict()\n",
    "    registry['default'] = fn\n",
    "    \n",
    "    def register(case):\n",
    "        def inner(fn):\n",
    "            registry[case] = fn\n",
    "            return fn\n",
    "        return inner\n",
    "    \n",
    "    def decorator(case):\n",
    "        fn = registry.get(case, registry['default'])\n",
    "        return fn()\n",
    "    \n",
    "    decorator.register = register\n",
    "    return decorator"
   ]
  },
  {
   "cell_type": "code",
   "execution_count": 10,
   "metadata": {},
   "outputs": [
    {
     "data": {
      "text/plain": [
       "<function __main__.<lambda>()>"
      ]
     },
     "execution_count": 10,
     "metadata": {},
     "output_type": "execute_result"
    }
   ],
   "source": [
    "@switcher\n",
    "def dow():\n",
    "    return 'Invalid day of week'\n",
    "    \n",
    "@dow.register(1)\n",
    "def dow_1():\n",
    "    return 'Monday'\n",
    "\n",
    "dow.register(2)(lambda: 'Tuesday')\n",
    "dow.register(3)(lambda: 'Wednesday')\n",
    "dow.register(4)(lambda: 'Thursday')\n",
    "dow.register(5)(lambda: 'Friday')\n",
    "dow.register(6)(lambda: 'Saturday')\n",
    "dow.register(7)(lambda: 'Sunday')"
   ]
  },
  {
   "cell_type": "code",
   "execution_count": 11,
   "metadata": {},
   "outputs": [
    {
     "data": {
      "text/plain": [
       "'Monday'"
      ]
     },
     "execution_count": 11,
     "metadata": {},
     "output_type": "execute_result"
    }
   ],
   "source": [
    "dow(1)"
   ]
  },
  {
   "cell_type": "code",
   "execution_count": 12,
   "metadata": {},
   "outputs": [
    {
     "data": {
      "text/plain": [
       "'Friday'"
      ]
     },
     "execution_count": 12,
     "metadata": {},
     "output_type": "execute_result"
    }
   ],
   "source": [
    "dow(5)"
   ]
  },
  {
   "cell_type": "code",
   "execution_count": 13,
   "metadata": {},
   "outputs": [
    {
     "data": {
      "text/plain": [
       "'Invalid day of week'"
      ]
     },
     "execution_count": 13,
     "metadata": {},
     "output_type": "execute_result"
    }
   ],
   "source": [
    "dow(100)"
   ]
  },
  {
   "cell_type": "code",
   "execution_count": null,
   "metadata": {},
   "outputs": [],
   "source": []
  }
 ],
 "metadata": {
  "kernelspec": {
   "display_name": "Python 3",
   "language": "python",
   "name": "python3"
  },
  "language_info": {
   "codemirror_mode": {
    "name": "ipython",
    "version": 3
   },
   "file_extension": ".py",
   "mimetype": "text/x-python",
   "name": "python",
   "nbconvert_exporter": "python",
   "pygments_lexer": "ipython3",
   "version": "3.7.6"
  }
 },
 "nbformat": 4,
 "nbformat_minor": 4
}
