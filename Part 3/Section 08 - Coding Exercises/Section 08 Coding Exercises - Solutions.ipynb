{
 "cells": [
  {
   "cell_type": "code",
   "execution_count": 129,
   "metadata": {},
   "outputs": [],
   "source": [
    "class Stock:\n",
    "    def __init__(self, symbol, date, open_, high, low, close, volume):\n",
    "        self.data_type = 'Stock'\n",
    "        self.symbol = symbol\n",
    "        self.date = date\n",
    "        self.open = open_\n",
    "        self.high = high\n",
    "        self.low = low\n",
    "        self.close = close\n",
    "        self.volume = volume\n",
    "        \n",
    "    def __repr__(self):\n",
    "        return 'Stock: ' + str(vars(self))\n",
    "        \n",
    "class Trade:\n",
    "    def __init__(self, symbol, timestamp, order, price, volume, commission):\n",
    "        self.data_type = 'Trade'\n",
    "        self.symbol = symbol\n",
    "        self.timestamp = timestamp\n",
    "        self.order = order\n",
    "        self.price = price\n",
    "        self.commission = commission\n",
    "        self.volume = volume\n",
    "        \n",
    "    def __repr__(self):\n",
    "        return 'Trade: ' + str(vars(self))"
   ]
  },
  {
   "cell_type": "markdown",
   "metadata": {},
   "source": [
    "#### Exercise 1"
   ]
  },
  {
   "cell_type": "markdown",
   "metadata": {},
   "source": [
    "Given the above class, write a custom `JSONEncoder` class to **serialize** dictionaries that contain instances of these particular classes. Keep in mind that you will want to deserialize the data too - so you will need some technique to indicate the object type in your serialization."
   ]
  },
  {
   "cell_type": "markdown",
   "metadata": {},
   "source": [
    "For example you may have an object such as this one that needs to be serialized:"
   ]
  },
  {
   "cell_type": "code",
   "execution_count": 130,
   "metadata": {},
   "outputs": [],
   "source": [
    "from datetime import date, datetime\n",
    "from decimal import Decimal\n",
    "\n",
    "activity = {\n",
    "    \"quotes\": [\n",
    "        Stock('TSLA', date(2018, 11, 22), \n",
    "              Decimal('338.19'), Decimal('338.64'), Decimal('337.60'), Decimal('338.19'), 365_607),\n",
    "        Stock('AAPL', date(2018, 11, 22), \n",
    "              Decimal('176.66'), Decimal('177.25'), Decimal('176.64'), Decimal('176.78'), 3_699_184),\n",
    "        Stock('MSFT', date(2018, 11, 22), \n",
    "              Decimal('103.25'), Decimal('103.48'), Decimal('103.07'), Decimal('103.11'), 4_493_689)\n",
    "    ],\n",
    "    \n",
    "    \"trades\": [\n",
    "        Trade('TSLA', datetime(2018, 11, 22, 10, 5, 12), 'buy', Decimal('338.25'), 100, Decimal('9.99')),\n",
    "        Trade('AAPL', datetime(2018, 11, 22, 10, 30, 5), 'sell', Decimal('177.01'), 20, Decimal('9.99'))\n",
    "    ]\n",
    "}"
   ]
  },
  {
   "cell_type": "code",
   "execution_count": 90,
   "metadata": {},
   "outputs": [],
   "source": [
    "import json\n",
    "from pprint import pprint"
   ]
  },
  {
   "cell_type": "code",
   "execution_count": 131,
   "metadata": {},
   "outputs": [],
   "source": [
    "class CustomJSONEncoder(json.JSONEncoder):\n",
    "    def default(self, arg):\n",
    "        if isinstance(arg, (Stock, Trade)):\n",
    "            return vars(arg)\n",
    "        elif isinstance(arg, (date, datetime)):\n",
    "            return arg.isoformat()\n",
    "        elif isinstance(arg, Decimal):\n",
    "            return float(arg)\n",
    "            \n",
    "        else:\n",
    "            super().default(arg)"
   ]
  },
  {
   "cell_type": "code",
   "execution_count": 132,
   "metadata": {},
   "outputs": [
    {
     "data": {
      "text/plain": [
       "{'quotes': [Stock: {'data_type': 'Stock', 'symbol': 'TSLA', 'date': datetime.date(2018, 11, 22), 'open': Decimal('338.19'), 'high': Decimal('338.64'), 'low': Decimal('337.60'), 'close': Decimal('338.19'), 'volume': 365607},\n",
       "  Stock: {'data_type': 'Stock', 'symbol': 'AAPL', 'date': datetime.date(2018, 11, 22), 'open': Decimal('176.66'), 'high': Decimal('177.25'), 'low': Decimal('176.64'), 'close': Decimal('176.78'), 'volume': 3699184},\n",
       "  Stock: {'data_type': 'Stock', 'symbol': 'MSFT', 'date': datetime.date(2018, 11, 22), 'open': Decimal('103.25'), 'high': Decimal('103.48'), 'low': Decimal('103.07'), 'close': Decimal('103.11'), 'volume': 4493689}],\n",
       " 'trades': [Trade: {'data_type': 'Trade', 'symbol': 'TSLA', 'timestamp': datetime.datetime(2018, 11, 22, 10, 5, 12), 'order': 'buy', 'price': Decimal('338.25'), 'commission': Decimal('9.99'), 'volume': 100},\n",
       "  Trade: {'data_type': 'Trade', 'symbol': 'AAPL', 'timestamp': datetime.datetime(2018, 11, 22, 10, 30, 5), 'order': 'sell', 'price': Decimal('177.01'), 'commission': Decimal('9.99'), 'volume': 20}]}"
      ]
     },
     "execution_count": 132,
     "metadata": {},
     "output_type": "execute_result"
    }
   ],
   "source": [
    "activity"
   ]
  },
  {
   "cell_type": "code",
   "execution_count": 133,
   "metadata": {},
   "outputs": [],
   "source": [
    "test_stock = Stock('TSLA', date(2018, 11, 22), \n",
    "              Decimal('338.19'), Decimal('338.64'), Decimal('337.60'), Decimal('338.19'), 365_607)"
   ]
  },
  {
   "cell_type": "code",
   "execution_count": null,
   "metadata": {},
   "outputs": [],
   "source": []
  },
  {
   "cell_type": "code",
   "execution_count": null,
   "metadata": {},
   "outputs": [],
   "source": []
  },
  {
   "cell_type": "code",
   "execution_count": 135,
   "metadata": {},
   "outputs": [
    {
     "name": "stdout",
     "output_type": "stream",
     "text": [
      "('{\"quotes\": [{\"data_type\": \"Stock\", \"symbol\": \"TSLA\", \"date\": \"2018-11-22\", '\n",
      " '\"open\": 338.19, \"high\": 338.64, \"low\": 337.6, \"close\": 338.19, \"volume\": '\n",
      " '365607}, {\"data_type\": \"Stock\", \"symbol\": \"AAPL\", \"date\": \"2018-11-22\", '\n",
      " '\"open\": 176.66, \"high\": 177.25, \"low\": 176.64, \"close\": 176.78, \"volume\": '\n",
      " '3699184}, {\"data_type\": \"Stock\", \"symbol\": \"MSFT\", \"date\": \"2018-11-22\", '\n",
      " '\"open\": 103.25, \"high\": 103.48, \"low\": 103.07, \"close\": 103.11, \"volume\": '\n",
      " '4493689}], \"trades\": [{\"data_type\": \"Trade\", \"symbol\": \"TSLA\", \"timestamp\": '\n",
      " '\"2018-11-22T10:05:12\", \"order\": \"buy\", \"price\": 338.25, \"commission\": 9.99, '\n",
      " '\"volume\": 100}, {\"data_type\": \"Trade\", \"symbol\": \"AAPL\", \"timestamp\": '\n",
      " '\"2018-11-22T10:30:05\", \"order\": \"sell\", \"price\": 177.01, \"commission\": 9.99, '\n",
      " '\"volume\": 20}]}')\n"
     ]
    }
   ],
   "source": [
    "pprint(json.dumps(activity, cls=CustomJSONEncoder))"
   ]
  },
  {
   "cell_type": "markdown",
   "metadata": {},
   "source": [
    "#### Exercise 2"
   ]
  },
  {
   "cell_type": "markdown",
   "metadata": {},
   "source": [
    "Write code to reverse the serialization you just created. Write a custom decoder that can deserialize a JSON structure containing `Stock` and `Trade` objects. "
   ]
  },
  {
   "cell_type": "code",
   "execution_count": null,
   "metadata": {},
   "outputs": [],
   "source": []
  }
 ],
 "metadata": {
  "kernelspec": {
   "display_name": "Python 3",
   "language": "python",
   "name": "python3"
  },
  "language_info": {
   "codemirror_mode": {
    "name": "ipython",
    "version": 3
   },
   "file_extension": ".py",
   "mimetype": "text/x-python",
   "name": "python",
   "nbconvert_exporter": "python",
   "pygments_lexer": "ipython3",
   "version": "3.7.6"
  }
 },
 "nbformat": 4,
 "nbformat_minor": 4
}
