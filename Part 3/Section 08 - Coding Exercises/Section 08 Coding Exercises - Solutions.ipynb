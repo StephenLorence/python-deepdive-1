{
 "cells": [
  {
   "cell_type": "code",
   "execution_count": 61,
   "metadata": {},
   "outputs": [],
   "source": [
    "class Stock:\n",
    "    def __init__(self, symbol, date, open_, high, low, close, volume):\n",
    "        self.data_type = 'Stock'\n",
    "        self.symbol = symbol\n",
    "        self.date = date\n",
    "        self.open = open_\n",
    "        self.high = high\n",
    "        self.low = low\n",
    "        self.close = close\n",
    "        self.volume = volume\n",
    "        \n",
    "    def __repr__(self):\n",
    "        return 'Stock: ' + str(vars(self))\n",
    "        \n",
    "class Trade:\n",
    "    def __init__(self, symbol, timestamp, order, price, volume, commission):\n",
    "        self.data_type = 'Trade'\n",
    "        self.symbol = symbol\n",
    "        self.timestamp = timestamp\n",
    "        self.order = order\n",
    "        self.price = price\n",
    "        self.commission = commission\n",
    "        self.volume = volume\n",
    "        \n",
    "    def __repr__(self):\n",
    "        return 'Trade: ' + str(vars(self))"
   ]
  },
  {
   "cell_type": "markdown",
   "metadata": {},
   "source": [
    "#### Exercise 1"
   ]
  },
  {
   "cell_type": "markdown",
   "metadata": {},
   "source": [
    "Given the above class, write a custom `JSONEncoder` class to **serialize** dictionaries that contain instances of these particular classes. Keep in mind that you will want to deserialize the data too - so you will need some technique to indicate the object type in your serialization."
   ]
  },
  {
   "cell_type": "markdown",
   "metadata": {},
   "source": [
    "For example you may have an object such as this one that needs to be serialized:"
   ]
  },
  {
   "cell_type": "code",
   "execution_count": 62,
   "metadata": {},
   "outputs": [],
   "source": [
    "from datetime import date, datetime\n",
    "from decimal import Decimal\n",
    "\n",
    "activity = {\n",
    "    \"quotes\": [\n",
    "        Stock('TSLA', date(2018, 11, 22), \n",
    "              Decimal('338.19'), Decimal('338.64'), Decimal('337.60'), Decimal('338.19'), 365_607),\n",
    "        Stock('AAPL', date(2018, 11, 22), \n",
    "              Decimal('176.66'), Decimal('177.25'), Decimal('176.64'), Decimal('176.78'), 3_699_184),\n",
    "        Stock('MSFT', date(2018, 11, 22), \n",
    "              Decimal('103.25'), Decimal('103.48'), Decimal('103.07'), Decimal('103.11'), 4_493_689)\n",
    "    ],\n",
    "    \n",
    "    \"trades\": [\n",
    "        Trade('TSLA', datetime(2018, 11, 22, 10, 5, 12), 'buy', Decimal('338.25'), 100, Decimal('9.99')),\n",
    "        Trade('AAPL', datetime(2018, 11, 22, 10, 30, 5), 'sell', Decimal('177.01'), 20, Decimal('9.99'))\n",
    "    ]\n",
    "}"
   ]
  },
  {
   "cell_type": "code",
   "execution_count": 63,
   "metadata": {},
   "outputs": [],
   "source": [
    "import json\n",
    "from pprint import pprint"
   ]
  },
  {
   "cell_type": "code",
   "execution_count": 64,
   "metadata": {},
   "outputs": [],
   "source": [
    "class CustomJSONEncoder(json.JSONEncoder):\n",
    "    def default(self, arg):\n",
    "        if isinstance(arg, (Stock, Trade)):\n",
    "            return vars(arg)\n",
    "        elif isinstance(arg, (date, datetime)):\n",
    "            return arg.isoformat()\n",
    "        elif isinstance(arg, Decimal):\n",
    "            #return float(arg)\n",
    "            return str(arg)\n",
    "            \n",
    "        else:\n",
    "            super().default(arg)"
   ]
  },
  {
   "cell_type": "code",
   "execution_count": 65,
   "metadata": {},
   "outputs": [
    {
     "data": {
      "text/plain": [
       "{'quotes': [Stock: {'data_type': 'Stock', 'symbol': 'TSLA', 'date': datetime.date(2018, 11, 22), 'open': Decimal('338.19'), 'high': Decimal('338.64'), 'low': Decimal('337.60'), 'close': Decimal('338.19'), 'volume': 365607},\n",
       "  Stock: {'data_type': 'Stock', 'symbol': 'AAPL', 'date': datetime.date(2018, 11, 22), 'open': Decimal('176.66'), 'high': Decimal('177.25'), 'low': Decimal('176.64'), 'close': Decimal('176.78'), 'volume': 3699184},\n",
       "  Stock: {'data_type': 'Stock', 'symbol': 'MSFT', 'date': datetime.date(2018, 11, 22), 'open': Decimal('103.25'), 'high': Decimal('103.48'), 'low': Decimal('103.07'), 'close': Decimal('103.11'), 'volume': 4493689}],\n",
       " 'trades': [Trade: {'data_type': 'Trade', 'symbol': 'TSLA', 'timestamp': datetime.datetime(2018, 11, 22, 10, 5, 12), 'order': 'buy', 'price': Decimal('338.25'), 'commission': Decimal('9.99'), 'volume': 100},\n",
       "  Trade: {'data_type': 'Trade', 'symbol': 'AAPL', 'timestamp': datetime.datetime(2018, 11, 22, 10, 30, 5), 'order': 'sell', 'price': Decimal('177.01'), 'commission': Decimal('9.99'), 'volume': 20}]}"
      ]
     },
     "execution_count": 65,
     "metadata": {},
     "output_type": "execute_result"
    }
   ],
   "source": [
    "activity"
   ]
  },
  {
   "cell_type": "code",
   "execution_count": 66,
   "metadata": {},
   "outputs": [],
   "source": [
    "test_stock = Stock('TSLA', date(2018, 11, 22), \n",
    "              Decimal('338.19'), Decimal('338.64'), Decimal('337.60'), Decimal('338.19'), 365_607)"
   ]
  },
  {
   "cell_type": "code",
   "execution_count": null,
   "metadata": {},
   "outputs": [],
   "source": []
  },
  {
   "cell_type": "code",
   "execution_count": null,
   "metadata": {},
   "outputs": [],
   "source": []
  },
  {
   "cell_type": "code",
   "execution_count": 67,
   "metadata": {},
   "outputs": [
    {
     "name": "stdout",
     "output_type": "stream",
     "text": [
      "('{\"quotes\": [{\"data_type\": \"Stock\", \"symbol\": \"TSLA\", \"date\": \"2018-11-22\", '\n",
      " '\"open\": \"338.19\", \"high\": \"338.64\", \"low\": \"337.60\", \"close\": \"338.19\", '\n",
      " '\"volume\": 365607}, {\"data_type\": \"Stock\", \"symbol\": \"AAPL\", \"date\": '\n",
      " '\"2018-11-22\", \"open\": \"176.66\", \"high\": \"177.25\", \"low\": \"176.64\", \"close\": '\n",
      " '\"176.78\", \"volume\": 3699184}, {\"data_type\": \"Stock\", \"symbol\": \"MSFT\", '\n",
      " '\"date\": \"2018-11-22\", \"open\": \"103.25\", \"high\": \"103.48\", \"low\": \"103.07\", '\n",
      " '\"close\": \"103.11\", \"volume\": 4493689}], \"trades\": [{\"data_type\": \"Trade\", '\n",
      " '\"symbol\": \"TSLA\", \"timestamp\": \"2018-11-22T10:05:12\", \"order\": \"buy\", '\n",
      " '\"price\": \"338.25\", \"commission\": \"9.99\", \"volume\": 100}, {\"data_type\": '\n",
      " '\"Trade\", \"symbol\": \"AAPL\", \"timestamp\": \"2018-11-22T10:30:05\", \"order\": '\n",
      " '\"sell\", \"price\": \"177.01\", \"commission\": \"9.99\", \"volume\": 20}]}')\n"
     ]
    }
   ],
   "source": [
    "pprint(json.dumps(activity, cls=CustomJSONEncoder))"
   ]
  },
  {
   "cell_type": "markdown",
   "metadata": {},
   "source": [
    "#### Exercise 2"
   ]
  },
  {
   "cell_type": "markdown",
   "metadata": {},
   "source": [
    "Write code to reverse the serialization you just created. Write a custom decoder that can deserialize a JSON structure containing `Stock` and `Trade` objects. "
   ]
  },
  {
   "cell_type": "code",
   "execution_count": 68,
   "metadata": {},
   "outputs": [],
   "source": [
    "json_activity = json.dumps(activity, cls=CustomJSONEncoder)"
   ]
  },
  {
   "cell_type": "code",
   "execution_count": 69,
   "metadata": {},
   "outputs": [
    {
     "data": {
      "text/plain": [
       "'{\"quotes\": [{\"data_type\": \"Stock\", \"symbol\": \"TSLA\", \"date\": \"2018-11-22\", \"open\": \"338.19\", \"high\": \"338.64\", \"low\": \"337.60\", \"close\": \"338.19\", \"volume\": 365607}, {\"data_type\": \"Stock\", \"symbol\": \"AAPL\", \"date\": \"2018-11-22\", \"open\": \"176.66\", \"high\": \"177.25\", \"low\": \"176.64\", \"close\": \"176.78\", \"volume\": 3699184}, {\"data_type\": \"Stock\", \"symbol\": \"MSFT\", \"date\": \"2018-11-22\", \"open\": \"103.25\", \"high\": \"103.48\", \"low\": \"103.07\", \"close\": \"103.11\", \"volume\": 4493689}], \"trades\": [{\"data_type\": \"Trade\", \"symbol\": \"TSLA\", \"timestamp\": \"2018-11-22T10:05:12\", \"order\": \"buy\", \"price\": \"338.25\", \"commission\": \"9.99\", \"volume\": 100}, {\"data_type\": \"Trade\", \"symbol\": \"AAPL\", \"timestamp\": \"2018-11-22T10:30:05\", \"order\": \"sell\", \"price\": \"177.01\", \"commission\": \"9.99\", \"volume\": 20}]}'"
      ]
     },
     "execution_count": 69,
     "metadata": {},
     "output_type": "execute_result"
    }
   ],
   "source": [
    "json_activity"
   ]
  },
  {
   "cell_type": "code",
   "execution_count": 70,
   "metadata": {},
   "outputs": [
    {
     "name": "stdout",
     "output_type": "stream",
     "text": [
      "{'quotes': [{'close': '338.19',\n",
      "             'data_type': 'Stock',\n",
      "             'date': '2018-11-22',\n",
      "             'high': '338.64',\n",
      "             'low': '337.60',\n",
      "             'open': '338.19',\n",
      "             'symbol': 'TSLA',\n",
      "             'volume': 365607},\n",
      "            {'close': '176.78',\n",
      "             'data_type': 'Stock',\n",
      "             'date': '2018-11-22',\n",
      "             'high': '177.25',\n",
      "             'low': '176.64',\n",
      "             'open': '176.66',\n",
      "             'symbol': 'AAPL',\n",
      "             'volume': 3699184},\n",
      "            {'close': '103.11',\n",
      "             'data_type': 'Stock',\n",
      "             'date': '2018-11-22',\n",
      "             'high': '103.48',\n",
      "             'low': '103.07',\n",
      "             'open': '103.25',\n",
      "             'symbol': 'MSFT',\n",
      "             'volume': 4493689}],\n",
      " 'trades': [{'commission': '9.99',\n",
      "             'data_type': 'Trade',\n",
      "             'order': 'buy',\n",
      "             'price': '338.25',\n",
      "             'symbol': 'TSLA',\n",
      "             'timestamp': '2018-11-22T10:05:12',\n",
      "             'volume': 100},\n",
      "            {'commission': '9.99',\n",
      "             'data_type': 'Trade',\n",
      "             'order': 'sell',\n",
      "             'price': '177.01',\n",
      "             'symbol': 'AAPL',\n",
      "             'timestamp': '2018-11-22T10:30:05',\n",
      "             'volume': 20}]}\n"
     ]
    }
   ],
   "source": [
    "pprint(json.loads(json_activity))"
   ]
  },
  {
   "cell_type": "code",
   "execution_count": 71,
   "metadata": {},
   "outputs": [],
   "source": [
    "class CustomJSONDecoder(json.JSONDecoder):\n",
    "    pass"
   ]
  },
  {
   "cell_type": "code",
   "execution_count": 72,
   "metadata": {},
   "outputs": [],
   "source": [
    "de = CustomJSONDecoder()"
   ]
  },
  {
   "cell_type": "code",
   "execution_count": 73,
   "metadata": {},
   "outputs": [],
   "source": [
    "td = {'data_type': 'Stock',\n",
    "   'symbol': 'TSLA',\n",
    "   'date': '2018-11-22',\n",
    "   'open': 338.19,\n",
    "   'high': 338.64,\n",
    "   'low': 337.6,\n",
    "   'close': 338.19,\n",
    "   'volume': 365607}"
   ]
  },
  {
   "cell_type": "code",
   "execution_count": 74,
   "metadata": {},
   "outputs": [
    {
     "data": {
      "text/plain": [
       "{'data_type': 'Stock',\n",
       " 'symbol': 'TSLA',\n",
       " 'date': '2018-11-22',\n",
       " 'open': 338.19,\n",
       " 'high': 338.64,\n",
       " 'low': 337.6,\n",
       " 'close': 338.19,\n",
       " 'volume': 365607}"
      ]
     },
     "execution_count": 74,
     "metadata": {},
     "output_type": "execute_result"
    }
   ],
   "source": [
    "td"
   ]
  },
  {
   "cell_type": "code",
   "execution_count": 75,
   "metadata": {},
   "outputs": [
    {
     "data": {
      "text/plain": [
       "[]"
      ]
     },
     "execution_count": 75,
     "metadata": {},
     "output_type": "execute_result"
    }
   ],
   "source": [
    "[]"
   ]
  },
  {
   "cell_type": "code",
   "execution_count": null,
   "metadata": {},
   "outputs": [],
   "source": []
  },
  {
   "cell_type": "code",
   "execution_count": 76,
   "metadata": {},
   "outputs": [
    {
     "data": {
      "text/plain": [
       "{'quotes': [{'data_type': 'Stock',\n",
       "   'symbol': 'TSLA',\n",
       "   'date': '2018-11-22',\n",
       "   'open': '338.19',\n",
       "   'high': '338.64',\n",
       "   'low': '337.60',\n",
       "   'close': '338.19',\n",
       "   'volume': 365607},\n",
       "  {'data_type': 'Stock',\n",
       "   'symbol': 'AAPL',\n",
       "   'date': '2018-11-22',\n",
       "   'open': '176.66',\n",
       "   'high': '177.25',\n",
       "   'low': '176.64',\n",
       "   'close': '176.78',\n",
       "   'volume': 3699184},\n",
       "  {'data_type': 'Stock',\n",
       "   'symbol': 'MSFT',\n",
       "   'date': '2018-11-22',\n",
       "   'open': '103.25',\n",
       "   'high': '103.48',\n",
       "   'low': '103.07',\n",
       "   'close': '103.11',\n",
       "   'volume': 4493689}],\n",
       " 'trades': [{'data_type': 'Trade',\n",
       "   'symbol': 'TSLA',\n",
       "   'timestamp': '2018-11-22T10:05:12',\n",
       "   'order': 'buy',\n",
       "   'price': '338.25',\n",
       "   'commission': '9.99',\n",
       "   'volume': 100},\n",
       "  {'data_type': 'Trade',\n",
       "   'symbol': 'AAPL',\n",
       "   'timestamp': '2018-11-22T10:30:05',\n",
       "   'order': 'sell',\n",
       "   'price': '177.01',\n",
       "   'commission': '9.99',\n",
       "   'volume': 20}]}"
      ]
     },
     "execution_count": 76,
     "metadata": {},
     "output_type": "execute_result"
    }
   ],
   "source": [
    "de.decode(json_activity)"
   ]
  },
  {
   "cell_type": "code",
   "execution_count": null,
   "metadata": {},
   "outputs": [],
   "source": []
  },
  {
   "cell_type": "code",
   "execution_count": 77,
   "metadata": {},
   "outputs": [],
   "source": [
    "import re"
   ]
  },
  {
   "cell_type": "code",
   "execution_count": 84,
   "metadata": {},
   "outputs": [],
   "source": [
    "class CustomJSONDecoder(json.JSONDecoder):\n",
    "    def decode(self, arg):\n",
    "        obj = json.loads(arg)\n",
    "        # Search for our 'Stock' schema in the raw string.\n",
    "        search_string = r'\"data_type\"\\s*:\\s*\"Stock\"'\n",
    "        # If at least one instance is found in the raw string...\n",
    "        if re.search(search_string, arg):\n",
    "            # take the dictionary and create stock items out of all\n",
    "            # eligible sub-dictionaries in the root json dictionary.\n",
    "            obj = self.make_stock(obj)\n",
    "\n",
    "        # Rinse and repeat, but looking for 'Trade' class.\n",
    "        # Search for our 'Trade' schema in the raw string.\n",
    "        search_string = r'\"data_type\"\\s*:\\s*\"Trade\"'\n",
    "        # If at least one instance is found in the raw string...\n",
    "        if re.search(search_string, arg):\n",
    "            # take the dictionary and create stock items out of all\n",
    "            # eligible sub-dictionaries in the root json dictionary.\n",
    "            obj = self.make_trade(obj)\n",
    "        return obj\n",
    "    \n",
    "    def make_stock(self, obj):\n",
    "        if isinstance(obj, dict):\n",
    "            if obj.get('data_type', None) == 'Stock':\n",
    "                # Create a Stock instance using all the items in the dictionary,\n",
    "                # minus the 'data_type': 'Stock' key:value pair.\n",
    "                obj = Stock(symbol=obj['symbol'],\n",
    "                            date=date.fromisoformat(obj['date']),\n",
    "                            open_=Decimal(str(obj['open'])),\n",
    "                            high=Decimal(str(obj['high'])),\n",
    "                            low=Decimal(str(obj['low'])),\n",
    "                            close=Decimal(str(obj['close'])),\n",
    "                            volume=obj['volume'])\n",
    "            else:\n",
    "                for key, value in obj.items():\n",
    "                    obj[key] = self.make_stock(value)\n",
    "        elif isinstance(obj, list):\n",
    "            for index, item in enumerate(obj):\n",
    "                obj[index] = self.make_stock(item)\n",
    "        return obj\n",
    "    \n",
    "    def make_trade(self, obj):\n",
    "        if isinstance(obj, dict):\n",
    "            if obj.get('data_type', None) == 'Trade':\n",
    "                # Create a Trade instance using all the items in the dictionary,\n",
    "                # minus the 'data_type': 'Trade' key:value pair.\n",
    "                obj = Trade(symbol=obj['symbol'],\n",
    "                            timestamp=datetime.fromisoformat(obj['timestamp']),\n",
    "                            order=obj['order'],\n",
    "                            price=Decimal(str(obj['price'])),\n",
    "                            commission=Decimal(str(obj['commission'])),\n",
    "                            volume=obj['volume'])\n",
    "            else:\n",
    "                for key, value in obj.items():\n",
    "                    obj[key] = self.make_trade(value)\n",
    "        elif isinstance(obj, list):\n",
    "            for index, item in enumerate(obj):\n",
    "                obj[index] = self.make_trade(item)\n",
    "        return obj\n",
    "            "
   ]
  },
  {
   "cell_type": "code",
   "execution_count": 85,
   "metadata": {},
   "outputs": [],
   "source": [
    "new_activity = json.loads(json_activity, cls=CustomJSONDecoder)"
   ]
  },
  {
   "cell_type": "code",
   "execution_count": 86,
   "metadata": {},
   "outputs": [
    {
     "name": "stdout",
     "output_type": "stream",
     "text": [
      "{'quotes': [Stock: {'data_type': 'Stock', 'symbol': 'TSLA', 'date': datetime.date(2018, 11, 22), 'open': Decimal('338.19'), 'high': Decimal('338.64'), 'low': Decimal('337.60'), 'close': Decimal('338.19'), 'volume': 365607},\n",
      "            Stock: {'data_type': 'Stock', 'symbol': 'AAPL', 'date': datetime.date(2018, 11, 22), 'open': Decimal('176.66'), 'high': Decimal('177.25'), 'low': Decimal('176.64'), 'close': Decimal('176.78'), 'volume': 3699184},\n",
      "            Stock: {'data_type': 'Stock', 'symbol': 'MSFT', 'date': datetime.date(2018, 11, 22), 'open': Decimal('103.25'), 'high': Decimal('103.48'), 'low': Decimal('103.07'), 'close': Decimal('103.11'), 'volume': 4493689}],\n",
      " 'trades': [Trade: {'data_type': 'Trade', 'symbol': 'TSLA', 'timestamp': datetime.datetime(2018, 11, 22, 10, 5, 12), 'order': 'buy', 'price': Decimal('338.25'), 'commission': Decimal('9.99'), 'volume': 100},\n",
      "            Trade: {'data_type': 'Trade', 'symbol': 'AAPL', 'timestamp': datetime.datetime(2018, 11, 22, 10, 30, 5), 'order': 'sell', 'price': Decimal('177.01'), 'commission': Decimal('9.99'), 'volume': 20}]}\n"
     ]
    }
   ],
   "source": [
    "pprint(new_activity)"
   ]
  },
  {
   "cell_type": "code",
   "execution_count": 87,
   "metadata": {},
   "outputs": [
    {
     "name": "stdout",
     "output_type": "stream",
     "text": [
      "{'quotes': [Stock: {'data_type': 'Stock', 'symbol': 'TSLA', 'date': datetime.date(2018, 11, 22), 'open': Decimal('338.19'), 'high': Decimal('338.64'), 'low': Decimal('337.60'), 'close': Decimal('338.19'), 'volume': 365607},\n",
      "            Stock: {'data_type': 'Stock', 'symbol': 'AAPL', 'date': datetime.date(2018, 11, 22), 'open': Decimal('176.66'), 'high': Decimal('177.25'), 'low': Decimal('176.64'), 'close': Decimal('176.78'), 'volume': 3699184},\n",
      "            Stock: {'data_type': 'Stock', 'symbol': 'MSFT', 'date': datetime.date(2018, 11, 22), 'open': Decimal('103.25'), 'high': Decimal('103.48'), 'low': Decimal('103.07'), 'close': Decimal('103.11'), 'volume': 4493689}],\n",
      " 'trades': [Trade: {'data_type': 'Trade', 'symbol': 'TSLA', 'timestamp': datetime.datetime(2018, 11, 22, 10, 5, 12), 'order': 'buy', 'price': Decimal('338.25'), 'commission': Decimal('9.99'), 'volume': 100},\n",
      "            Trade: {'data_type': 'Trade', 'symbol': 'AAPL', 'timestamp': datetime.datetime(2018, 11, 22, 10, 30, 5), 'order': 'sell', 'price': Decimal('177.01'), 'commission': Decimal('9.99'), 'volume': 20}]}\n"
     ]
    }
   ],
   "source": [
    "pprint(activity)"
   ]
  },
  {
   "cell_type": "code",
   "execution_count": 88,
   "metadata": {},
   "outputs": [
    {
     "data": {
      "text/plain": [
       "False"
      ]
     },
     "execution_count": 88,
     "metadata": {},
     "output_type": "execute_result"
    }
   ],
   "source": [
    "activity == new_activity"
   ]
  },
  {
   "cell_type": "markdown",
   "metadata": {},
   "source": [
    "#### Exercise 3"
   ]
  },
  {
   "cell_type": "markdown",
   "metadata": {},
   "source": [
    "Do the same serialization and deserialization, but using `Marshmallow`."
   ]
  },
  {
   "cell_type": "code",
   "execution_count": 89,
   "metadata": {},
   "outputs": [],
   "source": [
    "class Stock:\n",
    "    def __init__(self, symbol, date, open_, high, low, close, volume):\n",
    "        self.data_type = 'Stock'\n",
    "        self.symbol = symbol\n",
    "        self.date = date\n",
    "        self.open_ = open_\n",
    "        self.high = high\n",
    "        self.low = low\n",
    "        self.close = close\n",
    "        self.volume = volume\n",
    "        \n",
    "    def __repr__(self):\n",
    "        return 'Stock: ' + str(vars(self))\n",
    "        \n",
    "class Trade:\n",
    "    def __init__(self, symbol, timestamp, order, price, volume, commission):\n",
    "        self.data_type = 'Trade'\n",
    "        self.symbol = symbol\n",
    "        self.timestamp = timestamp\n",
    "        self.order = order\n",
    "        self.price = price\n",
    "        self.commission = commission\n",
    "        self.volume = volume\n",
    "        \n",
    "    def __repr__(self):\n",
    "        return 'Trade: ' + str(vars(self))"
   ]
  },
  {
   "cell_type": "code",
   "execution_count": 90,
   "metadata": {},
   "outputs": [],
   "source": [
    "from datetime import date, datetime\n",
    "from decimal import Decimal\n",
    "\n",
    "activity = {\n",
    "    \"quotes\": [\n",
    "        Stock('TSLA', date(2018, 11, 22), \n",
    "              Decimal('338.19'), Decimal('338.64'), Decimal('337.60'), Decimal('338.19'), 365_607),\n",
    "        Stock('AAPL', date(2018, 11, 22), \n",
    "              Decimal('176.66'), Decimal('177.25'), Decimal('176.64'), Decimal('176.78'), 3_699_184),\n",
    "        Stock('MSFT', date(2018, 11, 22), \n",
    "              Decimal('103.25'), Decimal('103.48'), Decimal('103.07'), Decimal('103.11'), 4_493_689)\n",
    "    ],\n",
    "    \n",
    "    \"trades\": [\n",
    "        Trade('TSLA', datetime(2018, 11, 22, 10, 5, 12), 'buy', Decimal('338.25'), 100, Decimal('9.99')),\n",
    "        Trade('AAPL', datetime(2018, 11, 22, 10, 30, 5), 'sell', Decimal('177.01'), 20, Decimal('9.99'))\n",
    "    ]\n",
    "}"
   ]
  },
  {
   "cell_type": "code",
   "execution_count": 103,
   "metadata": {},
   "outputs": [],
   "source": [
    "from marshmallow import Schema, fields, post_load\n",
    "\n",
    "class StockSchema(Schema):\n",
    "    symbol = fields.Str()\n",
    "    date = fields.Date()\n",
    "    open_ = fields.Decimal()\n",
    "    high = fields.Decimal()\n",
    "    low = fields.Decimal()\n",
    "    close = fields.Decimal()\n",
    "    volume = fields.Int()\n",
    "    \n",
    "    @post_load\n",
    "    def make_stock(self, data, **kwargs):\n",
    "        return Stock(**data)\n",
    "    \n",
    "class TradeSchema(Schema):\n",
    "    symbol = fields.Str()\n",
    "    timestamp = fields.DateTime()\n",
    "    order = fields.Str()\n",
    "    price = fields.Decimal()\n",
    "    volume = fields.Int()\n",
    "    commission = fields.Decimal()\n",
    "    \n",
    "    @post_load\n",
    "    def make_trade(self, data, **kwargs):\n",
    "        return Trade(**data)\n",
    "    \n",
    "class ActivitySchema(Schema):\n",
    "    quotes = fields.Nested(StockSchema, many=True)\n",
    "    trades = fields.Nested(TradeSchema, many=True)\n",
    "    "
   ]
  },
  {
   "cell_type": "code",
   "execution_count": 104,
   "metadata": {},
   "outputs": [],
   "source": [
    "activity_schema = ActivitySchema()"
   ]
  },
  {
   "cell_type": "code",
   "execution_count": 105,
   "metadata": {},
   "outputs": [],
   "source": [
    "activity_dump = activity_schema.dump(activity)"
   ]
  },
  {
   "cell_type": "code",
   "execution_count": 106,
   "metadata": {},
   "outputs": [
    {
     "data": {
      "text/plain": [
       "{'trades': [{'order': 'buy',\n",
       "   'timestamp': '2018-11-22T10:05:12',\n",
       "   'commission': Decimal('9.99'),\n",
       "   'price': Decimal('338.25'),\n",
       "   'symbol': 'TSLA',\n",
       "   'volume': 100},\n",
       "  {'order': 'sell',\n",
       "   'timestamp': '2018-11-22T10:30:05',\n",
       "   'commission': Decimal('9.99'),\n",
       "   'price': Decimal('177.01'),\n",
       "   'symbol': 'AAPL',\n",
       "   'volume': 20}],\n",
       " 'quotes': [{'open_': Decimal('338.19'),\n",
       "   'close': Decimal('338.19'),\n",
       "   'high': Decimal('338.64'),\n",
       "   'low': Decimal('337.60'),\n",
       "   'symbol': 'TSLA',\n",
       "   'date': '2018-11-22',\n",
       "   'volume': 365607},\n",
       "  {'open_': Decimal('176.66'),\n",
       "   'close': Decimal('176.78'),\n",
       "   'high': Decimal('177.25'),\n",
       "   'low': Decimal('176.64'),\n",
       "   'symbol': 'AAPL',\n",
       "   'date': '2018-11-22',\n",
       "   'volume': 3699184},\n",
       "  {'open_': Decimal('103.25'),\n",
       "   'close': Decimal('103.11'),\n",
       "   'high': Decimal('103.48'),\n",
       "   'low': Decimal('103.07'),\n",
       "   'symbol': 'MSFT',\n",
       "   'date': '2018-11-22',\n",
       "   'volume': 4493689}]}"
      ]
     },
     "execution_count": 106,
     "metadata": {},
     "output_type": "execute_result"
    }
   ],
   "source": [
    "activity_dump"
   ]
  },
  {
   "cell_type": "code",
   "execution_count": 110,
   "metadata": {},
   "outputs": [],
   "source": [
    "activity_load = activity_schema.load(activity_dump)"
   ]
  },
  {
   "cell_type": "code",
   "execution_count": 111,
   "metadata": {},
   "outputs": [
    {
     "data": {
      "text/plain": [
       "{'trades': [Trade: {'data_type': 'Trade', 'symbol': 'TSLA', 'timestamp': datetime.datetime(2018, 11, 22, 10, 5, 12), 'order': 'buy', 'price': Decimal('338.25'), 'commission': Decimal('9.99'), 'volume': 100},\n",
       "  Trade: {'data_type': 'Trade', 'symbol': 'AAPL', 'timestamp': datetime.datetime(2018, 11, 22, 10, 30, 5), 'order': 'sell', 'price': Decimal('177.01'), 'commission': Decimal('9.99'), 'volume': 20}],\n",
       " 'quotes': [Stock: {'data_type': 'Stock', 'symbol': 'TSLA', 'date': datetime.date(2018, 11, 22), 'open_': Decimal('338.19'), 'high': Decimal('338.64'), 'low': Decimal('337.60'), 'close': Decimal('338.19'), 'volume': 365607},\n",
       "  Stock: {'data_type': 'Stock', 'symbol': 'AAPL', 'date': datetime.date(2018, 11, 22), 'open_': Decimal('176.66'), 'high': Decimal('177.25'), 'low': Decimal('176.64'), 'close': Decimal('176.78'), 'volume': 3699184},\n",
       "  Stock: {'data_type': 'Stock', 'symbol': 'MSFT', 'date': datetime.date(2018, 11, 22), 'open_': Decimal('103.25'), 'high': Decimal('103.48'), 'low': Decimal('103.07'), 'close': Decimal('103.11'), 'volume': 4493689}]}"
      ]
     },
     "execution_count": 111,
     "metadata": {},
     "output_type": "execute_result"
    }
   ],
   "source": [
    "activity_load"
   ]
  }
 ],
 "metadata": {
  "kernelspec": {
   "display_name": "Python 3",
   "language": "python",
   "name": "python3"
  },
  "language_info": {
   "codemirror_mode": {
    "name": "ipython",
    "version": 3
   },
   "file_extension": ".py",
   "mimetype": "text/x-python",
   "name": "python",
   "nbconvert_exporter": "python",
   "pygments_lexer": "ipython3",
   "version": "3.7.6"
  }
 },
 "nbformat": 4,
 "nbformat_minor": 4
}
