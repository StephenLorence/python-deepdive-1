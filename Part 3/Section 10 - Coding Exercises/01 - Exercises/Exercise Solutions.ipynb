{
 "cells": [
  {
   "cell_type": "markdown",
   "metadata": {},
   "source": [
    "#### Exercise 1"
   ]
  },
  {
   "cell_type": "markdown",
   "metadata": {},
   "source": [
    "Let's revisit an exercise we did right after the section on dictionaries.\n",
    "\n",
    "You have text data spread across multiple servers. Each server is able to analyze this data and return a dictionary that contains words and their frequency.\n",
    "\n",
    "Your job is to combine this data to create a single dictionary that contains all the words and their combined frequencies from all these data sources. Bonus points if you can make your dictionary sorted by frequency (highest to lowest).\n",
    "\n",
    "For example, you may have three servers that each return these dictionaries:"
   ]
  },
  {
   "cell_type": "code",
   "execution_count": 39,
   "metadata": {},
   "outputs": [],
   "source": [
    "d1 = {'python': 10, 'java': 3, 'c#': 8, 'javascript': 15}\n",
    "d2 = {'java': 10, 'c++': 10, 'c#': 4, 'go': 9, 'python': 6}\n",
    "d3 = {'erlang': 5, 'haskell': 2, 'python': 1, 'pascal': 1}"
   ]
  },
  {
   "cell_type": "code",
   "execution_count": 40,
   "metadata": {},
   "outputs": [],
   "source": [
    "from collections import defaultdict, Counter"
   ]
  },
  {
   "cell_type": "code",
   "execution_count": 41,
   "metadata": {},
   "outputs": [],
   "source": [
    "def merge_default(*args):\n",
    "    d = defaultdict(int)\n",
    "    for arg in args:\n",
    "        for k, v in arg.items():\n",
    "            d[k] += v\n",
    "    return defaultdict(int, sorted(d.items(), key=lambda e: e[1], reverse=True))"
   ]
  },
  {
   "cell_type": "code",
   "execution_count": 42,
   "metadata": {},
   "outputs": [
    {
     "data": {
      "text/plain": [
       "defaultdict(int,\n",
       "            {'python': 16,\n",
       "             'javascript': 15,\n",
       "             'java': 13,\n",
       "             'c#': 12,\n",
       "             'c++': 10,\n",
       "             'go': 9})"
      ]
     },
     "execution_count": 42,
     "metadata": {},
     "output_type": "execute_result"
    }
   ],
   "source": [
    "merge_default(d1, d2)"
   ]
  },
  {
   "cell_type": "code",
   "execution_count": 43,
   "metadata": {},
   "outputs": [
    {
     "data": {
      "text/plain": [
       "defaultdict(int,\n",
       "            {'python': 17,\n",
       "             'javascript': 15,\n",
       "             'java': 13,\n",
       "             'c#': 12,\n",
       "             'c++': 10,\n",
       "             'go': 9,\n",
       "             'erlang': 5,\n",
       "             'haskell': 2,\n",
       "             'pascal': 1})"
      ]
     },
     "execution_count": 43,
     "metadata": {},
     "output_type": "execute_result"
    }
   ],
   "source": [
    "merge_default(d1, d2, d3)"
   ]
  },
  {
   "cell_type": "code",
   "execution_count": 44,
   "metadata": {},
   "outputs": [],
   "source": [
    "def merge_counter(*args):\n",
    "    d = Counter()\n",
    "    for arg in args:\n",
    "        d.update(arg)\n",
    "    return Counter(dict(d.most_common()))"
   ]
  },
  {
   "cell_type": "code",
   "execution_count": 45,
   "metadata": {},
   "outputs": [
    {
     "data": {
      "text/plain": [
       "Counter({'python': 17,\n",
       "         'javascript': 15,\n",
       "         'java': 13,\n",
       "         'c#': 12,\n",
       "         'c++': 10,\n",
       "         'go': 9,\n",
       "         'erlang': 5,\n",
       "         'haskell': 2,\n",
       "         'pascal': 1})"
      ]
     },
     "execution_count": 45,
     "metadata": {},
     "output_type": "execute_result"
    }
   ],
   "source": [
    "merge_counter(d1, d2, d3)"
   ]
  },
  {
   "cell_type": "code",
   "execution_count": 46,
   "metadata": {},
   "outputs": [
    {
     "data": {
      "text/plain": [
       "Counter({'python': 16,\n",
       "         'javascript': 15,\n",
       "         'java': 13,\n",
       "         'c#': 12,\n",
       "         'c++': 10,\n",
       "         'go': 9})"
      ]
     },
     "execution_count": 46,
     "metadata": {},
     "output_type": "execute_result"
    }
   ],
   "source": [
    "merge_counter(d1, d2)"
   ]
  },
  {
   "cell_type": "markdown",
   "metadata": {},
   "source": [
    "#### Exercise 2"
   ]
  },
  {
   "cell_type": "markdown",
   "metadata": {},
   "source": [
    "Suppose you have a list of all possible eye colors:"
   ]
  },
  {
   "cell_type": "code",
   "execution_count": 9,
   "metadata": {},
   "outputs": [],
   "source": [
    "eye_colors = (\"amber\", \"blue\", \"brown\", \"gray\", \"green\", \"hazel\", \"red\", \"violet\")"
   ]
  },
  {
   "cell_type": "markdown",
   "metadata": {},
   "source": [
    "Some other collection (say recovered from a database, or an external API) contains a list of `Person` objects that have an eye color property.\n",
    "\n",
    "Your goal is to create a dictionary that contains the number of people that have the eye color as specified in `eye_colors`. The wrinkle here is that even if no one matches some eye color, say `amber`, your dictionary should still contain an entry `\"amber\": 0`."
   ]
  },
  {
   "cell_type": "markdown",
   "metadata": {},
   "source": [
    "Here is some sample data:"
   ]
  },
  {
   "cell_type": "code",
   "execution_count": 10,
   "metadata": {},
   "outputs": [],
   "source": [
    "class Person:\n",
    "    def __init__(self, eye_color):\n",
    "        self.eye_color = eye_color"
   ]
  },
  {
   "cell_type": "code",
   "execution_count": 11,
   "metadata": {},
   "outputs": [],
   "source": [
    "from random import seed, choices\n",
    "seed(0)\n",
    "persons = [Person(color) for color in choices(eye_colors[2:], k = 50)]"
   ]
  },
  {
   "cell_type": "markdown",
   "metadata": {},
   "source": [
    "As you can see we built up a list of `Person` objects, none of which should have `amber` or `blue` eye colors"
   ]
  },
  {
   "cell_type": "markdown",
   "metadata": {},
   "source": [
    "Write a function that returns a dictionary with the correct counts for each eye color listed in `eye_colors`."
   ]
  },
  {
   "cell_type": "code",
   "execution_count": 12,
   "metadata": {},
   "outputs": [
    {
     "data": {
      "text/plain": [
       "Counter({'amber': 0,\n",
       "         'blue': 0,\n",
       "         'brown': 0,\n",
       "         'gray': 0,\n",
       "         'green': 0,\n",
       "         'hazel': 0,\n",
       "         'red': 0,\n",
       "         'violet': 0})"
      ]
     },
     "execution_count": 12,
     "metadata": {},
     "output_type": "execute_result"
    }
   ],
   "source": [
    "test = Counter(eye_colors)\n",
    "test.subtract(test)\n",
    "test"
   ]
  },
  {
   "cell_type": "code",
   "execution_count": 13,
   "metadata": {},
   "outputs": [],
   "source": [
    "def eye_color_count(eye_colors, persons):\n",
    "    # Create a Counter with the valid eye colors.\n",
    "    d = Counter(eye_colors)\n",
    "    # Set the count of each eye color to 0 by subtracting\n",
    "    # the counter from itself.\n",
    "    d.subtract(d)\n",
    "    d.update(person.eye_color for person in persons)\n",
    "    return d"
   ]
  },
  {
   "cell_type": "code",
   "execution_count": 14,
   "metadata": {},
   "outputs": [
    {
     "data": {
      "text/plain": [
       "Counter({'amber': 0,\n",
       "         'blue': 0,\n",
       "         'brown': 3,\n",
       "         'gray': 10,\n",
       "         'green': 8,\n",
       "         'hazel': 7,\n",
       "         'red': 10,\n",
       "         'violet': 12})"
      ]
     },
     "execution_count": 14,
     "metadata": {},
     "output_type": "execute_result"
    }
   ],
   "source": [
    "eye_color_count(eye_colors, persons)"
   ]
  },
  {
   "cell_type": "markdown",
   "metadata": {},
   "source": [
    "#### Exercise 3"
   ]
  },
  {
   "cell_type": "markdown",
   "metadata": {},
   "source": [
    "You are given three JSON files, representing a default set of settings, and environment specific settings.\n",
    "The files are included in the downloads, and are named:\n",
    "* `common.json`\n",
    "* `dev.json`\n",
    "* `prod.json`\n",
    "\n",
    "Your goal is to write a function that has a single argument (the environment name) and returns the \"combined\" dictionary that merges the two dictionaries together, with the environment specific settings overriding any common settings already defined.\n",
    "\n",
    "For simplicity, assume that the argument values are going to be the same as the file names, without the `.json` extension. So for example, `dev` or `prod`.\n",
    "\n",
    "The wrinkle: We don't want to duplicate data for the \"merged\" dictionary - use `ChainMap` to implement this instead."
   ]
  },
  {
   "cell_type": "code",
   "execution_count": 15,
   "metadata": {},
   "outputs": [],
   "source": [
    "import json\n",
    "from collections import ChainMap"
   ]
  },
  {
   "cell_type": "code",
   "execution_count": 16,
   "metadata": {},
   "outputs": [],
   "source": [
    "# Open a JSON file and return it as a dictionary.\n",
    "def dict_from_json_file(file_path):\n",
    "    with open(file_path) as f:\n",
    "        return json.load(f)\n",
    "        "
   ]
  },
  {
   "cell_type": "code",
   "execution_count": 17,
   "metadata": {},
   "outputs": [
    {
     "data": {
      "text/plain": [
       "{'data': {'input_root': '/dev/path/inputs',\n",
       "  'output_root': '/dev/path/outputs',\n",
       "  'numerics': {'type': 'float'},\n",
       "  'operators': {'add': '__add__'}},\n",
       " 'database': {'user': 'test', 'pwd': 'test'},\n",
       " 'logs': {'level': 'trace',\n",
       "  'format': '%(asctime)s: %(levelname)s: %(clientip)s %(user)s %(filename)s %(funcName)s %(message)s'}}"
      ]
     },
     "execution_count": 17,
     "metadata": {},
     "output_type": "execute_result"
    }
   ],
   "source": [
    "dict_from_json_file('dev.json')"
   ]
  },
  {
   "cell_type": "code",
   "execution_count": 18,
   "metadata": {},
   "outputs": [],
   "source": [
    "# Grab the appropriate dictionary for the given environment.\n",
    "def env_dict(env_name):\n",
    "    file_path = env_name + '.json'\n",
    "    return dict_from_json_file(file_path)"
   ]
  },
  {
   "cell_type": "code",
   "execution_count": 19,
   "metadata": {},
   "outputs": [
    {
     "data": {
      "text/plain": [
       "{'data': {'input_root': '$DATA_INPUT_PATH',\n",
       "  'output_root': '$DATA_OUTPUT_PATH'},\n",
       " 'database': {'user': '$PG_USER', 'pwd': '$PG_PWD'}}"
      ]
     },
     "execution_count": 19,
     "metadata": {},
     "output_type": "execute_result"
    }
   ],
   "source": [
    "env_dict('prod')"
   ]
  },
  {
   "cell_type": "code",
   "execution_count": 31,
   "metadata": {},
   "outputs": [],
   "source": [
    "def recursive_chain(a, b):\n",
    "    c = {}def env_config(env_name):\n",
    "    # Create common dictionary.\n",
    "    common = env_dict('common')\n",
    "    # Create dictionary for selected environment.\n",
    "    env = env_dict(env_name)\n",
    "    # Return a combined dictionary with env overwriting common.\n",
    "    return recursive_chain(env, common)\n",
    "    # Iterate through each key in the combined set of keys from both dicts.\n",
    "    for k in a.keys() | b.keys():\n",
    "        # If either key's value is itself a dictionary and contains any items...\n",
    "        if (a.get(k) and isinstance(a[k], dict)) or (b.get(k) and isinstance(b[k], dict)):\n",
    "            # Call the function on the next level, passing both dictionary's values.\n",
    "            # If one dictionary doesn't contain the given key, pass an empty dictionary.\n",
    "            c[k] = recursive_chain(a.get(k, {}), b.get(k, {}))\n",
    "        # Otherwise, set the value of the key in the combined dictionary equal to the\n",
    "        # value grabbed from a ChainMap of the two dictionaries.\n",
    "        else:\n",
    "            c[k] = ChainMap(a, b).get(k)\n",
    "    return c"
   ]
  },
  {
   "cell_type": "code",
   "execution_count": 47,
   "metadata": {},
   "outputs": [],
   "source": [
    "def env_config(env_name):\n",
    "    # Create common dictionary.\n",
    "    common = env_dict('common')\n",
    "    # Create dictionary for selected environment.\n",
    "    env = env_dict(env_name)\n",
    "    # Return a combined dictionary with env overwriting common.\n",
    "    return recursive_chain(env, common)"
   ]
  },
  {
   "cell_type": "code",
   "execution_count": 49,
   "metadata": {},
   "outputs": [],
   "source": [
    "def chain_recursive(d1, d2):\n",
    "    chain = ChainMap(d1, d2)\n",
    "    for k, v in d1.items():\n",
    "        if isinstance(v, dict) and k in d2:\n",
    "            chain[k] = chain_recursive(d1[k], d2[k])\n",
    "    return chain"
   ]
  },
  {
   "cell_type": "code",
   "execution_count": 50,
   "metadata": {},
   "outputs": [],
   "source": [
    "def load_settings(env_name):\n",
    "    # Create common dictionary.\n",
    "    common = env_dict('common')\n",
    "    # Create dictionary for selected environment.\n",
    "    env = env_dict(env_name)\n",
    "    # Return a combined dictionary with env overwriting common.\n",
    "    return chain_recursive(env, common)"
   ]
  },
  {
   "cell_type": "code",
   "execution_count": 57,
   "metadata": {},
   "outputs": [
    {
     "name": "stdout",
     "output_type": "stream",
     "text": [
      "{'data': {'input_root': '$DATA_INPUT_PATH',\n",
      "          'numerics': {'precision': 6, 'type': 'Decimal'},\n",
      "          'output_root': '$DATA_OUTPUT_PATH'},\n",
      " 'database': {'db_name': 'deepdive',\n",
      "              'port': 5432,\n",
      "              'pwd': '$PG_PWD',\n",
      "              'schema': 'public',\n",
      "              'user': '$PG_USER'},\n",
      " 'logs': {'format': '%(asctime)s: %(levelname)s: %(clientip)s %(user)s '\n",
      "                    '%(message)s',\n",
      "          'level': 'info'}}\n"
     ]
    }
   ],
   "source": [
    "pprint(env_config('prod'))"
   ]
  },
  {
   "cell_type": "code",
   "execution_count": 58,
   "metadata": {},
   "outputs": [
    {
     "name": "stdout",
     "output_type": "stream",
     "text": [
      "{'data': {'input_root': '/dev/path/inputs',\n",
      "          'numerics': {'precision': 6, 'type': 'float'},\n",
      "          'operators': {'add': '__add__'},\n",
      "          'output_root': '/dev/path/outputs'},\n",
      " 'database': {'db_name': 'deepdive',\n",
      "              'port': 5432,\n",
      "              'pwd': 'test',\n",
      "              'schema': 'public',\n",
      "              'user': 'test'},\n",
      " 'logs': {'format': '%(asctime)s: %(levelname)s: %(clientip)s %(user)s '\n",
      "                    '%(filename)s %(funcName)s %(message)s',\n",
      "          'level': 'trace'}}\n"
     ]
    }
   ],
   "source": [
    "pprint(env_config('dev'))"
   ]
  },
  {
   "cell_type": "code",
   "execution_count": 55,
   "metadata": {},
   "outputs": [
    {
     "name": "stdout",
     "output_type": "stream",
     "text": [
      "ChainMap({'data': ChainMap({'input_root': '$DATA_INPUT_PATH',\n",
      "                            'output_root': '$DATA_OUTPUT_PATH'},\n",
      "                           {'input_root': '/default/path/inputs',\n",
      "                            'numerics': {'precision': 6, 'type': 'Decimal'},\n",
      "                            'output_root': '/default/path/outputs'}),\n",
      "          'database': ChainMap({'pwd': '$PG_PWD', 'user': '$PG_USER'},\n",
      "                               {'db_name': 'deepdive',\n",
      "                                'port': 5432,\n",
      "                                'schema': 'public'})},\n",
      "         {'data': {'input_root': '/default/path/inputs',\n",
      "                   'numerics': {'precision': 6, 'type': 'Decimal'},\n",
      "                   'output_root': '/default/path/outputs'},\n",
      "          'database': {'db_name': 'deepdive', 'port': 5432, 'schema': 'public'},\n",
      "          'logs': {'format': '%(asctime)s: %(levelname)s: %(clientip)s '\n",
      "                             '%(user)s %(message)s',\n",
      "                   'level': 'info'}})\n"
     ]
    }
   ],
   "source": [
    "pprint(load_settings('prod'))"
   ]
  },
  {
   "cell_type": "code",
   "execution_count": 56,
   "metadata": {},
   "outputs": [
    {
     "name": "stdout",
     "output_type": "stream",
     "text": [
      "ChainMap({'data': ChainMap({'input_root': '/dev/path/inputs',\n",
      "                            'numerics': ChainMap({'type': 'float'},\n",
      "                                                 {'precision': 6,\n",
      "                                                  'type': 'Decimal'}),\n",
      "                            'operators': {'add': '__add__'},\n",
      "                            'output_root': '/dev/path/outputs'},\n",
      "                           {'input_root': '/default/path/inputs',\n",
      "                            'numerics': {'precision': 6, 'type': 'Decimal'},\n",
      "                            'output_root': '/default/path/outputs'}),\n",
      "          'database': ChainMap({'pwd': 'test', 'user': 'test'},\n",
      "                               {'db_name': 'deepdive',\n",
      "                                'port': 5432,\n",
      "                                'schema': 'public'}),\n",
      "          'logs': ChainMap({'format': '%(asctime)s: %(levelname)s: '\n",
      "                                      '%(clientip)s %(user)s %(filename)s '\n",
      "                                      '%(funcName)s %(message)s',\n",
      "                            'level': 'trace'},\n",
      "                           {'format': '%(asctime)s: %(levelname)s: '\n",
      "                                      '%(clientip)s %(user)s %(message)s',\n",
      "                            'level': 'info'})},\n",
      "         {'data': {'input_root': '/default/path/inputs',\n",
      "                   'numerics': {'precision': 6, 'type': 'Decimal'},\n",
      "                   'output_root': '/default/path/outputs'},\n",
      "          'database': {'db_name': 'deepdive', 'port': 5432, 'schema': 'public'},\n",
      "          'logs': {'format': '%(asctime)s: %(levelname)s: %(clientip)s '\n",
      "                             '%(user)s %(message)s',\n",
      "                   'level': 'info'}})\n"
     ]
    }
   ],
   "source": [
    "pprint(load_settings('dev'))"
   ]
  },
  {
   "cell_type": "code",
   "execution_count": 59,
   "metadata": {},
   "outputs": [],
   "source": [
    "dev_settings = load_settings('dev')"
   ]
  },
  {
   "cell_type": "code",
   "execution_count": 61,
   "metadata": {},
   "outputs": [
    {
     "data": {
      "text/plain": [
       "'float'"
      ]
     },
     "execution_count": 61,
     "metadata": {},
     "output_type": "execute_result"
    }
   ],
   "source": [
    "dev_settings['data']['numerics']['type']"
   ]
  },
  {
   "cell_type": "code",
   "execution_count": null,
   "metadata": {},
   "outputs": [],
   "source": []
  }
 ],
 "metadata": {
  "kernelspec": {
   "display_name": "Python 3",
   "language": "python",
   "name": "python3"
  },
  "language_info": {
   "codemirror_mode": {
    "name": "ipython",
    "version": 3
   },
   "file_extension": ".py",
   "mimetype": "text/x-python",
   "name": "python",
   "nbconvert_exporter": "python",
   "pygments_lexer": "ipython3",
   "version": "3.7.6"
  }
 },
 "nbformat": 4,
 "nbformat_minor": 4
}
