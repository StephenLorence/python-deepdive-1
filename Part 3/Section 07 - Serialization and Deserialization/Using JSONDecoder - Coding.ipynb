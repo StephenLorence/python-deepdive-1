{
 "cells": [
  {
   "cell_type": "code",
   "execution_count": 1,
   "metadata": {},
   "outputs": [],
   "source": [
    "import json"
   ]
  },
  {
   "cell_type": "code",
   "execution_count": 2,
   "metadata": {},
   "outputs": [],
   "source": [
    "j = '''\n",
    "{\n",
    "    \"a\": 100,\n",
    "    \"b\": [1, 2, 3],\n",
    "    \"c\": \"python\",\n",
    "    \"d\": {\n",
    "        \"e\": 4,\n",
    "        \"f\": 5.5\n",
    "    }\n",
    "}\n",
    "'''"
   ]
  },
  {
   "cell_type": "code",
   "execution_count": 3,
   "metadata": {},
   "outputs": [],
   "source": [
    "class CustomDecoder(json.JSONDecoder):\n",
    "    def decode(self, arg):\n",
    "        print(\"decode: \", type(arg), arg)\n",
    "        return \"a simple string object\""
   ]
  },
  {
   "cell_type": "code",
   "execution_count": 5,
   "metadata": {},
   "outputs": [
    {
     "name": "stdout",
     "output_type": "stream",
     "text": [
      "decode:  <class 'str'> \n",
      "{\n",
      "    \"a\": 100,\n",
      "    \"b\": [1, 2, 3],\n",
      "    \"c\": \"python\",\n",
      "    \"d\": {\n",
      "        \"e\": 4,\n",
      "        \"f\": 5.5\n",
      "    }\n",
      "}\n",
      "\n"
     ]
    }
   ],
   "source": [
    "result = json.loads(j, cls=CustomDecoder)"
   ]
  },
  {
   "cell_type": "code",
   "execution_count": 6,
   "metadata": {},
   "outputs": [
    {
     "data": {
      "text/plain": [
       "'a simple string object'"
      ]
     },
     "execution_count": 6,
     "metadata": {},
     "output_type": "execute_result"
    }
   ],
   "source": [
    "result"
   ]
  },
  {
   "cell_type": "code",
   "execution_count": 7,
   "metadata": {},
   "outputs": [],
   "source": [
    "class Point:\n",
    "    def __init__(self, x, y):\n",
    "        self.x = x,\n",
    "        self.y = y,\n",
    "        \n",
    "    def __repr__(self):\n",
    "        return f'Point(x={self.x}, y={self.y})'"
   ]
  },
  {
   "cell_type": "code",
   "execution_count": 9,
   "metadata": {},
   "outputs": [],
   "source": [
    "j_points = '''\n",
    "{\n",
    "    \"points\": [\n",
    "        [10, 20],\n",
    "        [-1, -2],\n",
    "        [0.5, 0.5]\n",
    "    ]\n",
    "}\n",
    "'''\n",
    "\n",
    "j_other = '''\n",
    "{\n",
    "    \"a\": 1,\n",
    "    \"b\": 2\n",
    "}\n",
    "'''"
   ]
  },
  {
   "cell_type": "code",
   "execution_count": 15,
   "metadata": {},
   "outputs": [],
   "source": [
    "class CustomDecoder(json.JSONDecoder):\n",
    "    def decode(self, arg):\n",
    "        if 'points' in arg:\n",
    "            obj = json.loads(arg)\n",
    "            return \"parsing object for points\"\n",
    "        else:\n",
    "            return json.loads(arg)"
   ]
  },
  {
   "cell_type": "code",
   "execution_count": 16,
   "metadata": {},
   "outputs": [
    {
     "data": {
      "text/plain": [
       "'parsing object for points'"
      ]
     },
     "execution_count": 16,
     "metadata": {},
     "output_type": "execute_result"
    }
   ],
   "source": [
    "json.loads(j_points, cls=CustomDecoder)"
   ]
  },
  {
   "cell_type": "code",
   "execution_count": 17,
   "metadata": {},
   "outputs": [
    {
     "data": {
      "text/plain": [
       "{'a': 1, 'b': 2}"
      ]
     },
     "execution_count": 17,
     "metadata": {},
     "output_type": "execute_result"
    }
   ],
   "source": [
    "json.loads(j_other, cls=CustomDecoder)"
   ]
  },
  {
   "cell_type": "code",
   "execution_count": 18,
   "metadata": {},
   "outputs": [],
   "source": [
    "class CustomDecoder(json.JSONDecoder):\n",
    "    def decode(self, arg):\n",
    "        obj = json.loads(arg)\n",
    "        if 'points' in obj:\n",
    "            obj['points'] = [Point(x, y)\n",
    "                            for x, y in obj['points']]\n",
    "        return obj"
   ]
  },
  {
   "cell_type": "code",
   "execution_count": 19,
   "metadata": {},
   "outputs": [
    {
     "data": {
      "text/plain": [
       "{'points': [Point(x=(10,), y=(20,)),\n",
       "  Point(x=(-1,), y=(-2,)),\n",
       "  Point(x=(0.5,), y=(0.5,))]}"
      ]
     },
     "execution_count": 19,
     "metadata": {},
     "output_type": "execute_result"
    }
   ],
   "source": [
    "json.loads(j_points, cls=CustomDecoder)"
   ]
  },
  {
   "cell_type": "code",
   "execution_count": 21,
   "metadata": {},
   "outputs": [
    {
     "data": {
      "text/plain": [
       "{'a': 1, 'b': 2}"
      ]
     },
     "execution_count": 21,
     "metadata": {},
     "output_type": "execute_result"
    }
   ],
   "source": [
    "json.loads(j_other, cls=CustomDecoder)"
   ]
  },
  {
   "cell_type": "code",
   "execution_count": 22,
   "metadata": {},
   "outputs": [
    {
     "data": {
      "text/plain": [
       "{'a': 100, 'b': [1, 2, 3], 'c': 'python', 'd': {'e': 4, 'f': 5.5}}"
      ]
     },
     "execution_count": 22,
     "metadata": {},
     "output_type": "execute_result"
    }
   ],
   "source": [
    "json.loads(j, cls=CustomDecoder)"
   ]
  },
  {
   "cell_type": "markdown",
   "metadata": {},
   "source": [
    "```{\"_type\": \"point\", \"x\": x-coord, \"y\": y-coord}```"
   ]
  },
  {
   "cell_type": "code",
   "execution_count": 23,
   "metadata": {},
   "outputs": [],
   "source": [
    "import re"
   ]
  },
  {
   "cell_type": "code",
   "execution_count": 24,
   "metadata": {},
   "outputs": [],
   "source": [
    "pattern = r'\"_type\"\\s*:\\s*\"point\"'"
   ]
  },
  {
   "cell_type": "markdown",
   "metadata": {},
   "source": [
    "r' = 'raw string'\n",
    "\n",
    "Python won't interpret things like \\t or \\n as tabs or new lines. They'll simply print literally."
   ]
  },
  {
   "cell_type": "code",
   "execution_count": 25,
   "metadata": {},
   "outputs": [
    {
     "name": "stdout",
     "output_type": "stream",
     "text": [
      "word\tword\n"
     ]
    }
   ],
   "source": [
    "print('word\\tword')"
   ]
  },
  {
   "cell_type": "code",
   "execution_count": 26,
   "metadata": {},
   "outputs": [
    {
     "name": "stdout",
     "output_type": "stream",
     "text": [
      "word\\tword\n"
     ]
    }
   ],
   "source": [
    "print(r'word\\tword')"
   ]
  },
  {
   "cell_type": "code",
   "execution_count": 27,
   "metadata": {},
   "outputs": [],
   "source": [
    "regexp = re.compile(pattern)"
   ]
  },
  {
   "cell_type": "code",
   "execution_count": 28,
   "metadata": {},
   "outputs": [
    {
     "name": "stdout",
     "output_type": "stream",
     "text": [
      "None\n"
     ]
    }
   ],
   "source": [
    "print(regexp.search('\"a\": 1'))"
   ]
  },
  {
   "cell_type": "code",
   "execution_count": 31,
   "metadata": {},
   "outputs": [
    {
     "name": "stdout",
     "output_type": "stream",
     "text": [
      "<re.Match object; span=(0, 21), match='\"_type\" :   \\t \"point\"'>\n"
     ]
    }
   ],
   "source": [
    "print(regexp.search('\"_type\" :   \\t \"point\"'))"
   ]
  },
  {
   "cell_type": "code",
   "execution_count": 33,
   "metadata": {},
   "outputs": [
    {
     "data": {
      "text/plain": [
       "<re.Match object; span=(0, 21), match='\"_type\" :   \\t \"point\"'>"
      ]
     },
     "execution_count": 33,
     "metadata": {},
     "output_type": "execute_result"
    }
   ],
   "source": [
    "re.search(r'\"_type\"\\s*:\\s*\"point\"', '\"_type\" :   \\t \"point\"')"
   ]
  },
  {
   "cell_type": "code",
   "execution_count": 34,
   "metadata": {},
   "outputs": [],
   "source": [
    "class CustomDecoder(json.JSONDecoder):\n",
    "    def decode(self, arg):\n",
    "        obj = json.loads(arg)\n",
    "        pattern = r'\"_type\"\\s*:\\s*\"point\"'\n",
    "        if re.search(pattern, arg):\n",
    "            obj = self.make_pts(obj)\n",
    "        return obj\n",
    "    \n",
    "    def make_pts(self, obj):\n",
    "        if isinstance(obj, dict):\n",
    "            if obj.get('_type', None) == 'point':\n",
    "                obj = Point(obj['x'], obj['y'])\n",
    "            else:\n",
    "                for key, value in obj.items():\n",
    "                    obj[key] = self.make_pts(value)\n",
    "        elif isinstance(obj, list):\n",
    "            for index, item in enumerate(obj):\n",
    "                obj[index] = self.make_pts(item)\n",
    "        return obj"
   ]
  },
  {
   "cell_type": "code",
   "execution_count": 58,
   "metadata": {},
   "outputs": [],
   "source": [
    "j = '''\n",
    "{\n",
    "    \"a\": 100,\n",
    "    \"b\": 0.5,\n",
    "    \"rectangle\": {\n",
    "        \"corners\": {\n",
    "            \"b_left\": {\"_type\": \"point\", \"x\": -1, \"y\": -1},\n",
    "            \"b_right\": {\"_type\": \"point\", \"x\": 1, \"y\": -1},\n",
    "            \"t_left\": {\"_type\": \"point\", \"x\": -1, \"y\": 1},\n",
    "            \"t_right\": {\"_type\": \"point\", \"x\": 1, \"y\": 1}\n",
    "        },\n",
    "        \"rotate\": {\"_type\" : \"point\", \"x\": 0, \"y\": 0},\n",
    "        \"interior_pts\": [\n",
    "            {\"_type\": \"point\", \"x\": 0, \"y\": 0},\n",
    "            {\"_type\": \"point\", \"x\": 0.5, \"y\": 0.5}\n",
    "        ]\n",
    "    }\n",
    "}\n",
    "'''"
   ]
  },
  {
   "cell_type": "code",
   "execution_count": 62,
   "metadata": {},
   "outputs": [],
   "source": [
    "def make_pts(obj):\n",
    "    if isinstance(obj, dict):\n",
    "        if obj.get('_type', None) == 'point':\n",
    "            obj = Point(obj['x'], obj['y'])\n",
    "        else:\n",
    "            for key, value in obj.items():\n",
    "                obj[key] = make_pts(value)\n",
    "    elif isinstance(obj, list):\n",
    "        for index, item in enumerate(obj):\n",
    "            obj[index] = make_pts(item)\n",
    "    return obj"
   ]
  },
  {
   "cell_type": "code",
   "execution_count": 69,
   "metadata": {},
   "outputs": [
    {
     "data": {
      "text/plain": [
       "Point(x=(1,), y=(1,))"
      ]
     },
     "execution_count": 69,
     "metadata": {},
     "output_type": "execute_result"
    }
   ],
   "source": [
    "make_pts({\"_type\": \"point\", \"x\": 1, \"y\": 1})"
   ]
  },
  {
   "cell_type": "code",
   "execution_count": 70,
   "metadata": {},
   "outputs": [],
   "source": [
    "d = {\"_type\": \"point\", \"x\": 1, \"y\": 1}"
   ]
  },
  {
   "cell_type": "code",
   "execution_count": 75,
   "metadata": {},
   "outputs": [
    {
     "data": {
      "text/plain": [
       "Point(x=(1,), y=(1,))"
      ]
     },
     "execution_count": 75,
     "metadata": {},
     "output_type": "execute_result"
    }
   ],
   "source": [
    "Point(d['x'], d['y'])"
   ]
  },
  {
   "cell_type": "code",
   "execution_count": 67,
   "metadata": {},
   "outputs": [],
   "source": [
    "p = Point(1, 1)"
   ]
  },
  {
   "cell_type": "code",
   "execution_count": 77,
   "metadata": {},
   "outputs": [
    {
     "data": {
      "text/plain": [
       "tuple"
      ]
     },
     "execution_count": 77,
     "metadata": {},
     "output_type": "execute_result"
    }
   ],
   "source": [
    "type(p.x)"
   ]
  },
  {
   "cell_type": "code",
   "execution_count": 78,
   "metadata": {},
   "outputs": [],
   "source": [
    "class Point:\n",
    "    def __init__(self, x, y):\n",
    "        self.x = x\n",
    "        self.y = y\n",
    "        \n",
    "    def __repr__(self):\n",
    "        return f'Point(x={self.x}, y={self.y})'"
   ]
  },
  {
   "cell_type": "code",
   "execution_count": 79,
   "metadata": {},
   "outputs": [
    {
     "data": {
      "text/plain": [
       "{'a': 100,\n",
       " 'b': 0.5,\n",
       " 'rectangle': {'corners': {'b_left': {'_type': 'point', 'x': -1, 'y': -1},\n",
       "   'b_right': {'_type': 'point', 'x': 1, 'y': -1},\n",
       "   't_left': {'_type': 'point', 'x': -1, 'y': 1},\n",
       "   't_right': {'_type': 'point', 'x': 1, 'y': 1}},\n",
       "  'rotate': {'_type': 'point', 'x': 0, 'y': 0},\n",
       "  'interior_pts': [{'_type': 'point', 'x': 0, 'y': 0},\n",
       "   {'_type': 'point', 'x': 0.5, 'y': 0.5}]}}"
      ]
     },
     "execution_count": 79,
     "metadata": {},
     "output_type": "execute_result"
    }
   ],
   "source": [
    "json.loads(j)"
   ]
  },
  {
   "cell_type": "code",
   "execution_count": 80,
   "metadata": {},
   "outputs": [
    {
     "name": "stdout",
     "output_type": "stream",
     "text": [
      "{'a': 100,\n",
      " 'b': Decimal('0.5'),\n",
      " 'rectangle': {'corners': {'b_left': Point(x=-1, y=-1),\n",
      "                           'b_right': Point(x=1, y=-1),\n",
      "                           't_left': Point(x=-1, y=1),\n",
      "                           't_right': Point(x=1, y=1)},\n",
      "               'interior_pts': [Point(x=0, y=0), Point(x=0.5, y=0.5)],\n",
      "               'rotate': Point(x=0, y=0)}}\n"
     ]
    }
   ],
   "source": [
    "from pprint import pprint\n",
    "pprint(json.loads(j, cls=CustomDecoder))"
   ]
  },
  {
   "cell_type": "code",
   "execution_count": 81,
   "metadata": {},
   "outputs": [],
   "source": [
    "from decimal import Decimal"
   ]
  },
  {
   "cell_type": "code",
   "execution_count": 82,
   "metadata": {},
   "outputs": [],
   "source": [
    "CustomDecoder = json.JSONDecoder(parse_float=Decimal)"
   ]
  },
  {
   "cell_type": "code",
   "execution_count": 83,
   "metadata": {},
   "outputs": [],
   "source": [
    "d = CustomDecoder.decode(j)"
   ]
  },
  {
   "cell_type": "code",
   "execution_count": 84,
   "metadata": {},
   "outputs": [
    {
     "name": "stdout",
     "output_type": "stream",
     "text": [
      "{'a': 100,\n",
      " 'b': Decimal('0.5'),\n",
      " 'rectangle': {'corners': {'b_left': {'_type': 'point', 'x': -1, 'y': -1},\n",
      "                           'b_right': {'_type': 'point', 'x': 1, 'y': -1},\n",
      "                           't_left': {'_type': 'point', 'x': -1, 'y': 1},\n",
      "                           't_right': {'_type': 'point', 'x': 1, 'y': 1}},\n",
      "               'interior_pts': [{'_type': 'point', 'x': 0, 'y': 0},\n",
      "                                {'_type': 'point',\n",
      "                                 'x': Decimal('0.5'),\n",
      "                                 'y': Decimal('0.5')}],\n",
      "               'rotate': {'_type': 'point', 'x': 0, 'y': 0}}}\n"
     ]
    }
   ],
   "source": [
    "pprint(d)"
   ]
  },
  {
   "cell_type": "code",
   "execution_count": 85,
   "metadata": {},
   "outputs": [],
   "source": [
    "class CustomDecoder(json.JSONDecoder):\n",
    "    def __init__(self, *args, **kwargs):\n",
    "        super().__init__(parse_float=Decimal)\n",
    "    \n",
    "    def decode(self, arg):\n",
    "        obj = super().decode(arg)\n",
    "        pattern = r'\"_type\"\\s*:\\s*\"point\"'\n",
    "        if re.search(pattern, arg):\n",
    "            obj = self.make_pts(obj)\n",
    "        return obj\n",
    "    \n",
    "    def make_pts(self, obj):\n",
    "        if isinstance(obj, dict):\n",
    "            if obj.get('_type', None) == 'point':\n",
    "                obj = Point(obj['x'], obj['y'])\n",
    "            else:\n",
    "                for key, value in obj.items():\n",
    "                    obj[key] = self.make_pts(value)\n",
    "        elif isinstance(obj, list):\n",
    "            for index, item in enumerate(obj):\n",
    "                obj[index] = self.make_pts(item)\n",
    "        return obj"
   ]
  },
  {
   "cell_type": "code",
   "execution_count": 86,
   "metadata": {},
   "outputs": [
    {
     "name": "stdout",
     "output_type": "stream",
     "text": [
      "{'a': 100,\n",
      " 'b': Decimal('0.5'),\n",
      " 'rectangle': {'corners': {'b_left': Point(x=-1, y=-1),\n",
      "                           'b_right': Point(x=1, y=-1),\n",
      "                           't_left': Point(x=-1, y=1),\n",
      "                           't_right': Point(x=1, y=1)},\n",
      "               'interior_pts': [Point(x=0, y=0), Point(x=0.5, y=0.5)],\n",
      "               'rotate': Point(x=0, y=0)}}\n"
     ]
    }
   ],
   "source": [
    "pprint(json.loads(j, cls=CustomDecoder))"
   ]
  },
  {
   "cell_type": "code",
   "execution_count": 91,
   "metadata": {},
   "outputs": [],
   "source": [
    "result = json.loads(j, cls=CustomDecoder)"
   ]
  },
  {
   "cell_type": "code",
   "execution_count": 93,
   "metadata": {},
   "outputs": [
    {
     "name": "stdout",
     "output_type": "stream",
     "text": [
      "{'a': 100,\n",
      " 'b': Decimal('0.5'),\n",
      " 'rectangle': {'corners': {'b_left': Point(x=-1, y=-1),\n",
      "                           'b_right': Point(x=1, y=-1),\n",
      "                           't_left': Point(x=-1, y=1),\n",
      "                           't_right': Point(x=1, y=1)},\n",
      "               'interior_pts': [Point(x=0, y=0), Point(x=0.5, y=0.5)],\n",
      "               'rotate': Point(x=0, y=0)}}\n"
     ]
    }
   ],
   "source": [
    "pprint(result)"
   ]
  },
  {
   "cell_type": "code",
   "execution_count": 94,
   "metadata": {},
   "outputs": [
    {
     "name": "stdout",
     "output_type": "stream",
     "text": [
      "<class 'decimal.Decimal'>\n"
     ]
    }
   ],
   "source": [
    "pt = result['rectangle']['interior_pts'][1]\n",
    "pprint(type(pt.y))"
   ]
  },
  {
   "cell_type": "code",
   "execution_count": 89,
   "metadata": {},
   "outputs": [
    {
     "data": {
      "text/plain": [
       "decimal.Decimal"
      ]
     },
     "execution_count": 89,
     "metadata": {},
     "output_type": "execute_result"
    }
   ],
   "source": [
    "type(pt.x)"
   ]
  },
  {
   "cell_type": "code",
   "execution_count": 90,
   "metadata": {},
   "outputs": [
    {
     "ename": "TypeError",
     "evalue": "'decimal.Decimal' object is not subscriptable",
     "output_type": "error",
     "traceback": [
      "\u001b[1;31m---------------------------------------------------------------------------\u001b[0m",
      "\u001b[1;31mTypeError\u001b[0m                                 Traceback (most recent call last)",
      "\u001b[1;32m<ipython-input-90-28af3bf34f86>\u001b[0m in \u001b[0;36m<module>\u001b[1;34m\u001b[0m\n\u001b[1;32m----> 1\u001b[1;33m \u001b[0mpt\u001b[0m\u001b[1;33m.\u001b[0m\u001b[0mx\u001b[0m\u001b[1;33m[\u001b[0m\u001b[1;36m1\u001b[0m\u001b[1;33m]\u001b[0m\u001b[1;33m\u001b[0m\u001b[1;33m\u001b[0m\u001b[0m\n\u001b[0m",
      "\u001b[1;31mTypeError\u001b[0m: 'decimal.Decimal' object is not subscriptable"
     ]
    }
   ],
   "source": [
    "pt.x[1]"
   ]
  },
  {
   "cell_type": "code",
   "execution_count": null,
   "metadata": {},
   "outputs": [],
   "source": []
  },
  {
   "cell_type": "code",
   "execution_count": null,
   "metadata": {},
   "outputs": [],
   "source": []
  }
 ],
 "metadata": {
  "kernelspec": {
   "display_name": "Python 3",
   "language": "python",
   "name": "python3"
  },
  "language_info": {
   "codemirror_mode": {
    "name": "ipython",
    "version": 3
   },
   "file_extension": ".py",
   "mimetype": "text/x-python",
   "name": "python",
   "nbconvert_exporter": "python",
   "pygments_lexer": "ipython3",
   "version": "3.7.6"
  }
 },
 "nbformat": 4,
 "nbformat_minor": 4
}
