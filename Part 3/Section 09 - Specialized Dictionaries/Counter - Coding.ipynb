{
 "cells": [
  {
   "cell_type": "code",
   "execution_count": 4,
   "metadata": {},
   "outputs": [],
   "source": [
    "from collections import defaultdict, Counter"
   ]
  },
  {
   "cell_type": "code",
   "execution_count": 5,
   "metadata": {},
   "outputs": [],
   "source": [
    "sentence = 'the quick brown fox jumps over the lazy dog'"
   ]
  },
  {
   "cell_type": "code",
   "execution_count": 6,
   "metadata": {},
   "outputs": [],
   "source": [
    "counter = defaultdict(int)"
   ]
  },
  {
   "cell_type": "code",
   "execution_count": 7,
   "metadata": {},
   "outputs": [],
   "source": [
    "for c in sentence:\n",
    "    counter[c] += 1"
   ]
  },
  {
   "cell_type": "code",
   "execution_count": 8,
   "metadata": {},
   "outputs": [
    {
     "data": {
      "text/plain": [
       "defaultdict(int,\n",
       "            {'t': 2,\n",
       "             'h': 2,\n",
       "             'e': 3,\n",
       "             ' ': 8,\n",
       "             'q': 1,\n",
       "             'u': 2,\n",
       "             'i': 1,\n",
       "             'c': 1,\n",
       "             'k': 1,\n",
       "             'b': 1,\n",
       "             'r': 2,\n",
       "             'o': 4,\n",
       "             'w': 1,\n",
       "             'n': 1,\n",
       "             'f': 1,\n",
       "             'x': 1,\n",
       "             'j': 1,\n",
       "             'm': 1,\n",
       "             'p': 1,\n",
       "             's': 1,\n",
       "             'v': 1,\n",
       "             'l': 1,\n",
       "             'a': 1,\n",
       "             'z': 1,\n",
       "             'y': 1,\n",
       "             'd': 1,\n",
       "             'g': 1})"
      ]
     },
     "execution_count": 8,
     "metadata": {},
     "output_type": "execute_result"
    }
   ],
   "source": [
    "counter"
   ]
  },
  {
   "cell_type": "code",
   "execution_count": 9,
   "metadata": {},
   "outputs": [],
   "source": [
    "counter = Counter()"
   ]
  },
  {
   "cell_type": "code",
   "execution_count": 10,
   "metadata": {},
   "outputs": [],
   "source": [
    "for c in sentence:\n",
    "    counter[c] += 1"
   ]
  },
  {
   "cell_type": "code",
   "execution_count": 11,
   "metadata": {},
   "outputs": [
    {
     "data": {
      "text/plain": [
       "Counter({'t': 2,\n",
       "         'h': 2,\n",
       "         'e': 3,\n",
       "         ' ': 8,\n",
       "         'q': 1,\n",
       "         'u': 2,\n",
       "         'i': 1,\n",
       "         'c': 1,\n",
       "         'k': 1,\n",
       "         'b': 1,\n",
       "         'r': 2,\n",
       "         'o': 4,\n",
       "         'w': 1,\n",
       "         'n': 1,\n",
       "         'f': 1,\n",
       "         'x': 1,\n",
       "         'j': 1,\n",
       "         'm': 1,\n",
       "         'p': 1,\n",
       "         's': 1,\n",
       "         'v': 1,\n",
       "         'l': 1,\n",
       "         'a': 1,\n",
       "         'z': 1,\n",
       "         'y': 1,\n",
       "         'd': 1,\n",
       "         'g': 1})"
      ]
     },
     "execution_count": 11,
     "metadata": {},
     "output_type": "execute_result"
    }
   ],
   "source": [
    "counter"
   ]
  },
  {
   "cell_type": "code",
   "execution_count": 12,
   "metadata": {},
   "outputs": [],
   "source": [
    "c1 = Counter('able was I ere I saw elba')"
   ]
  },
  {
   "cell_type": "code",
   "execution_count": 13,
   "metadata": {},
   "outputs": [
    {
     "data": {
      "text/plain": [
       "Counter({'a': 4,\n",
       "         'b': 2,\n",
       "         'l': 2,\n",
       "         'e': 4,\n",
       "         ' ': 6,\n",
       "         'w': 2,\n",
       "         's': 2,\n",
       "         'I': 2,\n",
       "         'r': 1})"
      ]
     },
     "execution_count": 13,
     "metadata": {},
     "output_type": "execute_result"
    }
   ],
   "source": [
    "c1"
   ]
  },
  {
   "cell_type": "code",
   "execution_count": 15,
   "metadata": {},
   "outputs": [],
   "source": [
    "c1 = Counter([1, 2, 2, 3, 4, 5, 5, 5, 6])"
   ]
  },
  {
   "cell_type": "code",
   "execution_count": 16,
   "metadata": {},
   "outputs": [
    {
     "data": {
      "text/plain": [
       "Counter({1: 1, 2: 2, 3: 1, 4: 1, 5: 3, 6: 1})"
      ]
     },
     "execution_count": 16,
     "metadata": {},
     "output_type": "execute_result"
    }
   ],
   "source": [
    "c1"
   ]
  },
  {
   "cell_type": "code",
   "execution_count": 17,
   "metadata": {},
   "outputs": [],
   "source": [
    "import random\n",
    "random.seed(0)"
   ]
  },
  {
   "cell_type": "code",
   "execution_count": 18,
   "metadata": {},
   "outputs": [],
   "source": [
    "my_list = [random.randint(0, 10) for _ in range(1_000)]"
   ]
  },
  {
   "cell_type": "code",
   "execution_count": 20,
   "metadata": {},
   "outputs": [],
   "source": [
    "c2 = Counter(my_list)"
   ]
  },
  {
   "cell_type": "code",
   "execution_count": 21,
   "metadata": {},
   "outputs": [
    {
     "data": {
      "text/plain": [
       "Counter({6: 95,\n",
       "         0: 97,\n",
       "         4: 91,\n",
       "         8: 76,\n",
       "         7: 94,\n",
       "         5: 89,\n",
       "         9: 85,\n",
       "         3: 80,\n",
       "         2: 88,\n",
       "         1: 107,\n",
       "         10: 98})"
      ]
     },
     "execution_count": 21,
     "metadata": {},
     "output_type": "execute_result"
    }
   ],
   "source": [
    "c2"
   ]
  },
  {
   "cell_type": "code",
   "execution_count": 22,
   "metadata": {},
   "outputs": [],
   "source": [
    "c2 = Counter(a=1, b=10)"
   ]
  },
  {
   "cell_type": "code",
   "execution_count": 23,
   "metadata": {},
   "outputs": [
    {
     "data": {
      "text/plain": [
       "Counter({'a': 1, 'b': 10})"
      ]
     },
     "execution_count": 23,
     "metadata": {},
     "output_type": "execute_result"
    }
   ],
   "source": [
    "c2"
   ]
  },
  {
   "cell_type": "code",
   "execution_count": 24,
   "metadata": {},
   "outputs": [],
   "source": [
    "c3 = Counter({'a': 1, 'b': 20})"
   ]
  },
  {
   "cell_type": "code",
   "execution_count": 25,
   "metadata": {},
   "outputs": [
    {
     "data": {
      "text/plain": [
       "Counter({'a': 1, 'b': 20})"
      ]
     },
     "execution_count": 25,
     "metadata": {},
     "output_type": "execute_result"
    }
   ],
   "source": [
    "c3"
   ]
  },
  {
   "cell_type": "code",
   "execution_count": 26,
   "metadata": {},
   "outputs": [],
   "source": [
    "import re"
   ]
  },
  {
   "cell_type": "code",
   "execution_count": 27,
   "metadata": {},
   "outputs": [],
   "source": [
    "sentence = '''\n",
    "his module implements pseudo-random number generators for various distributions.\n",
    "\n",
    "For integers, there is uniform selection from a range. For sequences, there is uniform selection of a random element, a function to generate a random permutation of a list in-place, and a function for random sampling without replacement.\n",
    "\n",
    "On the real line, there are functions to compute uniform, normal (Gaussian), lognormal, negative exponential, gamma, and beta distributions. For generating distributions of angles, the von Mises distribution is available.\n",
    "\n",
    "Almost all module functions depend on the basic function random(), which generates a random float uniformly in the semi-open range [0.0, 1.0). Python uses the Mersenne Twister as the core generator. It produces 53-bit precision floats and has a period of 2**19937-1. The underlying implementation in C is both fast and threadsafe. The Mersenne Twister is one of the most extensively tested random number generators in existence. However, being completely deterministic, it is not suitable for all purposes, and is completely unsuitable for cryptographic purposes.'''"
   ]
  },
  {
   "cell_type": "code",
   "execution_count": 28,
   "metadata": {},
   "outputs": [],
   "source": [
    "words = re.split('\\W', sentence)"
   ]
  },
  {
   "cell_type": "code",
   "execution_count": 29,
   "metadata": {},
   "outputs": [
    {
     "data": {
      "text/plain": [
       "list"
      ]
     },
     "execution_count": 29,
     "metadata": {},
     "output_type": "execute_result"
    }
   ],
   "source": [
    "type(words)"
   ]
  },
  {
   "cell_type": "code",
   "execution_count": 30,
   "metadata": {},
   "outputs": [
    {
     "data": {
      "text/plain": [
       "['',\n",
       " 'his',\n",
       " 'module',\n",
       " 'implements',\n",
       " 'pseudo',\n",
       " 'random',\n",
       " 'number',\n",
       " 'generators',\n",
       " 'for',\n",
       " 'various',\n",
       " 'distributions',\n",
       " '',\n",
       " '',\n",
       " 'For',\n",
       " 'integers',\n",
       " '',\n",
       " 'there',\n",
       " 'is',\n",
       " 'uniform',\n",
       " 'selection',\n",
       " 'from',\n",
       " 'a',\n",
       " 'range',\n",
       " '',\n",
       " 'For',\n",
       " 'sequences',\n",
       " '',\n",
       " 'there',\n",
       " 'is',\n",
       " 'uniform',\n",
       " 'selection',\n",
       " 'of',\n",
       " 'a',\n",
       " 'random',\n",
       " 'element',\n",
       " '',\n",
       " 'a',\n",
       " 'function',\n",
       " 'to',\n",
       " 'generate',\n",
       " 'a',\n",
       " 'random',\n",
       " 'permutation',\n",
       " 'of',\n",
       " 'a',\n",
       " 'list',\n",
       " 'in',\n",
       " 'place',\n",
       " '',\n",
       " 'and',\n",
       " 'a',\n",
       " 'function',\n",
       " 'for',\n",
       " 'random',\n",
       " 'sampling',\n",
       " 'without',\n",
       " 'replacement',\n",
       " '',\n",
       " '',\n",
       " 'On',\n",
       " 'the',\n",
       " 'real',\n",
       " 'line',\n",
       " '',\n",
       " 'there',\n",
       " 'are',\n",
       " 'functions',\n",
       " 'to',\n",
       " 'compute',\n",
       " 'uniform',\n",
       " '',\n",
       " 'normal',\n",
       " '',\n",
       " 'Gaussian',\n",
       " '',\n",
       " '',\n",
       " 'lognormal',\n",
       " '',\n",
       " 'negative',\n",
       " 'exponential',\n",
       " '',\n",
       " 'gamma',\n",
       " '',\n",
       " 'and',\n",
       " 'beta',\n",
       " 'distributions',\n",
       " '',\n",
       " 'For',\n",
       " 'generating',\n",
       " 'distributions',\n",
       " 'of',\n",
       " 'angles',\n",
       " '',\n",
       " 'the',\n",
       " 'von',\n",
       " 'Mises',\n",
       " 'distribution',\n",
       " 'is',\n",
       " 'available',\n",
       " '',\n",
       " '',\n",
       " 'Almost',\n",
       " 'all',\n",
       " 'module',\n",
       " 'functions',\n",
       " 'depend',\n",
       " 'on',\n",
       " 'the',\n",
       " 'basic',\n",
       " 'function',\n",
       " 'random',\n",
       " '',\n",
       " '',\n",
       " '',\n",
       " 'which',\n",
       " 'generates',\n",
       " 'a',\n",
       " 'random',\n",
       " 'float',\n",
       " 'uniformly',\n",
       " 'in',\n",
       " 'the',\n",
       " 'semi',\n",
       " 'open',\n",
       " 'range',\n",
       " '',\n",
       " '0',\n",
       " '0',\n",
       " '',\n",
       " '1',\n",
       " '0',\n",
       " '',\n",
       " '',\n",
       " 'Python',\n",
       " 'uses',\n",
       " 'the',\n",
       " 'Mersenne',\n",
       " 'Twister',\n",
       " 'as',\n",
       " 'the',\n",
       " 'core',\n",
       " 'generator',\n",
       " '',\n",
       " 'It',\n",
       " 'produces',\n",
       " '53',\n",
       " 'bit',\n",
       " 'precision',\n",
       " 'floats',\n",
       " 'and',\n",
       " 'has',\n",
       " 'a',\n",
       " 'period',\n",
       " 'of',\n",
       " '2',\n",
       " '',\n",
       " '19937',\n",
       " '1',\n",
       " '',\n",
       " 'The',\n",
       " 'underlying',\n",
       " 'implementation',\n",
       " 'in',\n",
       " 'C',\n",
       " 'is',\n",
       " 'both',\n",
       " 'fast',\n",
       " 'and',\n",
       " 'threadsafe',\n",
       " '',\n",
       " 'The',\n",
       " 'Mersenne',\n",
       " 'Twister',\n",
       " 'is',\n",
       " 'one',\n",
       " 'of',\n",
       " 'the',\n",
       " 'most',\n",
       " 'extensively',\n",
       " 'tested',\n",
       " 'random',\n",
       " 'number',\n",
       " 'generators',\n",
       " 'in',\n",
       " 'existence',\n",
       " '',\n",
       " 'However',\n",
       " '',\n",
       " 'being',\n",
       " 'completely',\n",
       " 'deterministic',\n",
       " '',\n",
       " 'it',\n",
       " 'is',\n",
       " 'not',\n",
       " 'suitable',\n",
       " 'for',\n",
       " 'all',\n",
       " 'purposes',\n",
       " '',\n",
       " 'and',\n",
       " 'is',\n",
       " 'completely',\n",
       " 'unsuitable',\n",
       " 'for',\n",
       " 'cryptographic',\n",
       " 'purposes',\n",
       " '']"
      ]
     },
     "execution_count": 30,
     "metadata": {},
     "output_type": "execute_result"
    }
   ],
   "source": [
    "words"
   ]
  },
  {
   "cell_type": "code",
   "execution_count": 31,
   "metadata": {},
   "outputs": [],
   "source": [
    "word_count = Counter(words)"
   ]
  },
  {
   "cell_type": "code",
   "execution_count": 32,
   "metadata": {},
   "outputs": [
    {
     "data": {
      "text/plain": [
       "Counter({'': 38,\n",
       "         'his': 1,\n",
       "         'module': 2,\n",
       "         'implements': 1,\n",
       "         'pseudo': 1,\n",
       "         'random': 7,\n",
       "         'number': 2,\n",
       "         'generators': 2,\n",
       "         'for': 4,\n",
       "         'various': 1,\n",
       "         'distributions': 3,\n",
       "         'For': 3,\n",
       "         'integers': 1,\n",
       "         'there': 3,\n",
       "         'is': 7,\n",
       "         'uniform': 3,\n",
       "         'selection': 2,\n",
       "         'from': 1,\n",
       "         'a': 8,\n",
       "         'range': 2,\n",
       "         'sequences': 1,\n",
       "         'of': 5,\n",
       "         'element': 1,\n",
       "         'function': 3,\n",
       "         'to': 2,\n",
       "         'generate': 1,\n",
       "         'permutation': 1,\n",
       "         'list': 1,\n",
       "         'in': 4,\n",
       "         'place': 1,\n",
       "         'and': 5,\n",
       "         'sampling': 1,\n",
       "         'without': 1,\n",
       "         'replacement': 1,\n",
       "         'On': 1,\n",
       "         'the': 7,\n",
       "         'real': 1,\n",
       "         'line': 1,\n",
       "         'are': 1,\n",
       "         'functions': 2,\n",
       "         'compute': 1,\n",
       "         'normal': 1,\n",
       "         'Gaussian': 1,\n",
       "         'lognormal': 1,\n",
       "         'negative': 1,\n",
       "         'exponential': 1,\n",
       "         'gamma': 1,\n",
       "         'beta': 1,\n",
       "         'generating': 1,\n",
       "         'angles': 1,\n",
       "         'von': 1,\n",
       "         'Mises': 1,\n",
       "         'distribution': 1,\n",
       "         'available': 1,\n",
       "         'Almost': 1,\n",
       "         'all': 2,\n",
       "         'depend': 1,\n",
       "         'on': 1,\n",
       "         'basic': 1,\n",
       "         'which': 1,\n",
       "         'generates': 1,\n",
       "         'float': 1,\n",
       "         'uniformly': 1,\n",
       "         'semi': 1,\n",
       "         'open': 1,\n",
       "         '0': 3,\n",
       "         '1': 2,\n",
       "         'Python': 1,\n",
       "         'uses': 1,\n",
       "         'Mersenne': 2,\n",
       "         'Twister': 2,\n",
       "         'as': 1,\n",
       "         'core': 1,\n",
       "         'generator': 1,\n",
       "         'It': 1,\n",
       "         'produces': 1,\n",
       "         '53': 1,\n",
       "         'bit': 1,\n",
       "         'precision': 1,\n",
       "         'floats': 1,\n",
       "         'has': 1,\n",
       "         'period': 1,\n",
       "         '2': 1,\n",
       "         '19937': 1,\n",
       "         'The': 2,\n",
       "         'underlying': 1,\n",
       "         'implementation': 1,\n",
       "         'C': 1,\n",
       "         'both': 1,\n",
       "         'fast': 1,\n",
       "         'threadsafe': 1,\n",
       "         'one': 1,\n",
       "         'most': 1,\n",
       "         'extensively': 1,\n",
       "         'tested': 1,\n",
       "         'existence': 1,\n",
       "         'However': 1,\n",
       "         'being': 1,\n",
       "         'completely': 2,\n",
       "         'deterministic': 1,\n",
       "         'it': 1,\n",
       "         'not': 1,\n",
       "         'suitable': 1,\n",
       "         'purposes': 2,\n",
       "         'unsuitable': 1,\n",
       "         'cryptographic': 1})"
      ]
     },
     "execution_count": 32,
     "metadata": {},
     "output_type": "execute_result"
    }
   ],
   "source": [
    "word_count"
   ]
  },
  {
   "cell_type": "code",
   "execution_count": 33,
   "metadata": {},
   "outputs": [
    {
     "data": {
      "text/plain": [
       "[('', 38), ('a', 8), ('random', 7), ('is', 7), ('the', 7)]"
      ]
     },
     "execution_count": 33,
     "metadata": {},
     "output_type": "execute_result"
    }
   ],
   "source": [
    "word_count.most_common(5)"
   ]
  },
  {
   "cell_type": "code",
   "execution_count": 42,
   "metadata": {},
   "outputs": [],
   "source": [
    "c1 = Counter('abbaxxxaa')"
   ]
  },
  {
   "cell_type": "code",
   "execution_count": 43,
   "metadata": {},
   "outputs": [
    {
     "data": {
      "text/plain": [
       "Counter({'a': 4, 'b': 2, 'x': 3})"
      ]
     },
     "execution_count": 43,
     "metadata": {},
     "output_type": "execute_result"
    }
   ],
   "source": [
    "c1"
   ]
  },
  {
   "cell_type": "code",
   "execution_count": 44,
   "metadata": {},
   "outputs": [
    {
     "name": "stdout",
     "output_type": "stream",
     "text": [
      "a\n",
      "b\n",
      "x\n"
     ]
    }
   ],
   "source": [
    "for c in c1:\n",
    "    print(c)"
   ]
  },
  {
   "cell_type": "code",
   "execution_count": 45,
   "metadata": {},
   "outputs": [
    {
     "name": "stdout",
     "output_type": "stream",
     "text": [
      "a\n",
      "a\n",
      "a\n",
      "a\n",
      "b\n",
      "b\n",
      "x\n",
      "x\n",
      "x\n"
     ]
    }
   ],
   "source": [
    "for c in c1.elements():\n",
    "    print(c)"
   ]
  },
  {
   "cell_type": "code",
   "execution_count": 46,
   "metadata": {},
   "outputs": [
    {
     "name": "stdout",
     "output_type": "stream",
     "text": [
      "[1, 2, 2, 3, 3, 3, 4, 4, 4, 4, 5, 5, 5, 5, 5, 6, 6, 6, 6, 6, 6, 7, 7, 7, 7, 7, 7, 7, 8, 8, 8, 8, 8, 8, 8, 8, 9, 9, 9, 9, 9, 9, 9, 9, 9, 10, 10, 10, 10, 10, 10, 10, 10, 10, 10]\n"
     ]
    }
   ],
   "source": [
    "l = []\n",
    "for i in range(1, 11):\n",
    "    for _ in range(i):\n",
    "        l.append(i)\n",
    "print(l)"
   ]
  },
  {
   "cell_type": "code",
   "execution_count": 47,
   "metadata": {},
   "outputs": [],
   "source": [
    "c1 = Counter()\n",
    "for i in range(1, 11):\n",
    "    c1[i] = i"
   ]
  },
  {
   "cell_type": "code",
   "execution_count": 48,
   "metadata": {},
   "outputs": [
    {
     "data": {
      "text/plain": [
       "Counter({1: 1, 2: 2, 3: 3, 4: 4, 5: 5, 6: 6, 7: 7, 8: 8, 9: 9, 10: 10})"
      ]
     },
     "execution_count": 48,
     "metadata": {},
     "output_type": "execute_result"
    }
   ],
   "source": [
    "c1"
   ]
  },
  {
   "cell_type": "code",
   "execution_count": 51,
   "metadata": {},
   "outputs": [
    {
     "name": "stdout",
     "output_type": "stream",
     "text": [
      "[1, 2, 2, 3, 3, 3, 4, 4, 4, 4, 5, 5, 5, 5, 5, 6, 6, 6, 6, 6, 6, 7, 7, 7, 7, 7, 7, 7, 8, 8, 8, 8, 8, 8, 8, 8, 9, 9, 9, 9, 9, 9, 9, 9, 9, 10, 10, 10, 10, 10, 10, 10, 10, 10, 10]\n"
     ]
    }
   ],
   "source": [
    "print(list(c1.elements()))"
   ]
  },
  {
   "cell_type": "code",
   "execution_count": 52,
   "metadata": {},
   "outputs": [
    {
     "data": {
      "text/plain": [
       "<itertools.chain at 0x209e021d6c8>"
      ]
     },
     "execution_count": 52,
     "metadata": {},
     "output_type": "execute_result"
    }
   ],
   "source": [
    "c1.elements()"
   ]
  },
  {
   "cell_type": "code",
   "execution_count": 97,
   "metadata": {},
   "outputs": [],
   "source": [
    "class CountDict:\n",
    "    def __init__(self, **kwargs):\n",
    "        self.d = defaultdict(int, **kwargs)\n",
    "        \n",
    "    def __iter__(self):\n",
    "        return iter(self.d)\n",
    "    \n",
    "    def elements(self):\n",
    "        for e in self.d:\n",
    "            for _ in range(self.d[e]):\n",
    "                yield e\n",
    "                \n",
    "    def elements_gen(self):\n",
    "        return (e for e in self.d for _ in range(self.d[e]))\n",
    "        \n",
    "    def __repr__(self):\n",
    "        return repr(self.d)"
   ]
  },
  {
   "cell_type": "code",
   "execution_count": 98,
   "metadata": {},
   "outputs": [],
   "source": [
    "count_dict = CountDict(a=1, b=2, c=3, d=4, e=5)"
   ]
  },
  {
   "cell_type": "code",
   "execution_count": 99,
   "metadata": {},
   "outputs": [
    {
     "data": {
      "text/plain": [
       "defaultdict(<class 'int'>, {'a': 1, 'b': 2, 'c': 3, 'd': 4, 'e': 5})"
      ]
     },
     "execution_count": 99,
     "metadata": {},
     "output_type": "execute_result"
    }
   ],
   "source": [
    "count_dict"
   ]
  },
  {
   "cell_type": "code",
   "execution_count": 100,
   "metadata": {},
   "outputs": [
    {
     "data": {
      "text/plain": [
       "defaultdict(int, {'a': 1, 'b': 2, 'c': 3, 'd': 4, 'e': 5})"
      ]
     },
     "execution_count": 100,
     "metadata": {},
     "output_type": "execute_result"
    }
   ],
   "source": [
    "count_dict.d"
   ]
  },
  {
   "cell_type": "code",
   "execution_count": 101,
   "metadata": {},
   "outputs": [],
   "source": [
    "dict_iter = iter(count_dict)"
   ]
  },
  {
   "cell_type": "code",
   "execution_count": 102,
   "metadata": {},
   "outputs": [
    {
     "data": {
      "text/plain": [
       "'a'"
      ]
     },
     "execution_count": 102,
     "metadata": {},
     "output_type": "execute_result"
    }
   ],
   "source": [
    "next(dict_iter)"
   ]
  },
  {
   "cell_type": "code",
   "execution_count": 103,
   "metadata": {},
   "outputs": [
    {
     "data": {
      "text/plain": [
       "0"
      ]
     },
     "execution_count": 103,
     "metadata": {},
     "output_type": "execute_result"
    }
   ],
   "source": [
    "count_dict.d['z']"
   ]
  },
  {
   "cell_type": "code",
   "execution_count": 104,
   "metadata": {},
   "outputs": [
    {
     "data": {
      "text/plain": [
       "defaultdict(<class 'int'>, {'a': 1, 'b': 2, 'c': 3, 'd': 4, 'e': 5, 'z': 0})"
      ]
     },
     "execution_count": 104,
     "metadata": {},
     "output_type": "execute_result"
    }
   ],
   "source": [
    "count_dict"
   ]
  },
  {
   "cell_type": "code",
   "execution_count": 105,
   "metadata": {},
   "outputs": [],
   "source": [
    "element_iter = count_dict.elements_gen()"
   ]
  },
  {
   "cell_type": "code",
   "execution_count": 106,
   "metadata": {},
   "outputs": [
    {
     "name": "stdout",
     "output_type": "stream",
     "text": [
      "a\n",
      "b\n",
      "b\n",
      "c\n",
      "c\n",
      "c\n",
      "d\n",
      "d\n",
      "d\n",
      "d\n",
      "e\n",
      "e\n",
      "e\n",
      "e\n",
      "e\n"
     ]
    }
   ],
   "source": [
    "for e in element_iter:\n",
    "    print(e)"
   ]
  },
  {
   "cell_type": "code",
   "execution_count": 120,
   "metadata": {},
   "outputs": [],
   "source": [
    "class RepeatIterable:\n",
    "    def __init__(self, **kwargs):\n",
    "        self.d = kwargs\n",
    "        \n",
    "    def __setitem__(self, key, value):\n",
    "        self.d[key] = value\n",
    "        \n",
    "    def __getitem__(self, key):\n",
    "        self.d[key] = self.d.get(key, 0)\n",
    "        return self.d[key]\n",
    "    \n",
    "    def elements(self):\n",
    "        for k, frequency in self.d.items():\n",
    "            for _ in range(frequency):\n",
    "                yield k"
   ]
  },
  {
   "cell_type": "code",
   "execution_count": 121,
   "metadata": {},
   "outputs": [],
   "source": [
    "r = RepeatIterable(x=10, y=20)"
   ]
  },
  {
   "cell_type": "code",
   "execution_count": 122,
   "metadata": {},
   "outputs": [
    {
     "data": {
      "text/plain": [
       "{'x': 10, 'y': 20}"
      ]
     },
     "execution_count": 122,
     "metadata": {},
     "output_type": "execute_result"
    }
   ],
   "source": [
    "r.d"
   ]
  },
  {
   "cell_type": "code",
   "execution_count": 123,
   "metadata": {},
   "outputs": [
    {
     "data": {
      "text/plain": [
       "10"
      ]
     },
     "execution_count": 123,
     "metadata": {},
     "output_type": "execute_result"
    }
   ],
   "source": [
    "r['x']"
   ]
  },
  {
   "cell_type": "code",
   "execution_count": 124,
   "metadata": {},
   "outputs": [],
   "source": [
    "r['y'] = 100"
   ]
  },
  {
   "cell_type": "code",
   "execution_count": 125,
   "metadata": {},
   "outputs": [
    {
     "data": {
      "text/plain": [
       "{'x': 10, 'y': 100}"
      ]
     },
     "execution_count": 125,
     "metadata": {},
     "output_type": "execute_result"
    }
   ],
   "source": [
    "r.d"
   ]
  },
  {
   "cell_type": "code",
   "execution_count": 126,
   "metadata": {},
   "outputs": [],
   "source": [
    "r = RepeatIterable(a=2, b=3, c=1)"
   ]
  },
  {
   "cell_type": "code",
   "execution_count": 127,
   "metadata": {},
   "outputs": [
    {
     "name": "stdout",
     "output_type": "stream",
     "text": [
      "a\n",
      "a\n",
      "b\n",
      "b\n",
      "b\n",
      "c\n"
     ]
    }
   ],
   "source": [
    "for e in r.elements():\n",
    "    print(e)"
   ]
  },
  {
   "cell_type": "code",
   "execution_count": 128,
   "metadata": {},
   "outputs": [],
   "source": [
    "c1 = Counter(a=1, b=2, c=3)\n",
    "c2 = Counter(b=1, c=2, d=3)"
   ]
  },
  {
   "cell_type": "code",
   "execution_count": 129,
   "metadata": {},
   "outputs": [
    {
     "name": "stdout",
     "output_type": "stream",
     "text": [
      "Counter({'c': 5, 'b': 3, 'd': 3, 'a': 1})\n"
     ]
    }
   ],
   "source": [
    "c1.update(c2)\n",
    "print(c1)"
   ]
  },
  {
   "cell_type": "code",
   "execution_count": 130,
   "metadata": {},
   "outputs": [],
   "source": [
    "c1 = Counter(a=1, b=2, c=3)\n",
    "c2 = Counter(a=1, b=2, c=3)"
   ]
  },
  {
   "cell_type": "code",
   "execution_count": 131,
   "metadata": {},
   "outputs": [
    {
     "name": "stdout",
     "output_type": "stream",
     "text": [
      "Counter({'a': 0, 'b': 0, 'c': 0})\n"
     ]
    }
   ],
   "source": [
    "c1.subtract(c2)\n",
    "print(c1)"
   ]
  },
  {
   "cell_type": "code",
   "execution_count": 132,
   "metadata": {},
   "outputs": [
    {
     "name": "stdout",
     "output_type": "stream",
     "text": [
      "Counter({'a': -1, 'b': -2, 'c': -3})\n"
     ]
    }
   ],
   "source": [
    "c1.subtract(c2)\n",
    "print(c1)"
   ]
  },
  {
   "cell_type": "code",
   "execution_count": 134,
   "metadata": {},
   "outputs": [
    {
     "name": "stdout",
     "output_type": "stream",
     "text": [
      "Counter({'a': 2, 'b': 2, 'c': 2, 'd': 2, 'e': 2})\n",
      "Counter({'a': 3, 'b': 3, 'c': 3, 'd': 3, 'e': 3, 'f': 1})\n"
     ]
    }
   ],
   "source": [
    "c1 = Counter('aabbccddee')\n",
    "print(c1)\n",
    "c1.update('abcdef')\n",
    "print(c1)"
   ]
  },
  {
   "cell_type": "code",
   "execution_count": 135,
   "metadata": {},
   "outputs": [
    {
     "data": {
      "text/plain": [
       "Counter({'a': 3, 'b': 3, 'c': 3})"
      ]
     },
     "execution_count": 135,
     "metadata": {},
     "output_type": "execute_result"
    }
   ],
   "source": [
    "c1 = Counter('aabbcc')\n",
    "c2 = Counter('abc')\n",
    "c1 + c2"
   ]
  },
  {
   "cell_type": "code",
   "execution_count": 136,
   "metadata": {},
   "outputs": [
    {
     "data": {
      "text/plain": [
       "Counter({'a': 1, 'b': 1, 'c': 1})"
      ]
     },
     "execution_count": 136,
     "metadata": {},
     "output_type": "execute_result"
    }
   ],
   "source": [
    "c1 - c2"
   ]
  },
  {
   "cell_type": "code",
   "execution_count": 137,
   "metadata": {},
   "outputs": [],
   "source": [
    "c1 = Counter(a=5, b=1)\n",
    "c2 = Counter(a=1, b=10)"
   ]
  },
  {
   "cell_type": "code",
   "execution_count": 138,
   "metadata": {},
   "outputs": [
    {
     "data": {
      "text/plain": [
       "Counter({'a': 1, 'b': 1})"
      ]
     },
     "execution_count": 138,
     "metadata": {},
     "output_type": "execute_result"
    }
   ],
   "source": [
    "c1 & c2"
   ]
  },
  {
   "cell_type": "code",
   "execution_count": 139,
   "metadata": {},
   "outputs": [
    {
     "data": {
      "text/plain": [
       "Counter({'a': 5, 'b': 10})"
      ]
     },
     "execution_count": 139,
     "metadata": {},
     "output_type": "execute_result"
    }
   ],
   "source": [
    "c1 | c2"
   ]
  },
  {
   "cell_type": "code",
   "execution_count": 140,
   "metadata": {},
   "outputs": [
    {
     "data": {
      "text/plain": [
       "Counter({'a': 5, 'b': 1})"
      ]
     },
     "execution_count": 140,
     "metadata": {},
     "output_type": "execute_result"
    }
   ],
   "source": [
    "+c1"
   ]
  },
  {
   "cell_type": "code",
   "execution_count": 145,
   "metadata": {},
   "outputs": [],
   "source": [
    "c1 = Counter(a=10, b=-10, c=0)"
   ]
  },
  {
   "cell_type": "code",
   "execution_count": 146,
   "metadata": {},
   "outputs": [
    {
     "data": {
      "text/plain": [
       "Counter({'a': 10, 'b': -10, 'c': 0})"
      ]
     },
     "execution_count": 146,
     "metadata": {},
     "output_type": "execute_result"
    }
   ],
   "source": [
    "c1"
   ]
  },
  {
   "cell_type": "code",
   "execution_count": 147,
   "metadata": {},
   "outputs": [
    {
     "data": {
      "text/plain": [
       "Counter({'a': 10})"
      ]
     },
     "execution_count": 147,
     "metadata": {},
     "output_type": "execute_result"
    }
   ],
   "source": [
    "+c1"
   ]
  },
  {
   "cell_type": "code",
   "execution_count": 148,
   "metadata": {},
   "outputs": [
    {
     "data": {
      "text/plain": [
       "Counter({'a': 10, 'b': -10, 'c': 0})"
      ]
     },
     "execution_count": 148,
     "metadata": {},
     "output_type": "execute_result"
    }
   ],
   "source": [
    "c1"
   ]
  },
  {
   "cell_type": "code",
   "execution_count": 149,
   "metadata": {},
   "outputs": [
    {
     "data": {
      "text/plain": [
       "Counter({'b': 10})"
      ]
     },
     "execution_count": 149,
     "metadata": {},
     "output_type": "execute_result"
    }
   ],
   "source": [
    "-c1"
   ]
  },
  {
   "cell_type": "code",
   "execution_count": 150,
   "metadata": {},
   "outputs": [],
   "source": [
    "import random\n",
    "random.seed(0)\n",
    "\n",
    "widgets = [\n",
    "    'battery',\n",
    "    'charger',\n",
    "    'cable',\n",
    "    'case',\n",
    "    'keyboard',\n",
    "    'mouse'\n",
    "]\n",
    "\n",
    "orders = [(random.choice(widgets), random.randint(1, 5)) for _ in range(100)]\n",
    "\n",
    "refunds = [(random.choice(widgets), random.randint(1, 5)) for _ in range(20)]"
   ]
  },
  {
   "cell_type": "code",
   "execution_count": 151,
   "metadata": {},
   "outputs": [
    {
     "data": {
      "text/plain": [
       "[('case', 4),\n",
       " ('battery', 3),\n",
       " ('keyboard', 4),\n",
       " ('case', 3),\n",
       " ('case', 3),\n",
       " ('keyboard', 2),\n",
       " ('keyboard', 2),\n",
       " ('cable', 2),\n",
       " ('battery', 5),\n",
       " ('cable', 5),\n",
       " ('mouse', 5),\n",
       " ('charger', 3),\n",
       " ('battery', 1),\n",
       " ('mouse', 3),\n",
       " ('case', 5),\n",
       " ('battery', 3),\n",
       " ('case', 3),\n",
       " ('keyboard', 2),\n",
       " ('keyboard', 4),\n",
       " ('case', 5),\n",
       " ('cable', 1),\n",
       " ('keyboard', 1),\n",
       " ('battery', 4),\n",
       " ('mouse', 1),\n",
       " ('keyboard', 4),\n",
       " ('cable', 2),\n",
       " ('mouse', 3),\n",
       " ('mouse', 1),\n",
       " ('charger', 5),\n",
       " ('charger', 2),\n",
       " ('charger', 5),\n",
       " ('case', 1),\n",
       " ('battery', 3),\n",
       " ('keyboard', 4),\n",
       " ('battery', 3),\n",
       " ('keyboard', 3),\n",
       " ('mouse', 1),\n",
       " ('keyboard', 3),\n",
       " ('keyboard', 2),\n",
       " ('keyboard', 5),\n",
       " ('keyboard', 3),\n",
       " ('case', 1),\n",
       " ('keyboard', 4),\n",
       " ('cable', 5),\n",
       " ('charger', 3),\n",
       " ('charger', 2),\n",
       " ('charger', 1),\n",
       " ('keyboard', 3),\n",
       " ('case', 1),\n",
       " ('battery', 2),\n",
       " ('charger', 1),\n",
       " ('battery', 5),\n",
       " ('mouse', 4),\n",
       " ('mouse', 5),\n",
       " ('cable', 5),\n",
       " ('charger', 2),\n",
       " ('mouse', 5),\n",
       " ('case', 5),\n",
       " ('cable', 4),\n",
       " ('case', 3),\n",
       " ('battery', 3),\n",
       " ('keyboard', 1),\n",
       " ('case', 5),\n",
       " ('mouse', 3),\n",
       " ('charger', 2),\n",
       " ('battery', 3),\n",
       " ('battery', 2),\n",
       " ('cable', 2),\n",
       " ('cable', 4),\n",
       " ('battery', 1),\n",
       " ('charger', 2),\n",
       " ('battery', 5),\n",
       " ('mouse', 5),\n",
       " ('keyboard', 1),\n",
       " ('battery', 1),\n",
       " ('mouse', 2),\n",
       " ('keyboard', 5),\n",
       " ('battery', 4),\n",
       " ('battery', 3),\n",
       " ('battery', 1),\n",
       " ('keyboard', 1),\n",
       " ('charger', 2),\n",
       " ('mouse', 1),\n",
       " ('case', 2),\n",
       " ('mouse', 1),\n",
       " ('mouse', 1),\n",
       " ('keyboard', 4),\n",
       " ('keyboard', 1),\n",
       " ('cable', 1),\n",
       " ('charger', 1),\n",
       " ('mouse', 3),\n",
       " ('cable', 4),\n",
       " ('charger', 1),\n",
       " ('keyboard', 4),\n",
       " ('battery', 5),\n",
       " ('battery', 4),\n",
       " ('charger', 3),\n",
       " ('cable', 4),\n",
       " ('keyboard', 2),\n",
       " ('mouse', 2)]"
      ]
     },
     "execution_count": 151,
     "metadata": {},
     "output_type": "execute_result"
    }
   ],
   "source": [
    "orders"
   ]
  },
  {
   "cell_type": "code",
   "execution_count": 152,
   "metadata": {},
   "outputs": [],
   "source": [
    "sold_counter = Counter()\n",
    "refund_counter = Counter()\n",
    "\n",
    "for order in orders:\n",
    "    sold_counter[order[0]] += order[1]\n",
    "    \n",
    "for refund in refunds:\n",
    "    refund_counter[refund[0]] += refund[1]"
   ]
  },
  {
   "cell_type": "code",
   "execution_count": 153,
   "metadata": {},
   "outputs": [
    {
     "data": {
      "text/plain": [
       "Counter({'case': 41,\n",
       "         'battery': 61,\n",
       "         'keyboard': 65,\n",
       "         'cable': 39,\n",
       "         'mouse': 46,\n",
       "         'charger': 35})"
      ]
     },
     "execution_count": 153,
     "metadata": {},
     "output_type": "execute_result"
    }
   ],
   "source": [
    "sold_counter"
   ]
  },
  {
   "cell_type": "code",
   "execution_count": 154,
   "metadata": {},
   "outputs": [
    {
     "data": {
      "text/plain": [
       "Counter({'battery': 11,\n",
       "         'charger': 10,\n",
       "         'keyboard': 19,\n",
       "         'case': 9,\n",
       "         'mouse': 8,\n",
       "         'cable': 4})"
      ]
     },
     "execution_count": 154,
     "metadata": {},
     "output_type": "execute_result"
    }
   ],
   "source": [
    "refund_counter"
   ]
  },
  {
   "cell_type": "code",
   "execution_count": 155,
   "metadata": {},
   "outputs": [],
   "source": [
    "net_counter = sold_counter - refund_counter"
   ]
  },
  {
   "cell_type": "code",
   "execution_count": 156,
   "metadata": {},
   "outputs": [
    {
     "data": {
      "text/plain": [
       "Counter({'case': 32,\n",
       "         'battery': 50,\n",
       "         'keyboard': 46,\n",
       "         'cable': 35,\n",
       "         'mouse': 38,\n",
       "         'charger': 25})"
      ]
     },
     "execution_count": 156,
     "metadata": {},
     "output_type": "execute_result"
    }
   ],
   "source": [
    "net_counter"
   ]
  },
  {
   "cell_type": "code",
   "execution_count": 157,
   "metadata": {},
   "outputs": [
    {
     "data": {
      "text/plain": [
       "[('battery', 50), ('keyboard', 46), ('mouse', 38)]"
      ]
     },
     "execution_count": 157,
     "metadata": {},
     "output_type": "execute_result"
    }
   ],
   "source": [
    "net_counter.most_common(3)"
   ]
  },
  {
   "cell_type": "code",
   "execution_count": 159,
   "metadata": {},
   "outputs": [
    {
     "data": {
      "text/plain": [
       "('case', 4)"
      ]
     },
     "execution_count": 159,
     "metadata": {},
     "output_type": "execute_result"
    }
   ],
   "source": [
    "orders[0]"
   ]
  },
  {
   "cell_type": "code",
   "execution_count": 166,
   "metadata": {},
   "outputs": [],
   "source": [
    "from itertools import repeat, chain"
   ]
  },
  {
   "cell_type": "code",
   "execution_count": 167,
   "metadata": {},
   "outputs": [
    {
     "data": {
      "text/plain": [
       "['battery', 'battery', 'battery']"
      ]
     },
     "execution_count": 167,
     "metadata": {},
     "output_type": "execute_result"
    }
   ],
   "source": [
    "list(repeat('battery', 3))"
   ]
  },
  {
   "cell_type": "code",
   "execution_count": 168,
   "metadata": {},
   "outputs": [
    {
     "data": {
      "text/plain": [
       "['keyboard', 'keyboard', 'keyboard', 'keyboard']"
      ]
     },
     "execution_count": 168,
     "metadata": {},
     "output_type": "execute_result"
    }
   ],
   "source": [
    "list(repeat(*orders[2]))"
   ]
  },
  {
   "cell_type": "code",
   "execution_count": 173,
   "metadata": {},
   "outputs": [],
   "source": [
    "sold_counter = Counter(chain.from_iterable(repeat(*order) for order in orders))"
   ]
  },
  {
   "cell_type": "code",
   "execution_count": 174,
   "metadata": {},
   "outputs": [
    {
     "data": {
      "text/plain": [
       "Counter({'case': 41,\n",
       "         'battery': 61,\n",
       "         'keyboard': 65,\n",
       "         'cable': 39,\n",
       "         'mouse': 46,\n",
       "         'charger': 35})"
      ]
     },
     "execution_count": 174,
     "metadata": {},
     "output_type": "execute_result"
    }
   ],
   "source": [
    "sold_counter"
   ]
  },
  {
   "cell_type": "code",
   "execution_count": 175,
   "metadata": {},
   "outputs": [],
   "source": [
    "refund_counter = Counter(chain.from_iterable(repeat(*refund) for refund in refunds))"
   ]
  },
  {
   "cell_type": "code",
   "execution_count": 176,
   "metadata": {},
   "outputs": [
    {
     "data": {
      "text/plain": [
       "Counter({'battery': 11,\n",
       "         'charger': 10,\n",
       "         'keyboard': 19,\n",
       "         'case': 9,\n",
       "         'mouse': 8,\n",
       "         'cable': 4})"
      ]
     },
     "execution_count": 176,
     "metadata": {},
     "output_type": "execute_result"
    }
   ],
   "source": [
    "refund_counter"
   ]
  },
  {
   "cell_type": "code",
   "execution_count": 177,
   "metadata": {},
   "outputs": [],
   "source": [
    "net_counter = sold_counter - refund_counter"
   ]
  },
  {
   "cell_type": "code",
   "execution_count": 178,
   "metadata": {},
   "outputs": [
    {
     "data": {
      "text/plain": [
       "Counter({'case': 32,\n",
       "         'battery': 50,\n",
       "         'keyboard': 46,\n",
       "         'cable': 35,\n",
       "         'mouse': 38,\n",
       "         'charger': 25})"
      ]
     },
     "execution_count": 178,
     "metadata": {},
     "output_type": "execute_result"
    }
   ],
   "source": [
    "net_counter"
   ]
  },
  {
   "cell_type": "code",
   "execution_count": 180,
   "metadata": {},
   "outputs": [
    {
     "data": {
      "text/plain": [
       "[('battery', 50), ('keyboard', 46), ('mouse', 38)]"
      ]
     },
     "execution_count": 180,
     "metadata": {},
     "output_type": "execute_result"
    }
   ],
   "source": [
    "net_counter.most_common(3)"
   ]
  },
  {
   "cell_type": "code",
   "execution_count": 184,
   "metadata": {},
   "outputs": [
    {
     "data": {
      "text/plain": [
       "Counter({'b': 5})"
      ]
     },
     "execution_count": 184,
     "metadata": {},
     "output_type": "execute_result"
    }
   ],
   "source": [
    "c1 = Counter(a=2, b=10)\n",
    "c2 = Counter(a=10, b=5)\n",
    "c1 - c2"
   ]
  },
  {
   "cell_type": "code",
   "execution_count": 188,
   "metadata": {},
   "outputs": [
    {
     "data": {
      "text/plain": [
       "[('battery', 50), ('keyboard', 46), ('mouse', 38)]"
      ]
     },
     "execution_count": 188,
     "metadata": {},
     "output_type": "execute_result"
    }
   ],
   "source": [
    "net_sales = {}\n",
    "\n",
    "for order in orders:\n",
    "    key = order[0]\n",
    "    cnt = order[1]\n",
    "    net_sales[key] = net_sales.get(key, 0) + cnt\n",
    "    \n",
    "for refund in refunds:\n",
    "    key = refund[0]\n",
    "    cnt = refund[1]\n",
    "    net_sales[key] = net_sales.get(key, 0) - cnt\n",
    "    \n",
    "net_sales = {k: v for k, v in net_sales.items() if v > 0}\n",
    "\n",
    "sorted_net_sales = sorted(net_sales.items(), key=lambda t: t[1], reverse=True)\n",
    "\n",
    "sorted_net_sales[:3]\n",
    "    "
   ]
  },
  {
   "cell_type": "code",
   "execution_count": 189,
   "metadata": {},
   "outputs": [
    {
     "data": {
      "text/plain": [
       "True"
      ]
     },
     "execution_count": 189,
     "metadata": {},
     "output_type": "execute_result"
    }
   ],
   "source": [
    "isinstance(c1, dict)"
   ]
  },
  {
   "cell_type": "code",
   "execution_count": null,
   "metadata": {},
   "outputs": [],
   "source": []
  }
 ],
 "metadata": {
  "kernelspec": {
   "display_name": "Python 3",
   "language": "python",
   "name": "python3"
  },
  "language_info": {
   "codemirror_mode": {
    "name": "ipython",
    "version": 3
   },
   "file_extension": ".py",
   "mimetype": "text/x-python",
   "name": "python",
   "nbconvert_exporter": "python",
   "pygments_lexer": "ipython3",
   "version": "3.7.6"
  }
 },
 "nbformat": 4,
 "nbformat_minor": 4
}
