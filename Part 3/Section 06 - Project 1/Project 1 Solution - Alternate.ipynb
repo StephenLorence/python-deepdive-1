{
 "cells": [
  {
   "cell_type": "code",
   "execution_count": 1,
   "metadata": {},
   "outputs": [],
   "source": [
    "template = {\n",
    "    'user_id': int,\n",
    "    'name': {\n",
    "        'first': str,\n",
    "        'last': str\n",
    "    },\n",
    "    'bio': {\n",
    "        'dob': {\n",
    "            'year': int,\n",
    "            'month': int,\n",
    "            'day': int\n",
    "        },\n",
    "        'birthplace': {\n",
    "            'country': str,\n",
    "            'city': str\n",
    "        }\n",
    "    }\n",
    "}\n",
    "\n",
    "john = {\n",
    "    'user_id': 100,\n",
    "    'name': {\n",
    "        'first': 'John',\n",
    "        'last': 'Cleese'\n",
    "    },\n",
    "    'bio': {\n",
    "        'dob': {\n",
    "            'year': 1939,\n",
    "            'month': 11,\n",
    "            'day': 27\n",
    "        },\n",
    "        'birthplace': {\n",
    "            'country': 'United Kingdom',\n",
    "            'city': 'Weston-super-Mare'\n",
    "        }\n",
    "    }\n",
    "}\n",
    "\n",
    "eric = {\n",
    "    'user_id': 101,\n",
    "    'name': {\n",
    "        'first': 'Eric',\n",
    "        'last': 'Idle'\n",
    "    },\n",
    "    'bio': {\n",
    "        'dob': {\n",
    "            'year': 1943,\n",
    "            'month': 3,\n",
    "            'day': 29\n",
    "        },\n",
    "        'birthplace': {\n",
    "            'country': 'United Kingdom'\n",
    "        }\n",
    "    }\n",
    "}\n",
    "\n",
    "michael = {\n",
    "    'user_id': 102,\n",
    "    'name': {\n",
    "        'first': 'Michael',\n",
    "        'last': 'Palin'\n",
    "    },\n",
    "    'bio': {\n",
    "        'dob': {\n",
    "            'year': 1943,\n",
    "            'month': 'May',\n",
    "            'day': 5\n",
    "        },\n",
    "        'birthplace': {\n",
    "            'country': 'United Kingdom',\n",
    "            'city': 'Sheffield'\n",
    "        }\n",
    "    }\n",
    "}\n",
    "\n",
    "bad_john = {\n",
    "    'user_id': 100,\n",
    "    'name': {\n",
    "        'first': 'John',\n",
    "        'last': 'Cleese'\n",
    "    },\n",
    "    'bio': {\n",
    "        'dob': {\n",
    "            'year': 1939,\n",
    "            'month': 11,\n",
    "            'day': 27\n",
    "        },\n",
    "        'birthplace': {\n",
    "            'country': 'United Kingdom',\n",
    "            'city': 'Weston-super-Mare',\n",
    "            'house': 'Big house'\n",
    "        }\n",
    "    }\n",
    "}"
   ]
  },
  {
   "cell_type": "code",
   "execution_count": 19,
   "metadata": {},
   "outputs": [],
   "source": [
    "def match_keys(data, valid, path):\n",
    "    data_keys = data.keys()\n",
    "    valid_keys = valid.keys()\n",
    "    \n",
    "    extra_keys = data_keys - valid_keys\n",
    "    missing_keys = valid_keys - data_keys\n",
    "    \n",
    "    if missing_keys or extra_keys:\n",
    "        missing_msg = ('missing keys: ' +\n",
    "                       ', '.join({path + '.' + str(key)\n",
    "                                for key in missing_keys})\n",
    "                      ) if missing_keys else ''\n",
    "        extras_msg = ('extra keys: ' +\n",
    "                       ', '.join({path + '.' + str(key)\n",
    "                                for key in extra_keys})\n",
    "                     ) if extra_keys else ''\n",
    "        return False, ' '.join((missing_msg, extras_msg))\n",
    "    else:\n",
    "        return True, None"
   ]
  },
  {
   "cell_type": "code",
   "execution_count": 20,
   "metadata": {},
   "outputs": [
    {
     "name": "stdout",
     "output_type": "stream",
     "text": [
      "True None\n"
     ]
    }
   ],
   "source": [
    "t = {'a': int, 'b': int, 'c': int, 'd': {}}\n",
    "d = {'a': 'wrong type', 'b': 100, 'c': 200, 'd': {'wrong', 'type'}}\n",
    "is_ok, err_msg = match_keys(d, t, 'some.path')\n",
    "print(is_ok, err_msg)"
   ]
  },
  {
   "cell_type": "code",
   "execution_count": 21,
   "metadata": {},
   "outputs": [
    {
     "name": "stdout",
     "output_type": "stream",
     "text": [
      "False missing keys: some.path.d \n"
     ]
    }
   ],
   "source": [
    "d = {'a': None, 'b': None, 'c': None}\n",
    "is_ok, err_msg = match_keys(d, t, 'some.path')\n",
    "print(is_ok, err_msg)"
   ]
  },
  {
   "cell_type": "code",
   "execution_count": 22,
   "metadata": {},
   "outputs": [
    {
     "name": "stdout",
     "output_type": "stream",
     "text": [
      "False  extra keys: some.path.e\n"
     ]
    }
   ],
   "source": [
    "d = {'a': None, 'b': None, 'c': None, 'd': None, 'e': None}\n",
    "is_ok, err_msg = match_keys(d, t, 'some.path')\n",
    "print(is_ok, err_msg)"
   ]
  },
  {
   "cell_type": "code",
   "execution_count": 23,
   "metadata": {},
   "outputs": [
    {
     "name": "stdout",
     "output_type": "stream",
     "text": [
      "False missing keys: some.path.d extra keys: some.path.e\n"
     ]
    }
   ],
   "source": [
    "d = {'a': None, 'b': None, 'c': None, 'e': None}\n",
    "is_ok, err_msg = match_keys(d, t, 'some.path')\n",
    "print(is_ok, err_msg)"
   ]
  },
  {
   "cell_type": "code",
   "execution_count": 24,
   "metadata": {},
   "outputs": [
    {
     "name": "stdout",
     "output_type": "stream",
     "text": [
      "False missing keys: some.path.d, some.path.c extra keys: some.path.e, some.path.f\n"
     ]
    }
   ],
   "source": [
    "d = {'a': None, 'b': None, 'e': None, 'f': None}\n",
    "is_ok, err_msg = match_keys(d, t, 'some.path')\n",
    "print(is_ok, err_msg)"
   ]
  },
  {
   "cell_type": "code",
   "execution_count": 25,
   "metadata": {},
   "outputs": [],
   "source": [
    "def match_types(data, template, path):\n",
    "    for key, value in template.items():\n",
    "        if isinstance(value, dict):\n",
    "            template_type = dict\n",
    "        else:\n",
    "            template_type = value\n",
    "        data_value = data.get(key, object())\n",
    "        if not isinstance(data_value, template_type):\n",
    "            err_msg = ('incorrect type: ' + path + '.' + key +\n",
    "                      ' -> expected ' + template_type.__name__ +\n",
    "                      ', found ' + type(data_value).__name__)\n",
    "            return False, err_msg\n",
    "    return True, None\n",
    "            "
   ]
  },
  {
   "cell_type": "code",
   "execution_count": 26,
   "metadata": {},
   "outputs": [
    {
     "data": {
      "text/plain": [
       "(True, None)"
      ]
     },
     "execution_count": 26,
     "metadata": {},
     "output_type": "execute_result"
    }
   ],
   "source": [
    "t = {'a': int, 'b': str, 'c': {'d': int}}\n",
    "d = {'a': 100, 'b': 'test', 'c': {'some': 'value'}}\n",
    "match_types(d, t, 'some.path')"
   ]
  },
  {
   "cell_type": "code",
   "execution_count": 27,
   "metadata": {},
   "outputs": [
    {
     "data": {
      "text/plain": [
       "(False, 'incorrect type: some.path.c -> expected dict, found str')"
      ]
     },
     "execution_count": 27,
     "metadata": {},
     "output_type": "execute_result"
    }
   ],
   "source": [
    "d = {'a': 100, 'b': 'test', 'c': 'unexpected'}\n",
    "match_types(d, t, 'some.path')"
   ]
  },
  {
   "cell_type": "code",
   "execution_count": 28,
   "metadata": {},
   "outputs": [
    {
     "data": {
      "text/plain": [
       "(False, 'incorrect type: some.path.b -> expected str, found int')"
      ]
     },
     "execution_count": 28,
     "metadata": {},
     "output_type": "execute_result"
    }
   ],
   "source": [
    "d = {'a': 100, 'b': 200, 'c': {'some': 'value'}}\n",
    "match_types(d, t, 'some.path')"
   ]
  },
  {
   "cell_type": "code",
   "execution_count": 32,
   "metadata": {},
   "outputs": [],
   "source": [
    "def recurse_validate(data, template, path):\n",
    "    is_ok, err_msg = match_keys(data, template, path)\n",
    "    if not is_ok:\n",
    "        return False, err_msg\n",
    "    \n",
    "    is_ok, err_msg = match_types(data, template, path)\n",
    "    if not is_ok:\n",
    "        return False, err_msg\n",
    "    \n",
    "    dictionary_type_keys = {key for key, value in template.items()\n",
    "                           if isinstance(value, dict)}\n",
    "    \n",
    "    for key in dictionary_type_keys:\n",
    "        sub_path = path + '.' + str(key)\n",
    "        sub_template = template[key]\n",
    "        sub_data = data[key]\n",
    "        is_ok, err_msg = recurse_validate(sub_data, sub_template, sub_path)\n",
    "        if not is_ok:\n",
    "            return False, err_msg\n",
    "    return True, None"
   ]
  },
  {
   "cell_type": "code",
   "execution_count": 34,
   "metadata": {},
   "outputs": [
    {
     "name": "stdout",
     "output_type": "stream",
     "text": [
      "True None\n"
     ]
    }
   ],
   "source": [
    "is_ok, err_msg = recurse_validate(john, template, 'root')\n",
    "print(is_ok, err_msg)"
   ]
  },
  {
   "cell_type": "code",
   "execution_count": 35,
   "metadata": {},
   "outputs": [
    {
     "name": "stdout",
     "output_type": "stream",
     "text": [
      "False missing keys: root.bio.birthplace.city \n"
     ]
    }
   ],
   "source": [
    "is_ok, err_msg = recurse_validate(eric, template, 'root')\n",
    "print(is_ok, err_msg)"
   ]
  },
  {
   "cell_type": "code",
   "execution_count": 36,
   "metadata": {},
   "outputs": [
    {
     "name": "stdout",
     "output_type": "stream",
     "text": [
      "False incorrect type: root.bio.dob.month -> expected int, found str\n"
     ]
    }
   ],
   "source": [
    "is_ok, err_msg = recurse_validate(michael, template, 'root')\n",
    "print(is_ok, err_msg)"
   ]
  },
  {
   "cell_type": "code",
   "execution_count": 37,
   "metadata": {},
   "outputs": [
    {
     "name": "stdout",
     "output_type": "stream",
     "text": [
      "False  extra keys: root.bio.birthplace.house\n"
     ]
    }
   ],
   "source": [
    "is_ok, err_msg = recurse_validate(bad_john, template, 'root')\n",
    "print(is_ok, err_msg)"
   ]
  },
  {
   "cell_type": "code",
   "execution_count": 38,
   "metadata": {},
   "outputs": [],
   "source": [
    "def validate(data, template):\n",
    "    return recurse_validate(data, template, '')"
   ]
  },
  {
   "cell_type": "code",
   "execution_count": 39,
   "metadata": {},
   "outputs": [],
   "source": [
    "persons = ((john, 'John'), (eric, 'Eric'), (michael, 'Michael'), (bad_john, 'Bad John'))"
   ]
  },
  {
   "cell_type": "code",
   "execution_count": 40,
   "metadata": {},
   "outputs": [
    {
     "name": "stdout",
     "output_type": "stream",
     "text": [
      "John: valid=True: None\n",
      "Eric: valid=False: missing keys: .bio.birthplace.city \n",
      "Michael: valid=False: incorrect type: .bio.dob.month -> expected int, found str\n",
      "Bad John: valid=False:  extra keys: .bio.birthplace.house\n"
     ]
    }
   ],
   "source": [
    "for person, name in persons:\n",
    "    is_ok, err_msg = validate(person, template)\n",
    "    print(f'{name}: valid={is_ok}: {err_msg}')"
   ]
  },
  {
   "cell_type": "code",
   "execution_count": 41,
   "metadata": {},
   "outputs": [],
   "source": [
    "class SchemaError(Exception):\n",
    "    pass"
   ]
  },
  {
   "cell_type": "code",
   "execution_count": 42,
   "metadata": {},
   "outputs": [],
   "source": [
    "def validate(data, template):\n",
    "    is_ok, err_msg = recurse_validate(data, template, '')\n",
    "    if not is_ok:\n",
    "        raise SchemaError(err_msg)"
   ]
  },
  {
   "cell_type": "code",
   "execution_count": 43,
   "metadata": {},
   "outputs": [
    {
     "ename": "SchemaError",
     "evalue": "missing keys: .bio.birthplace.city ",
     "output_type": "error",
     "traceback": [
      "\u001b[1;31m---------------------------------------------------------------------------\u001b[0m",
      "\u001b[1;31mSchemaError\u001b[0m                               Traceback (most recent call last)",
      "\u001b[1;32m<ipython-input-43-2129e67dac06>\u001b[0m in \u001b[0;36m<module>\u001b[1;34m\u001b[0m\n\u001b[0;32m      1\u001b[0m \u001b[1;32mfor\u001b[0m \u001b[0mperson\u001b[0m\u001b[1;33m,\u001b[0m \u001b[0mname\u001b[0m \u001b[1;32min\u001b[0m \u001b[0mpersons\u001b[0m\u001b[1;33m:\u001b[0m\u001b[1;33m\u001b[0m\u001b[1;33m\u001b[0m\u001b[0m\n\u001b[1;32m----> 2\u001b[1;33m     \u001b[0mvalidate\u001b[0m\u001b[1;33m(\u001b[0m\u001b[0mperson\u001b[0m\u001b[1;33m,\u001b[0m \u001b[0mtemplate\u001b[0m\u001b[1;33m)\u001b[0m\u001b[1;33m\u001b[0m\u001b[1;33m\u001b[0m\u001b[0m\n\u001b[0m",
      "\u001b[1;32m<ipython-input-42-9f166c9b2c69>\u001b[0m in \u001b[0;36mvalidate\u001b[1;34m(data, template)\u001b[0m\n\u001b[0;32m      2\u001b[0m     \u001b[0mis_ok\u001b[0m\u001b[1;33m,\u001b[0m \u001b[0merr_msg\u001b[0m \u001b[1;33m=\u001b[0m \u001b[0mrecurse_validate\u001b[0m\u001b[1;33m(\u001b[0m\u001b[0mdata\u001b[0m\u001b[1;33m,\u001b[0m \u001b[0mtemplate\u001b[0m\u001b[1;33m,\u001b[0m \u001b[1;34m''\u001b[0m\u001b[1;33m)\u001b[0m\u001b[1;33m\u001b[0m\u001b[1;33m\u001b[0m\u001b[0m\n\u001b[0;32m      3\u001b[0m     \u001b[1;32mif\u001b[0m \u001b[1;32mnot\u001b[0m \u001b[0mis_ok\u001b[0m\u001b[1;33m:\u001b[0m\u001b[1;33m\u001b[0m\u001b[1;33m\u001b[0m\u001b[0m\n\u001b[1;32m----> 4\u001b[1;33m         \u001b[1;32mraise\u001b[0m \u001b[0mSchemaError\u001b[0m\u001b[1;33m(\u001b[0m\u001b[0merr_msg\u001b[0m\u001b[1;33m)\u001b[0m\u001b[1;33m\u001b[0m\u001b[1;33m\u001b[0m\u001b[0m\n\u001b[0m",
      "\u001b[1;31mSchemaError\u001b[0m: missing keys: .bio.birthplace.city "
     ]
    }
   ],
   "source": [
    "for person, name in persons:\n",
    "    validate(person, template)\n"
   ]
  },
  {
   "cell_type": "code",
   "execution_count": 45,
   "metadata": {},
   "outputs": [
    {
     "name": "stdout",
     "output_type": "stream",
     "text": [
      "Validation failed missing keys: .bio.birthplace.city \n"
     ]
    }
   ],
   "source": [
    "try:\n",
    "    for person, name in persons:\n",
    "        validate(person, template)\n",
    "except SchemaError as ex:\n",
    "    print('Validation failed', str(ex))"
   ]
  },
  {
   "cell_type": "code",
   "execution_count": 46,
   "metadata": {},
   "outputs": [],
   "source": [
    "class SchemaKeyMismatch(SchemaError):\n",
    "    pass\n",
    "\n",
    "class SchemaTypeMismatch(SchemaError, TypeError):\n",
    "    pass"
   ]
  },
  {
   "cell_type": "code",
   "execution_count": 51,
   "metadata": {},
   "outputs": [],
   "source": [
    "def match_keys(data, valid, path):\n",
    "    data_keys = data.keys()\n",
    "    valid_keys = valid.keys()\n",
    "    \n",
    "    extra_keys = data_keys - valid_keys\n",
    "    missing_keys = valid_keys - data_keys\n",
    "    \n",
    "    if missing_keys or extra_keys:\n",
    "        missing_msg = ('missing keys: ' +\n",
    "                       ', '.join({path + '.' + str(key)\n",
    "                                for key in missing_keys})\n",
    "                      ) if missing_keys else ''\n",
    "        extras_msg = ('extra keys: ' +\n",
    "                       ', '.join({path + '.' + str(key)\n",
    "                                for key in extra_keys})\n",
    "                     ) if extra_keys else ''\n",
    "        raise SchemaKeyMismatch(' '.join((missing_msg, extras_msg)))\n"
   ]
  },
  {
   "cell_type": "code",
   "execution_count": 52,
   "metadata": {},
   "outputs": [],
   "source": [
    "def match_types(data, template, path):\n",
    "    for key, value in template.items():\n",
    "        if isinstance(value, dict):\n",
    "            template_type = dict\n",
    "        else:\n",
    "            template_type = value\n",
    "        data_value = data.get(key, object())\n",
    "        if not isinstance(data_value, template_type):\n",
    "            err_msg = ('incorrect type: ' + path + '.' + key +\n",
    "                      ' -> expected ' + template_type.__name__ +\n",
    "                      ', found ' + type(data_value).__name__)\n",
    "            raise SchemaTypeMismatch(err_msg)\n",
    " \n",
    "            "
   ]
  },
  {
   "cell_type": "code",
   "execution_count": 53,
   "metadata": {},
   "outputs": [],
   "source": [
    "def recurse_validate(data, template, path):\n",
    "    match_keys(data, template, path)\n",
    "    match_types(data, template, path)\n",
    "    \n",
    "    dictionary_type_keys = {key for key, value in template.items()\n",
    "                           if isinstance(value, dict)}\n",
    "    \n",
    "    for key in dictionary_type_keys:\n",
    "        sub_path = path + '.' + str(key)\n",
    "        sub_template = template[key]\n",
    "        sub_data = data[key]\n",
    "        recurse_validate(sub_data, sub_template, sub_path)"
   ]
  },
  {
   "cell_type": "code",
   "execution_count": 54,
   "metadata": {},
   "outputs": [],
   "source": [
    "def validate(data, template):\n",
    "    recurse_validate(data, template, '')"
   ]
  },
  {
   "cell_type": "code",
   "execution_count": 55,
   "metadata": {},
   "outputs": [],
   "source": [
    "validate(john, template)"
   ]
  },
  {
   "cell_type": "code",
   "execution_count": 56,
   "metadata": {},
   "outputs": [
    {
     "ename": "SchemaKeyMismatch",
     "evalue": "missing keys: .bio.birthplace.city ",
     "output_type": "error",
     "traceback": [
      "\u001b[1;31m---------------------------------------------------------------------------\u001b[0m",
      "\u001b[1;31mSchemaKeyMismatch\u001b[0m                         Traceback (most recent call last)",
      "\u001b[1;32m<ipython-input-56-d8dab4322d43>\u001b[0m in \u001b[0;36m<module>\u001b[1;34m\u001b[0m\n\u001b[1;32m----> 1\u001b[1;33m \u001b[0mvalidate\u001b[0m\u001b[1;33m(\u001b[0m\u001b[0meric\u001b[0m\u001b[1;33m,\u001b[0m \u001b[0mtemplate\u001b[0m\u001b[1;33m)\u001b[0m\u001b[1;33m\u001b[0m\u001b[1;33m\u001b[0m\u001b[0m\n\u001b[0m",
      "\u001b[1;32m<ipython-input-54-6b77118de8cd>\u001b[0m in \u001b[0;36mvalidate\u001b[1;34m(data, template)\u001b[0m\n\u001b[0;32m      1\u001b[0m \u001b[1;32mdef\u001b[0m \u001b[0mvalidate\u001b[0m\u001b[1;33m(\u001b[0m\u001b[0mdata\u001b[0m\u001b[1;33m,\u001b[0m \u001b[0mtemplate\u001b[0m\u001b[1;33m)\u001b[0m\u001b[1;33m:\u001b[0m\u001b[1;33m\u001b[0m\u001b[1;33m\u001b[0m\u001b[0m\n\u001b[1;32m----> 2\u001b[1;33m     \u001b[0mrecurse_validate\u001b[0m\u001b[1;33m(\u001b[0m\u001b[0mdata\u001b[0m\u001b[1;33m,\u001b[0m \u001b[0mtemplate\u001b[0m\u001b[1;33m,\u001b[0m \u001b[1;34m''\u001b[0m\u001b[1;33m)\u001b[0m\u001b[1;33m\u001b[0m\u001b[1;33m\u001b[0m\u001b[0m\n\u001b[0m",
      "\u001b[1;32m<ipython-input-53-ae8e5575c245>\u001b[0m in \u001b[0;36mrecurse_validate\u001b[1;34m(data, template, path)\u001b[0m\n\u001b[0;32m     10\u001b[0m         \u001b[0msub_template\u001b[0m \u001b[1;33m=\u001b[0m \u001b[0mtemplate\u001b[0m\u001b[1;33m[\u001b[0m\u001b[0mkey\u001b[0m\u001b[1;33m]\u001b[0m\u001b[1;33m\u001b[0m\u001b[1;33m\u001b[0m\u001b[0m\n\u001b[0;32m     11\u001b[0m         \u001b[0msub_data\u001b[0m \u001b[1;33m=\u001b[0m \u001b[0mdata\u001b[0m\u001b[1;33m[\u001b[0m\u001b[0mkey\u001b[0m\u001b[1;33m]\u001b[0m\u001b[1;33m\u001b[0m\u001b[1;33m\u001b[0m\u001b[0m\n\u001b[1;32m---> 12\u001b[1;33m         \u001b[0mrecurse_validate\u001b[0m\u001b[1;33m(\u001b[0m\u001b[0msub_data\u001b[0m\u001b[1;33m,\u001b[0m \u001b[0msub_template\u001b[0m\u001b[1;33m,\u001b[0m \u001b[0msub_path\u001b[0m\u001b[1;33m)\u001b[0m\u001b[1;33m\u001b[0m\u001b[1;33m\u001b[0m\u001b[0m\n\u001b[0m",
      "\u001b[1;32m<ipython-input-53-ae8e5575c245>\u001b[0m in \u001b[0;36mrecurse_validate\u001b[1;34m(data, template, path)\u001b[0m\n\u001b[0;32m     10\u001b[0m         \u001b[0msub_template\u001b[0m \u001b[1;33m=\u001b[0m \u001b[0mtemplate\u001b[0m\u001b[1;33m[\u001b[0m\u001b[0mkey\u001b[0m\u001b[1;33m]\u001b[0m\u001b[1;33m\u001b[0m\u001b[1;33m\u001b[0m\u001b[0m\n\u001b[0;32m     11\u001b[0m         \u001b[0msub_data\u001b[0m \u001b[1;33m=\u001b[0m \u001b[0mdata\u001b[0m\u001b[1;33m[\u001b[0m\u001b[0mkey\u001b[0m\u001b[1;33m]\u001b[0m\u001b[1;33m\u001b[0m\u001b[1;33m\u001b[0m\u001b[0m\n\u001b[1;32m---> 12\u001b[1;33m         \u001b[0mrecurse_validate\u001b[0m\u001b[1;33m(\u001b[0m\u001b[0msub_data\u001b[0m\u001b[1;33m,\u001b[0m \u001b[0msub_template\u001b[0m\u001b[1;33m,\u001b[0m \u001b[0msub_path\u001b[0m\u001b[1;33m)\u001b[0m\u001b[1;33m\u001b[0m\u001b[1;33m\u001b[0m\u001b[0m\n\u001b[0m",
      "\u001b[1;32m<ipython-input-53-ae8e5575c245>\u001b[0m in \u001b[0;36mrecurse_validate\u001b[1;34m(data, template, path)\u001b[0m\n\u001b[0;32m      1\u001b[0m \u001b[1;32mdef\u001b[0m \u001b[0mrecurse_validate\u001b[0m\u001b[1;33m(\u001b[0m\u001b[0mdata\u001b[0m\u001b[1;33m,\u001b[0m \u001b[0mtemplate\u001b[0m\u001b[1;33m,\u001b[0m \u001b[0mpath\u001b[0m\u001b[1;33m)\u001b[0m\u001b[1;33m:\u001b[0m\u001b[1;33m\u001b[0m\u001b[1;33m\u001b[0m\u001b[0m\n\u001b[1;32m----> 2\u001b[1;33m     \u001b[0mmatch_keys\u001b[0m\u001b[1;33m(\u001b[0m\u001b[0mdata\u001b[0m\u001b[1;33m,\u001b[0m \u001b[0mtemplate\u001b[0m\u001b[1;33m,\u001b[0m \u001b[0mpath\u001b[0m\u001b[1;33m)\u001b[0m\u001b[1;33m\u001b[0m\u001b[1;33m\u001b[0m\u001b[0m\n\u001b[0m\u001b[0;32m      3\u001b[0m     \u001b[0mmatch_types\u001b[0m\u001b[1;33m(\u001b[0m\u001b[0mdata\u001b[0m\u001b[1;33m,\u001b[0m \u001b[0mtemplate\u001b[0m\u001b[1;33m,\u001b[0m \u001b[0mpath\u001b[0m\u001b[1;33m)\u001b[0m\u001b[1;33m\u001b[0m\u001b[1;33m\u001b[0m\u001b[0m\n\u001b[0;32m      4\u001b[0m \u001b[1;33m\u001b[0m\u001b[0m\n\u001b[0;32m      5\u001b[0m     dictionary_type_keys = {key for key, value in template.items()\n",
      "\u001b[1;32m<ipython-input-51-8f2a5d4d5d82>\u001b[0m in \u001b[0;36mmatch_keys\u001b[1;34m(data, valid, path)\u001b[0m\n\u001b[0;32m     15\u001b[0m                                 for key in extra_keys})\n\u001b[0;32m     16\u001b[0m                      ) if extra_keys else ''\n\u001b[1;32m---> 17\u001b[1;33m         \u001b[1;32mraise\u001b[0m \u001b[0mSchemaKeyMismatch\u001b[0m\u001b[1;33m(\u001b[0m\u001b[1;34m' '\u001b[0m\u001b[1;33m.\u001b[0m\u001b[0mjoin\u001b[0m\u001b[1;33m(\u001b[0m\u001b[1;33m(\u001b[0m\u001b[0mmissing_msg\u001b[0m\u001b[1;33m,\u001b[0m \u001b[0mextras_msg\u001b[0m\u001b[1;33m)\u001b[0m\u001b[1;33m)\u001b[0m\u001b[1;33m)\u001b[0m\u001b[1;33m\u001b[0m\u001b[1;33m\u001b[0m\u001b[0m\n\u001b[0m",
      "\u001b[1;31mSchemaKeyMismatch\u001b[0m: missing keys: .bio.birthplace.city "
     ]
    }
   ],
   "source": [
    "validate(eric, template)"
   ]
  },
  {
   "cell_type": "code",
   "execution_count": 57,
   "metadata": {},
   "outputs": [
    {
     "ename": "SchemaTypeMismatch",
     "evalue": "incorrect type: .bio.dob.month -> expected int, found str",
     "output_type": "error",
     "traceback": [
      "\u001b[1;31m---------------------------------------------------------------------------\u001b[0m",
      "\u001b[1;31mSchemaTypeMismatch\u001b[0m                        Traceback (most recent call last)",
      "\u001b[1;32m<ipython-input-57-c6911eeab1d6>\u001b[0m in \u001b[0;36m<module>\u001b[1;34m\u001b[0m\n\u001b[1;32m----> 1\u001b[1;33m \u001b[0mvalidate\u001b[0m\u001b[1;33m(\u001b[0m\u001b[0mmichael\u001b[0m\u001b[1;33m,\u001b[0m \u001b[0mtemplate\u001b[0m\u001b[1;33m)\u001b[0m\u001b[1;33m\u001b[0m\u001b[1;33m\u001b[0m\u001b[0m\n\u001b[0m",
      "\u001b[1;32m<ipython-input-54-6b77118de8cd>\u001b[0m in \u001b[0;36mvalidate\u001b[1;34m(data, template)\u001b[0m\n\u001b[0;32m      1\u001b[0m \u001b[1;32mdef\u001b[0m \u001b[0mvalidate\u001b[0m\u001b[1;33m(\u001b[0m\u001b[0mdata\u001b[0m\u001b[1;33m,\u001b[0m \u001b[0mtemplate\u001b[0m\u001b[1;33m)\u001b[0m\u001b[1;33m:\u001b[0m\u001b[1;33m\u001b[0m\u001b[1;33m\u001b[0m\u001b[0m\n\u001b[1;32m----> 2\u001b[1;33m     \u001b[0mrecurse_validate\u001b[0m\u001b[1;33m(\u001b[0m\u001b[0mdata\u001b[0m\u001b[1;33m,\u001b[0m \u001b[0mtemplate\u001b[0m\u001b[1;33m,\u001b[0m \u001b[1;34m''\u001b[0m\u001b[1;33m)\u001b[0m\u001b[1;33m\u001b[0m\u001b[1;33m\u001b[0m\u001b[0m\n\u001b[0m",
      "\u001b[1;32m<ipython-input-53-ae8e5575c245>\u001b[0m in \u001b[0;36mrecurse_validate\u001b[1;34m(data, template, path)\u001b[0m\n\u001b[0;32m     10\u001b[0m         \u001b[0msub_template\u001b[0m \u001b[1;33m=\u001b[0m \u001b[0mtemplate\u001b[0m\u001b[1;33m[\u001b[0m\u001b[0mkey\u001b[0m\u001b[1;33m]\u001b[0m\u001b[1;33m\u001b[0m\u001b[1;33m\u001b[0m\u001b[0m\n\u001b[0;32m     11\u001b[0m         \u001b[0msub_data\u001b[0m \u001b[1;33m=\u001b[0m \u001b[0mdata\u001b[0m\u001b[1;33m[\u001b[0m\u001b[0mkey\u001b[0m\u001b[1;33m]\u001b[0m\u001b[1;33m\u001b[0m\u001b[1;33m\u001b[0m\u001b[0m\n\u001b[1;32m---> 12\u001b[1;33m         \u001b[0mrecurse_validate\u001b[0m\u001b[1;33m(\u001b[0m\u001b[0msub_data\u001b[0m\u001b[1;33m,\u001b[0m \u001b[0msub_template\u001b[0m\u001b[1;33m,\u001b[0m \u001b[0msub_path\u001b[0m\u001b[1;33m)\u001b[0m\u001b[1;33m\u001b[0m\u001b[1;33m\u001b[0m\u001b[0m\n\u001b[0m",
      "\u001b[1;32m<ipython-input-53-ae8e5575c245>\u001b[0m in \u001b[0;36mrecurse_validate\u001b[1;34m(data, template, path)\u001b[0m\n\u001b[0;32m     10\u001b[0m         \u001b[0msub_template\u001b[0m \u001b[1;33m=\u001b[0m \u001b[0mtemplate\u001b[0m\u001b[1;33m[\u001b[0m\u001b[0mkey\u001b[0m\u001b[1;33m]\u001b[0m\u001b[1;33m\u001b[0m\u001b[1;33m\u001b[0m\u001b[0m\n\u001b[0;32m     11\u001b[0m         \u001b[0msub_data\u001b[0m \u001b[1;33m=\u001b[0m \u001b[0mdata\u001b[0m\u001b[1;33m[\u001b[0m\u001b[0mkey\u001b[0m\u001b[1;33m]\u001b[0m\u001b[1;33m\u001b[0m\u001b[1;33m\u001b[0m\u001b[0m\n\u001b[1;32m---> 12\u001b[1;33m         \u001b[0mrecurse_validate\u001b[0m\u001b[1;33m(\u001b[0m\u001b[0msub_data\u001b[0m\u001b[1;33m,\u001b[0m \u001b[0msub_template\u001b[0m\u001b[1;33m,\u001b[0m \u001b[0msub_path\u001b[0m\u001b[1;33m)\u001b[0m\u001b[1;33m\u001b[0m\u001b[1;33m\u001b[0m\u001b[0m\n\u001b[0m",
      "\u001b[1;32m<ipython-input-53-ae8e5575c245>\u001b[0m in \u001b[0;36mrecurse_validate\u001b[1;34m(data, template, path)\u001b[0m\n\u001b[0;32m      1\u001b[0m \u001b[1;32mdef\u001b[0m \u001b[0mrecurse_validate\u001b[0m\u001b[1;33m(\u001b[0m\u001b[0mdata\u001b[0m\u001b[1;33m,\u001b[0m \u001b[0mtemplate\u001b[0m\u001b[1;33m,\u001b[0m \u001b[0mpath\u001b[0m\u001b[1;33m)\u001b[0m\u001b[1;33m:\u001b[0m\u001b[1;33m\u001b[0m\u001b[1;33m\u001b[0m\u001b[0m\n\u001b[0;32m      2\u001b[0m     \u001b[0mmatch_keys\u001b[0m\u001b[1;33m(\u001b[0m\u001b[0mdata\u001b[0m\u001b[1;33m,\u001b[0m \u001b[0mtemplate\u001b[0m\u001b[1;33m,\u001b[0m \u001b[0mpath\u001b[0m\u001b[1;33m)\u001b[0m\u001b[1;33m\u001b[0m\u001b[1;33m\u001b[0m\u001b[0m\n\u001b[1;32m----> 3\u001b[1;33m     \u001b[0mmatch_types\u001b[0m\u001b[1;33m(\u001b[0m\u001b[0mdata\u001b[0m\u001b[1;33m,\u001b[0m \u001b[0mtemplate\u001b[0m\u001b[1;33m,\u001b[0m \u001b[0mpath\u001b[0m\u001b[1;33m)\u001b[0m\u001b[1;33m\u001b[0m\u001b[1;33m\u001b[0m\u001b[0m\n\u001b[0m\u001b[0;32m      4\u001b[0m \u001b[1;33m\u001b[0m\u001b[0m\n\u001b[0;32m      5\u001b[0m     dictionary_type_keys = {key for key, value in template.items()\n",
      "\u001b[1;32m<ipython-input-52-70919a1adce1>\u001b[0m in \u001b[0;36mmatch_types\u001b[1;34m(data, template, path)\u001b[0m\n\u001b[0;32m     10\u001b[0m                       \u001b[1;34m' -> expected '\u001b[0m \u001b[1;33m+\u001b[0m \u001b[0mtemplate_type\u001b[0m\u001b[1;33m.\u001b[0m\u001b[0m__name__\u001b[0m \u001b[1;33m+\u001b[0m\u001b[1;33m\u001b[0m\u001b[1;33m\u001b[0m\u001b[0m\n\u001b[0;32m     11\u001b[0m                       ', found ' + type(data_value).__name__)\n\u001b[1;32m---> 12\u001b[1;33m             \u001b[1;32mraise\u001b[0m \u001b[0mSchemaTypeMismatch\u001b[0m\u001b[1;33m(\u001b[0m\u001b[0merr_msg\u001b[0m\u001b[1;33m)\u001b[0m\u001b[1;33m\u001b[0m\u001b[1;33m\u001b[0m\u001b[0m\n\u001b[0m\u001b[0;32m     13\u001b[0m \u001b[1;33m\u001b[0m\u001b[0m\n\u001b[0;32m     14\u001b[0m \u001b[1;33m\u001b[0m\u001b[0m\n",
      "\u001b[1;31mSchemaTypeMismatch\u001b[0m: incorrect type: .bio.dob.month -> expected int, found str"
     ]
    }
   ],
   "source": [
    "validate(michael, template)"
   ]
  },
  {
   "cell_type": "code",
   "execution_count": 58,
   "metadata": {},
   "outputs": [],
   "source": [
    "try:\n",
    "    validate(john, template)\n",
    "except SchemaError as ex:\n",
    "    print(ex)"
   ]
  },
  {
   "cell_type": "code",
   "execution_count": 59,
   "metadata": {},
   "outputs": [
    {
     "name": "stdout",
     "output_type": "stream",
     "text": [
      "missing keys: .bio.birthplace.city \n"
     ]
    }
   ],
   "source": [
    "try:\n",
    "    validate(eric, template)\n",
    "except SchemaError as ex:\n",
    "    print(ex)"
   ]
  },
  {
   "cell_type": "code",
   "execution_count": 62,
   "metadata": {},
   "outputs": [
    {
     "name": "stdout",
     "output_type": "stream",
     "text": [
      "incorrect type: .bio.dob.month -> expected int, found str\n"
     ]
    }
   ],
   "source": [
    "try:\n",
    "    validate(michael, template)\n",
    "except SchemaTypeMismatch as ex:\n",
    "    print(ex)"
   ]
  },
  {
   "cell_type": "code",
   "execution_count": 70,
   "metadata": {},
   "outputs": [
    {
     "name": "stdout",
     "output_type": "stream",
     "text": [
      "handling some general schema exception  extra keys: .bio.birthplace.house\n"
     ]
    }
   ],
   "source": [
    "try:\n",
    "    validate(bad_john, template)\n",
    "# except SchemaKeyMismatch as ex:\n",
    "#     print('handling a key mismatch exception', ex)\n",
    "# except SchemaTypeMismatch as ex:\n",
    "#     print('handling a type mismatch exception', ex)\n",
    "except SchemaError as ex:\n",
    "    print('handling some general schema exception', ex)\n",
    "except TypeError as ex:\n",
    "    print('handling a general type exception', ex)"
   ]
  },
  {
   "cell_type": "code",
   "execution_count": null,
   "metadata": {},
   "outputs": [],
   "source": []
  }
 ],
 "metadata": {
  "kernelspec": {
   "display_name": "Python 3",
   "language": "python",
   "name": "python3"
  },
  "language_info": {
   "codemirror_mode": {
    "name": "ipython",
    "version": 3
   },
   "file_extension": ".py",
   "mimetype": "text/x-python",
   "name": "python",
   "nbconvert_exporter": "python",
   "pygments_lexer": "ipython3",
   "version": "3.7.6"
  }
 },
 "nbformat": 4,
 "nbformat_minor": 4
}
