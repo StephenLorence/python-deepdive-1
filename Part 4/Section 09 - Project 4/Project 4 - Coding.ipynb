{
 "cells": [
  {
   "cell_type": "markdown",
   "metadata": {},
   "source": [
    "### Instructions:\n",
    "##### Part 1:\n",
    "Write two data descriptors:\n",
    "- IntegerField -> only allows `integral` numbers between `minimum` and `maximum` value.\n",
    "- CharField -> only allows `strings` with a `minimum` and `maximum` length.\n",
    "\n",
    "Assume we're not using slots."
   ]
  },
  {
   "cell_type": "markdown",
   "metadata": {},
   "source": [
    "##### Part 2:\n",
    "\n",
    "Refactor your code and createa a `BaseValidator` class that will handle the common functionality.\n",
    "\n",
    "Then change your `IntegerField` and `CharField` descriptors to inherit from BaseValidator.\n",
    "\n",
    "\n",
    "If you haven't coded your descriptors that way already, make sure you can also omit one or both of the `miminum` and `maximum` values where it makes sense.\n",
    "\n",
    "For example we may want to specify a string field that has no `maximum` limit, or we may want an integer field that has an upper bound, but no lower bound, or maybe no bounds at all."
   ]
  },
  {
   "cell_type": "code",
   "execution_count": null,
   "metadata": {},
   "outputs": [],
   "source": []
  },
  {
   "cell_type": "code",
   "execution_count": null,
   "metadata": {},
   "outputs": [],
   "source": []
  },
  {
   "cell_type": "code",
   "execution_count": null,
   "metadata": {},
   "outputs": [],
   "source": []
  }
 ],
 "metadata": {
  "kernelspec": {
   "display_name": "Python 3",
   "language": "python",
   "name": "python3"
  },
  "language_info": {
   "codemirror_mode": {
    "name": "ipython",
    "version": 3
   },
   "file_extension": ".py",
   "mimetype": "text/x-python",
   "name": "python",
   "nbconvert_exporter": "python",
   "pygments_lexer": "ipython3",
   "version": "3.7.6"
  }
 },
 "nbformat": 4,
 "nbformat_minor": 4
}
