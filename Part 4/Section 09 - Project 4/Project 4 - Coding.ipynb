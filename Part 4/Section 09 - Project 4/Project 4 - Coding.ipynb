{
 "cells": [
  {
   "cell_type": "markdown",
   "metadata": {},
   "source": [
    "### Instructions:\n",
    "##### Part 1:\n",
    "Write two data descriptors:\n",
    "- IntegerField -> only allows `integral` numbers between `minimum` and `maximum` value.\n",
    "- CharField -> only allows `strings` with a `minimum` and `maximum` length.\n",
    "\n",
    "Assume we're not using slots."
   ]
  },
  {
   "cell_type": "markdown",
   "metadata": {},
   "source": [
    "##### Part 2:\n",
    "\n",
    "Refactor your code and createa a `BaseValidator` class that will handle the common functionality.\n",
    "\n",
    "Then change your `IntegerField` and `CharField` descriptors to inherit from BaseValidator.\n",
    "\n",
    "\n",
    "If you haven't coded your descriptors that way already, make sure you can also omit one or both of the `miminum` and `maximum` values where it makes sense.\n",
    "\n",
    "For example we may want to specify a string field that has no `maximum` limit, or we may want an integer field that has an upper bound, but no lower bound, or maybe no bounds at all."
   ]
  },
  {
   "cell_type": "markdown",
   "metadata": {},
   "source": [
    "Don't forget unit tests!"
   ]
  },
  {
   "cell_type": "markdown",
   "metadata": {},
   "source": [
    "### Part 1:"
   ]
  },
  {
   "cell_type": "code",
   "execution_count": 7,
   "metadata": {},
   "outputs": [],
   "source": [
    "from numbers import Integral\n",
    "\n",
    "class IntegerField:\n",
    "    def __init__(self, min_value=None, max_value=None):\n",
    "        self.min_value = min_value\n",
    "        self.max_value = max_value\n",
    "        \n",
    "    def __set_name__(self, owner_class, name):\n",
    "        self.name = name\n",
    "        \n",
    "    def __get__(self, instance, owner_class):\n",
    "        if instance is None:\n",
    "            return self\n",
    "        return instance.__dict__.get(self.name, None)\n",
    "    \n",
    "    def __set__(self, instance, value):\n",
    "        if not isinstance(value, Integral):\n",
    "            raise TypeError(f'{self.name} must be an integral number.')\n",
    "        if self.min_value is not None and self.min_value > value:\n",
    "            raise ValueError(f'{self.name} cannot be below {self.min_value}.')\n",
    "        if self.max_value is not None and self.max_value < value:\n",
    "            raise ValueError(f'{self.name} cannot be greater than {self.max_value}.')\n",
    "        instance.__dict__[self.name] = value\n",
    "        \n",
    "class CharField:\n",
    "    def __init__(self, min_value=None, max_value=None):\n",
    "        self.min_value = min_value\n",
    "        self.max_value = max_value\n",
    "        \n",
    "    def __set_name__(self, owner_class, name):\n",
    "        self.name = name\n",
    "        \n",
    "    def __get__(self, instance, owner_class):\n",
    "        if instance is None:\n",
    "            return self\n",
    "        return instance.__dict__.get(self.name, None)\n",
    "    \n",
    "    def __set__(self, instance, value):\n",
    "        if not isinstance(value, str):\n",
    "            raise TypeError(f'{self.name} must be a string.')\n",
    "        if self.min_value is not None and self.min_value > len(value):\n",
    "            raise ValueError(f'{self.name} cannot be shorter than {self.min_value} characters.')\n",
    "        if self.max_value is not None and self.max_value < len(value):\n",
    "            raise ValueError(f'{self.name} cannot be longer than {self.max_value} characters.')\n",
    "        instance.__dict__[self.name] = value"
   ]
  },
  {
   "cell_type": "code",
   "execution_count": 8,
   "metadata": {},
   "outputs": [],
   "source": [
    "class TestClass:\n",
    "    number = IntegerField(min_value=2, max_value=100.1)\n",
    "    string = CharField(min_value=1, max_value=25)\n",
    "    \n",
    "    def __init__(self, test_number, test_string):\n",
    "        self.number = test_number\n",
    "        self.string = test_string"
   ]
  },
  {
   "cell_type": "code",
   "execution_count": 21,
   "metadata": {},
   "outputs": [],
   "source": [
    "t = TestClass(5, '1234567890123456789012345')\n",
    "assert t.number == 5\n",
    "assert t.string == '1234567890123456789012345'\n",
    "t.number = 4\n",
    "assert t.number == 4\n",
    "t.string = '1'\n",
    "assert t.string == '1'"
   ]
  },
  {
   "cell_type": "code",
   "execution_count": 24,
   "metadata": {},
   "outputs": [],
   "source": [
    "try:\n",
    "    t = TestClass(1, 'hello')\n",
    "except ValueError as ex:\n",
    "    assert 'cannot be below' in str(ex)"
   ]
  },
  {
   "cell_type": "code",
   "execution_count": 25,
   "metadata": {},
   "outputs": [],
   "source": [
    "try:\n",
    "    t = TestClass(200, 'hello')\n",
    "except ValueError as ex:\n",
    "    assert 'cannot be greater' in str(ex)"
   ]
  },
  {
   "cell_type": "code",
   "execution_count": 26,
   "metadata": {},
   "outputs": [],
   "source": [
    "try:\n",
    "    t = TestClass(2, '')\n",
    "except ValueError as ex:\n",
    "    assert 'cannot be shorter' in str(ex)"
   ]
  },
  {
   "cell_type": "code",
   "execution_count": 27,
   "metadata": {},
   "outputs": [],
   "source": [
    "try:\n",
    "    t = TestClass(2, '12345678901234567890123456')\n",
    "except ValueError as ex:\n",
    "    assert 'cannot be longer' in str(ex)"
   ]
  },
  {
   "cell_type": "code",
   "execution_count": 28,
   "metadata": {},
   "outputs": [],
   "source": [
    "try:\n",
    "    t = TestClass('2', '12345678901234567890123456')\n",
    "except TypeError as ex:\n",
    "    assert 'integral' in str(ex)"
   ]
  },
  {
   "cell_type": "code",
   "execution_count": 29,
   "metadata": {},
   "outputs": [],
   "source": [
    "try:\n",
    "    t = TestClass(2, 3)\n",
    "except TypeError as ex:\n",
    "    assert 'string' in str(ex)"
   ]
  },
  {
   "cell_type": "markdown",
   "metadata": {},
   "source": [
    "### Part 2:"
   ]
  },
  {
   "cell_type": "code",
   "execution_count": 57,
   "metadata": {},
   "outputs": [],
   "source": [
    "from numbers import Integral\n",
    "\n",
    "class BaseValidator:\n",
    "    def __init__(self, min_value=None,\n",
    "                 max_value=None,\n",
    "                 input_type=None,\n",
    "                 validation_type='value'):\n",
    "        self.min_value = min_value\n",
    "        self.max_value = max_value\n",
    "        self.input_type = input_type\n",
    "        self.validation_type = validation_type\n",
    "        \n",
    "    def __set_name__(self, owner_class, name):\n",
    "        self.name = name\n",
    "        \n",
    "    def __get__(self, instance, owner_class):\n",
    "        if instance is None:\n",
    "            return self\n",
    "        return instance.__dict__.get(self.name, None)\n",
    "    \n",
    "    def validate(self, value):\n",
    "        pass\n",
    "    \n",
    "    def __set__(self, instance, value):\n",
    "        self.validate(value)\n",
    "        instance.__dict__[self.name] = value\n",
    "        \n",
    "class IntegerField(BaseValidator):\n",
    "    def __init__(self, min_value=None, max_value=None):\n",
    "        super().__init__(min_value=min_value,\n",
    "                         max_value=max_value,\n",
    "                         input_type=Integral)\n",
    "        \n",
    "    def validate(self, value):\n",
    "        if not isinstance(value, self.input_type):\n",
    "            raise TypeError(f'{self.name} must be of type {self.input_type.__name__}.')\n",
    "        if self.min_value is not None and self.min_value > value:\n",
    "            raise ValueError(f'Minimum allowable {self.validation_type} for {self.name} is {self.min_value}.')\n",
    "        if self.max_value is not None and self.max_value < value:\n",
    "            raise ValueError(f'Maximum allowable {self.validation_type} for {self.name} is {self.max_value}.')\n",
    "        \n",
    "class CharField(BaseValidator):\n",
    "    def __init__(self, min_value=None, max_value=None):\n",
    "        super().__init__(min_value=min_value,\n",
    "                         max_value=max_value,\n",
    "                         input_type=str,\n",
    "                         validation_type='length')\n",
    "        \n",
    "    def validate(self, value):\n",
    "        if not isinstance(value, self.input_type):\n",
    "            raise TypeError(f'{self.name} must be of type {self.input_type.__name__}.')\n",
    "        if self.min_value is not None and self.min_value > len(value):\n",
    "            raise ValueError(f'Minimum allowable {self.validation_type} for {self.name} is {self.min_value}.')\n",
    "        if self.max_value is not None and self.max_value < len(value):\n",
    "            raise ValueError(f'Maximum allowable {self.validation_type} for {self.name} is {self.max_value}.')"
   ]
  },
  {
   "cell_type": "code",
   "execution_count": 58,
   "metadata": {},
   "outputs": [],
   "source": [
    "class TestClass:\n",
    "    number = IntegerField(min_value=2, max_value=100.1)\n",
    "    string = CharField(min_value=1, max_value=25)\n",
    "    \n",
    "    def __init__(self, test_number, test_string):\n",
    "        self.number = test_number\n",
    "        self.string = test_string"
   ]
  },
  {
   "cell_type": "code",
   "execution_count": 59,
   "metadata": {},
   "outputs": [],
   "source": [
    "t = TestClass(5, '1234567890123456789012345')\n",
    "assert t.number == 5\n",
    "assert t.string == '1234567890123456789012345'\n",
    "t.number = 4\n",
    "assert t.number == 4\n",
    "t.string = '1'\n",
    "assert t.string == '1'"
   ]
  },
  {
   "cell_type": "code",
   "execution_count": 60,
   "metadata": {},
   "outputs": [],
   "source": [
    "try:\n",
    "    t = TestClass(1, 'hello')\n",
    "except ValueError as ex:\n",
    "    assert 'Minimum allowable value' in str(ex)"
   ]
  },
  {
   "cell_type": "code",
   "execution_count": 61,
   "metadata": {},
   "outputs": [],
   "source": [
    "try:\n",
    "    t = TestClass(200, 'hello')\n",
    "except ValueError as ex:\n",
    "    assert 'Maximum allowable value' in str(ex)"
   ]
  },
  {
   "cell_type": "code",
   "execution_count": 62,
   "metadata": {},
   "outputs": [],
   "source": [
    "try:\n",
    "    t = TestClass(2, '')\n",
    "except ValueError as ex:\n",
    "    assert 'Minimum allowable length' in str(ex)"
   ]
  },
  {
   "cell_type": "code",
   "execution_count": 63,
   "metadata": {},
   "outputs": [],
   "source": [
    "try:\n",
    "    t = TestClass(2, '12345678901234567890123456')\n",
    "except ValueError as ex:\n",
    "    assert 'Maximum allowable length' in str(ex)"
   ]
  },
  {
   "cell_type": "code",
   "execution_count": 64,
   "metadata": {},
   "outputs": [],
   "source": [
    "try:\n",
    "    t = TestClass('2', '12345678901234567890123456')\n",
    "except TypeError as ex:\n",
    "    assert 'type Integral' in str(ex)"
   ]
  },
  {
   "cell_type": "code",
   "execution_count": 65,
   "metadata": {},
   "outputs": [
    {
     "name": "stdout",
     "output_type": "stream",
     "text": [
      "string must be of type str.\n"
     ]
    }
   ],
   "source": [
    "try:\n",
    "    t = TestClass(2, 3)\n",
    "except TypeError as ex:\n",
    "    print(ex)\n",
    "    assert 'type str' in str(ex)"
   ]
  },
  {
   "cell_type": "code",
   "execution_count": null,
   "metadata": {},
   "outputs": [],
   "source": []
  },
  {
   "cell_type": "code",
   "execution_count": null,
   "metadata": {},
   "outputs": [],
   "source": []
  }
 ],
 "metadata": {
  "kernelspec": {
   "display_name": "Python 3",
   "language": "python",
   "name": "python3"
  },
  "language_info": {
   "codemirror_mode": {
    "name": "ipython",
    "version": 3
   },
   "file_extension": ".py",
   "mimetype": "text/x-python",
   "name": "python",
   "nbconvert_exporter": "python",
   "pygments_lexer": "ipython3",
   "version": "3.7.6"
  }
 },
 "nbformat": 4,
 "nbformat_minor": 4
}
