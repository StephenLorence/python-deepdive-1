{
 "cells": [
  {
   "cell_type": "markdown",
   "metadata": {},
   "source": [
    "#### Features\n",
    "* Create a single enumeration called `AppException`.\n",
    "* Exceptions have a name (key) and three associated values\n",
    "    * name (e.g. `NotAnInteger`)\n",
    "    * code (e.g. `100`)\n",
    "    * default message (e.g. 'Value is not an integer.')\n",
    "    * associated exception type (e.g. `ValueError`)\n",
    "    \n",
    "* Lookup by exception name (key) or code (value)\n",
    "    * `AppException['NotAnInteger']`    `AppException(100)`\n",
    "* Method to raise an exception\n",
    "    * `AppException.Timeout.throw()`\n",
    "* Ability to override default message when throwing exception\n",
    "    * `AppException.Timeout.throw('Timeout connecting to DB.)`"
   ]
  },
  {
   "cell_type": "markdown",
   "metadata": {},
   "source": [
    "#### Tips\n",
    "Enumeration members will be defined using a `tuple` containing three values:\n",
    "* code, exception type (class name), default message\n",
    "* `NotAnInteger = 100, ValueError, 'Value is not an integer'`\n",
    "\n",
    "Use the `__new__` approach from customizing and extending coding section.\n",
    "\n",
    "Make the `value` the error code.\n",
    "\n",
    "Provide an additional property for `message`."
   ]
  },
  {
   "cell_type": "code",
   "execution_count": null,
   "metadata": {},
   "outputs": [],
   "source": []
  }
 ],
 "metadata": {
  "kernelspec": {
   "display_name": "Python 3",
   "language": "python",
   "name": "python3"
  },
  "language_info": {
   "codemirror_mode": {
    "name": "ipython",
    "version": 3
   },
   "file_extension": ".py",
   "mimetype": "text/x-python",
   "name": "python",
   "nbconvert_exporter": "python",
   "pygments_lexer": "ipython3",
   "version": "3.7.6"
  }
 },
 "nbformat": 4,
 "nbformat_minor": 4
}
