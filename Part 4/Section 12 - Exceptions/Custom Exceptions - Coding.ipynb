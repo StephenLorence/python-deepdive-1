{
 "cells": [
  {
   "cell_type": "code",
   "execution_count": 1,
   "metadata": {},
   "outputs": [],
   "source": [
    "class TimeoutError(Exception):\n",
    "    \"\"\"Timeout exception\"\"\""
   ]
  },
  {
   "cell_type": "code",
   "execution_count": 5,
   "metadata": {},
   "outputs": [
    {
     "name": "stdout",
     "output_type": "stream",
     "text": [
      "<class '__main__.TimeoutError'> timeout occurred <traceback object at 0x00000119C9807988>\n"
     ]
    }
   ],
   "source": [
    "import sys\n",
    "\n",
    "try:\n",
    "    raise TimeoutError('timeout occurred')\n",
    "except:\n",
    "    ex_type, ex, tb = sys.exc_info()\n",
    "    print(ex_type, ex, tb)"
   ]
  },
  {
   "cell_type": "code",
   "execution_count": 6,
   "metadata": {},
   "outputs": [
    {
     "name": "stdout",
     "output_type": "stream",
     "text": [
      "('timeout occurred',) <traceback object at 0x00000119C9807EC8>\n"
     ]
    }
   ],
   "source": [
    "try:\n",
    "    raise TimeoutError('timeout occurred')\n",
    "except Exception as ex:\n",
    "    print(ex.args, ex.__traceback__)"
   ]
  },
  {
   "cell_type": "code",
   "execution_count": 7,
   "metadata": {},
   "outputs": [],
   "source": [
    "class ReadOnlyError(AttributeError):\n",
    "    \"\"\"Indicates an attribute is read-only\"\"\""
   ]
  },
  {
   "cell_type": "code",
   "execution_count": 9,
   "metadata": {},
   "outputs": [
    {
     "name": "stdout",
     "output_type": "stream",
     "text": [
      "ReadOnlyError('Account number is read-only', 'BA10001')\n"
     ]
    }
   ],
   "source": [
    "try:\n",
    "    raise ReadOnlyError('Account number is read-only', 'BA10001')\n",
    "except ReadOnlyError as ex:\n",
    "    print(repr(ex))"
   ]
  },
  {
   "cell_type": "code",
   "execution_count": 10,
   "metadata": {},
   "outputs": [
    {
     "name": "stdout",
     "output_type": "stream",
     "text": [
      "ReadOnlyError('Account number is read-only', 'BA10001')\n"
     ]
    }
   ],
   "source": [
    "try:\n",
    "    raise ReadOnlyError('Account number is read-only', 'BA10001')\n",
    "except BaseException as ex:\n",
    "    print(repr(ex))"
   ]
  },
  {
   "cell_type": "code",
   "execution_count": 11,
   "metadata": {},
   "outputs": [],
   "source": [
    "class WebScraperException(Exception):\n",
    "    \"\"\"Base exception for WebScraper\"\"\"\n",
    "    \n",
    "class HTTPException(WebScraperException):\n",
    "    \"\"\"General HTTP exception for WS\"\"\"\n",
    "    \n",
    "class InvalidUrlException(HTTPException):\n",
    "    \"\"\"Indicates the url is invalid (dns lookup fail)\"\"\"\n",
    "    \n",
    "class TimeoutException(HTTPException):\n",
    "    \"\"\"Indicates a general timeout exception in http connectivity\"\"\"\n",
    "    \n",
    "class PingTimeoutException(TimeoutException):\n",
    "    \"\"\"Ping time out\"\"\"\n",
    "    \n",
    "class LoadTimeoutException(TimeoutException):\n",
    "    \"\"\"Page load time out\"\"\"\n",
    "    \n",
    "class ParserException(WebScraperException):\n",
    "    \"\"\"General page parsing exception\"\"\""
   ]
  },
  {
   "cell_type": "code",
   "execution_count": 12,
   "metadata": {},
   "outputs": [
    {
     "name": "stdout",
     "output_type": "stream",
     "text": [
      "PingTimeoutException('Ping to www.... timed out')\n"
     ]
    }
   ],
   "source": [
    "try:\n",
    "    raise PingTimeoutException('Ping to www.... timed out')\n",
    "except WebScraperException as ex:\n",
    "    print(repr(ex))"
   ]
  },
  {
   "cell_type": "code",
   "execution_count": 13,
   "metadata": {},
   "outputs": [],
   "source": [
    "class APIException(Exception):\n",
    "    \"\"\"Base API exception\"\"\""
   ]
  },
  {
   "cell_type": "code",
   "execution_count": 14,
   "metadata": {},
   "outputs": [],
   "source": [
    "class ApplicationException(APIException):\n",
    "    \"\"\"Indicates an application error (not user caused) - 5xx HTTP type errors\"\"\"\n",
    "    \n",
    "class DBException(ApplicationException):\n",
    "    \"\"\"General database exception\"\"\"\n",
    "    \n",
    "class DBConnectionError(DBException):\n",
    "    \"\"\"Indicates an error connecting to database\"\"\"\n",
    "    \n",
    "class ClientException(APIException):\n",
    "    \"\"\"Indicates exception that was caused by user, not an internal error\"\"\"\n",
    "    \n",
    "class NotFoundError(ClientException):\n",
    "    \"\"\"Indicates resource was not found\"\"\"\n",
    "\n",
    "class NotAuthorizedError(ClientException):\n",
    "    \"\"\"User is not authorized to perform requested action on resource\"\"\""
   ]
  },
  {
   "cell_type": "code",
   "execution_count": 15,
   "metadata": {},
   "outputs": [],
   "source": [
    "class Account:\n",
    "    def __init__(self, account_id, account_type):\n",
    "        self.account_id = account_id\n",
    "        self.account_type = account_type"
   ]
  },
  {
   "cell_type": "code",
   "execution_count": 16,
   "metadata": {},
   "outputs": [],
   "source": [
    "def lookup_account_by_id(account_id):\n",
    "    if not isinstance(account_id, int) or account_id <= 0:\n",
    "        raise ClientException(f'Account number {account_id} is invalid.')\n",
    "        \n",
    "    if account_id < 100:\n",
    "        raise DBConnectionError('Permanent failure connecting to database.')\n",
    "    elif account_id < 200:\n",
    "        raise NotAuthorizedError('User does not have permissions to read this account.')\n",
    "    elif account_id < 300:\n",
    "        raise NotFoundError('Account not found')\n",
    "    else:\n",
    "        return Account(account_id, 'Savings')"
   ]
  },
  {
   "cell_type": "code",
   "execution_count": 17,
   "metadata": {},
   "outputs": [],
   "source": [
    "from http import HTTPStatus"
   ]
  },
  {
   "cell_type": "code",
   "execution_count": 18,
   "metadata": {},
   "outputs": [],
   "source": [
    "def get_account(account_id):\n",
    "    try:\n",
    "        account = lookup_account_by_id(account_id)\n",
    "    except ApplicationException as ex:\n",
    "        return HTTPStatus.INTERNAL_SERVER_ERROR, str(ex)\n",
    "    except NotFoundError as ex:\n",
    "        return HTTPStatus.NOT_FOUND, 'The account {} does not exist'.format(account_id)\n",
    "    except NotAuthorizedError as ex:\n",
    "        return HTTPStatus.UNAUTHORIZED, 'You do not have the proper authorization.'\n",
    "    except ClientException as ex:\n",
    "        return HTTPStatus.BAD_REQUEST, str(ex)\n",
    "    else:\n",
    "        return HTTPStatus.OK, {\"id\": account.account_id, \"type\": account.account_type}"
   ]
  },
  {
   "cell_type": "code",
   "execution_count": 19,
   "metadata": {},
   "outputs": [
    {
     "data": {
      "text/plain": [
       "(<HTTPStatus.BAD_REQUEST: 400>, 'Account number abc is invalid.')"
      ]
     },
     "execution_count": 19,
     "metadata": {},
     "output_type": "execute_result"
    }
   ],
   "source": [
    "get_account('abc')"
   ]
  },
  {
   "cell_type": "code",
   "execution_count": 20,
   "metadata": {},
   "outputs": [
    {
     "data": {
      "text/plain": [
       "(<HTTPStatus.INTERNAL_SERVER_ERROR: 500>,\n",
       " 'Permanent failure connecting to database.')"
      ]
     },
     "execution_count": 20,
     "metadata": {},
     "output_type": "execute_result"
    }
   ],
   "source": [
    "get_account(50)"
   ]
  },
  {
   "cell_type": "code",
   "execution_count": 21,
   "metadata": {},
   "outputs": [
    {
     "data": {
      "text/plain": [
       "(<HTTPStatus.UNAUTHORIZED: 401>, 'You do not have the proper authorization.')"
      ]
     },
     "execution_count": 21,
     "metadata": {},
     "output_type": "execute_result"
    }
   ],
   "source": [
    "get_account(150)"
   ]
  },
  {
   "cell_type": "code",
   "execution_count": 22,
   "metadata": {},
   "outputs": [
    {
     "data": {
      "text/plain": [
       "(<HTTPStatus.NOT_FOUND: 404>, 'The account 250 does not exist')"
      ]
     },
     "execution_count": 22,
     "metadata": {},
     "output_type": "execute_result"
    }
   ],
   "source": [
    "get_account(250)"
   ]
  },
  {
   "cell_type": "code",
   "execution_count": 23,
   "metadata": {},
   "outputs": [
    {
     "data": {
      "text/plain": [
       "(<HTTPStatus.OK: 200>, {'id': 350, 'type': 'Savings'})"
      ]
     },
     "execution_count": 23,
     "metadata": {},
     "output_type": "execute_result"
    }
   ],
   "source": [
    "get_account(350)"
   ]
  },
  {
   "cell_type": "code",
   "execution_count": 24,
   "metadata": {},
   "outputs": [],
   "source": [
    "class APIException(Exception):\n",
    "    \"\"\"Base API exception\"\"\"\n",
    "    \n",
    "    http_status = HTTPStatus.INTERNAL_SERVER_ERROR\n",
    "    internal_error_msg = 'API exception occurred.'\n",
    "    user_err_msg = 'We are sorry! An unexpected error occurred on our end.'\n",
    "    \n",
    "    def __init__(self, *args, user_err_msg=None):\n",
    "        if args:\n",
    "            self.internal_error_msg = args[0]\n",
    "            super().__init__(*args)\n",
    "        else:\n",
    "            super().__init__(self.internal_error_msg)\n",
    "            \n",
    "        if user_err_msg is not None:\n",
    "            self.user_err_msg = user_err_msg"
   ]
  },
  {
   "cell_type": "code",
   "execution_count": 25,
   "metadata": {},
   "outputs": [
    {
     "name": "stdout",
     "output_type": "stream",
     "text": [
      "APIException('API exception occurred.')\n",
      "We are sorry! An unexpected error occurred on our end.\n"
     ]
    }
   ],
   "source": [
    "try:\n",
    "    raise APIException()\n",
    "except APIException as ex:\n",
    "    print(repr(ex))\n",
    "    print(ex.user_err_msg)"
   ]
  },
  {
   "cell_type": "code",
   "execution_count": 26,
   "metadata": {},
   "outputs": [
    {
     "name": "stdout",
     "output_type": "stream",
     "text": [
      "APIException('custom message...', 10, 20)\n",
      "We are sorry! An unexpected error occurred on our end.\n"
     ]
    }
   ],
   "source": [
    "try:\n",
    "    raise APIException('custom message...', 10, 20)\n",
    "except APIException as ex:\n",
    "    print(repr(ex))\n",
    "    print(ex.user_err_msg)"
   ]
  },
  {
   "cell_type": "code",
   "execution_count": 28,
   "metadata": {},
   "outputs": [
    {
     "name": "stdout",
     "output_type": "stream",
     "text": [
      "APIException('custom message...', 10, 20)\n",
      "custom user msg\n"
     ]
    }
   ],
   "source": [
    "try:\n",
    "    raise APIException('custom message...', 10, 20, user_err_msg='custom user msg')\n",
    "except APIException as ex:\n",
    "    print(repr(ex))\n",
    "    print(ex.user_err_msg)"
   ]
  },
  {
   "cell_type": "code",
   "execution_count": 29,
   "metadata": {},
   "outputs": [],
   "source": [
    "import json"
   ]
  },
  {
   "cell_type": "code",
   "execution_count": 30,
   "metadata": {},
   "outputs": [],
   "source": [
    "class APIException(Exception):\n",
    "    \"\"\"Base API exception\"\"\"\n",
    "    \n",
    "    http_status = HTTPStatus.INTERNAL_SERVER_ERROR\n",
    "    internal_error_msg = 'API exception occurred.'\n",
    "    user_err_msg = 'We are sorry! An unexpected error occurred on our end.'\n",
    "    \n",
    "    def __init__(self, *args, user_err_msg=None):\n",
    "        if args:\n",
    "            self.internal_error_msg = args[0]\n",
    "            super().__init__(*args)\n",
    "        else:\n",
    "            super().__init__(self.internal_error_msg)\n",
    "            \n",
    "        if user_err_msg is not None:\n",
    "            self.user_err_msg = user_err_msg\n",
    "            \n",
    "    def to_json(self):\n",
    "        err_object = {'status': self.http_status, 'message': self.user_err_msg}\n",
    "        return json.dumps(err_object)"
   ]
  },
  {
   "cell_type": "code",
   "execution_count": 32,
   "metadata": {},
   "outputs": [
    {
     "name": "stdout",
     "output_type": "stream",
     "text": [
      "APIException('API exception occurred.')\n",
      "{\"status\": 500, \"message\": \"We are sorry! An unexpected error occurred on our end.\"}\n"
     ]
    }
   ],
   "source": [
    "try:\n",
    "    raise APIException()\n",
    "except APIException as ex:\n",
    "    print(repr(ex))\n",
    "    print(ex.to_json())"
   ]
  },
  {
   "cell_type": "code",
   "execution_count": 33,
   "metadata": {},
   "outputs": [],
   "source": [
    "from datetime import datetime"
   ]
  },
  {
   "cell_type": "code",
   "execution_count": 37,
   "metadata": {},
   "outputs": [],
   "source": [
    "class APIException(Exception):\n",
    "    \"\"\"Base API exception\"\"\"\n",
    "    \n",
    "    http_status = HTTPStatus.INTERNAL_SERVER_ERROR\n",
    "    internal_err_msg = 'API exception occurred.'\n",
    "    user_err_msg = 'We are sorry! An unexpected error occurred on our end.'\n",
    "    \n",
    "    def __init__(self, *args, user_err_msg=None):\n",
    "        if args:\n",
    "            self.internal_err_msg = args[0]\n",
    "            super().__init__(*args)\n",
    "        else:\n",
    "            super().__init__(self.internal_err_msg)\n",
    "            \n",
    "        if user_err_msg is not None:\n",
    "            self.user_err_msg = user_err_msg\n",
    "            \n",
    "    def to_json(self):\n",
    "        err_object = {'status': self.http_status, 'message': self.user_err_msg}\n",
    "        return json.dumps(err_object)\n",
    "    \n",
    "    def log_exception(self):\n",
    "        exception = {\n",
    "            \"type\": type(self).__name__,\n",
    "            \"http_status\": self.http_status,\n",
    "            \"message\": self.args[0] if self.args else self.internal_err_msg,\n",
    "            \"args\": self.args[1:]\n",
    "        }\n",
    "        print(f'EXCEPTION: {datetime.utcnow().isoformat()}: {exception}')"
   ]
  },
  {
   "cell_type": "code",
   "execution_count": 38,
   "metadata": {},
   "outputs": [
    {
     "name": "stdout",
     "output_type": "stream",
     "text": [
      "EXCEPTION: 2021-04-05T01:16:46.424439: {'type': 'APIException', 'http_status': <HTTPStatus.INTERNAL_SERVER_ERROR: 500>, 'message': 'API exception occurred.', 'args': ()}\n",
      "{\"status\": 500, \"message\": \"We are sorry! An unexpected error occurred on our end.\"}\n"
     ]
    }
   ],
   "source": [
    "try:\n",
    "    raise APIException()\n",
    "except APIException as ex:\n",
    "    ex.log_exception()\n",
    "    print(ex.to_json())"
   ]
  },
  {
   "cell_type": "code",
   "execution_count": 40,
   "metadata": {},
   "outputs": [],
   "source": [
    "class ApplicationException(APIException):\n",
    "    \"\"\"Indicates an application error (not user caused) - 5xx HTTP type errors\"\"\"\n",
    "    http_status = HTTPStatus.INTERNAL_SERVER_ERROR\n",
    "    internal_err_msg = 'Generic server side exception.'\n",
    "    user_err_msg = 'We are sorry. An unexpected error occurred on our end.'\n",
    "    \n",
    "class DBException(ApplicationException):\n",
    "    \"\"\"General database exception\"\"\"\n",
    "    http_status = HTTPStatus.INTERNAL_SERVER_ERROR\n",
    "    internal_err_msg = 'Database exception.'\n",
    "    user_err_msg = 'We are sorry. An unexpected error occurred on our end.'\n",
    "    \n",
    "class DBConnectionError(DBException):\n",
    "    \"\"\"Indicates an error connecting to database\"\"\"\n",
    "    http_status = HTTPStatus.INTERNAL_SERVER_ERROR\n",
    "    internal_err_msg = 'Database connection exception.'\n",
    "    user_err_msg = 'We are sorry. An unexpected error occurred on our end.'\n",
    "    \n",
    "class ClientException(APIException):\n",
    "    \"\"\"Indicates exception that was caused by user, not an internal error\"\"\"\n",
    "    http_status = HTTPStatus.BAD_REQUEST\n",
    "    internal_err_msg = 'Client submitted bad request.'\n",
    "    user_err_msg = 'A bad request was received.'\n",
    "    \n",
    "class NotFoundError(ClientException):\n",
    "    \"\"\"Indicates resource was not found\"\"\"\n",
    "    http_status = HTTPStatus.NOT_FOUND\n",
    "    internal_err_msg = 'Resource not found.'\n",
    "    user_err_msg = 'Requested resource was not found.'\n",
    "\n",
    "class NotAuthorizedError(ClientException):\n",
    "    \"\"\"User is not authorized to perform requested action on resource\"\"\"\n",
    "    http_status = HTTPStatus.UNAUTHORIZED\n",
    "    internal_err_msg = 'Client not authorized to perform operation.'\n",
    "    user_err_msg = 'You are not authorized to perform this request.'"
   ]
  },
  {
   "cell_type": "code",
   "execution_count": 41,
   "metadata": {},
   "outputs": [],
   "source": [
    "def lookup_account_by_id(account_id):\n",
    "    if not isinstance(account_id, int) or account_id <= 0:\n",
    "        raise ClientException(f'Account number {account_id} is invalid.',\n",
    "                             f'account_id = {account_id}',\n",
    "                             'type error = account number not an integer')\n",
    "        \n",
    "    if account_id < 100:\n",
    "        raise DBConnectionError('Permanent failure connecting to database.', 'db=db01')\n",
    "    elif account_id < 200:\n",
    "        raise NotAuthorizedError('User does not have permissions to read this account.', f'account_id={account_id}')\n",
    "    elif account_id < 300:\n",
    "        raise NotFoundError('Account not found', f'account_id={account_id}')\n",
    "    else:\n",
    "        return Account(account_id, 'Savings')"
   ]
  },
  {
   "cell_type": "code",
   "execution_count": 42,
   "metadata": {},
   "outputs": [],
   "source": [
    "def get_account(account_id):\n",
    "    try:\n",
    "        account = lookup_account_by_id(account_id)\n",
    "    except APIException as ex:\n",
    "        ex.log_exception()\n",
    "        return ex.to_json()\n",
    "    else:\n",
    "        return HTTPStatus.OK, {\"id\": account.account_id, \"type\": account.account_type}"
   ]
  },
  {
   "cell_type": "code",
   "execution_count": 43,
   "metadata": {},
   "outputs": [
    {
     "name": "stdout",
     "output_type": "stream",
     "text": [
      "EXCEPTION: 2021-04-05T01:26:03.087494: {'type': 'ClientException', 'http_status': <HTTPStatus.BAD_REQUEST: 400>, 'message': 'Account number ABC is invalid.', 'args': ('account_id = ABC', 'type error = account number not an integer')}\n"
     ]
    },
    {
     "data": {
      "text/plain": [
       "'{\"status\": 400, \"message\": \"A bad request was received.\"}'"
      ]
     },
     "execution_count": 43,
     "metadata": {},
     "output_type": "execute_result"
    }
   ],
   "source": [
    "get_account('ABC')"
   ]
  },
  {
   "cell_type": "code",
   "execution_count": 44,
   "metadata": {},
   "outputs": [
    {
     "name": "stdout",
     "output_type": "stream",
     "text": [
      "EXCEPTION: 2021-04-05T01:26:30.503422: {'type': 'DBConnectionError', 'http_status': <HTTPStatus.INTERNAL_SERVER_ERROR: 500>, 'message': 'Permanent failure connecting to database.', 'args': ('db=db01',)}\n"
     ]
    },
    {
     "data": {
      "text/plain": [
       "'{\"status\": 500, \"message\": \"We are sorry. An unexpected error occurred on our end.\"}'"
      ]
     },
     "execution_count": 44,
     "metadata": {},
     "output_type": "execute_result"
    }
   ],
   "source": [
    "get_account(50)"
   ]
  },
  {
   "cell_type": "code",
   "execution_count": 45,
   "metadata": {},
   "outputs": [
    {
     "name": "stdout",
     "output_type": "stream",
     "text": [
      "EXCEPTION: 2021-04-05T01:26:48.751557: {'type': 'NotAuthorizedError', 'http_status': <HTTPStatus.UNAUTHORIZED: 401>, 'message': 'User does not have permissions to read this account.', 'args': ('account_id=150',)}\n"
     ]
    },
    {
     "data": {
      "text/plain": [
       "'{\"status\": 401, \"message\": \"You are not authorized to perform this request.\"}'"
      ]
     },
     "execution_count": 45,
     "metadata": {},
     "output_type": "execute_result"
    }
   ],
   "source": [
    "get_account(150)"
   ]
  },
  {
   "cell_type": "code",
   "execution_count": 46,
   "metadata": {},
   "outputs": [
    {
     "name": "stdout",
     "output_type": "stream",
     "text": [
      "EXCEPTION: 2021-04-05T01:26:53.055742: {'type': 'NotFoundError', 'http_status': <HTTPStatus.NOT_FOUND: 404>, 'message': 'Account not found', 'args': ('account_id=250',)}\n"
     ]
    },
    {
     "data": {
      "text/plain": [
       "'{\"status\": 404, \"message\": \"Requested resource was not found.\"}'"
      ]
     },
     "execution_count": 46,
     "metadata": {},
     "output_type": "execute_result"
    }
   ],
   "source": [
    "get_account(250)"
   ]
  },
  {
   "cell_type": "code",
   "execution_count": 47,
   "metadata": {},
   "outputs": [
    {
     "data": {
      "text/plain": [
       "(<HTTPStatus.OK: 200>, {'id': 350, 'type': 'Savings'})"
      ]
     },
     "execution_count": 47,
     "metadata": {},
     "output_type": "execute_result"
    }
   ],
   "source": [
    "get_account(350)"
   ]
  },
  {
   "cell_type": "code",
   "execution_count": 61,
   "metadata": {},
   "outputs": [],
   "source": [
    "class AppException(Exception):\n",
    "    \"\"\"generic application exception\"\"\"\n",
    "    \n",
    "class NegativeIntegerError(AppException, ValueError):\n",
    "    \"\"\"Used to indicate an error when an integer is negative\"\"\""
   ]
  },
  {
   "cell_type": "code",
   "execution_count": 62,
   "metadata": {},
   "outputs": [],
   "source": [
    "ex = NegativeIntegerError()"
   ]
  },
  {
   "cell_type": "code",
   "execution_count": 63,
   "metadata": {},
   "outputs": [
    {
     "data": {
      "text/plain": [
       "True"
      ]
     },
     "execution_count": 63,
     "metadata": {},
     "output_type": "execute_result"
    }
   ],
   "source": [
    "isinstance(ex, AppException)"
   ]
  },
  {
   "cell_type": "code",
   "execution_count": 64,
   "metadata": {},
   "outputs": [
    {
     "data": {
      "text/plain": [
       "True"
      ]
     },
     "execution_count": 64,
     "metadata": {},
     "output_type": "execute_result"
    }
   ],
   "source": [
    "isinstance(ex, ValueError)"
   ]
  },
  {
   "cell_type": "code",
   "execution_count": null,
   "metadata": {},
   "outputs": [],
   "source": []
  },
  {
   "cell_type": "code",
   "execution_count": 65,
   "metadata": {},
   "outputs": [],
   "source": [
    "def set_age(age):\n",
    "    if age < 0:\n",
    "        raise NegativeIntegerError('age cannot be negative')"
   ]
  },
  {
   "cell_type": "code",
   "execution_count": 68,
   "metadata": {},
   "outputs": [
    {
     "name": "stdout",
     "output_type": "stream",
     "text": [
      "NegativeIntegerError('age cannot be negative')\n"
     ]
    }
   ],
   "source": [
    "try:\n",
    "    set_age(-10)\n",
    "except NegativeIntegerError as ex:\n",
    "    print(repr(ex))"
   ]
  },
  {
   "cell_type": "code",
   "execution_count": null,
   "metadata": {},
   "outputs": [],
   "source": []
  }
 ],
 "metadata": {
  "kernelspec": {
   "display_name": "Python 3",
   "language": "python",
   "name": "python3"
  },
  "language_info": {
   "codemirror_mode": {
    "name": "ipython",
    "version": 3
   },
   "file_extension": ".py",
   "mimetype": "text/x-python",
   "name": "python",
   "nbconvert_exporter": "python",
   "pygments_lexer": "ipython3",
   "version": "3.7.6"
  }
 },
 "nbformat": 4,
 "nbformat_minor": 4
}
