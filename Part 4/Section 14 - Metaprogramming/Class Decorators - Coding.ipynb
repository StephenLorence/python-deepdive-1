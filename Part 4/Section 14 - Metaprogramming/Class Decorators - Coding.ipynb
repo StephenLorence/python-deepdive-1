{
 "cells": [
  {
   "cell_type": "code",
   "execution_count": 1,
   "metadata": {},
   "outputs": [],
   "source": [
    "def savings(cls):\n",
    "    cls.account_type = 'savings'\n",
    "    return cls\n",
    "\n",
    "def checking(cls):\n",
    "    cls.account_type = 'checking'\n",
    "    return cls"
   ]
  },
  {
   "cell_type": "code",
   "execution_count": 2,
   "metadata": {},
   "outputs": [],
   "source": [
    "class Account:\n",
    "    pass\n",
    "\n",
    "@savings\n",
    "class Bank1Savings(Account):\n",
    "    pass\n",
    "\n",
    "@savings\n",
    "class Bank2Savings(Account):\n",
    "    pass\n",
    "\n",
    "@checking\n",
    "class Bank1Checking(Account):\n",
    "    pass\n",
    "\n",
    "@checking\n",
    "class Bank2Checking(Account):\n",
    "    pass"
   ]
  },
  {
   "cell_type": "code",
   "execution_count": 3,
   "metadata": {},
   "outputs": [
    {
     "data": {
      "text/plain": [
       "mappingproxy({'__module__': '__main__',\n",
       "              '__doc__': None,\n",
       "              'account_type': 'savings'})"
      ]
     },
     "execution_count": 3,
     "metadata": {},
     "output_type": "execute_result"
    }
   ],
   "source": [
    "Bank1Savings.__dict__"
   ]
  },
  {
   "cell_type": "code",
   "execution_count": 4,
   "metadata": {},
   "outputs": [
    {
     "data": {
      "text/plain": [
       "mappingproxy({'__module__': '__main__',\n",
       "              '__doc__': None,\n",
       "              'account_type': 'checking'})"
      ]
     },
     "execution_count": 4,
     "metadata": {},
     "output_type": "execute_result"
    }
   ],
   "source": [
    "Bank2Checking.__dict__"
   ]
  },
  {
   "cell_type": "code",
   "execution_count": 5,
   "metadata": {},
   "outputs": [],
   "source": [
    "def account_type(type_):\n",
    "    def decorator(cls):\n",
    "        cls.account_type = type_\n",
    "        return cls\n",
    "    return decorator"
   ]
  },
  {
   "cell_type": "code",
   "execution_count": 6,
   "metadata": {},
   "outputs": [],
   "source": [
    "@account_type('Savings')\n",
    "class Bank1Savings:\n",
    "    pass\n",
    "\n",
    "@account_type('Checking')\n",
    "class Bank1Checking:\n",
    "    pass"
   ]
  },
  {
   "cell_type": "code",
   "execution_count": 7,
   "metadata": {},
   "outputs": [
    {
     "data": {
      "text/plain": [
       "mappingproxy({'__module__': '__main__',\n",
       "              '__dict__': <attribute '__dict__' of 'Bank1Savings' objects>,\n",
       "              '__weakref__': <attribute '__weakref__' of 'Bank1Savings' objects>,\n",
       "              '__doc__': None,\n",
       "              'account_type': 'Savings'})"
      ]
     },
     "execution_count": 7,
     "metadata": {},
     "output_type": "execute_result"
    }
   ],
   "source": [
    "Bank1Savings.__dict__"
   ]
  },
  {
   "cell_type": "code",
   "execution_count": 8,
   "metadata": {},
   "outputs": [
    {
     "data": {
      "text/plain": [
       "mappingproxy({'__module__': '__main__',\n",
       "              '__dict__': <attribute '__dict__' of 'Bank1Checking' objects>,\n",
       "              '__weakref__': <attribute '__weakref__' of 'Bank1Checking' objects>,\n",
       "              '__doc__': None,\n",
       "              'account_type': 'Checking'})"
      ]
     },
     "execution_count": 8,
     "metadata": {},
     "output_type": "execute_result"
    }
   ],
   "source": [
    "Bank1Checking.__dict__"
   ]
  },
  {
   "cell_type": "code",
   "execution_count": 9,
   "metadata": {},
   "outputs": [],
   "source": [
    "def hello(cls):\n",
    "    cls.hello = lambda self: f'{self} says hello!'\n",
    "    return cls"
   ]
  },
  {
   "cell_type": "code",
   "execution_count": 10,
   "metadata": {},
   "outputs": [],
   "source": [
    "@hello\n",
    "class Person:\n",
    "    def __init__(self, name):\n",
    "        self.name = name\n",
    "        \n",
    "    def __str__(self):\n",
    "        return self.name"
   ]
  },
  {
   "cell_type": "code",
   "execution_count": 11,
   "metadata": {},
   "outputs": [
    {
     "data": {
      "text/plain": [
       "mappingproxy({'__module__': '__main__',\n",
       "              '__init__': <function __main__.Person.__init__(self, name)>,\n",
       "              '__str__': <function __main__.Person.__str__(self)>,\n",
       "              '__dict__': <attribute '__dict__' of 'Person' objects>,\n",
       "              '__weakref__': <attribute '__weakref__' of 'Person' objects>,\n",
       "              '__doc__': None,\n",
       "              'hello': <function __main__.hello.<locals>.<lambda>(self)>})"
      ]
     },
     "execution_count": 11,
     "metadata": {},
     "output_type": "execute_result"
    }
   ],
   "source": [
    "vars(Person)"
   ]
  },
  {
   "cell_type": "code",
   "execution_count": 12,
   "metadata": {},
   "outputs": [],
   "source": [
    "p = Person('Guido')"
   ]
  },
  {
   "cell_type": "code",
   "execution_count": 13,
   "metadata": {},
   "outputs": [
    {
     "data": {
      "text/plain": [
       "'Guido says hello!'"
      ]
     },
     "execution_count": 13,
     "metadata": {},
     "output_type": "execute_result"
    }
   ],
   "source": [
    "p.hello()"
   ]
  },
  {
   "cell_type": "code",
   "execution_count": 14,
   "metadata": {},
   "outputs": [],
   "source": [
    "from functools import wraps"
   ]
  },
  {
   "cell_type": "code",
   "execution_count": 15,
   "metadata": {},
   "outputs": [],
   "source": [
    "def func_logger(fn):\n",
    "    @wraps(fn)\n",
    "    def inner(*args, **kwargs):\n",
    "        result = fn(*args, **kwargs)\n",
    "        print(f'Log: {fn.__qualname__}({args}, {kwargs}) = {result}')\n",
    "        return result\n",
    "    return inner"
   ]
  },
  {
   "cell_type": "code",
   "execution_count": 17,
   "metadata": {},
   "outputs": [],
   "source": [
    "class Person:\n",
    "    @func_logger\n",
    "    def __init__(self, name, age):\n",
    "        self.name = name\n",
    "        self.age = age\n",
    "        \n",
    "    @func_logger\n",
    "    def greet(self):\n",
    "        return f'Hello, my name is {self.name}, and I am {self.age} years old'"
   ]
  },
  {
   "cell_type": "code",
   "execution_count": 18,
   "metadata": {},
   "outputs": [
    {
     "name": "stdout",
     "output_type": "stream",
     "text": [
      "Log: Person.__init__((<__main__.Person object at 0x000001BD736EBA88>, 'John', 78), {}) = None\n"
     ]
    }
   ],
   "source": [
    "p = Person('John', 78)"
   ]
  },
  {
   "cell_type": "code",
   "execution_count": 19,
   "metadata": {},
   "outputs": [
    {
     "name": "stdout",
     "output_type": "stream",
     "text": [
      "Log: Person.greet((<__main__.Person object at 0x000001BD736EBA88>,), {}) = Hello, my name is John, and I am 78 years old\n"
     ]
    },
    {
     "data": {
      "text/plain": [
       "'Hello, my name is John, and I am 78 years old'"
      ]
     },
     "execution_count": 19,
     "metadata": {},
     "output_type": "execute_result"
    }
   ],
   "source": [
    "p.greet()"
   ]
  },
  {
   "cell_type": "code",
   "execution_count": 20,
   "metadata": {},
   "outputs": [],
   "source": [
    "def class_logger(cls):\n",
    "    for name, obj in vars(cls).items():\n",
    "        if callable(obj):\n",
    "            print('decorating:', cls, name)\n",
    "            setattr(cls, name, func_logger(obj))\n",
    "    return cls"
   ]
  },
  {
   "cell_type": "code",
   "execution_count": 21,
   "metadata": {},
   "outputs": [
    {
     "name": "stdout",
     "output_type": "stream",
     "text": [
      "decorating: <class '__main__.Person'> __init__\n",
      "decorating: <class '__main__.Person'> greet\n"
     ]
    }
   ],
   "source": [
    "@class_logger\n",
    "class Person:\n",
    "    def __init__(self, name, age):\n",
    "        self.name = name\n",
    "        self.age = age\n",
    "        \n",
    "    def greet(self):\n",
    "        return f'Hello, my name is {self.name}, and I am {self.age} years old'"
   ]
  },
  {
   "cell_type": "code",
   "execution_count": 22,
   "metadata": {},
   "outputs": [
    {
     "name": "stdout",
     "output_type": "stream",
     "text": [
      "Log: Person.__init__((<__main__.Person object at 0x000001BD72D63AC8>, 'John', 78), {}) = None\n"
     ]
    }
   ],
   "source": [
    "p = Person('John', 78)"
   ]
  },
  {
   "cell_type": "code",
   "execution_count": 23,
   "metadata": {},
   "outputs": [
    {
     "name": "stdout",
     "output_type": "stream",
     "text": [
      "Log: Person.greet((<__main__.Person object at 0x000001BD72D63AC8>,), {}) = Hello, my name is John, and I am 78 years old\n"
     ]
    },
    {
     "data": {
      "text/plain": [
       "'Hello, my name is John, and I am 78 years old'"
      ]
     },
     "execution_count": 23,
     "metadata": {},
     "output_type": "execute_result"
    }
   ],
   "source": [
    "p.greet()"
   ]
  },
  {
   "cell_type": "code",
   "execution_count": 24,
   "metadata": {},
   "outputs": [
    {
     "name": "stdout",
     "output_type": "stream",
     "text": [
      "decorating: <class '__main__.Person'> instance_method\n"
     ]
    }
   ],
   "source": [
    "@class_logger\n",
    "class Person:\n",
    "    @staticmethod\n",
    "    def static_method():\n",
    "        print('static_method invoked...')\n",
    "        \n",
    "    @classmethod\n",
    "    def cls_method(cls):\n",
    "        print(f'cls_method invoked for {cls}...')\n",
    "        \n",
    "    def instance_method(self):\n",
    "        print(f'instance_method invoked for {self}...')"
   ]
  },
  {
   "cell_type": "code",
   "execution_count": 25,
   "metadata": {},
   "outputs": [
    {
     "data": {
      "text/plain": [
       "mappingproxy({'__module__': '__main__',\n",
       "              'static_method': <staticmethod at 0x1bd73635308>,\n",
       "              'cls_method': <classmethod at 0x1bd73635848>,\n",
       "              'instance_method': <function __main__.Person.instance_method(self)>,\n",
       "              '__dict__': <attribute '__dict__' of 'Person' objects>,\n",
       "              '__weakref__': <attribute '__weakref__' of 'Person' objects>,\n",
       "              '__doc__': None})"
      ]
     },
     "execution_count": 25,
     "metadata": {},
     "output_type": "execute_result"
    }
   ],
   "source": [
    "Person.__dict__"
   ]
  },
  {
   "cell_type": "code",
   "execution_count": 26,
   "metadata": {},
   "outputs": [
    {
     "data": {
      "text/plain": [
       "<staticmethod at 0x1bd73635308>"
      ]
     },
     "execution_count": 26,
     "metadata": {},
     "output_type": "execute_result"
    }
   ],
   "source": [
    "Person.__dict__['static_method']"
   ]
  },
  {
   "cell_type": "code",
   "execution_count": 27,
   "metadata": {},
   "outputs": [
    {
     "data": {
      "text/plain": [
       "False"
      ]
     },
     "execution_count": 27,
     "metadata": {},
     "output_type": "execute_result"
    }
   ],
   "source": [
    "callable(Person.__dict__['static_method'])"
   ]
  },
  {
   "cell_type": "code",
   "execution_count": 28,
   "metadata": {},
   "outputs": [],
   "source": [
    "class Person:\n",
    "    @staticmethod\n",
    "    @func_logger\n",
    "    def static_method():\n",
    "        pass"
   ]
  },
  {
   "cell_type": "code",
   "execution_count": 29,
   "metadata": {},
   "outputs": [
    {
     "name": "stdout",
     "output_type": "stream",
     "text": [
      "Log: Person.static_method((), {}) = None\n"
     ]
    }
   ],
   "source": [
    "Person.static_method()"
   ]
  },
  {
   "cell_type": "code",
   "execution_count": 30,
   "metadata": {},
   "outputs": [],
   "source": [
    "class Person:\n",
    "    @func_logger\n",
    "    @staticmethod\n",
    "    def static_method():\n",
    "        pass"
   ]
  },
  {
   "cell_type": "code",
   "execution_count": 31,
   "metadata": {},
   "outputs": [
    {
     "ename": "TypeError",
     "evalue": "'staticmethod' object is not callable",
     "output_type": "error",
     "traceback": [
      "\u001b[1;31m---------------------------------------------------------------------------\u001b[0m",
      "\u001b[1;31mTypeError\u001b[0m                                 Traceback (most recent call last)",
      "\u001b[1;32m<ipython-input-31-1bb40268c11c>\u001b[0m in \u001b[0;36m<module>\u001b[1;34m\u001b[0m\n\u001b[1;32m----> 1\u001b[1;33m \u001b[0mPerson\u001b[0m\u001b[1;33m.\u001b[0m\u001b[0mstatic_method\u001b[0m\u001b[1;33m(\u001b[0m\u001b[1;33m)\u001b[0m\u001b[1;33m\u001b[0m\u001b[1;33m\u001b[0m\u001b[0m\n\u001b[0m",
      "\u001b[1;32m<ipython-input-15-9378e311a232>\u001b[0m in \u001b[0;36minner\u001b[1;34m(*args, **kwargs)\u001b[0m\n\u001b[0;32m      2\u001b[0m     \u001b[1;33m@\u001b[0m\u001b[0mwraps\u001b[0m\u001b[1;33m(\u001b[0m\u001b[0mfn\u001b[0m\u001b[1;33m)\u001b[0m\u001b[1;33m\u001b[0m\u001b[1;33m\u001b[0m\u001b[0m\n\u001b[0;32m      3\u001b[0m     \u001b[1;32mdef\u001b[0m \u001b[0minner\u001b[0m\u001b[1;33m(\u001b[0m\u001b[1;33m*\u001b[0m\u001b[0margs\u001b[0m\u001b[1;33m,\u001b[0m \u001b[1;33m**\u001b[0m\u001b[0mkwargs\u001b[0m\u001b[1;33m)\u001b[0m\u001b[1;33m:\u001b[0m\u001b[1;33m\u001b[0m\u001b[1;33m\u001b[0m\u001b[0m\n\u001b[1;32m----> 4\u001b[1;33m         \u001b[0mresult\u001b[0m \u001b[1;33m=\u001b[0m \u001b[0mfn\u001b[0m\u001b[1;33m(\u001b[0m\u001b[1;33m*\u001b[0m\u001b[0margs\u001b[0m\u001b[1;33m,\u001b[0m \u001b[1;33m**\u001b[0m\u001b[0mkwargs\u001b[0m\u001b[1;33m)\u001b[0m\u001b[1;33m\u001b[0m\u001b[1;33m\u001b[0m\u001b[0m\n\u001b[0m\u001b[0;32m      5\u001b[0m         \u001b[0mprint\u001b[0m\u001b[1;33m(\u001b[0m\u001b[1;34mf'Log: {fn.__qualname__}({args}, {kwargs}) = {result}'\u001b[0m\u001b[1;33m)\u001b[0m\u001b[1;33m\u001b[0m\u001b[1;33m\u001b[0m\u001b[0m\n\u001b[0;32m      6\u001b[0m         \u001b[1;32mreturn\u001b[0m \u001b[0mresult\u001b[0m\u001b[1;33m\u001b[0m\u001b[1;33m\u001b[0m\u001b[0m\n",
      "\u001b[1;31mTypeError\u001b[0m: 'staticmethod' object is not callable"
     ]
    }
   ],
   "source": [
    "Person.static_method()"
   ]
  },
  {
   "cell_type": "code",
   "execution_count": 32,
   "metadata": {},
   "outputs": [],
   "source": [
    "class Person:\n",
    "    @staticmethod\n",
    "    def static_method():\n",
    "        pass\n",
    "    \n",
    "    @classmethod\n",
    "    def class_method(cls):\n",
    "        pass"
   ]
  },
  {
   "cell_type": "code",
   "execution_count": 33,
   "metadata": {},
   "outputs": [
    {
     "data": {
      "text/plain": [
       "staticmethod"
      ]
     },
     "execution_count": 33,
     "metadata": {},
     "output_type": "execute_result"
    }
   ],
   "source": [
    "type(Person.__dict__['static_method'])"
   ]
  },
  {
   "cell_type": "code",
   "execution_count": 34,
   "metadata": {},
   "outputs": [
    {
     "data": {
      "text/plain": [
       "classmethod"
      ]
     },
     "execution_count": 34,
     "metadata": {},
     "output_type": "execute_result"
    }
   ],
   "source": [
    "type(Person.__dict__['class_method'])"
   ]
  },
  {
   "cell_type": "code",
   "execution_count": 35,
   "metadata": {},
   "outputs": [
    {
     "data": {
      "text/plain": [
       "<function __main__.Person.static_method()>"
      ]
     },
     "execution_count": 35,
     "metadata": {},
     "output_type": "execute_result"
    }
   ],
   "source": [
    "Person.__dict__['static_method'].__func__"
   ]
  },
  {
   "cell_type": "code",
   "execution_count": 36,
   "metadata": {},
   "outputs": [],
   "source": [
    "def class_logger(cls):\n",
    "    for name, obj in vars(cls).items():\n",
    "        if callable(obj):\n",
    "            print('decorating callable', cls, name)\n",
    "            original_func = obj\n",
    "            decorated_func = func_logger(original_func)\n",
    "            setattr(cls, name, decorated_func)\n",
    "        elif isinstance(obj, staticmethod):\n",
    "            print('decorating static method', cls, name)\n",
    "            original_func = obj.__func__\n",
    "            decorated_func = func_logger(original_func)\n",
    "            method = staticmethod(decorated_func)\n",
    "            setattr(cls, name, method)\n",
    "        elif isinstance(obj, classmethod):\n",
    "            print('decorating class method', cls, name)\n",
    "            original_func = obj.__func__\n",
    "            decorated_func = func_logger(original_func)\n",
    "            method = classmethod(decorated_func)\n",
    "            setattr(cls, name, method)\n",
    "    return cls"
   ]
  },
  {
   "cell_type": "code",
   "execution_count": 37,
   "metadata": {},
   "outputs": [
    {
     "name": "stdout",
     "output_type": "stream",
     "text": [
      "decorating static method <class '__main__.Person'> static_method\n",
      "decorating class method <class '__main__.Person'> class_method\n",
      "decorating callable <class '__main__.Person'> instance_method\n"
     ]
    }
   ],
   "source": [
    "@class_logger\n",
    "class Person:\n",
    "    @staticmethod\n",
    "    def static_method(a, b):\n",
    "        print('static_method called...', a, b)\n",
    "        \n",
    "    @classmethod\n",
    "    def class_method(cls, a, b):\n",
    "        print('class_method called...', a, b)\n",
    "        \n",
    "    def instance_method(self, a, b):\n",
    "        print('instance_method called...', a, b)"
   ]
  },
  {
   "cell_type": "code",
   "execution_count": 38,
   "metadata": {},
   "outputs": [
    {
     "name": "stdout",
     "output_type": "stream",
     "text": [
      "static_method called... 10 20\n",
      "Log: Person.static_method((10, 20), {}) = None\n"
     ]
    }
   ],
   "source": [
    "Person.static_method(10, 20)"
   ]
  },
  {
   "cell_type": "code",
   "execution_count": 39,
   "metadata": {},
   "outputs": [
    {
     "name": "stdout",
     "output_type": "stream",
     "text": [
      "class_method called... 10 20\n",
      "Log: Person.class_method((<class '__main__.Person'>, 10, 20), {}) = None\n"
     ]
    }
   ],
   "source": [
    "Person.class_method(10, 20)"
   ]
  },
  {
   "cell_type": "code",
   "execution_count": 40,
   "metadata": {},
   "outputs": [],
   "source": [
    "p = Person()"
   ]
  },
  {
   "cell_type": "code",
   "execution_count": 41,
   "metadata": {},
   "outputs": [
    {
     "name": "stdout",
     "output_type": "stream",
     "text": [
      "instance_method called... 10 20\n",
      "Log: Person.instance_method((<__main__.Person object at 0x000001BD73739F48>, 10, 20), {}) = None\n"
     ]
    }
   ],
   "source": [
    "p.instance_method(10, 20)"
   ]
  },
  {
   "cell_type": "code",
   "execution_count": 42,
   "metadata": {},
   "outputs": [
    {
     "name": "stdout",
     "output_type": "stream",
     "text": [
      "decorating callable <class '__main__.Person'> __init__\n"
     ]
    }
   ],
   "source": [
    "@class_logger\n",
    "class Person:\n",
    "    def __init__(self, name):\n",
    "        self._name = name\n",
    "        \n",
    "    @property\n",
    "    def name(self):\n",
    "        return self._name"
   ]
  },
  {
   "cell_type": "code",
   "execution_count": 43,
   "metadata": {},
   "outputs": [
    {
     "data": {
      "text/plain": [
       "property"
      ]
     },
     "execution_count": 43,
     "metadata": {},
     "output_type": "execute_result"
    }
   ],
   "source": [
    "type(Person.__dict__['name'])"
   ]
  },
  {
   "cell_type": "code",
   "execution_count": 44,
   "metadata": {},
   "outputs": [
    {
     "data": {
      "text/plain": [
       "True"
      ]
     },
     "execution_count": 44,
     "metadata": {},
     "output_type": "execute_result"
    }
   ],
   "source": [
    "isinstance(Person.__dict__['name'], property)"
   ]
  },
  {
   "cell_type": "code",
   "execution_count": 45,
   "metadata": {},
   "outputs": [],
   "source": [
    "prop = Person.__dict__['name']"
   ]
  },
  {
   "cell_type": "code",
   "execution_count": 46,
   "metadata": {},
   "outputs": [
    {
     "data": {
      "text/plain": [
       "<function __main__.Person.name(self)>"
      ]
     },
     "execution_count": 46,
     "metadata": {},
     "output_type": "execute_result"
    }
   ],
   "source": [
    "prop.fget"
   ]
  },
  {
   "cell_type": "code",
   "execution_count": 47,
   "metadata": {},
   "outputs": [
    {
     "data": {
      "text/plain": [
       "(None, None)"
      ]
     },
     "execution_count": 47,
     "metadata": {},
     "output_type": "execute_result"
    }
   ],
   "source": [
    "prop.fset, prop.fdel"
   ]
  },
  {
   "cell_type": "code",
   "execution_count": 48,
   "metadata": {},
   "outputs": [],
   "source": [
    "def class_logger(cls):\n",
    "    for name, obj in vars(cls).items():\n",
    "        if callable(obj):\n",
    "            print('decorating callable', cls, name)\n",
    "            original_func = obj\n",
    "            decorated_func = func_logger(original_func)\n",
    "            setattr(cls, name, decorated_func)\n",
    "        elif isinstance(obj, staticmethod):\n",
    "            print('decorating static method', cls, name)\n",
    "            original_func = obj.__func__\n",
    "            decorated_func = func_logger(original_func)\n",
    "            method = staticmethod(decorated_func)\n",
    "            setattr(cls, name, method)\n",
    "        elif isinstance(obj, classmethod):\n",
    "            print('decorating class method', cls, name)\n",
    "            original_func = obj.__func__\n",
    "            decorated_func = func_logger(original_func)\n",
    "            method = classmethod(decorated_func)\n",
    "            setattr(cls, name, method)\n",
    "        elif isinstance(obj, property):\n",
    "            print('decorating property', cls, name)\n",
    "            if obj.fget:\n",
    "                obj = obj.getter(func_logger(obj.fget))\n",
    "            if obj.fset:\n",
    "                obj = obj.setter(func_logger(obj.fset))\n",
    "            if obj.fdel:\n",
    "                obj = obj.deleter(func_logger(obj.fdel))\n",
    "            setattr(cls, name, obj)\n",
    "    return cls"
   ]
  },
  {
   "cell_type": "code",
   "execution_count": 49,
   "metadata": {},
   "outputs": [
    {
     "name": "stdout",
     "output_type": "stream",
     "text": [
      "decorating callable <class '__main__.Person'> __init__\n",
      "decorating property <class '__main__.Person'> name\n"
     ]
    }
   ],
   "source": [
    "@class_logger\n",
    "class Person:\n",
    "    def __init__(self, name):\n",
    "        self._name = name\n",
    "        \n",
    "    @property\n",
    "    def name(self):\n",
    "        return self._name"
   ]
  },
  {
   "cell_type": "code",
   "execution_count": 50,
   "metadata": {},
   "outputs": [
    {
     "name": "stdout",
     "output_type": "stream",
     "text": [
      "Log: Person.__init__((<__main__.Person object at 0x000001BD7367AF08>, 'David'), {}) = None\n"
     ]
    }
   ],
   "source": [
    "p = Person('David')"
   ]
  },
  {
   "cell_type": "code",
   "execution_count": 51,
   "metadata": {},
   "outputs": [
    {
     "name": "stdout",
     "output_type": "stream",
     "text": [
      "Log: Person.name((<__main__.Person object at 0x000001BD7367AF08>,), {}) = David\n"
     ]
    },
    {
     "data": {
      "text/plain": [
       "'David'"
      ]
     },
     "execution_count": 51,
     "metadata": {},
     "output_type": "execute_result"
    }
   ],
   "source": [
    "p.name"
   ]
  },
  {
   "cell_type": "code",
   "execution_count": 52,
   "metadata": {},
   "outputs": [
    {
     "name": "stdout",
     "output_type": "stream",
     "text": [
      "decorating callable <class '__main__.Person'> Other\n",
      "decorating callable <class '__main__.Person'> other\n"
     ]
    }
   ],
   "source": [
    "@class_logger\n",
    "class Person:\n",
    "    class Other:\n",
    "        def __call__(self):\n",
    "            print('called instance of Other...')\n",
    "    \n",
    "    other = Other()"
   ]
  },
  {
   "cell_type": "code",
   "execution_count": 53,
   "metadata": {},
   "outputs": [
    {
     "data": {
      "text/plain": [
       "<function __main__.Person.Other()>"
      ]
     },
     "execution_count": 53,
     "metadata": {},
     "output_type": "execute_result"
    }
   ],
   "source": [
    "Person.Other"
   ]
  },
  {
   "cell_type": "code",
   "execution_count": 54,
   "metadata": {},
   "outputs": [
    {
     "data": {
      "text/plain": [
       "<function __main__.func_logger.<locals>.inner()>"
      ]
     },
     "execution_count": 54,
     "metadata": {},
     "output_type": "execute_result"
    }
   ],
   "source": [
    "Person.other"
   ]
  },
  {
   "cell_type": "code",
   "execution_count": 55,
   "metadata": {},
   "outputs": [],
   "source": [
    "import inspect "
   ]
  },
  {
   "cell_type": "code",
   "execution_count": 56,
   "metadata": {},
   "outputs": [],
   "source": [
    "class MyClass:\n",
    "    @staticmethod\n",
    "    def static_method():\n",
    "        pass\n",
    "    \n",
    "    @classmethod\n",
    "    def cls_method(cls):\n",
    "        pass\n",
    "    \n",
    "    def inst_method(self):\n",
    "        pass\n",
    "    \n",
    "    @property\n",
    "    def name(self):\n",
    "        pass\n",
    "    \n",
    "    def __add__(self, other):\n",
    "        pass\n",
    "    \n",
    "    class Other:\n",
    "        def __call__(self):\n",
    "            pass\n",
    "        \n",
    "    other = Other()\n",
    "    "
   ]
  },
  {
   "cell_type": "code",
   "execution_count": 57,
   "metadata": {},
   "outputs": [],
   "source": [
    "keys = ('static_method', 'cls_method', 'inst_method', 'name', '__add__', 'Other', 'other')\n",
    "inspect_funcs = ('isroutine', 'ismethod', 'isfunction', 'isbuiltin', 'ismethoddescriptor')"
   ]
  },
  {
   "cell_type": "code",
   "execution_count": 58,
   "metadata": {},
   "outputs": [
    {
     "name": "stdout",
     "output_type": "stream",
     "text": [
      "                   static_method\tcls_method   \tinst_method  \tname         \t__add__      \tOther        \tother        \n",
      "isroutine          True         \tTrue         \tTrue         \tFalse        \tTrue         \tFalse        \tFalse        \n",
      "ismethod           False        \tFalse        \tFalse        \tFalse        \tFalse        \tFalse        \tFalse        \n",
      "isfunction         False        \tFalse        \tTrue         \tFalse        \tTrue         \tFalse        \tFalse        \n",
      "isbuiltin          False        \tFalse        \tFalse        \tFalse        \tFalse        \tFalse        \tFalse        \n",
      "ismethoddescriptor True         \tTrue         \tFalse        \tFalse        \tFalse        \tFalse        \tFalse        \n"
     ]
    }
   ],
   "source": [
    "max_header_length = max(len(key) for key in keys)\n",
    "max_fname_length = max(len(func) for func in inspect_funcs)\n",
    "print(format('', f'{max_fname_length}s'), '\\t'.join(format(key, f'{max_header_length}s') for key in keys))\n",
    "for inspect_func in inspect_funcs:\n",
    "    fn = getattr(inspect, inspect_func)\n",
    "    inspect_results = (format(str(fn(MyClass.__dict__[key])), f'{max_header_length}s') for key in keys)\n",
    "    print(format(inspect_func, f'{max_fname_length}s'), '\\t'.join(inspect_results))"
   ]
  },
  {
   "cell_type": "code",
   "execution_count": 59,
   "metadata": {},
   "outputs": [],
   "source": [
    "def class_logger(cls):\n",
    "    for name, obj in vars(cls).items():\n",
    "        if isinstance(obj, staticmethod):\n",
    "            print('decorating static method', cls, name)\n",
    "            original_func = obj.__func__\n",
    "            decorated_func = func_logger(original_func)\n",
    "            method = staticmethod(decorated_func)\n",
    "            setattr(cls, name, method)\n",
    "        elif isinstance(obj, classmethod):\n",
    "            print('decorating class method', cls, name)\n",
    "            original_func = obj.__func__\n",
    "            decorated_func = func_logger(original_func)\n",
    "            method = classmethod(decorated_func)\n",
    "            setattr(cls, name, method)\n",
    "        elif isinstance(obj, property):\n",
    "            print('decorating property', cls, name)\n",
    "            if obj.fget:\n",
    "                obj = obj.getter(func_logger(obj.fget))\n",
    "            if obj.fset:\n",
    "                obj = obj.setter(func_logger(obj.fset))\n",
    "            if obj.fdel:\n",
    "                obj = obj.deleter(func_logger(obj.fdel))\n",
    "            setattr(cls, name, obj)\n",
    "        elif inspect.isroutine(obj):\n",
    "            print('decorating callable', cls, name)\n",
    "            original_func = obj\n",
    "            decorated_func = func_logger(original_func)\n",
    "            setattr(cls, name, decorated_func)\n",
    "    return cls"
   ]
  },
  {
   "cell_type": "code",
   "execution_count": 61,
   "metadata": {},
   "outputs": [
    {
     "name": "stdout",
     "output_type": "stream",
     "text": [
      "decorating callable <class '__main__.MyClass.Other'> __call__\n",
      "decorating static method <class '__main__.MyClass'> static_method\n",
      "decorating class method <class '__main__.MyClass'> cls_method\n",
      "decorating callable <class '__main__.MyClass'> inst_method\n",
      "decorating property <class '__main__.MyClass'> name\n",
      "decorating callable <class '__main__.MyClass'> __add__\n"
     ]
    }
   ],
   "source": [
    "@class_logger\n",
    "class MyClass:\n",
    "    @staticmethod\n",
    "    def static_method():\n",
    "        pass\n",
    "    \n",
    "    @classmethod\n",
    "    def cls_method(cls):\n",
    "        pass\n",
    "    \n",
    "    def inst_method(self):\n",
    "        pass\n",
    "    \n",
    "    @property\n",
    "    def name(self):\n",
    "        pass\n",
    "    \n",
    "    def __add__(self, other):\n",
    "        pass\n",
    "    \n",
    "    @class_logger\n",
    "    class Other:\n",
    "        def __call__(self):\n",
    "            pass\n",
    "        \n",
    "    other = Other()\n",
    "    "
   ]
  },
  {
   "cell_type": "code",
   "execution_count": 64,
   "metadata": {},
   "outputs": [],
   "source": [
    "def class_logger(cls):\n",
    "    for name, obj in vars(cls).items():\n",
    "        if isinstance(obj, (classmethod, staticmethod)):\n",
    "            print(f'decorating {name}')\n",
    "            type_ = type(obj)\n",
    "            original_func = obj.__func__\n",
    "            decorated_func = func_logger(original_func)\n",
    "            method = type_(decorated_func)\n",
    "            setattr(cls, name, method)\n",
    "        elif isinstance(obj, property):\n",
    "            print('decorating property', cls, name)\n",
    "            if obj.fget:\n",
    "                obj = obj.getter(func_logger(obj.fget))\n",
    "            if obj.fset:\n",
    "                obj = obj.setter(func_logger(obj.fset))\n",
    "            if obj.fdel:\n",
    "                obj = obj.deleter(func_logger(obj.fdel))\n",
    "            setattr(cls, name, obj)\n",
    "        elif inspect.isroutine(obj):\n",
    "            print('decorating callable', cls, name)\n",
    "            original_func = obj\n",
    "            decorated_func = func_logger(original_func)\n",
    "            setattr(cls, name, decorated_func)\n",
    "    return cls"
   ]
  },
  {
   "cell_type": "code",
   "execution_count": 65,
   "metadata": {},
   "outputs": [
    {
     "name": "stdout",
     "output_type": "stream",
     "text": [
      "decorating callable <class '__main__.MyClass.Other'> __call__\n",
      "decorating static_method\n",
      "decorating cls_method\n",
      "decorating callable <class '__main__.MyClass'> inst_method\n",
      "decorating property <class '__main__.MyClass'> name\n",
      "decorating callable <class '__main__.MyClass'> __add__\n"
     ]
    }
   ],
   "source": [
    "@class_logger\n",
    "class MyClass:\n",
    "    @staticmethod\n",
    "    def static_method():\n",
    "        pass\n",
    "    \n",
    "    @classmethod\n",
    "    def cls_method(cls):\n",
    "        pass\n",
    "    \n",
    "    def inst_method(self):\n",
    "        pass\n",
    "    \n",
    "    @property\n",
    "    def name(self):\n",
    "        pass\n",
    "    \n",
    "    def __add__(self, other):\n",
    "        pass\n",
    "    \n",
    "    @class_logger\n",
    "    class Other:\n",
    "        def __call__(self):\n",
    "            pass\n",
    "        \n",
    "    other = Other()\n",
    "    "
   ]
  },
  {
   "cell_type": "code",
   "execution_count": 66,
   "metadata": {},
   "outputs": [],
   "source": [
    "def class_logger(cls):\n",
    "    for name, obj in vars(cls).items():\n",
    "        if isinstance(obj, (classmethod, staticmethod)):\n",
    "            print(f'decorating {name}')\n",
    "            type_ = type(obj)\n",
    "            original_func = obj.__func__\n",
    "            decorated_func = func_logger(original_func)\n",
    "            method = type_(decorated_func)\n",
    "            setattr(cls, name, method)\n",
    "        elif isinstance(obj, property):\n",
    "            print('decorating property', cls, name)\n",
    "            methods = (('fget', 'getter'), ('fset', 'setter'), ('fdel', 'deleter'))\n",
    "            for prop, method in methods:\n",
    "                if getattr(obj, prop):\n",
    "                    obj = getattr(obj, method)(func_logger(getattr(obj, prop)))\n",
    "            setattr(cls, name, obj)\n",
    "        elif inspect.isroutine(obj):\n",
    "            print('decorating callable', cls, name)\n",
    "            original_func = obj\n",
    "            decorated_func = func_logger(original_func)\n",
    "            setattr(cls, name, decorated_func)\n",
    "    return cls"
   ]
  },
  {
   "cell_type": "code",
   "execution_count": 67,
   "metadata": {},
   "outputs": [
    {
     "name": "stdout",
     "output_type": "stream",
     "text": [
      "decorating callable <class '__main__.MyClass.Other'> __call__\n",
      "decorating static_method\n",
      "decorating cls_method\n",
      "decorating callable <class '__main__.MyClass'> inst_method\n",
      "decorating property <class '__main__.MyClass'> name\n",
      "decorating callable <class '__main__.MyClass'> __add__\n"
     ]
    }
   ],
   "source": [
    "@class_logger\n",
    "class MyClass:\n",
    "    @staticmethod\n",
    "    def static_method():\n",
    "        pass\n",
    "    \n",
    "    @classmethod\n",
    "    def cls_method(cls):\n",
    "        pass\n",
    "    \n",
    "    def inst_method(self):\n",
    "        pass\n",
    "    \n",
    "    @property\n",
    "    def name(self):\n",
    "        pass\n",
    "    \n",
    "    def __add__(self, other):\n",
    "        pass\n",
    "    \n",
    "    @class_logger\n",
    "    class Other:\n",
    "        def __call__(self):\n",
    "            pass\n",
    "        \n",
    "    other = Other()\n",
    "    "
   ]
  },
  {
   "cell_type": "code",
   "execution_count": null,
   "metadata": {},
   "outputs": [],
   "source": []
  }
 ],
 "metadata": {
  "kernelspec": {
   "display_name": "Python 3",
   "language": "python",
   "name": "python3"
  },
  "language_info": {
   "codemirror_mode": {
    "name": "ipython",
    "version": 3
   },
   "file_extension": ".py",
   "mimetype": "text/x-python",
   "name": "python",
   "nbconvert_exporter": "python",
   "pygments_lexer": "ipython3",
   "version": "3.7.6"
  }
 },
 "nbformat": 4,
 "nbformat_minor": 4
}
