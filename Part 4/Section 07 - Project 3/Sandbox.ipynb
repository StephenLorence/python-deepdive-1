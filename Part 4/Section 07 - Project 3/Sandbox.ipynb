{
 "cells": [
  {
   "cell_type": "code",
   "execution_count": 86,
   "metadata": {},
   "outputs": [],
   "source": [
    "#validators.py\n",
    "\n",
    "def validate_string(value, name):\n",
    "    value = str(value)\n",
    "    if not len(value):\n",
    "        raise ValueError(f'{name} must not be empty.')\n",
    "    return value\n",
    "\n",
    "def validate_integer(value, zero_allowed=False):\n",
    "    try:\n",
    "        value = int(value)\n",
    "    except ValueError:\n",
    "        raise TypeError('Value must be an integer.')\n",
    "    if zero_allowed:\n",
    "        if value < 0:\n",
    "            raise ValueError('Value must not be negative.') \n",
    "    else:\n",
    "        if value <= 0:\n",
    "            raise ValueError('Value must be greater than zero.') \n",
    "    return value\n",
    "\n",
    "def validate_storage_form_factor(value):\n",
    "    if str(value).strip('\"') not in ['2.5', '3.5']:\n",
    "        raise ValueError('Form factor must be either 2.5\" or 3.5\".')\n",
    "    else:\n",
    "        return str(value).strip('\"') + '\"'\n",
    "\n",
    "def validate_hdd_rpm(value):\n",
    "    value = validate_integer(value)\n",
    "    if not (5_000 <= value <= 15_000):\n",
    "        raise ValueError('RPM must be between 5,000 and 15,000 RPM.')\n",
    "    if value % 100:\n",
    "        raise ValueError('RPM must be a multiple of 100.')\n",
    "    return value\n",
    "\n"
   ]
  },
  {
   "cell_type": "code",
   "execution_count": 97,
   "metadata": {},
   "outputs": [],
   "source": [
    "# inventory.py\n",
    "\n",
    "# inventory.py\n",
    "\n",
    "class Resource:\n",
    "\n",
    "    def __init__(self, name, manufacturer, total=0, allocated=0):\n",
    "        self._name = validate_string(name, 'Name')\n",
    "        self._manufacturer = validate_string(manufacturer, 'Manufacturer')\n",
    "        self._total = 0\n",
    "        self._allocated = 0\n",
    "        self.purchase(total, zero_allowed=True)\n",
    "        self.claim(allocated, zero_allowed=True)\n",
    "\n",
    "    @property\n",
    "    def name(self):\n",
    "        return self._name\n",
    "\n",
    "    @property\n",
    "    def manufacturer(self):\n",
    "        return self._manufacturer\n",
    "\n",
    "    @property\n",
    "    def total(self):\n",
    "        return self._total\n",
    "\n",
    "    @property\n",
    "    def category(self):\n",
    "        return self.__class__.__name__.lower()\n",
    "\n",
    "    def purchase(self, qty, zero_allowed=False):\n",
    "        self._total += validate_integer(qty, zero_allowed=zero_allowed)\n",
    "        self._remaining = None\n",
    "        return f'New total quantity: {self.total}'\n",
    "\n",
    "    @property\n",
    "    def allocated(self):\n",
    "        return self._allocated\n",
    "\n",
    "    def claim(self, qty, zero_allowed=False):\n",
    "        qty = validate_integer(qty, zero_allowed=zero_allowed)\n",
    "        if qty > self.remaining:\n",
    "            raise ValueError('Not enough available stock.')\n",
    "        self._allocated += qty\n",
    "        self._remaining = None\n",
    "        return f'New allocated quantity: {self.allocated}'\n",
    "\n",
    "    @property\n",
    "    def remaining(self):\n",
    "        if self._remaining is None:\n",
    "            self._remaining = self.total - self.allocated\n",
    "        return self._remaining\n",
    "\n",
    "    def freeup(self, qty):\n",
    "        qty = validate_integer(qty)\n",
    "        self._allocated -= qty\n",
    "        self._remaining = None\n",
    "        return f'New allocated quantity: {self.allocated}'\n",
    "\n",
    "    def died(self, qty):\n",
    "        qty = validate_integer(qty)\n",
    "        if qty > self.total:\n",
    "            raise ValueError('Cannot kill more than total stock quantity.')\n",
    "        else:\n",
    "            self._total -= qty\n",
    "            self._remaining = None\n",
    "            if self.total <= self.allocated:\n",
    "                self._allocated = self.total\n",
    "        print(f'{qty} unit' + ('s' if qty > 1 else '') + ' died.'\n",
    "               f'\\nNew total: {self.total}'\n",
    "               f'\\nAllocated: {self.allocated}'\n",
    "               f'\\nRemaining: {self.remaining}')\n",
    "\n",
    "    def __str__(self):\n",
    "        return self.name\n",
    "\n",
    "    def __repr__(self):\n",
    "        return f'{self.__class__.__name__} (name={self.name}, manufacturer={self.manufacturer})'\n",
    "\n",
    "class CPU(Resource):\n",
    "    def __init__(self, name, manufacturer, cores, socket, power_watts, total=0, allocated=0):\n",
    "        self._cores = validate_integer(cores)\n",
    "        self._socket = validate_string(socket, 'Socket')\n",
    "        self._power_watts = validate_integer(power_watts)\n",
    "        super().__init__(name, manufacturer, total=total, allocated=allocated)\n",
    "\n",
    "    @property\n",
    "    def cores(self):\n",
    "        return self._cores\n",
    "\n",
    "    @property\n",
    "    def socket(self):\n",
    "        return self._socket\n",
    "\n",
    "    @property\n",
    "    def power_watts(self):\n",
    "        return self._power_watts\n",
    "\n",
    "    def __repr__(self):\n",
    "        return super().__repr__().rstrip(')') + (f', cores={self.cores}, '\\\n",
    "                                                 f'socket={self.socket}, '\\\n",
    "                                                 f'power={self.power_watts}W)')\n",
    "    \n",
    "class Storage(Resource):\n",
    "    def __init__(self, name, manufacturer, capacity_GB, total=0, allocated=0):\n",
    "        self._capacity_GB = validate_integer(capacity_GB)\n",
    "        super().__init__(name, manufacturer, total=total, allocated=allocated)\n",
    "\n",
    "    @property\n",
    "    def capacity_GB(self):\n",
    "        return self._capacity_GB\n",
    "\n",
    "    def __repr__(self):\n",
    "        return super().__repr__().rstrip(')') + (f', capacity={self.capacity_GB} GB)')\n",
    "    \n",
    "\n"
   ]
  },
  {
   "cell_type": "code",
   "execution_count": 88,
   "metadata": {},
   "outputs": [],
   "source": [
    "cpu = CPU('CPU', 'AMD', 8, 'AM4', 130, 100, 20)"
   ]
  },
  {
   "cell_type": "code",
   "execution_count": 89,
   "metadata": {},
   "outputs": [
    {
     "data": {
      "text/plain": [
       "CPU (name=CPU, manufacturer=AMD, cores=8, socket=AM4, power=130W)"
      ]
     },
     "execution_count": 89,
     "metadata": {},
     "output_type": "execute_result"
    }
   ],
   "source": [
    "cpu"
   ]
  },
  {
   "cell_type": "code",
   "execution_count": 90,
   "metadata": {},
   "outputs": [
    {
     "data": {
      "text/plain": [
       "CPU (name=CPU, manufacturer=AMD, cores=8, socket=AM4, power=130W)"
      ]
     },
     "execution_count": 90,
     "metadata": {},
     "output_type": "execute_result"
    }
   ],
   "source": [
    "cpu"
   ]
  },
  {
   "cell_type": "code",
   "execution_count": 91,
   "metadata": {},
   "outputs": [
    {
     "ename": "ValueError",
     "evalue": "Form factor must be either 2.5\" or 3.5\".",
     "output_type": "error",
     "traceback": [
      "\u001b[1;31m---------------------------------------------------------------------------\u001b[0m",
      "\u001b[1;31mValueError\u001b[0m                                Traceback (most recent call last)",
      "\u001b[1;32m<ipython-input-91-ed684b8d322d>\u001b[0m in \u001b[0;36m<module>\u001b[1;34m\u001b[0m\n\u001b[1;32m----> 1\u001b[1;33m \u001b[0mvalidate_storage_form_factor\u001b[0m\u001b[1;33m(\u001b[0m\u001b[1;36m5.5\u001b[0m\u001b[1;33m-\u001b[0m\u001b[1;36m3.5\u001b[0m\u001b[1;33m)\u001b[0m\u001b[1;33m\u001b[0m\u001b[1;33m\u001b[0m\u001b[0m\n\u001b[0m",
      "\u001b[1;32m<ipython-input-86-7cb825171835>\u001b[0m in \u001b[0;36mvalidate_storage_form_factor\u001b[1;34m(value)\u001b[0m\n\u001b[0;32m     22\u001b[0m \u001b[1;32mdef\u001b[0m \u001b[0mvalidate_storage_form_factor\u001b[0m\u001b[1;33m(\u001b[0m\u001b[0mvalue\u001b[0m\u001b[1;33m)\u001b[0m\u001b[1;33m:\u001b[0m\u001b[1;33m\u001b[0m\u001b[1;33m\u001b[0m\u001b[0m\n\u001b[0;32m     23\u001b[0m     \u001b[1;32mif\u001b[0m \u001b[0mstr\u001b[0m\u001b[1;33m(\u001b[0m\u001b[0mvalue\u001b[0m\u001b[1;33m)\u001b[0m\u001b[1;33m.\u001b[0m\u001b[0mstrip\u001b[0m\u001b[1;33m(\u001b[0m\u001b[1;34m'\"'\u001b[0m\u001b[1;33m)\u001b[0m \u001b[1;32mnot\u001b[0m \u001b[1;32min\u001b[0m \u001b[1;33m[\u001b[0m\u001b[1;34m'2.5'\u001b[0m\u001b[1;33m,\u001b[0m \u001b[1;34m'3.5'\u001b[0m\u001b[1;33m]\u001b[0m\u001b[1;33m:\u001b[0m\u001b[1;33m\u001b[0m\u001b[1;33m\u001b[0m\u001b[0m\n\u001b[1;32m---> 24\u001b[1;33m         \u001b[1;32mraise\u001b[0m \u001b[0mValueError\u001b[0m\u001b[1;33m(\u001b[0m\u001b[1;34m'Form factor must be either 2.5\" or 3.5\".'\u001b[0m\u001b[1;33m)\u001b[0m\u001b[1;33m\u001b[0m\u001b[1;33m\u001b[0m\u001b[0m\n\u001b[0m\u001b[0;32m     25\u001b[0m     \u001b[1;32melse\u001b[0m\u001b[1;33m:\u001b[0m\u001b[1;33m\u001b[0m\u001b[1;33m\u001b[0m\u001b[0m\n\u001b[0;32m     26\u001b[0m         \u001b[1;32mreturn\u001b[0m \u001b[0mstr\u001b[0m\u001b[1;33m(\u001b[0m\u001b[0mvalue\u001b[0m\u001b[1;33m)\u001b[0m\u001b[1;33m.\u001b[0m\u001b[0mstrip\u001b[0m\u001b[1;33m(\u001b[0m\u001b[1;34m'\"'\u001b[0m\u001b[1;33m)\u001b[0m \u001b[1;33m+\u001b[0m \u001b[1;34m'\"'\u001b[0m\u001b[1;33m\u001b[0m\u001b[1;33m\u001b[0m\u001b[0m\n",
      "\u001b[1;31mValueError\u001b[0m: Form factor must be either 2.5\" or 3.5\"."
     ]
    }
   ],
   "source": [
    "validate_storage_form_factor(5.5-3.5)"
   ]
  },
  {
   "cell_type": "code",
   "execution_count": 92,
   "metadata": {},
   "outputs": [
    {
     "ename": "ValueError",
     "evalue": "Form factor must be either 2.5\" or 3.5\".",
     "output_type": "error",
     "traceback": [
      "\u001b[1;31m---------------------------------------------------------------------------\u001b[0m",
      "\u001b[1;31mValueError\u001b[0m                                Traceback (most recent call last)",
      "\u001b[1;32m<ipython-input-92-0e72513bdfed>\u001b[0m in \u001b[0;36m<module>\u001b[1;34m\u001b[0m\n\u001b[1;32m----> 1\u001b[1;33m \u001b[0mvalidate_storage_form_factor\u001b[0m\u001b[1;33m(\u001b[0m\u001b[1;36m1\u001b[0m\u001b[1;33m)\u001b[0m\u001b[1;33m\u001b[0m\u001b[1;33m\u001b[0m\u001b[0m\n\u001b[0m",
      "\u001b[1;32m<ipython-input-86-7cb825171835>\u001b[0m in \u001b[0;36mvalidate_storage_form_factor\u001b[1;34m(value)\u001b[0m\n\u001b[0;32m     22\u001b[0m \u001b[1;32mdef\u001b[0m \u001b[0mvalidate_storage_form_factor\u001b[0m\u001b[1;33m(\u001b[0m\u001b[0mvalue\u001b[0m\u001b[1;33m)\u001b[0m\u001b[1;33m:\u001b[0m\u001b[1;33m\u001b[0m\u001b[1;33m\u001b[0m\u001b[0m\n\u001b[0;32m     23\u001b[0m     \u001b[1;32mif\u001b[0m \u001b[0mstr\u001b[0m\u001b[1;33m(\u001b[0m\u001b[0mvalue\u001b[0m\u001b[1;33m)\u001b[0m\u001b[1;33m.\u001b[0m\u001b[0mstrip\u001b[0m\u001b[1;33m(\u001b[0m\u001b[1;34m'\"'\u001b[0m\u001b[1;33m)\u001b[0m \u001b[1;32mnot\u001b[0m \u001b[1;32min\u001b[0m \u001b[1;33m[\u001b[0m\u001b[1;34m'2.5'\u001b[0m\u001b[1;33m,\u001b[0m \u001b[1;34m'3.5'\u001b[0m\u001b[1;33m]\u001b[0m\u001b[1;33m:\u001b[0m\u001b[1;33m\u001b[0m\u001b[1;33m\u001b[0m\u001b[0m\n\u001b[1;32m---> 24\u001b[1;33m         \u001b[1;32mraise\u001b[0m \u001b[0mValueError\u001b[0m\u001b[1;33m(\u001b[0m\u001b[1;34m'Form factor must be either 2.5\" or 3.5\".'\u001b[0m\u001b[1;33m)\u001b[0m\u001b[1;33m\u001b[0m\u001b[1;33m\u001b[0m\u001b[0m\n\u001b[0m\u001b[0;32m     25\u001b[0m     \u001b[1;32melse\u001b[0m\u001b[1;33m:\u001b[0m\u001b[1;33m\u001b[0m\u001b[1;33m\u001b[0m\u001b[0m\n\u001b[0;32m     26\u001b[0m         \u001b[1;32mreturn\u001b[0m \u001b[0mstr\u001b[0m\u001b[1;33m(\u001b[0m\u001b[0mvalue\u001b[0m\u001b[1;33m)\u001b[0m\u001b[1;33m.\u001b[0m\u001b[0mstrip\u001b[0m\u001b[1;33m(\u001b[0m\u001b[1;34m'\"'\u001b[0m\u001b[1;33m)\u001b[0m \u001b[1;33m+\u001b[0m \u001b[1;34m'\"'\u001b[0m\u001b[1;33m\u001b[0m\u001b[1;33m\u001b[0m\u001b[0m\n",
      "\u001b[1;31mValueError\u001b[0m: Form factor must be either 2.5\" or 3.5\"."
     ]
    }
   ],
   "source": [
    "validate_storage_form_factor(1)"
   ]
  },
  {
   "cell_type": "code",
   "execution_count": 93,
   "metadata": {},
   "outputs": [
    {
     "data": {
      "text/plain": [
       "'2.5\"'"
      ]
     },
     "execution_count": 93,
     "metadata": {},
     "output_type": "execute_result"
    }
   ],
   "source": [
    "validate_storage_form_factor('\"\"\"\"\"\"\"\"2.5\"\"\"\"\"\"\"\"\"')"
   ]
  },
  {
   "cell_type": "code",
   "execution_count": 94,
   "metadata": {},
   "outputs": [
    {
     "data": {
      "text/plain": [
       "10000"
      ]
     },
     "execution_count": 94,
     "metadata": {},
     "output_type": "execute_result"
    }
   ],
   "source": [
    "validate_hdd_rpm('10_000')"
   ]
  },
  {
   "cell_type": "code",
   "execution_count": 95,
   "metadata": {},
   "outputs": [
    {
     "data": {
      "text/plain": [
       "10000"
      ]
     },
     "execution_count": 95,
     "metadata": {},
     "output_type": "execute_result"
    }
   ],
   "source": [
    "validate_hdd_rpm(10000)"
   ]
  },
  {
   "cell_type": "code",
   "execution_count": 96,
   "metadata": {},
   "outputs": [
    {
     "data": {
      "text/plain": [
       "False"
      ]
     },
     "execution_count": 96,
     "metadata": {},
     "output_type": "execute_result"
    }
   ],
   "source": [
    "bool(100 % 1)"
   ]
  },
  {
   "cell_type": "code",
   "execution_count": 68,
   "metadata": {},
   "outputs": [
    {
     "data": {
      "text/plain": [
       "10100"
      ]
     },
     "execution_count": 68,
     "metadata": {},
     "output_type": "execute_result"
    }
   ],
   "source": [
    "validate_hdd_rpm(10100)"
   ]
  },
  {
   "cell_type": "code",
   "execution_count": 98,
   "metadata": {},
   "outputs": [],
   "source": [
    "s = Storage('12TB Scorpion Black', 'Western Digital', 12_000, 30, 10)"
   ]
  },
  {
   "cell_type": "code",
   "execution_count": 99,
   "metadata": {},
   "outputs": [
    {
     "data": {
      "text/plain": [
       "Storage (name=12TB Scorpion Black, manufacturer=Western Digital, capacity=12000 GB)"
      ]
     },
     "execution_count": 99,
     "metadata": {},
     "output_type": "execute_result"
    }
   ],
   "source": [
    "s"
   ]
  },
  {
   "cell_type": "code",
   "execution_count": null,
   "metadata": {},
   "outputs": [],
   "source": []
  }
 ],
 "metadata": {
  "kernelspec": {
   "display_name": "Python 3",
   "language": "python",
   "name": "python3"
  },
  "language_info": {
   "codemirror_mode": {
    "name": "ipython",
    "version": 3
   },
   "file_extension": ".py",
   "mimetype": "text/x-python",
   "name": "python",
   "nbconvert_exporter": "python",
   "pygments_lexer": "ipython3",
   "version": "3.7.6"
  }
 },
 "nbformat": 4,
 "nbformat_minor": 4
}
