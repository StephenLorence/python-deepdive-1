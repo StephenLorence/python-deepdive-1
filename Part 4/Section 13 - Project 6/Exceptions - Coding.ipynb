{
 "cells": [
  {
   "cell_type": "code",
   "execution_count": 66,
   "metadata": {},
   "outputs": [],
   "source": [
    "from http import HTTPStatus\n",
    "from datetime import datetime\n",
    "import json\n",
    "from traceback import TracebackException\n",
    "\n",
    "class WidgetException(Exception):\n",
    "    \"\"\"Base exception for the Widget application.\"\"\"\n",
    "    \n",
    "    http_status = HTTPStatus.INTERNAL_SERVER_ERROR\n",
    "    internal_err_msg = 'A Widget exception occurred.'\n",
    "    user_err_msg = 'An unexpected error occurred.'\n",
    "    \n",
    "    def __init__(self, *args, user_err_msg=None):\n",
    "        if args:\n",
    "            self.internal_err_msg = args[0]\n",
    "            super().__init__(*args)\n",
    "        else:\n",
    "            super().__init__(self.internal_err_msg)\n",
    "            \n",
    "        if user_err_msg is not None:\n",
    "            self.user_err_msg = user_err_msg\n",
    "            \n",
    "    @property\n",
    "    def traceback(self):\n",
    "        return TracebackException.from_exception(self).format()\n",
    "            \n",
    "    def log_exception(self):\n",
    "        print(f'{self.__class__.__name__} occurred at {datetime.utcnow().isoformat()}')\n",
    "        print(f'Internal error message: {self.internal_err_msg}')\n",
    "        print(f'User error message: {self.user_err_msg}')\n",
    "        print(f'HTTP status code: {self.http_status}, {self.http_status.name}')\n",
    "        for line in self.traceback:\n",
    "            print(line)\n",
    "        \n",
    "    def to_json(self):\n",
    "        return json.dumps({\n",
    "            'exception_type': self.__class__.__name__,\n",
    "            'error_message': self.user_err_msg,\n",
    "            'http_status_name': self.http_status.name,\n",
    "            'http_status_code': self.http_status.value\n",
    "        })\n",
    "    \n",
    "class SupplierException(WidgetException):\n",
    "    \"\"\"Exceptions caused by issues with widget supply.\"\"\"\n",
    "    \n",
    "    internal_err_msg = 'A supplier exception occurred.'\n",
    "    user_err_msg = 'An unexpected supplier error occurred.'    \n",
    "    \n",
    "    \n",
    "class EOLException(SupplierException):\n",
    "    \"\"\"Product is EOL (end of life) and no longer manufactured.\"\"\"\n",
    "    \n",
    "    internal_err_msg = 'Product EOL.'\n",
    "    user_err_msg = 'This product is EOL.'\n",
    "    \n",
    "class ProductionDelayException(SupplierException):\n",
    "    \"\"\"Product's production has been delayed.\"\"\"\n",
    "    \n",
    "    internal_err_msg = 'Production delayed.'\n",
    "    user_err_msg = 'This item is experiencing a production delay.'\n",
    "    \n",
    "class ShippingDelayException(SupplierException):\n",
    "    \"\"\"Product is delayed in shipping.\"\"\"\n",
    "    \n",
    "    internal_err_msg = 'Shipping delay.'\n",
    "    user_err_msg = 'This item is delayed in shipping.'\n",
    "    \n",
    "class CheckoutException(WidgetException):\n",
    "    \"\"\"Exceptions caused during the checkout process.\"\"\"\n",
    "    \n",
    "    internal_err_msg = 'Checkout exception.'\n",
    "    user_err_msg = 'An unexpected error occurred during checkout.'\n",
    "    \n",
    "class InventoryException(CheckoutException):\n",
    "    \"\"\"Exceptions caused by issues with inventory.\"\"\"\n",
    "    \n",
    "    internal_err_msg = 'Inventory exception.'\n",
    "    user_err_msg = 'There is an issue with the inventory of this item.'\n",
    "    \n",
    "class StockOutException(InventoryException):\n",
    "    \"\"\"Product is out of stock.\"\"\"\n",
    "    \n",
    "    internal_err_msg = 'Product out of stock.'\n",
    "    user_err_msg = 'This product is out of stock.'\n",
    "    \n",
    "class PricingException(CheckoutException):\n",
    "    \"\"\"Checkout issues related to pricing.\"\"\"\n",
    "    \n",
    "    internal_err_msg = 'Pricing issue.'\n",
    "    user_err_msg = 'There is an issue with the pricing of this item.'\n",
    "    \n",
    "    http_status = HTTPStatus.BAD_REQUEST\n",
    "    \n",
    "class InvalidCouponCodeException(PricingException):\n",
    "    \"\"\"Supplied coupon code is invalid.\"\"\"\n",
    "    \n",
    "    internal_err_msg = 'Invalid coupon code.'\n",
    "    user_err_msg = 'The supplied coupon code is invalid.'\n",
    "    \n",
    "class CouponStackingException(PricingException):\n",
    "    \"\"\"Exception when trying to stack multiple coupons.\"\"\"\n",
    "    \n",
    "    internal_err_msg = 'Cannot stack multiple coupons.'\n",
    "    user_err_msg = 'Stacking multiple coupons is not allowed.'"
   ]
  },
  {
   "cell_type": "code",
   "execution_count": 54,
   "metadata": {},
   "outputs": [
    {
     "data": {
      "text/plain": [
       "'A Widget exception occurred.'"
      ]
     },
     "execution_count": 54,
     "metadata": {},
     "output_type": "execute_result"
    }
   ],
   "source": [
    "WidgetException().internal_err_msg"
   ]
  },
  {
   "cell_type": "code",
   "execution_count": 43,
   "metadata": {},
   "outputs": [],
   "source": [
    "ex = CouponStackingException('I have no idea what is happening here.', user_err_msg='Everything is under control!')"
   ]
  },
  {
   "cell_type": "code",
   "execution_count": 48,
   "metadata": {},
   "outputs": [],
   "source": [
    "tb = TracebackException.from_exception(ex)"
   ]
  },
  {
   "cell_type": "code",
   "execution_count": 52,
   "metadata": {},
   "outputs": [
    {
     "data": {
      "text/plain": [
       "['CouponStackingException: I have no idea what is happening here.\\n']"
      ]
     },
     "execution_count": 52,
     "metadata": {},
     "output_type": "execute_result"
    }
   ],
   "source": [
    "list(tb.format())"
   ]
  },
  {
   "cell_type": "code",
   "execution_count": 70,
   "metadata": {},
   "outputs": [
    {
     "name": "stdout",
     "output_type": "stream",
     "text": [
      "CouponStackingException occurred at 2021-04-10T03:52:43.514114\n",
      "Internal error message: I have no idea what is happening here.\n",
      "User error message: Everything is under control!\n",
      "HTTP status code: 400, BAD_REQUEST\n",
      "Traceback (most recent call last):\n",
      "\n",
      "  File \"<ipython-input-70-b8418681f410>\", line 2, in <module>\n",
      "    raise StockOutException\n",
      "\n",
      "StockOutException: Product out of stock.\n",
      "\n",
      "\n",
      "During handling of the above exception, another exception occurred:\n",
      "\n",
      "\n",
      "Traceback (most recent call last):\n",
      "\n",
      "  File \"<ipython-input-70-b8418681f410>\", line 5, in <module>\n",
      "    raise CouponStackingException('I have no idea what is happening here.', user_err_msg='Everything is under control!')\n",
      "\n",
      "CouponStackingException: I have no idea what is happening here.\n",
      "\n"
     ]
    }
   ],
   "source": [
    "try:\n",
    "    raise StockOutException\n",
    "except:\n",
    "    try:\n",
    "        raise CouponStackingException('I have no idea what is happening here.', user_err_msg='Everything is under control!')\n",
    "    except CouponStackingException as ex:\n",
    "        ex.log_exception()\n",
    "    \n",
    "                "
   ]
  },
  {
   "cell_type": "code",
   "execution_count": 72,
   "metadata": {},
   "outputs": [],
   "source": [
    "ex = CouponStackingException(\"Stuff's broke, mang.\", 'two', 'three', user_err_msg='Bollocks!')"
   ]
  },
  {
   "cell_type": "code",
   "execution_count": 73,
   "metadata": {},
   "outputs": [
    {
     "data": {
      "text/plain": [
       "'Bollocks!'"
      ]
     },
     "execution_count": 73,
     "metadata": {},
     "output_type": "execute_result"
    }
   ],
   "source": [
    "ex.user_err_msg"
   ]
  },
  {
   "cell_type": "code",
   "execution_count": 74,
   "metadata": {},
   "outputs": [
    {
     "data": {
      "text/plain": [
       "\"Stuff's broke, mang.\""
      ]
     },
     "execution_count": 74,
     "metadata": {},
     "output_type": "execute_result"
    }
   ],
   "source": [
    "ex.internal_err_msg"
   ]
  },
  {
   "cell_type": "code",
   "execution_count": 77,
   "metadata": {},
   "outputs": [
    {
     "name": "stdout",
     "output_type": "stream",
     "text": [
      "CouponStackingException: (\"Stuff's broke, mang.\", 'two', 'three')\n",
      "\n"
     ]
    }
   ],
   "source": [
    "for line in ex.traceback:\n",
    "    print(line)"
   ]
  },
  {
   "cell_type": "code",
   "execution_count": 64,
   "metadata": {},
   "outputs": [
    {
     "data": {
      "text/plain": [
       "'There is an issue with the pricing of this item.'"
      ]
     },
     "execution_count": 64,
     "metadata": {},
     "output_type": "execute_result"
    }
   ],
   "source": [
    "PricingException().user_err_msg"
   ]
  },
  {
   "cell_type": "code",
   "execution_count": 65,
   "metadata": {},
   "outputs": [
    {
     "data": {
      "text/plain": [
       "{'exception_type': 'CouponStackingException',\n",
       " 'error_message': 'Bollocks!',\n",
       " 'http_status_name': 'BAD_REQUEST',\n",
       " 'http_status_code': 400}"
      ]
     },
     "execution_count": 65,
     "metadata": {},
     "output_type": "execute_result"
    }
   ],
   "source": [
    "json.loads(ex.to_json())"
   ]
  },
  {
   "cell_type": "code",
   "execution_count": 38,
   "metadata": {},
   "outputs": [
    {
     "data": {
      "text/plain": [
       "'2021-04-10T02:59:55.624866'"
      ]
     },
     "execution_count": 38,
     "metadata": {},
     "output_type": "execute_result"
    }
   ],
   "source": [
    "datetime.utcnow().isoformat()"
   ]
  },
  {
   "cell_type": "code",
   "execution_count": 3,
   "metadata": {},
   "outputs": [
    {
     "data": {
      "text/plain": [
       "<HTTPStatus.INTERNAL_SERVER_ERROR: 500>"
      ]
     },
     "execution_count": 3,
     "metadata": {},
     "output_type": "execute_result"
    }
   ],
   "source": [
    "WidgetException().http_status"
   ]
  },
  {
   "cell_type": "code",
   "execution_count": 16,
   "metadata": {},
   "outputs": [
    {
     "data": {
      "text/plain": [
       "<HTTPStatus.BAD_REQUEST: 400>"
      ]
     },
     "execution_count": 16,
     "metadata": {},
     "output_type": "execute_result"
    }
   ],
   "source": [
    "CouponStackingException.http_status"
   ]
  },
  {
   "cell_type": "code",
   "execution_count": null,
   "metadata": {},
   "outputs": [],
   "source": []
  }
 ],
 "metadata": {
  "kernelspec": {
   "display_name": "Python 3",
   "language": "python",
   "name": "python3"
  },
  "language_info": {
   "codemirror_mode": {
    "name": "ipython",
    "version": 3
   },
   "file_extension": ".py",
   "mimetype": "text/x-python",
   "name": "python",
   "nbconvert_exporter": "python",
   "pygments_lexer": "ipython3",
   "version": "3.7.6"
  }
 },
 "nbformat": 4,
 "nbformat_minor": 4
}
