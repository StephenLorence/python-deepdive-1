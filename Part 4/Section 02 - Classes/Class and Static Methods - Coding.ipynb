{
 "cells": [
  {
   "cell_type": "code",
   "execution_count": 1,
   "metadata": {},
   "outputs": [],
   "source": [
    "class Person:\n",
    "    def hello(arg='default'):\n",
    "        print(f'Hello, with arg={arg}')"
   ]
  },
  {
   "cell_type": "code",
   "execution_count": 2,
   "metadata": {},
   "outputs": [
    {
     "name": "stdout",
     "output_type": "stream",
     "text": [
      "Hello, with arg=default\n"
     ]
    }
   ],
   "source": [
    "Person.hello()"
   ]
  },
  {
   "cell_type": "code",
   "execution_count": 3,
   "metadata": {},
   "outputs": [
    {
     "name": "stdout",
     "output_type": "stream",
     "text": [
      "Hello, with arg=100\n"
     ]
    }
   ],
   "source": [
    "Person.hello(100)"
   ]
  },
  {
   "cell_type": "code",
   "execution_count": 4,
   "metadata": {},
   "outputs": [],
   "source": [
    "p = Person()"
   ]
  },
  {
   "cell_type": "code",
   "execution_count": 5,
   "metadata": {},
   "outputs": [
    {
     "name": "stdout",
     "output_type": "stream",
     "text": [
      "Hello, with arg=<__main__.Person object at 0x000001B1D9358F48>\n"
     ]
    }
   ],
   "source": [
    "p.hello()"
   ]
  },
  {
   "cell_type": "code",
   "execution_count": 8,
   "metadata": {},
   "outputs": [],
   "source": [
    "class MyClass:\n",
    "    def hello():\n",
    "        print('hello...')\n",
    "        \n",
    "    def instance_hello(arg):\n",
    "        print(f'hello from {arg}')\n",
    "    \n",
    "    @classmethod\n",
    "    def class_hello(arg):\n",
    "        print(f'hello from {arg}')"
   ]
  },
  {
   "cell_type": "code",
   "execution_count": 9,
   "metadata": {},
   "outputs": [],
   "source": [
    "m = MyClass()"
   ]
  },
  {
   "cell_type": "code",
   "execution_count": 10,
   "metadata": {},
   "outputs": [
    {
     "ename": "TypeError",
     "evalue": "hello() takes 0 positional arguments but 1 was given",
     "output_type": "error",
     "traceback": [
      "\u001b[1;31m---------------------------------------------------------------------------\u001b[0m",
      "\u001b[1;31mTypeError\u001b[0m                                 Traceback (most recent call last)",
      "\u001b[1;32m<ipython-input-10-ee9cf145ed77>\u001b[0m in \u001b[0;36m<module>\u001b[1;34m\u001b[0m\n\u001b[1;32m----> 1\u001b[1;33m \u001b[0mm\u001b[0m\u001b[1;33m.\u001b[0m\u001b[0mhello\u001b[0m\u001b[1;33m(\u001b[0m\u001b[1;33m)\u001b[0m\u001b[1;33m\u001b[0m\u001b[1;33m\u001b[0m\u001b[0m\n\u001b[0m",
      "\u001b[1;31mTypeError\u001b[0m: hello() takes 0 positional arguments but 1 was given"
     ]
    }
   ],
   "source": [
    "m.hello()"
   ]
  },
  {
   "cell_type": "code",
   "execution_count": 11,
   "metadata": {},
   "outputs": [
    {
     "name": "stdout",
     "output_type": "stream",
     "text": [
      "hello from <__main__.MyClass object at 0x000001B1DA924348>\n"
     ]
    }
   ],
   "source": [
    "m.instance_hello()"
   ]
  },
  {
   "cell_type": "code",
   "execution_count": 12,
   "metadata": {},
   "outputs": [
    {
     "name": "stdout",
     "output_type": "stream",
     "text": [
      "hello from <class '__main__.MyClass'>\n"
     ]
    }
   ],
   "source": [
    "m.class_hello()"
   ]
  },
  {
   "cell_type": "code",
   "execution_count": 13,
   "metadata": {},
   "outputs": [
    {
     "name": "stdout",
     "output_type": "stream",
     "text": [
      "hello from <class '__main__.MyClass'>\n"
     ]
    }
   ],
   "source": [
    "MyClass.class_hello()"
   ]
  },
  {
   "cell_type": "code",
   "execution_count": 15,
   "metadata": {},
   "outputs": [
    {
     "name": "stdout",
     "output_type": "stream",
     "text": [
      "hello...\n"
     ]
    }
   ],
   "source": [
    "MyClass.hello()"
   ]
  },
  {
   "cell_type": "code",
   "execution_count": 16,
   "metadata": {},
   "outputs": [
    {
     "data": {
      "text/plain": [
       "<function __main__.MyClass.instance_hello(arg)>"
      ]
     },
     "execution_count": 16,
     "metadata": {},
     "output_type": "execute_result"
    }
   ],
   "source": [
    "MyClass.instance_hello"
   ]
  },
  {
   "cell_type": "code",
   "execution_count": 17,
   "metadata": {},
   "outputs": [
    {
     "data": {
      "text/plain": [
       "<bound method MyClass.class_hello of <class '__main__.MyClass'>>"
      ]
     },
     "execution_count": 17,
     "metadata": {},
     "output_type": "execute_result"
    }
   ],
   "source": [
    "MyClass.class_hello"
   ]
  },
  {
   "cell_type": "code",
   "execution_count": 18,
   "metadata": {},
   "outputs": [
    {
     "data": {
      "text/plain": [
       "<function __main__.MyClass.hello()>"
      ]
     },
     "execution_count": 18,
     "metadata": {},
     "output_type": "execute_result"
    }
   ],
   "source": [
    "MyClass.hello"
   ]
  },
  {
   "cell_type": "code",
   "execution_count": 19,
   "metadata": {},
   "outputs": [
    {
     "data": {
      "text/plain": [
       "<bound method MyClass.class_hello of <class '__main__.MyClass'>>"
      ]
     },
     "execution_count": 19,
     "metadata": {},
     "output_type": "execute_result"
    }
   ],
   "source": [
    "m.class_hello"
   ]
  },
  {
   "cell_type": "code",
   "execution_count": 20,
   "metadata": {},
   "outputs": [
    {
     "data": {
      "text/plain": [
       "<bound method MyClass.instance_hello of <__main__.MyClass object at 0x000001B1DA924348>>"
      ]
     },
     "execution_count": 20,
     "metadata": {},
     "output_type": "execute_result"
    }
   ],
   "source": [
    "m.instance_hello"
   ]
  },
  {
   "cell_type": "code",
   "execution_count": 21,
   "metadata": {},
   "outputs": [
    {
     "data": {
      "text/plain": [
       "<bound method MyClass.hello of <__main__.MyClass object at 0x000001B1DA924348>>"
      ]
     },
     "execution_count": 21,
     "metadata": {},
     "output_type": "execute_result"
    }
   ],
   "source": [
    "m.hello"
   ]
  },
  {
   "cell_type": "code",
   "execution_count": 22,
   "metadata": {},
   "outputs": [],
   "source": [
    "class MyClass:\n",
    "    def hello():\n",
    "        print('hello...')\n",
    "        \n",
    "    def instance_hello(arg):\n",
    "        print(f'hello from {arg}')\n",
    "    \n",
    "    @classmethod\n",
    "    def class_hello(arg):\n",
    "        print(f'hello from {arg}')\n",
    "        \n",
    "    @staticmethod\n",
    "    def static_hello():\n",
    "        print('Static method called...')"
   ]
  },
  {
   "cell_type": "code",
   "execution_count": 23,
   "metadata": {},
   "outputs": [],
   "source": [
    "m = MyClass()"
   ]
  },
  {
   "cell_type": "code",
   "execution_count": 24,
   "metadata": {},
   "outputs": [
    {
     "name": "stdout",
     "output_type": "stream",
     "text": [
      "Static method called...\n"
     ]
    }
   ],
   "source": [
    "MyClass.static_hello()"
   ]
  },
  {
   "cell_type": "code",
   "execution_count": 25,
   "metadata": {},
   "outputs": [
    {
     "data": {
      "text/plain": [
       "<function __main__.MyClass.static_hello()>"
      ]
     },
     "execution_count": 25,
     "metadata": {},
     "output_type": "execute_result"
    }
   ],
   "source": [
    "MyClass.static_hello"
   ]
  },
  {
   "cell_type": "code",
   "execution_count": 26,
   "metadata": {},
   "outputs": [
    {
     "data": {
      "text/plain": [
       "<function __main__.MyClass.static_hello()>"
      ]
     },
     "execution_count": 26,
     "metadata": {},
     "output_type": "execute_result"
    }
   ],
   "source": [
    "m.static_hello"
   ]
  },
  {
   "cell_type": "code",
   "execution_count": 27,
   "metadata": {},
   "outputs": [
    {
     "name": "stdout",
     "output_type": "stream",
     "text": [
      "Static method called...\n"
     ]
    }
   ],
   "source": [
    "m.static_hello()"
   ]
  },
  {
   "cell_type": "code",
   "execution_count": 28,
   "metadata": {},
   "outputs": [],
   "source": [
    "from datetime import datetime, timezone, timedelta"
   ]
  },
  {
   "cell_type": "code",
   "execution_count": 29,
   "metadata": {},
   "outputs": [],
   "source": [
    "class Timer:\n",
    "    tz = timezone.utc\n",
    "    \n",
    "    @classmethod\n",
    "    def set_tz(cls, offset, name):\n",
    "        cls.tz = timezone(timedelta(hours=offset), name)"
   ]
  },
  {
   "cell_type": "code",
   "execution_count": 30,
   "metadata": {},
   "outputs": [],
   "source": [
    "Timer.set_tz(-7, 'MST')"
   ]
  },
  {
   "cell_type": "code",
   "execution_count": 31,
   "metadata": {},
   "outputs": [
    {
     "data": {
      "text/plain": [
       "datetime.timezone(datetime.timedelta(days=-1, seconds=61200), 'MST')"
      ]
     },
     "execution_count": 31,
     "metadata": {},
     "output_type": "execute_result"
    }
   ],
   "source": [
    "Timer.tz"
   ]
  },
  {
   "cell_type": "code",
   "execution_count": 32,
   "metadata": {},
   "outputs": [],
   "source": [
    "t1 = Timer()\n",
    "t2 = Timer()"
   ]
  },
  {
   "cell_type": "code",
   "execution_count": 33,
   "metadata": {},
   "outputs": [
    {
     "data": {
      "text/plain": [
       "(datetime.timezone(datetime.timedelta(days=-1, seconds=61200), 'MST'),\n",
       " datetime.timezone(datetime.timedelta(days=-1, seconds=61200), 'MST'))"
      ]
     },
     "execution_count": 33,
     "metadata": {},
     "output_type": "execute_result"
    }
   ],
   "source": [
    "t1.tz, t2.tz"
   ]
  },
  {
   "cell_type": "code",
   "execution_count": 34,
   "metadata": {},
   "outputs": [],
   "source": [
    "Timer.set_tz(-8, 'PST')"
   ]
  },
  {
   "cell_type": "code",
   "execution_count": 35,
   "metadata": {},
   "outputs": [
    {
     "data": {
      "text/plain": [
       "(datetime.timezone(datetime.timedelta(days=-1, seconds=57600), 'PST'),\n",
       " datetime.timezone(datetime.timedelta(days=-1, seconds=57600), 'PST'))"
      ]
     },
     "execution_count": 35,
     "metadata": {},
     "output_type": "execute_result"
    }
   ],
   "source": [
    "t1.tz, t2.tz"
   ]
  },
  {
   "cell_type": "code",
   "execution_count": 36,
   "metadata": {},
   "outputs": [],
   "source": [
    "class Timer:\n",
    "    tz = timezone.utc\n",
    "    \n",
    "    @classmethod\n",
    "    def set_tz(cls, offset, name):\n",
    "        cls.tz = timezone(timedelta(hours=offset), name)\n",
    "    \n",
    "    @staticmethod\n",
    "    def current_dt_utc():\n",
    "        return datetime.now(timezone.utc)"
   ]
  },
  {
   "cell_type": "code",
   "execution_count": 37,
   "metadata": {},
   "outputs": [],
   "source": [
    "t1 = Timer()\n",
    "t2 = Timer()"
   ]
  },
  {
   "cell_type": "code",
   "execution_count": 38,
   "metadata": {},
   "outputs": [
    {
     "data": {
      "text/plain": [
       "datetime.datetime(2021, 3, 5, 0, 28, 58, 694480, tzinfo=datetime.timezone.utc)"
      ]
     },
     "execution_count": 38,
     "metadata": {},
     "output_type": "execute_result"
    }
   ],
   "source": [
    "t1.current_dt_utc()"
   ]
  },
  {
   "cell_type": "code",
   "execution_count": 39,
   "metadata": {},
   "outputs": [
    {
     "data": {
      "text/plain": [
       "datetime.datetime(2021, 3, 5, 0, 29, 3, 854801, tzinfo=datetime.timezone.utc)"
      ]
     },
     "execution_count": 39,
     "metadata": {},
     "output_type": "execute_result"
    }
   ],
   "source": [
    "Timer.current_dt_utc()"
   ]
  },
  {
   "cell_type": "code",
   "execution_count": 40,
   "metadata": {},
   "outputs": [
    {
     "ename": "NameError",
     "evalue": "name 'current_dt_utc' is not defined",
     "output_type": "error",
     "traceback": [
      "\u001b[1;31m---------------------------------------------------------------------------\u001b[0m",
      "\u001b[1;31mNameError\u001b[0m                                 Traceback (most recent call last)",
      "\u001b[1;32m<ipython-input-40-65d129768a90>\u001b[0m in \u001b[0;36m<module>\u001b[1;34m\u001b[0m\n\u001b[1;32m----> 1\u001b[1;33m \u001b[0mcurrent_dt_utc\u001b[0m\u001b[1;33m(\u001b[0m\u001b[1;33m)\u001b[0m\u001b[1;33m\u001b[0m\u001b[1;33m\u001b[0m\u001b[0m\n\u001b[0m",
      "\u001b[1;31mNameError\u001b[0m: name 'current_dt_utc' is not defined"
     ]
    }
   ],
   "source": [
    "current_dt_utc()"
   ]
  },
  {
   "cell_type": "code",
   "execution_count": 41,
   "metadata": {},
   "outputs": [],
   "source": [
    "class Timer:\n",
    "    tz = timezone.utc\n",
    "    \n",
    "    @classmethod\n",
    "    def set_tz(cls, offset, name):\n",
    "        cls.tz = timezone(timedelta(hours=offset), name)\n",
    "    \n",
    "    @staticmethod\n",
    "    def current_dt_utc():\n",
    "        return datetime.now(timezone.utc)\n",
    "    \n",
    "    @classmethod\n",
    "    def current_dt(cls):\n",
    "        return datetime.now(cls.tz)"
   ]
  },
  {
   "cell_type": "code",
   "execution_count": 44,
   "metadata": {},
   "outputs": [
    {
     "data": {
      "text/plain": [
       "datetime.datetime(2021, 3, 5, 0, 30, 57, 423456, tzinfo=datetime.timezone.utc)"
      ]
     },
     "execution_count": 44,
     "metadata": {},
     "output_type": "execute_result"
    }
   ],
   "source": [
    "Timer.current_dt_utc()"
   ]
  },
  {
   "cell_type": "code",
   "execution_count": 43,
   "metadata": {},
   "outputs": [
    {
     "data": {
      "text/plain": [
       "datetime.datetime(2021, 3, 5, 0, 30, 53, 165734, tzinfo=datetime.timezone.utc)"
      ]
     },
     "execution_count": 43,
     "metadata": {},
     "output_type": "execute_result"
    }
   ],
   "source": [
    "Timer.current_dt()"
   ]
  },
  {
   "cell_type": "code",
   "execution_count": 45,
   "metadata": {},
   "outputs": [],
   "source": [
    "t1 = Timer()\n",
    "t2 = Timer()"
   ]
  },
  {
   "cell_type": "code",
   "execution_count": 46,
   "metadata": {},
   "outputs": [
    {
     "data": {
      "text/plain": [
       "(datetime.datetime(2021, 3, 5, 0, 31, 38, 62670, tzinfo=datetime.timezone.utc),\n",
       " datetime.datetime(2021, 3, 5, 0, 31, 38, 62670, tzinfo=datetime.timezone.utc))"
      ]
     },
     "execution_count": 46,
     "metadata": {},
     "output_type": "execute_result"
    }
   ],
   "source": [
    "t1.current_dt_utc(), t2.current_dt()"
   ]
  },
  {
   "cell_type": "code",
   "execution_count": 47,
   "metadata": {},
   "outputs": [],
   "source": [
    "t2.set_tz(-7, 'MST')"
   ]
  },
  {
   "cell_type": "code",
   "execution_count": 48,
   "metadata": {},
   "outputs": [
    {
     "data": {
      "text/plain": [
       "(datetime.timezone(datetime.timedelta(days=-1, seconds=61200), 'MST'),\n",
       " datetime.timezone(datetime.timedelta(days=-1, seconds=61200), 'MST'))"
      ]
     },
     "execution_count": 48,
     "metadata": {},
     "output_type": "execute_result"
    }
   ],
   "source": [
    "t1.tz, t2.tz"
   ]
  },
  {
   "cell_type": "code",
   "execution_count": 49,
   "metadata": {},
   "outputs": [
    {
     "data": {
      "text/plain": [
       "({}, {})"
      ]
     },
     "execution_count": 49,
     "metadata": {},
     "output_type": "execute_result"
    }
   ],
   "source": [
    "t1.__dict__, t2.__dict__"
   ]
  },
  {
   "cell_type": "code",
   "execution_count": 50,
   "metadata": {},
   "outputs": [
    {
     "data": {
      "text/plain": [
       "(datetime.datetime(2021, 3, 5, 0, 33, 1, 318953, tzinfo=datetime.timezone.utc),\n",
       " datetime.datetime(2021, 3, 4, 17, 33, 1, 318953, tzinfo=datetime.timezone(datetime.timedelta(days=-1, seconds=61200), 'MST')),\n",
       " datetime.datetime(2021, 3, 4, 17, 33, 1, 318953, tzinfo=datetime.timezone(datetime.timedelta(days=-1, seconds=61200), 'MST')))"
      ]
     },
     "execution_count": 50,
     "metadata": {},
     "output_type": "execute_result"
    }
   ],
   "source": [
    "t1.current_dt_utc(), t1.current_dt(), t2.current_dt()"
   ]
  },
  {
   "cell_type": "code",
   "execution_count": 52,
   "metadata": {},
   "outputs": [],
   "source": [
    "class TimerError(Exception):\n",
    "    \"\"\"A custom exception used for Timer class\"\"\""
   ]
  },
  {
   "cell_type": "code",
   "execution_count": 53,
   "metadata": {},
   "outputs": [],
   "source": [
    "class Timer:\n",
    "    tz = timezone.utc\n",
    "    \n",
    "    @classmethod\n",
    "    def set_tz(cls, offset, name):\n",
    "        cls.tz = timezone(timedelta(hours=offset), name)\n",
    "    \n",
    "    @staticmethod\n",
    "    def current_dt_utc():\n",
    "        return datetime.now(timezone.utc)\n",
    "    \n",
    "    @classmethod\n",
    "    def current_dt(cls):\n",
    "        return datetime.now(cls.tz)\n",
    "    \n",
    "    def start(self):\n",
    "        self._time_start = self.current_dt_utc()\n",
    "        self._time_end = None\n",
    "        \n",
    "    def stop(self):\n",
    "        if self._time_start is None:\n",
    "            raise TimerError('Timer must be started before it can be stopped.')\n",
    "        self._time_end = self.current_dt_utc()\n",
    "        \n",
    "    @property\n",
    "    def start_time(self):\n",
    "        if self._time_start is None:\n",
    "            raise TimerError('Timer has not been started.')\n",
    "        return self._time_start.astimezone(self.tz)\n",
    "    \n",
    "    @property\n",
    "    def end_time(self):\n",
    "        if self._time_end is None:\n",
    "            raise TimerError('Timer has not been stopped.')\n",
    "        return self._time_end.astimezone(self.tz)\n",
    "    \n",
    "    @property\n",
    "    def elapsed(self):\n",
    "        if self._time_start is None:\n",
    "            raise TimerError('Timer must be started before an elapsed time can be calculated.')\n",
    "        if self._time_end is None:\n",
    "            elapsed_time = self.current_dt_utc() - self._time_start\n",
    "        else:\n",
    "            elapsed_time = self._time_end - self._time_start\n",
    "        return elapsed_time.total_seconds()"
   ]
  },
  {
   "cell_type": "code",
   "execution_count": 59,
   "metadata": {},
   "outputs": [
    {
     "name": "stdout",
     "output_type": "stream",
     "text": [
      "Start time: 2021-03-04 17:45:19.839765-07:00\n",
      "End time: 2021-03-04 17:45:21.840735-07:00\n",
      "Elapsed: 2.00097 seconds\n"
     ]
    }
   ],
   "source": [
    "from time import sleep\n",
    "\n",
    "t1 = Timer()\n",
    "t1.start()\n",
    "sleep(2)\n",
    "t1.stop()\n",
    "print(f'Start time: {t1.start_time}')\n",
    "print(f'End time: {t1.end_time}')\n",
    "print(f'Elapsed: {t1.elapsed} seconds')"
   ]
  },
  {
   "cell_type": "code",
   "execution_count": 60,
   "metadata": {},
   "outputs": [
    {
     "name": "stdout",
     "output_type": "stream",
     "text": [
      "Start time: 2021-03-04 17:45:22.502565-07:00\n",
      "End time: 2021-03-04 17:45:25.503543-07:00\n",
      "Elapsed: 3.000978 seconds\n"
     ]
    }
   ],
   "source": [
    "t2 = Timer()\n",
    "t2.start()\n",
    "sleep(3)\n",
    "t2.stop()\n",
    "print(f'Start time: {t2.start_time}')\n",
    "print(f'End time: {t2.end_time}')\n",
    "print(f'Elapsed: {t2.elapsed} seconds')"
   ]
  },
  {
   "cell_type": "code",
   "execution_count": 58,
   "metadata": {},
   "outputs": [],
   "source": [
    "Timer.set_tz(-7, 'MST')"
   ]
  },
  {
   "cell_type": "code",
   "execution_count": null,
   "metadata": {},
   "outputs": [],
   "source": []
  }
 ],
 "metadata": {
  "kernelspec": {
   "display_name": "Python 3",
   "language": "python",
   "name": "python3"
  },
  "language_info": {
   "codemirror_mode": {
    "name": "ipython",
    "version": 3
   },
   "file_extension": ".py",
   "mimetype": "text/x-python",
   "name": "python",
   "nbconvert_exporter": "python",
   "pygments_lexer": "ipython3",
   "version": "3.7.6"
  }
 },
 "nbformat": 4,
 "nbformat_minor": 4
}
