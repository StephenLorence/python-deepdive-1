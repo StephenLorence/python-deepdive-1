{
 "cells": [
  {
   "cell_type": "code",
   "execution_count": null,
   "metadata": {},
   "outputs": [],
   "source": [
    "class Language:\n",
    "    MAJOR = 3\n",
    "    MINOR = 7\n",
    "    REVISION = 4\n",
    "    FULL = '{}.{}.{}'.format(MAJOR, MINOR, REVISION)"
   ]
  },
  {
   "cell_type": "code",
   "execution_count": null,
   "metadata": {},
   "outputs": [],
   "source": [
    "Language.FULL"
   ]
  },
  {
   "cell_type": "code",
   "execution_count": null,
   "metadata": {},
   "outputs": [],
   "source": [
    "class Language:\n",
    "    MAJOR = 3\n",
    "    MINOR = 7\n",
    "    REVISION = 4\n",
    "    \n",
    "    @property\n",
    "    def version(self):\n",
    "        return '{}.{}.{}'.format(self.MAJOR, self.MINOR, self.REVISION)\n",
    "    \n",
    "    @classmethod\n",
    "    def cls_version(cls):\n",
    "        return '{}.{}.{}'.format(cls.MAJOR, cls.MINOR, cls.REVISION)\n",
    "    \n",
    "    @staticmethod\n",
    "    def static_version():\n",
    "        return '{}.{}.{}'.format(Language.MAJOR, Language.MINOR, Language.REVISION)"
   ]
  },
  {
   "cell_type": "code",
   "execution_count": null,
   "metadata": {},
   "outputs": [],
   "source": [
    "l = Language()\n",
    "l.version"
   ]
  },
  {
   "cell_type": "code",
   "execution_count": null,
   "metadata": {},
   "outputs": [],
   "source": [
    "l.cls_version()"
   ]
  },
  {
   "cell_type": "code",
   "execution_count": null,
   "metadata": {},
   "outputs": [],
   "source": [
    "Language.cls_version()"
   ]
  },
  {
   "cell_type": "code",
   "execution_count": null,
   "metadata": {},
   "outputs": [],
   "source": [
    "Language.static_version()"
   ]
  },
  {
   "cell_type": "code",
   "execution_count": null,
   "metadata": {},
   "outputs": [],
   "source": [
    "l.static_version()"
   ]
  },
  {
   "cell_type": "code",
   "execution_count": null,
   "metadata": {},
   "outputs": [],
   "source": [
    "class Language:\n",
    "    MAJOR = 3\n",
    "    MINOR = 7\n",
    "    REVISION = 4\n",
    "    \n",
    "def full_version():\n",
    "    return '{}.{}.{}'.format(Language.MAJOR, Language.MINOR, Language.REVISION)"
   ]
  },
  {
   "cell_type": "code",
   "execution_count": null,
   "metadata": {},
   "outputs": [],
   "source": [
    "full_version()"
   ]
  },
  {
   "cell_type": "code",
   "execution_count": null,
   "metadata": {},
   "outputs": [],
   "source": [
    "class Language:\n",
    "    MAJOR = 3\n",
    "    MINOR = 7\n",
    "    REVISION = 4\n",
    "    \n",
    "    version = full_version"
   ]
  },
  {
   "cell_type": "code",
   "execution_count": null,
   "metadata": {},
   "outputs": [],
   "source": [
    "Language.version is full_version"
   ]
  },
  {
   "cell_type": "code",
   "execution_count": null,
   "metadata": {},
   "outputs": [],
   "source": [
    "Language.version()"
   ]
  },
  {
   "cell_type": "code",
   "execution_count": null,
   "metadata": {},
   "outputs": [],
   "source": [
    "def full_version():\n",
    "    return '{}.{}.{}'.format(MAJOR, MINOR, REVISION)\n",
    "\n",
    "class Language:\n",
    "    MAJOR = 3\n",
    "    MINOR = 7\n",
    "    REVISION = 4\n",
    "    \n",
    "    version = full_version"
   ]
  },
  {
   "cell_type": "code",
   "execution_count": null,
   "metadata": {},
   "outputs": [],
   "source": [
    "full_version()"
   ]
  },
  {
   "cell_type": "code",
   "execution_count": null,
   "metadata": {},
   "outputs": [],
   "source": [
    "Language.version()"
   ]
  },
  {
   "cell_type": "code",
   "execution_count": null,
   "metadata": {},
   "outputs": [],
   "source": [
    "class Language:\n",
    "    MAJOR = 3\n",
    "    MINOR = 7\n",
    "    REVISION = 4\n",
    "    \n",
    "    def version(self):\n",
    "        return '{}.{}.{}'.format(MAJOR, MINOR, REVISION)"
   ]
  },
  {
   "cell_type": "code",
   "execution_count": null,
   "metadata": {},
   "outputs": [],
   "source": [
    "l = Language()\n",
    "l.version()"
   ]
  },
  {
   "cell_type": "code",
   "execution_count": null,
   "metadata": {},
   "outputs": [],
   "source": [
    "MAJOR = 0\n",
    "MINOR = 0\n",
    "REVISION = 1\n",
    "\n",
    "def gen_class():\n",
    "    MAJOR = 0\n",
    "    MINOR = 4\n",
    "    REVISION = 2\n",
    "    \n",
    "    class Language:\n",
    "        MAJOR = 3\n",
    "        MINOR = 7\n",
    "        REVISION = 4\n",
    "        \n",
    "        @classmethod\n",
    "        def version(cls):\n",
    "            return '{}.{}.{}'.format(MAJOR, MINOR, REVISION)\n",
    "        \n",
    "    return Language"
   ]
  },
  {
   "cell_type": "code",
   "execution_count": null,
   "metadata": {},
   "outputs": [],
   "source": [
    "cls = gen_class()"
   ]
  },
  {
   "cell_type": "code",
   "execution_count": null,
   "metadata": {},
   "outputs": [],
   "source": [
    "cls.version()"
   ]
  },
  {
   "cell_type": "code",
   "execution_count": null,
   "metadata": {},
   "outputs": [],
   "source": [
    "import inspect"
   ]
  },
  {
   "cell_type": "code",
   "execution_count": null,
   "metadata": {},
   "outputs": [],
   "source": [
    "inspect.getclosurevars(cls.version)"
   ]
  },
  {
   "cell_type": "code",
   "execution_count": 1,
   "metadata": {},
   "outputs": [
    {
     "data": {
      "text/plain": [
       "{'__name__': '__main__',\n",
       " '__doc__': 'Automatically created module for IPython interactive environment',\n",
       " '__package__': None,\n",
       " '__loader__': None,\n",
       " '__spec__': None,\n",
       " '__builtin__': <module 'builtins' (built-in)>,\n",
       " '__builtins__': <module 'builtins' (built-in)>,\n",
       " '_ih': ['', 'globals()'],\n",
       " '_oh': {},\n",
       " '_dh': ['C:\\\\Users\\\\Stephen\\\\Documents\\\\GitHub\\\\python-deepdive\\\\Part 4\\\\Section 02 - Classes'],\n",
       " 'In': ['', 'globals()'],\n",
       " 'Out': {},\n",
       " 'get_ipython': <bound method InteractiveShell.get_ipython of <ipykernel.zmqshell.ZMQInteractiveShell object at 0x00000269B5ACE248>>,\n",
       " 'exit': <IPython.core.autocall.ZMQExitAutocall at 0x269b7e97ac8>,\n",
       " 'quit': <IPython.core.autocall.ZMQExitAutocall at 0x269b7e97ac8>,\n",
       " '_': '',\n",
       " '__': '',\n",
       " '___': '',\n",
       " '_i': '',\n",
       " '_ii': '',\n",
       " '_iii': '',\n",
       " '_i1': 'globals()'}"
      ]
     },
     "execution_count": 1,
     "metadata": {},
     "output_type": "execute_result"
    }
   ],
   "source": [
    "globals()"
   ]
  },
  {
   "cell_type": "code",
   "execution_count": 2,
   "metadata": {},
   "outputs": [],
   "source": [
    "name = 'Guido'\n",
    "\n",
    "class MyClass:\n",
    "    name = 'Raymond'\n",
    "    list_1 = [name] * 3\n",
    "    list_2 = [name for i in range(3)]\n",
    "    \n",
    "    @classmethod\n",
    "    def hello(cls):\n",
    "        return '{} says hello'.format(name)"
   ]
  },
  {
   "cell_type": "code",
   "execution_count": 3,
   "metadata": {},
   "outputs": [
    {
     "data": {
      "text/plain": [
       "'Guido says hello'"
      ]
     },
     "execution_count": 3,
     "metadata": {},
     "output_type": "execute_result"
    }
   ],
   "source": [
    "MyClass.hello()"
   ]
  },
  {
   "cell_type": "code",
   "execution_count": 4,
   "metadata": {},
   "outputs": [
    {
     "data": {
      "text/plain": [
       "['Raymond', 'Raymond', 'Raymond']"
      ]
     },
     "execution_count": 4,
     "metadata": {},
     "output_type": "execute_result"
    }
   ],
   "source": [
    "MyClass.list_1"
   ]
  },
  {
   "cell_type": "code",
   "execution_count": 5,
   "metadata": {},
   "outputs": [
    {
     "data": {
      "text/plain": [
       "['Guido', 'Guido', 'Guido']"
      ]
     },
     "execution_count": 5,
     "metadata": {},
     "output_type": "execute_result"
    }
   ],
   "source": [
    "MyClass.list_2"
   ]
  },
  {
   "cell_type": "code",
   "execution_count": null,
   "metadata": {},
   "outputs": [],
   "source": []
  }
 ],
 "metadata": {
  "kernelspec": {
   "display_name": "Python 3",
   "language": "python",
   "name": "python3"
  },
  "language_info": {
   "codemirror_mode": {
    "name": "ipython",
    "version": 3
   },
   "file_extension": ".py",
   "mimetype": "text/x-python",
   "name": "python",
   "nbconvert_exporter": "python",
   "pygments_lexer": "ipython3",
   "version": "3.7.6"
  }
 },
 "nbformat": 4,
 "nbformat_minor": 4
}
