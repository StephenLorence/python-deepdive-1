{
 "cells": [
  {
   "cell_type": "markdown",
   "metadata": {},
   "source": [
    "## Background\n",
    "\n",
    "* Assume n is a positive integer.\n",
    "* Assume a and b are integers (positive or negative)\n",
    "\n",
    "The `residue` of a number `a` modulo `n` is `a % n`.\n",
    "\n",
    "Two numbers, `a`, and `b`, are said to be `congruent modulo n` (written as `a = b (mod n)`)...\n",
    "* if their residues are equal (i.e. `a % n == b % n`)\n",
    "\n",
    "#### Example:\n",
    "`7 % 12 -> 7`\n",
    "\n",
    "`19 % 12 -> 7`  -> `7` is congruent to `19` modulo `12`.\n"
   ]
  },
  {
   "cell_type": "markdown",
   "metadata": {},
   "source": [
    "# Project Goals\n",
    "\n",
    "* Create a class called `Mod`\n",
    "* Initialize with `value` and `modulus` arguments\n",
    "    * Ensure `modulus` and `value` are both integers.\n",
    "    * Moreover, `modulus` should be positive.\n",
    "    * Both `value` and `modulus` should be __read-only__.\n",
    "* store the `value` as the `residue` of the input value and the modulus.\n",
    "    * i.e. if `value = 8` and `modulus = 3`, store `value` as `2` (8 % 3).\n",
    "* Implement congruence for the == operator.\n",
    "    * i.e. make `__eq__` return True if two objects are congruent based on the modulus.\n",
    "    * Allow comparison of a `Mod` object to an `int` (in which case use the `residue` of the `int`).\n",
    "        * `8 % 3` is equal to `11`, for example.\n",
    "    * Allow comparison of two `Mod` objects _only_ if they have the __same modulus__.\n",
    "    * Ensure objects remain hashable.\n",
    "        * i.e. implement the `__hash__` function.\n",
    "        * Make sure the hash of two equal objects is equal.\n",
    "* Provide an implementation so that `int(mod_object)` will return the __residue__.\n",
    "* Provide a proper representation (`__repr__`).\n",
    "* Implement the operators: `+, -, *, **` (`__add__`, `__sub__`, `__mul__`, `__pow__`).\n",
    "    * Support the other operand to be `Mod` (with same modulus only).\n",
    "    * Support other operand to be an integer (and use the same modulus).\n",
    "    * Always return a `Mod` instance.\n",
    "        * Perform the `+, -, *, **` operations on the __values__ (which are technically the residues).\n",
    "            * i.e. `Mod(2, 3) + 16` -> `Mod(2 + 16, 3)` -> `Mod(0, 3)`\n",
    "* Implement the corresponding __in-place__ arithmetic operators.\n",
    "    * `__iadd__`, `__isub__`, `__imul__`, `__ipow__`.\n",
    "    * Remember for the in-lace operators you need to return `self`.\n",
    "        * Support other operand being a `Mod` (with the same modulus) or an `int`."
   ]
  },
  {
   "cell_type": "code",
   "execution_count": 89,
   "metadata": {},
   "outputs": [],
   "source": [
    "class Mod:\n",
    "    def __init__(self, value, modulus):\n",
    "        self._modulus = Mod._validate_modulus(modulus)\n",
    "        self._value = Mod._validate_value(value) % self._modulus # Store value as the residue.\n",
    "        \n",
    "    @staticmethod\n",
    "    def _validate_value(value):\n",
    "        if not isinstance(value, int):\n",
    "            raise TypeError('Value must be an integer.')\n",
    "        return value\n",
    "    \n",
    "    @staticmethod\n",
    "    def _validate_modulus(modulus):\n",
    "        modulus = Mod._validate_value(modulus)\n",
    "        if modulus < 1:\n",
    "            raise ValueError('Modulus must be positive.')\n",
    "        return modulus\n",
    "        \n",
    "    @property\n",
    "    def value(self):\n",
    "        return self._value\n",
    "    \n",
    "    @property\n",
    "    def modulus(self):\n",
    "        return self._modulus\n",
    "    \n",
    "    def __eq__(self, other):\n",
    "        if isinstance(other, Mod):\n",
    "            return self.modulus == other.modulus and self.value == other.value\n",
    "        elif isinstance(other, int):\n",
    "            return self.value == other % self.modulus\n",
    "        return NotImplemented\n",
    "    \n",
    "    def __hash__(self):\n",
    "        return hash((self.value, self.modulus))"
   ]
  },
  {
   "cell_type": "code",
   "execution_count": 90,
   "metadata": {},
   "outputs": [],
   "source": [
    "m1 = Mod(0, 2)\n",
    "m2= Mod(2, 2)\n",
    "m3 = Mod(3, 3)"
   ]
  },
  {
   "cell_type": "code",
   "execution_count": 91,
   "metadata": {},
   "outputs": [
    {
     "data": {
      "text/plain": [
       "True"
      ]
     },
     "execution_count": 91,
     "metadata": {},
     "output_type": "execute_result"
    }
   ],
   "source": [
    "m1 == m2"
   ]
  },
  {
   "cell_type": "code",
   "execution_count": 98,
   "metadata": {},
   "outputs": [
    {
     "data": {
      "text/plain": [
       "(3713080549410493181, 3713080549410493181, 2)"
      ]
     },
     "execution_count": 98,
     "metadata": {},
     "output_type": "execute_result"
    }
   ],
   "source": [
    "hash(m1), hash(m2), hash(2)"
   ]
  },
  {
   "cell_type": "code",
   "execution_count": 96,
   "metadata": {},
   "outputs": [
    {
     "data": {
      "text/plain": [
       "True"
      ]
     },
     "execution_count": 96,
     "metadata": {},
     "output_type": "execute_result"
    }
   ],
   "source": [
    "hash(m1) == hash(m2)"
   ]
  },
  {
   "cell_type": "code",
   "execution_count": 97,
   "metadata": {},
   "outputs": [
    {
     "data": {
      "text/plain": [
       "False"
      ]
     },
     "execution_count": 97,
     "metadata": {},
     "output_type": "execute_result"
    }
   ],
   "source": [
    "hash(m1) is hash(m2)"
   ]
  },
  {
   "cell_type": "code",
   "execution_count": 84,
   "metadata": {},
   "outputs": [
    {
     "data": {
      "text/plain": [
       "True"
      ]
     },
     "execution_count": 84,
     "metadata": {},
     "output_type": "execute_result"
    }
   ],
   "source": [
    "m1 == 2"
   ]
  },
  {
   "cell_type": "code",
   "execution_count": 85,
   "metadata": {},
   "outputs": [
    {
     "data": {
      "text/plain": [
       "False"
      ]
     },
     "execution_count": 85,
     "metadata": {},
     "output_type": "execute_result"
    }
   ],
   "source": [
    "m1 == 5"
   ]
  },
  {
   "cell_type": "code",
   "execution_count": 86,
   "metadata": {},
   "outputs": [
    {
     "data": {
      "text/plain": [
       "True"
      ]
     },
     "execution_count": 86,
     "metadata": {},
     "output_type": "execute_result"
    }
   ],
   "source": [
    "m1 == -2"
   ]
  },
  {
   "cell_type": "code",
   "execution_count": 87,
   "metadata": {},
   "outputs": [
    {
     "data": {
      "text/plain": [
       "True"
      ]
     },
     "execution_count": 87,
     "metadata": {},
     "output_type": "execute_result"
    }
   ],
   "source": [
    "2 == m1"
   ]
  },
  {
   "cell_type": "code",
   "execution_count": 88,
   "metadata": {},
   "outputs": [
    {
     "data": {
      "text/plain": [
       "False"
      ]
     },
     "execution_count": 88,
     "metadata": {},
     "output_type": "execute_result"
    }
   ],
   "source": [
    "m1 == m3"
   ]
  },
  {
   "cell_type": "code",
   "execution_count": 66,
   "metadata": {},
   "outputs": [
    {
     "data": {
      "text/plain": [
       "False"
      ]
     },
     "execution_count": 66,
     "metadata": {},
     "output_type": "execute_result"
    }
   ],
   "source": [
    "m2 == 'Test'"
   ]
  },
  {
   "cell_type": "code",
   "execution_count": 99,
   "metadata": {},
   "outputs": [],
   "source": [
    "d = {m1: 'test', m2: 'test2'}"
   ]
  },
  {
   "cell_type": "code",
   "execution_count": 100,
   "metadata": {},
   "outputs": [
    {
     "data": {
      "text/plain": [
       "{<__main__.Mod at 0x194b9e288c8>: 'test2'}"
      ]
     },
     "execution_count": 100,
     "metadata": {},
     "output_type": "execute_result"
    }
   ],
   "source": [
    "d"
   ]
  },
  {
   "cell_type": "code",
   "execution_count": 101,
   "metadata": {},
   "outputs": [
    {
     "data": {
      "text/plain": [
       "'test2'"
      ]
     },
     "execution_count": 101,
     "metadata": {},
     "output_type": "execute_result"
    }
   ],
   "source": [
    "d[m1]"
   ]
  },
  {
   "cell_type": "code",
   "execution_count": 102,
   "metadata": {},
   "outputs": [
    {
     "data": {
      "text/plain": [
       "'test2'"
      ]
     },
     "execution_count": 102,
     "metadata": {},
     "output_type": "execute_result"
    }
   ],
   "source": [
    "d[m2]"
   ]
  },
  {
   "cell_type": "code",
   "execution_count": null,
   "metadata": {},
   "outputs": [],
   "source": []
  }
 ],
 "metadata": {
  "kernelspec": {
   "display_name": "Python 3",
   "language": "python",
   "name": "python3"
  },
  "language_info": {
   "codemirror_mode": {
    "name": "ipython",
    "version": 3
   },
   "file_extension": ".py",
   "mimetype": "text/x-python",
   "name": "python",
   "nbconvert_exporter": "python",
   "pygments_lexer": "ipython3",
   "version": "3.7.6"
  }
 },
 "nbformat": 4,
 "nbformat_minor": 4
}
