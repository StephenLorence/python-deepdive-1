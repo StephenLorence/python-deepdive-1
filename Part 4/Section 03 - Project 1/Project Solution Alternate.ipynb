{
 "cells": [
  {
   "cell_type": "code",
   "execution_count": 35,
   "metadata": {},
   "outputs": [],
   "source": [
    "from decimal import Decimal\n",
    "from string import ascii_lowercase\n",
    "import datetime\n",
    "from collections import namedtuple\n",
    "\n",
    "class TimeZone:\n",
    "    def __init__(self, offset, name):\n",
    "        self.name = name\n",
    "        self.offset = offset\n",
    "    \n",
    "    @property\n",
    "    def name(self):\n",
    "        return self._name\n",
    "    \n",
    "    @name.setter\n",
    "    def name(self, value):\n",
    "        if not isinstance(value, str):\n",
    "            raise ValueError('Name must be a string.')\n",
    "        if not value.strip():\n",
    "            raise ValueError('Name must not be blank.')\n",
    "        self._name = value.strip()\n",
    "        \n",
    "    @property\n",
    "    def offset(self):\n",
    "        return self._offset\n",
    "    \n",
    "    @offset.setter\n",
    "    def offset(self, value):\n",
    "        if not isinstance(value, datetime.timedelta):\n",
    "            raise TypeError('Offset must be a datetime.timedelta object.')\n",
    "        if value < datetime.timedelta(hours=-12, minutes=0) or value > datetime.timedelta(hours=14, minutes=0):\n",
    "            raise ValueError('Offset must be between -12:00 and +14:00.')\n",
    "        self._offset = value\n",
    "        \n",
    "    def __repr__(self):\n",
    "        return f'TimeZone(offset={self.offset}, name={self.name})'\n",
    "        \n",
    "class BankAccount:\n",
    "    _monthly_interest_rate = None\n",
    "    _tran_id = 0\n",
    "    \n",
    "    _transaction_codes = {\n",
    "        'deposit': 'D',\n",
    "        'withdrawal': 'W',\n",
    "        'interest': 'I',\n",
    "        'rejected': 'X'\n",
    "    }\n",
    "    \n",
    "    def __init__(self, accnt_no, f_name, l_name, tz_offset=None, balance=None):\n",
    "        self.accnt_no = accnt_no\n",
    "        self.f_name = f_name\n",
    "        self.l_name = l_name\n",
    "        self.tz_offset = tz_offset\n",
    "        self._balance = Decimal(0.00)\n",
    "        if balance:\n",
    "            self.deposit(balance)\n",
    "\n",
    "    @staticmethod\n",
    "    def _validate_name(value, field_title):\n",
    "        # If every character in the provided value (assuming it's a string) is not a\n",
    "        # standard letter, a space, or an apostrophe, raise an exception.\n",
    "        if len(str(value).strip()) == 0 or value is None:\n",
    "            raise ValueError(f'{field_title} must not be blank.')\n",
    "        if not all(map(lambda x: x.lower() in ascii_lowercase + \" '\", str(value))):\n",
    "            raise ValueError(f'{field_title} must contain only letters, spaces, or apostrophes.')\n",
    "        return str(value).strip()\n",
    "            \n",
    "    @staticmethod\n",
    "    def parse_conf_no(conf_no, timezone):\n",
    "        ConfirmationNumber = namedtuple('ConfirmationNumber',\n",
    "                                        ['account_number',\n",
    "                                         'transaction_code',\n",
    "                                         'transaction_id',\n",
    "                                         'time',\n",
    "                                         'time_utc']\n",
    "                                       )\n",
    "        \n",
    "        conf_components = conf_no.split('-')\n",
    "        tran_code = conf_components[0]\n",
    "        accnt_no = conf_components[1]\n",
    "        time_utc = datetime.datetime.strptime(conf_components[2], '%Y%m%d%H%M%S')\n",
    "        tran_id = conf_components[3]\n",
    "        time = f'{time_utc + timezone.offset} ({timezone.name})'\n",
    "        \n",
    "        parsed_conf_no = ConfirmationNumber(accnt_no,\n",
    "                                            tran_code,\n",
    "                                            tran_id,\n",
    "                                            time,\n",
    "                                            time_utc.isoformat())\n",
    "        return parsed_conf_no\n",
    "            \n",
    "    @classmethod\n",
    "    def get_interest_rate(cls):\n",
    "        if cls._monthly_interest_rate is None:\n",
    "            raise ValueError('Interest rate has not been set.')\n",
    "        return cls._monthly_interest_rate\n",
    "    \n",
    "    @classmethod\n",
    "    def set_interest_rate(cls, value):\n",
    "        try:\n",
    "            value = Decimal(value)\n",
    "        except:\n",
    "            raise ValueError('Interest rate must be a decimal value.')\n",
    "        if value < 0:\n",
    "            raise ValueError('Interest rate cannot be negative.')\n",
    "        cls._monthly_interest_rate = value\n",
    "        return f'New monthly interest rate = {round(cls._monthly_interest_rate * 100, 2)}%'\n",
    "    \n",
    "    @classmethod\n",
    "    def _generate_confirmation(cls, account_no, tran_type):\n",
    "        cls._tran_id += 1\n",
    "        return (\n",
    "            f\"{tran_type}-{account_no}-\"\n",
    "            f\"{datetime.datetime.utcnow().strftime('%Y%m%d%H%M%S')}-\"\n",
    "            f\"{cls._tran_id}\"\n",
    "        )\n",
    "        \n",
    "    @classmethod\n",
    "    def _validate_transaction(cls, amount, accnt_no):\n",
    "        try:\n",
    "            amount = round(Decimal(amount), 2)\n",
    "        except:\n",
    "            conf_no = cls._generate_confirmation(accnt_no,\n",
    "                                                  cls._transaction_codes['rejected'])\n",
    "            print('Transaction amount must be a decimal value.')\n",
    "            print('Confirmation number:', conf_no)\n",
    "            return\n",
    "        if amount <= 0:\n",
    "            conf_no = cls._generate_confirmation(accnt_no,\n",
    "                                                  cls._transaction_codes['rejected'])\n",
    "            print('Transaction amount must be greater than zero.')\n",
    "            print('Confirmation number:', conf_no)\n",
    "            return\n",
    "        else:\n",
    "            return True\n",
    "    \n",
    "    @property\n",
    "    def accnt_no(self):\n",
    "        return self._accnt_no\n",
    "    \n",
    "    @accnt_no.setter\n",
    "    def accnt_no(self, value):\n",
    "        try:\n",
    "            value = int(value)\n",
    "        except:\n",
    "            raise ValueError('Account number must be an integer value.')\n",
    "        if value <= 0:\n",
    "            raise ValueError('Account number must be greater than zero.')\n",
    "        self._accnt_no = value\n",
    "        \n",
    "    @property\n",
    "    def f_name(self):\n",
    "        return self._f_name\n",
    "    \n",
    "    @f_name.setter\n",
    "    def f_name(self, value):\n",
    "        self._f_name = BankAccount._validate_name(value, 'First Name')\n",
    "        \n",
    "    @property\n",
    "    def l_name(self):\n",
    "        return self._l_name\n",
    "    \n",
    "    @l_name.setter\n",
    "    def l_name(self, value):\n",
    "        self._l_name = BankAccount._validate_name(value, 'Last Name')\n",
    "        \n",
    "    @property\n",
    "    def full_name(self):\n",
    "        return f'{self.f_name} {self.l_name}'\n",
    "    \n",
    "    @property\n",
    "    def tz_offset(self):\n",
    "        return self._tz_offset\n",
    "    \n",
    "    @tz_offset.setter\n",
    "    def tz_offset(self, value):\n",
    "        if value is None:\n",
    "            value = TimeZone(datetime.timedelta(), 'UTC')\n",
    "        if not isinstance(value, TimeZone):\n",
    "            raise TypeError('tz_offset must be a TimeZone object.')\n",
    "        self._tz_offset = value\n",
    "        \n",
    "    @property\n",
    "    def balance(self):\n",
    "        return round(self._balance, 2)\n",
    "    \n",
    "    def deposit(self, amount, interest=False):\n",
    "        if self._validate_transaction(amount, self.accnt_no):\n",
    "            self._balance += amount\n",
    "            if interest:\n",
    "                conf_no = self._generate_confirmation(self.accnt_no,\n",
    "                                                  self._transaction_codes['interest'])\n",
    "            else:\n",
    "                conf_no = self._generate_confirmation(self.accnt_no,\n",
    "                                                  self._transaction_codes['deposit'])\n",
    "            print(\n",
    "                \"Deposit accepted.\\n\"\n",
    "                f\"New balance = {self.balance}\\n\"\n",
    "                f\"Confirmation number = {conf_no}\"\n",
    "            )\n",
    "        \n",
    "    def withdrawal(self, amount):\n",
    "        if self._validate_transaction(amount, self.accnt_no):\n",
    "            if self._balance - amount < 0:\n",
    "                conf_no = self._generate_confirmation(self.accnt_no,\n",
    "                                                      self._transaction_codes['rejected'])\n",
    "                print('Insufficient funds.')\n",
    "                print('Confirmation number:', conf_no)\n",
    "                return\n",
    "\n",
    "            self._balance -= amount\n",
    "            conf_no = self._generate_confirmation(self.accnt_no,\n",
    "                                                  self._transaction_codes['withdrawal'])\n",
    "            print(\n",
    "                \"Withdrawal accepted.\\n\"\n",
    "                f\"New balance = {self.balance}\\n\"\n",
    "                f\"Confirmation number = {conf_no}\"\n",
    "            )\n",
    "    \n",
    "    def interest_deposit(self):\n",
    "        deposit_amount = self.balance * self.get_interest_rate()\n",
    "        return self.deposit(deposit_amount, interest=True)\n",
    "    \n",
    "    def __repr__(self):\n",
    "        return (\n",
    "            f\"\"\"BankAccount\n",
    "    Account No: {self.accnt_no}\n",
    "    Full Name: {self.full_name}\n",
    "    Timezone: {self.tz_offset}\n",
    "    Balance: {self.balance}\"\"\"\n",
    "        )"
   ]
  },
  {
   "cell_type": "code",
   "execution_count": 36,
   "metadata": {},
   "outputs": [
    {
     "name": "stdout",
     "output_type": "stream",
     "text": [
      "Deposit accepted.\n",
      "New balance = 600.00\n",
      "Confirmation number = D-12345-20210307001317-1\n"
     ]
    }
   ],
   "source": [
    "ba = BankAccount(12345, 'Harry', 'Caray', balance=600)"
   ]
  },
  {
   "cell_type": "code",
   "execution_count": 37,
   "metadata": {},
   "outputs": [
    {
     "data": {
      "text/plain": [
       "BankAccount\n",
       "    Account No: 12345\n",
       "    Full Name: Harry Caray\n",
       "    Timezone: TimeZone(offset=0:00:00, name=UTC)\n",
       "    Balance: 600.00"
      ]
     },
     "execution_count": 37,
     "metadata": {},
     "output_type": "execute_result"
    }
   ],
   "source": [
    "ba"
   ]
  },
  {
   "cell_type": "code",
   "execution_count": 38,
   "metadata": {},
   "outputs": [
    {
     "name": "stdout",
     "output_type": "stream",
     "text": [
      "Withdrawal accepted.\n",
      "New balance = 555.00\n",
      "Confirmation number = W-12345-20210307001318-2\n"
     ]
    }
   ],
   "source": [
    "ba.withdrawal(45)"
   ]
  },
  {
   "cell_type": "code",
   "execution_count": 39,
   "metadata": {},
   "outputs": [
    {
     "name": "stdout",
     "output_type": "stream",
     "text": [
      "Transaction amount must be a decimal value.\n",
      "Confirmation number: X-12345-20210307001319-3\n"
     ]
    }
   ],
   "source": [
    "ba._validate_transaction('test', 12345)"
   ]
  },
  {
   "cell_type": "code",
   "execution_count": 40,
   "metadata": {},
   "outputs": [
    {
     "name": "stdout",
     "output_type": "stream",
     "text": [
      "Deposit accepted.\n",
      "New balance = 755.00\n",
      "Confirmation number = D-12345-20210307001319-4\n"
     ]
    }
   ],
   "source": [
    "ba.deposit(200)"
   ]
  },
  {
   "cell_type": "code",
   "execution_count": 41,
   "metadata": {},
   "outputs": [
    {
     "data": {
      "text/plain": [
       "'New monthly interest rate = 0.50%'"
      ]
     },
     "execution_count": 41,
     "metadata": {},
     "output_type": "execute_result"
    }
   ],
   "source": [
    "ba.set_interest_rate(0.005)"
   ]
  },
  {
   "cell_type": "code",
   "execution_count": 42,
   "metadata": {},
   "outputs": [
    {
     "name": "stdout",
     "output_type": "stream",
     "text": [
      "Deposit accepted.\n",
      "New balance = 758.78\n",
      "Confirmation number = I-12345-20210307001319-5\n"
     ]
    }
   ],
   "source": [
    "ba.interest_deposit()"
   ]
  },
  {
   "cell_type": "code",
   "execution_count": 43,
   "metadata": {},
   "outputs": [],
   "source": [
    "import unittest"
   ]
  },
  {
   "cell_type": "code",
   "execution_count": 44,
   "metadata": {},
   "outputs": [],
   "source": [
    "def run_tests(test_class):\n",
    "    suite = unittest.TestLoader().loadTestsFromTestCase(test_class)\n",
    "    runner = unittest.TextTestRunner(verbosity=2)\n",
    "    runner.run(suite)"
   ]
  },
  {
   "cell_type": "code",
   "execution_count": 63,
   "metadata": {},
   "outputs": [],
   "source": [
    "class TestAccount(unittest.TestCase):\n",
    "    def setUp(self):\n",
    "        print('running setup...')\n",
    "        self.x = 100\n",
    "        \n",
    "    def tearDown(self):\n",
    "        print('running teardown...')\n",
    "    \n",
    "    def test_1(self):\n",
    "        self.x = 200\n",
    "        self.assertEqual(200, self.x)\n",
    "        \n",
    "    def test_2(self):\n",
    "        self.assertEqual(200, self.x)"
   ]
  },
  {
   "cell_type": "code",
   "execution_count": 64,
   "metadata": {},
   "outputs": [
    {
     "name": "stderr",
     "output_type": "stream",
     "text": [
      "test_1 (__main__.TestAccount) ... ok\n",
      "test_2 (__main__.TestAccount) ... "
     ]
    },
    {
     "name": "stdout",
     "output_type": "stream",
     "text": [
      "running setup...\n",
      "running teardown...\n",
      "running setup...\n",
      "running teardown...\n"
     ]
    },
    {
     "name": "stderr",
     "output_type": "stream",
     "text": [
      "FAIL\n",
      "\n",
      "======================================================================\n",
      "FAIL: test_2 (__main__.TestAccount)\n",
      "----------------------------------------------------------------------\n",
      "Traceback (most recent call last):\n",
      "  File \"<ipython-input-63-b48bc60ca1df>\", line 14, in test_2\n",
      "    self.assertEqual(200, self.x)\n",
      "AssertionError: 200 != 100\n",
      "\n",
      "----------------------------------------------------------------------\n",
      "Ran 2 tests in 0.002s\n",
      "\n",
      "FAILED (failures=1)\n"
     ]
    }
   ],
   "source": [
    "\n",
    "run_tests(TestAccount)"
   ]
  },
  {
   "cell_type": "code",
   "execution_count": 85,
   "metadata": {},
   "outputs": [],
   "source": [
    "from decimal import Decimal\n",
    "from string import ascii_lowercase\n",
    "import datetime\n",
    "from collections import namedtuple\n",
    "\n",
    "class TestAccount(unittest.TestCase):\n",
    "    \n",
    "    def setUp(self):\n",
    "        self.account_number = 12345\n",
    "        self.first_name = 'FIRST'\n",
    "        self.last_name = 'LAST'\n",
    "        self.tz = TimeZone(datetime.timedelta(hours=-3, minutes=30), ' TZ ')\n",
    "        self.balance = Decimal(100.00)\n",
    "        \n",
    "        self.a = BankAccount(self.account_number, self.first_name, self.last_name, self.tz, self.balance)\n",
    "    \n",
    "    def test_create_timezone(self):\n",
    "        delta = datetime.timedelta(hours=-3, minutes=30)\n",
    "        tz = TimeZone(delta, ' MST ')\n",
    "        self.assertEqual('MST', tz.name)\n",
    "        self.assertEqual(datetime.timedelta(hours=-3, minutes=30), tz.offset)\n",
    "        \n",
    "    def test_create_account(self):\n",
    "        a = BankAccount(self.account_number, self.first_name, self.last_name, self.tz, self.balance)\n",
    "        \n",
    "        self.assertEqual(self.account_number, a.accnt_no)\n",
    "        self.assertEqual(self.first_name, a.f_name)\n",
    "        self.assertEqual(self.last_name, a.l_name)\n",
    "        self.assertEqual(self.tz, a.tz_offset)\n",
    "        self.assertEqual(self.balance, a.balance)\n",
    "        \n",
    "    def test_create_account_blank_first_name(self):\n",
    "        self.first_name = ''\n",
    "        \n",
    "        with self.assertRaises(ValueError):\n",
    "            a = BankAccount(self.account_number, self.first_name, self.last_name, self.tz, self.balance)\n",
    "            \n",
    "    def test_create_account_negative_balance(self):\n",
    "        self.balance = -100\n",
    "        \n",
    "        a = BankAccount(self.account_number, self.first_name, self.last_name, self.tz, self.balance)\n",
    "        \n",
    "        self.assertEqual(0, a.balance)\n",
    "        \n",
    "    def test_account_withdrawal_ok(self):\n",
    "        \n",
    "        self.a.withdrawal(20)\n",
    "        self.assertEqual(80, self.a.balance)\n",
    "        \n",
    "    def test_account_overdraw(self):\n",
    "        \n",
    "        self.a.withdrawal(200)\n",
    "        self.assertEqual(100, self.a.balance)\n",
    "        "
   ]
  },
  {
   "cell_type": "code",
   "execution_count": 86,
   "metadata": {},
   "outputs": [
    {
     "name": "stderr",
     "output_type": "stream",
     "text": [
      "test_account_overdraw (__main__.TestAccount) ... ok\n",
      "test_account_withdrawal_ok (__main__.TestAccount) ... ok\n",
      "test_create_account (__main__.TestAccount) ... ok\n",
      "test_create_account_blank_first_name (__main__.TestAccount) ... ok\n",
      "test_create_account_negative_balance (__main__.TestAccount) ... ok\n",
      "test_create_timezone (__main__.TestAccount) ... "
     ]
    },
    {
     "name": "stdout",
     "output_type": "stream",
     "text": [
      "Deposit accepted.\n",
      "New balance = 100.00\n",
      "Confirmation number = D-12345-20210307030757-23\n",
      "Insufficient funds.\n",
      "Confirmation number: X-12345-20210307030757-24\n",
      "Deposit accepted.\n",
      "New balance = 100.00\n",
      "Confirmation number = D-12345-20210307030757-25\n",
      "Withdrawal accepted.\n",
      "New balance = 80.00\n",
      "Confirmation number = W-12345-20210307030757-26\n",
      "Deposit accepted.\n",
      "New balance = 100.00\n",
      "Confirmation number = D-12345-20210307030757-27\n",
      "Deposit accepted.\n",
      "New balance = 100.00\n",
      "Confirmation number = D-12345-20210307030757-28\n",
      "Deposit accepted.\n",
      "New balance = 100.00\n",
      "Confirmation number = D-12345-20210307030757-29\n",
      "Deposit accepted.\n",
      "New balance = 100.00\n",
      "Confirmation number = D-12345-20210307030757-30\n",
      "Transaction amount must be greater than zero.\n",
      "Confirmation number: X-12345-20210307030757-31\n",
      "Deposit accepted.\n",
      "New balance = 100.00\n",
      "Confirmation number = D-12345-20210307030757-32\n"
     ]
    },
    {
     "name": "stderr",
     "output_type": "stream",
     "text": [
      "ok\n",
      "\n",
      "----------------------------------------------------------------------\n",
      "Ran 6 tests in 0.005s\n",
      "\n",
      "OK\n"
     ]
    }
   ],
   "source": [
    "run_tests(TestAccount)"
   ]
  },
  {
   "cell_type": "code",
   "execution_count": null,
   "metadata": {},
   "outputs": [],
   "source": []
  }
 ],
 "metadata": {
  "kernelspec": {
   "display_name": "Python 3",
   "language": "python",
   "name": "python3"
  },
  "language_info": {
   "codemirror_mode": {
    "name": "ipython",
    "version": 3
   },
   "file_extension": ".py",
   "mimetype": "text/x-python",
   "name": "python",
   "nbconvert_exporter": "python",
   "pygments_lexer": "ipython3",
   "version": "3.7.6"
  }
 },
 "nbformat": 4,
 "nbformat_minor": 4
}
