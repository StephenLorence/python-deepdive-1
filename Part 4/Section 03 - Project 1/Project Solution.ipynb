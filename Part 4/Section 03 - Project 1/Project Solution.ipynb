{
 "cells": [
  {
   "cell_type": "code",
   "execution_count": 158,
   "metadata": {},
   "outputs": [],
   "source": [
    "from decimal import Decimal\n",
    "from string import ascii_lowercase\n",
    "\n",
    "class BankAccount:\n",
    "    _monthly_interest_rate = None\n",
    "    def __init__(self, accnt_no, f_name, l_name, tz_offset=0, balance=0):\n",
    "        self.accnt_no = accnt_no\n",
    "        self.f_name = f_name\n",
    "        self.l_name = l_name\n",
    "        self.tz_offset = tz_offset\n",
    "        self.balance = balance\n",
    "        \n",
    "    @classmethod\n",
    "    def get_interest_rate(cls):\n",
    "        if cls._monthly_interest_rate is None:\n",
    "            print('Interest rate has not been set.')\n",
    "        return cls._monthly_interest_rate\n",
    "    \n",
    "    @classmethod\n",
    "    def set_interest_rate(cls, value):\n",
    "        try:\n",
    "            value = Decimal(value)\n",
    "        except:\n",
    "            raise ValueError('Interest rate must be a decimal value.')\n",
    "        cls._monthly_interest_rate = value\n",
    "        \n",
    "    @property\n",
    "    def accnt_no(self):\n",
    "        return self._accnt_no\n",
    "    \n",
    "    @accnt_no.setter\n",
    "    def accnt_no(self, value):\n",
    "        try:\n",
    "            value = int(value)\n",
    "        except:\n",
    "            raise ValueError('Account number must be an integer value.')\n",
    "        self._accnt_no = value\n",
    "        \n",
    "    @property\n",
    "    def f_name(self):\n",
    "        return self._f_name\n",
    "    \n",
    "    @f_name.setter\n",
    "    def f_name(self, value):\n",
    "        # If every character in the provided value (assuming it's a string) is not a\n",
    "        # standard letter, a space, or an apostrophe, raise an exception.\n",
    "        if not all(map(lambda x: x.lower() in ascii_lowercase + \" '\", value)):\n",
    "            raise ValueError('First name must contain only letters, spaces, or apostrophes.')\n",
    "        self._f_name = value\n",
    "        \n",
    "    @property\n",
    "    def l_name(self):\n",
    "        return self._l_name\n",
    "    \n",
    "    @l_name.setter\n",
    "    def l_name(self, value):\n",
    "        # If every character in the provided value (assuming it's a string) is not a\n",
    "        # standard letter, a space, or an apostrophe, raise an exception.\n",
    "        if not all(map(lambda x: x.lower() in ascii_lowercase + \" '\", value)):\n",
    "            raise ValueError('Last name must contain only letters, spaces, or apostrophes.')\n",
    "        self._l_name = value\n",
    "        \n",
    "    @property\n",
    "    def full_name(self):\n",
    "        return f'{self.f_name} {self.l_name}'"
   ]
  },
  {
   "cell_type": "code",
   "execution_count": 147,
   "metadata": {},
   "outputs": [],
   "source": [
    "ba = BankAccount('12345', 't', 'z')"
   ]
  },
  {
   "cell_type": "code",
   "execution_count": 148,
   "metadata": {},
   "outputs": [
    {
     "data": {
      "text/plain": [
       "12345"
      ]
     },
     "execution_count": 148,
     "metadata": {},
     "output_type": "execute_result"
    }
   ],
   "source": [
    "ba.accnt_no"
   ]
  },
  {
   "cell_type": "code",
   "execution_count": 149,
   "metadata": {},
   "outputs": [
    {
     "ename": "ValueError",
     "evalue": "Account number must be an integer value.",
     "output_type": "error",
     "traceback": [
      "\u001b[1;31m---------------------------------------------------------------------------\u001b[0m",
      "\u001b[1;31mValueError\u001b[0m                                Traceback (most recent call last)",
      "\u001b[1;32m<ipython-input-146-b21111979d1e>\u001b[0m in \u001b[0;36maccnt_no\u001b[1;34m(self, value)\u001b[0m\n\u001b[0;32m     33\u001b[0m         \u001b[1;32mtry\u001b[0m\u001b[1;33m:\u001b[0m\u001b[1;33m\u001b[0m\u001b[1;33m\u001b[0m\u001b[0m\n\u001b[1;32m---> 34\u001b[1;33m             \u001b[0mvalue\u001b[0m \u001b[1;33m=\u001b[0m \u001b[0mint\u001b[0m\u001b[1;33m(\u001b[0m\u001b[0mvalue\u001b[0m\u001b[1;33m)\u001b[0m\u001b[1;33m\u001b[0m\u001b[1;33m\u001b[0m\u001b[0m\n\u001b[0m\u001b[0;32m     35\u001b[0m         \u001b[1;32mexcept\u001b[0m\u001b[1;33m:\u001b[0m\u001b[1;33m\u001b[0m\u001b[1;33m\u001b[0m\u001b[0m\n",
      "\u001b[1;31mValueError\u001b[0m: invalid literal for int() with base 10: 'hello'",
      "\nDuring handling of the above exception, another exception occurred:\n",
      "\u001b[1;31mValueError\u001b[0m                                Traceback (most recent call last)",
      "\u001b[1;32m<ipython-input-149-ea7b91d1907b>\u001b[0m in \u001b[0;36m<module>\u001b[1;34m\u001b[0m\n\u001b[1;32m----> 1\u001b[1;33m \u001b[0mba\u001b[0m\u001b[1;33m.\u001b[0m\u001b[0maccnt_no\u001b[0m \u001b[1;33m=\u001b[0m \u001b[1;34m'hello'\u001b[0m\u001b[1;33m\u001b[0m\u001b[1;33m\u001b[0m\u001b[0m\n\u001b[0m",
      "\u001b[1;32m<ipython-input-146-b21111979d1e>\u001b[0m in \u001b[0;36maccnt_no\u001b[1;34m(self, value)\u001b[0m\n\u001b[0;32m     34\u001b[0m             \u001b[0mvalue\u001b[0m \u001b[1;33m=\u001b[0m \u001b[0mint\u001b[0m\u001b[1;33m(\u001b[0m\u001b[0mvalue\u001b[0m\u001b[1;33m)\u001b[0m\u001b[1;33m\u001b[0m\u001b[1;33m\u001b[0m\u001b[0m\n\u001b[0;32m     35\u001b[0m         \u001b[1;32mexcept\u001b[0m\u001b[1;33m:\u001b[0m\u001b[1;33m\u001b[0m\u001b[1;33m\u001b[0m\u001b[0m\n\u001b[1;32m---> 36\u001b[1;33m             \u001b[1;32mraise\u001b[0m \u001b[0mValueError\u001b[0m\u001b[1;33m(\u001b[0m\u001b[1;34m'Account number must be an integer value.'\u001b[0m\u001b[1;33m)\u001b[0m\u001b[1;33m\u001b[0m\u001b[1;33m\u001b[0m\u001b[0m\n\u001b[0m\u001b[0;32m     37\u001b[0m         \u001b[0mself\u001b[0m\u001b[1;33m.\u001b[0m\u001b[0m_accnt_no\u001b[0m \u001b[1;33m=\u001b[0m \u001b[0mvalue\u001b[0m\u001b[1;33m\u001b[0m\u001b[1;33m\u001b[0m\u001b[0m\n\u001b[0;32m     38\u001b[0m \u001b[1;33m\u001b[0m\u001b[0m\n",
      "\u001b[1;31mValueError\u001b[0m: Account number must be an integer value."
     ]
    }
   ],
   "source": [
    "ba.accnt_no = 'hello'"
   ]
  },
  {
   "cell_type": "code",
   "execution_count": 150,
   "metadata": {},
   "outputs": [
    {
     "data": {
      "text/plain": [
       "12345"
      ]
     },
     "execution_count": 150,
     "metadata": {},
     "output_type": "execute_result"
    }
   ],
   "source": [
    "ba.accnt_no"
   ]
  },
  {
   "cell_type": "code",
   "execution_count": 151,
   "metadata": {},
   "outputs": [
    {
     "data": {
      "text/plain": [
       "{'_accnt_no': 12345,\n",
       " '_f_name': 't',\n",
       " '_l_name': 'z',\n",
       " 'tz_offset': 0,\n",
       " 'balance': 0}"
      ]
     },
     "execution_count": 151,
     "metadata": {},
     "output_type": "execute_result"
    }
   ],
   "source": [
    "ba.__dict__"
   ]
  },
  {
   "cell_type": "code",
   "execution_count": 152,
   "metadata": {},
   "outputs": [],
   "source": [
    "ba.l_name = 'Van der Lynden'"
   ]
  },
  {
   "cell_type": "code",
   "execution_count": 153,
   "metadata": {},
   "outputs": [],
   "source": [
    "ba.f_name = \"O'Shaughnessey\""
   ]
  },
  {
   "cell_type": "code",
   "execution_count": 154,
   "metadata": {},
   "outputs": [
    {
     "data": {
      "text/plain": [
       "'Van der Lynden'"
      ]
     },
     "execution_count": 154,
     "metadata": {},
     "output_type": "execute_result"
    }
   ],
   "source": [
    "ba.l_name"
   ]
  },
  {
   "cell_type": "code",
   "execution_count": 155,
   "metadata": {},
   "outputs": [
    {
     "data": {
      "text/plain": [
       "\"O'Shaughnessey\""
      ]
     },
     "execution_count": 155,
     "metadata": {},
     "output_type": "execute_result"
    }
   ],
   "source": [
    "ba.f_name"
   ]
  },
  {
   "cell_type": "code",
   "execution_count": 156,
   "metadata": {},
   "outputs": [
    {
     "data": {
      "text/plain": [
       "\"O'Shaughnessey Van der Lynden\""
      ]
     },
     "execution_count": 156,
     "metadata": {},
     "output_type": "execute_result"
    }
   ],
   "source": [
    "ba.full_name"
   ]
  },
  {
   "cell_type": "code",
   "execution_count": 157,
   "metadata": {},
   "outputs": [
    {
     "data": {
      "text/plain": [
       "True"
      ]
     },
     "execution_count": 157,
     "metadata": {},
     "output_type": "execute_result"
    }
   ],
   "source": [
    "all(map(lambda x: x.lower() in ascii_lowercase + \" '\", test_string))"
   ]
  },
  {
   "cell_type": "code",
   "execution_count": null,
   "metadata": {},
   "outputs": [],
   "source": []
  }
 ],
 "metadata": {
  "kernelspec": {
   "display_name": "Python 3",
   "language": "python",
   "name": "python3"
  },
  "language_info": {
   "codemirror_mode": {
    "name": "ipython",
    "version": 3
   },
   "file_extension": ".py",
   "mimetype": "text/x-python",
   "name": "python",
   "nbconvert_exporter": "python",
   "pygments_lexer": "ipython3",
   "version": "3.7.6"
  }
 },
 "nbformat": 4,
 "nbformat_minor": 4
}
